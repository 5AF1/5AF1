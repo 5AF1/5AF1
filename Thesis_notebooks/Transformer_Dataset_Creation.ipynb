{
  "nbformat": 4,
  "nbformat_minor": 0,
  "metadata": {
    "colab": {
      "name": "JNMT-Dataset-Creation.ipynb",
      "provenance": [],
      "collapsed_sections": [
        "EEgbTWAa_dpd",
        "tTUSEZbA_fSd"
      ]
    },
    "kernelspec": {
      "name": "python3",
      "display_name": "Python 3"
    },
    "language_info": {
      "name": "python"
    }
  },
  "cells": [
    {
      "cell_type": "code",
      "execution_count": null,
      "metadata": {
        "id": "H89EO1kwbYOe",
        "colab": {
          "base_uri": "https://localhost:8080/"
        },
        "outputId": "d7b4b908-2f76-4d57-ee54-ce83a55556ba"
      },
      "outputs": [
        {
          "output_type": "stream",
          "name": "stdout",
          "text": [
            "Mounted at /content/drive\n"
          ]
        }
      ],
      "source": [
        "from google.colab import drive\n",
        "drive.mount('/content/drive')"
      ]
    },
    {
      "cell_type": "code",
      "source": [
        "# valid set: /content/drive/.shortcut-targets-by-id/1sVS2twm9XxgGuRNW3vW18clmRzePpKFM/dev/joint/\n",
        "# train set: /content/drive/.shortcut-targets-by-id/1h2mAnKTQWMhaHmb70OqM-Jh81sG_pPLt/train/joint/"
      ],
      "metadata": {
        "id": "MXwPO1C6bgdo"
      },
      "execution_count": null,
      "outputs": []
    },
    {
      "cell_type": "code",
      "source": [
        "# !wget \"http://cihancamgoz.com/files/cvpr2020/phoenix14t.pami0.train\"\n",
        "# !wget \"http://cihancamgoz.com/files/cvpr2020/phoenix14t.pami0.dev\"\n",
        "# !wget \"http://cihancamgoz.com/files/cvpr2020/phoenix14t.pami0.test\""
      ],
      "metadata": {
        "id": "TDq6XcXUbgYg"
      },
      "execution_count": null,
      "outputs": []
    },
    {
      "cell_type": "code",
      "source": [
        "import shutil\n",
        "shutil.copy('/content/drive/MyDrive/SLT-2020/phoenix14t.pami0.train','/content/')\n",
        "shutil.copy('/content/drive/MyDrive/SLT-2020/phoenix14t.pami0.dev','/content/')"
      ],
      "metadata": {
        "colab": {
          "base_uri": "https://localhost:8080/",
          "height": 34
        },
        "id": "UnKD6VHEbgS6",
        "outputId": "983e0498-22f3-4067-bbc2-7f5cefa872e4"
      },
      "execution_count": null,
      "outputs": [
        {
          "output_type": "execute_result",
          "data": {
            "text/plain": [
              "'/content/phoenix14t.pami0.dev'"
            ],
            "application/vnd.google.colaboratory.intrinsic+json": {
              "type": "string"
            }
          },
          "metadata": {},
          "execution_count": 3
        }
      ]
    },
    {
      "cell_type": "code",
      "source": [
        "import pickle\n",
        "import gzip\n",
        "import torch\n",
        "import os\n",
        "import numpy as np\n",
        "import shutil"
      ],
      "metadata": {
        "id": "DMnPXtb3bgLX"
      },
      "execution_count": null,
      "outputs": []
    },
    {
      "cell_type": "code",
      "source": [
        "def load_dataset_file(filename):\n",
        "    with gzip.open(filename, \"rb\") as f:\n",
        "        loaded_object = pickle.load(f)\n",
        "        return loaded_object"
      ],
      "metadata": {
        "id": "aR3DN4kVdfvZ"
      },
      "execution_count": null,
      "outputs": []
    },
    {
      "cell_type": "code",
      "source": [
        "valid_data = load_dataset_file(\"/content/phoenix14t.pami0.dev\")\n",
        "type(valid_data)\n",
        "train_data = load_dataset_file('/content/phoenix14t.pami0.train')\n",
        "type(train_data)"
      ],
      "metadata": {
        "colab": {
          "base_uri": "https://localhost:8080/"
        },
        "id": "FC7mV5YvdtZt",
        "outputId": "160692c4-4356-4329-c900-eb78f7bbc2df"
      },
      "execution_count": null,
      "outputs": [
        {
          "output_type": "execute_result",
          "data": {
            "text/plain": [
              "list"
            ]
          },
          "metadata": {},
          "execution_count": 6
        }
      ]
    },
    {
      "cell_type": "code",
      "source": [
        "print(len(valid_data))\n",
        "print(len(train_data))"
      ],
      "metadata": {
        "colab": {
          "base_uri": "https://localhost:8080/"
        },
        "id": "KHwjYUDpeggZ",
        "outputId": "385858e7-847f-46c4-eb7b-96a36a613f90"
      },
      "execution_count": null,
      "outputs": [
        {
          "output_type": "stream",
          "name": "stdout",
          "text": [
            "519\n",
            "7096\n"
          ]
        }
      ]
    },
    {
      "cell_type": "code",
      "source": [
        "#valid_data[0]\n",
        "train_data[0]"
      ],
      "metadata": {
        "colab": {
          "base_uri": "https://localhost:8080/"
        },
        "id": "PS56ustGfLxR",
        "outputId": "89b3a74a-7311-4b69-936a-edb77a2af01c"
      },
      "execution_count": null,
      "outputs": [
        {
          "output_type": "execute_result",
          "data": {
            "text/plain": [
              "{'gloss': 'JETZT WETTER MORGEN DONNERSTAG ZWOELF FEBRUAR',\n",
              " 'name': 'train/11August_2010_Wednesday_tagesschau-1',\n",
              " 'sign': tensor([[0.0998, 0.0000, 0.1679,  ..., 0.0000, 0.0000, 0.0000],\n",
              "         [4.6956, 0.0000, 0.2897,  ..., 0.0000, 0.0000, 0.0000],\n",
              "         [6.8340, 0.0492, 0.0000,  ..., 0.0000, 0.0000, 0.0000],\n",
              "         ...,\n",
              "         [9.7269, 0.4355, 0.0000,  ..., 3.4021, 0.0000, 0.0000],\n",
              "         [8.1934, 0.3163, 0.0000,  ..., 0.0378, 0.0000, 0.0000],\n",
              "         [6.4664, 0.1839, 0.0000,  ..., 0.0000, 0.0000, 0.0000]]),\n",
              " 'signer': 'Signer08',\n",
              " 'text': 'und nun die wettervorhersage für morgen donnerstag den zwölften august .'}"
            ]
          },
          "metadata": {},
          "execution_count": 8
        }
      ]
    },
    {
      "cell_type": "code",
      "source": [
        "#type(valid_data[0]['sign'])\n",
        "type(train_data[0]['sign'])"
      ],
      "metadata": {
        "colab": {
          "base_uri": "https://localhost:8080/"
        },
        "id": "KVKloqOfh1pb",
        "outputId": "1b4f9d11-307a-47fc-d9ba-2f3e8d8d5e16"
      },
      "execution_count": null,
      "outputs": [
        {
          "output_type": "execute_result",
          "data": {
            "text/plain": [
              "torch.Tensor"
            ]
          },
          "metadata": {},
          "execution_count": 9
        }
      ]
    },
    {
      "cell_type": "code",
      "source": [
        "#valid_data[0]['name']"
      ],
      "metadata": {
        "id": "OoEb4-rc7ehP"
      },
      "execution_count": null,
      "outputs": []
    },
    {
      "cell_type": "code",
      "source": [
        "# /content/drive/.shortcut-targets-by-id/1a7cCN6IAhkm0gj53vnNz_41b1ca-FH6C/Thesis Folder/Code Implementation/Keypoint to GCN/Dataset/RWTH-PHOENIX-Weather/HRNet_Outputs_12_frame_div/train/sl_gcn_output_finetune/joint'\n",
        "\n",
        "# /content/drive/.shortcut-targets-by-id/1LiUsGee_42KZek_UKIAglrWNFS0iyRPW/4-2 shared/HRNet_Outputs_1_frame_div/train/sl_gcn_output/joint/"
      ],
      "metadata": {
        "id": "U6qexMAefJOY"
      },
      "execution_count": null,
      "outputs": []
    },
    {
      "cell_type": "code",
      "source": [
        "our_train_list = os.listdir('/content/drive/.shortcut-targets-by-id/1h2mAnKTQWMhaHmb70OqM-Jh81sG_pPLt/train/joint/')\n",
        "print(len(our_train_list))\n",
        "our_valid_list = os.listdir('/content/drive/.shortcut-targets-by-id/1sVS2twm9XxgGuRNW3vW18clmRzePpKFM/dev/joint/')\n",
        "print(len(our_valid_list))"
      ],
      "metadata": {
        "colab": {
          "base_uri": "https://localhost:8080/"
        },
        "id": "5T9Wn356gF85",
        "outputId": "116e45cc-e7e4-49e2-a134-dcb3545dd200"
      },
      "execution_count": null,
      "outputs": [
        {
          "output_type": "stream",
          "name": "stdout",
          "text": [
            "7096\n",
            "519\n"
          ]
        }
      ]
    },
    {
      "cell_type": "code",
      "source": [
        "#train_data[0]['sign'].shape"
      ],
      "metadata": {
        "id": "XJerukzNmYk9"
      },
      "execution_count": null,
      "outputs": []
    },
    {
      "cell_type": "code",
      "source": [
        "source = f'/content/drive/.shortcut-targets-by-id/1h2mAnKTQWMhaHmb70OqM-Jh81sG_pPLt/train/joint/'\n",
        "\n",
        "train_set = []\n",
        "count = 0\n",
        "\n",
        "for sample in train_data:\n",
        "  name = sample['name'][6:] # train -> [6:] valid -> [4:]\n",
        "  #print(source + name + '.npy')\n",
        "  #break\n",
        "  np_file = np.load(source + name + '_data_joint.npy')\n",
        "  tensor_file = torch.from_numpy(np_file)  # torch.Size([11, 3, 8, 27, 1])\n",
        "  #print('Shape-1: {}'.format(tensor_file.shape))\n",
        "  \n",
        "  #print(\"Original Shape: {}\".format(tensor_file.shape)) # Original Shape: torch.Size([11, 3, 8, 27, 1])\n",
        "  \n",
        "  tensor_file = torch.squeeze(tensor_file, 4)\n",
        "  #print('Shape-2: {}'.format(tensor_file.shape))\n",
        "\n",
        "  tensor_file = torch.permute(tensor_file, (0, 2, 3, 1)) # torch.Size([11, 8, 27, 3])\n",
        "  #print('Shape-3: {}'.format(tensor_file.shape))\n",
        "\n",
        "  tensor_file = tensor_file[:,:,:,0:2] # torch.Size([11, 8, 27, 2])\n",
        "  #print('Shape-4: {}'.format(tensor_file.shape))\n",
        "\n",
        "  tensor_file = tensor_file.reshape(tensor_file.shape[0], 8, -1) # torch.Size([11, 8, 54])\n",
        "  #print('Shape-5: {}'.format(tensor_file.shape))\n",
        "\n",
        "\n",
        "  #tensor_file = tensor_file.reshape(tensor_file.shape[0],-1) \n",
        "  \n",
        "  #tensor_file = tensor_file.mean(1) #\n",
        "  #print('Shape-6: {}'.format(tensor_file.shape))\n",
        "\n",
        "  tensor_file = tensor_file.reshape(tensor_file.shape[0], -1)\n",
        "\n",
        "  temp_dict = sample\n",
        "  temp_dict['sign'] = tensor_file\n",
        "\n",
        "  train_set.append(temp_dict)\n",
        "  count += 1\n",
        "  if count % 50 == 0:\n",
        "    print('count: {}, sample: {}, shape: {}'.format(count, name, temp_dict['sign'].shape))    "
      ],
      "metadata": {
        "id": "jiXUIVeug4e4"
      },
      "execution_count": null,
      "outputs": []
    },
    {
      "cell_type": "code",
      "source": [
        "source = f'/content/drive/.shortcut-targets-by-id/1sVS2twm9XxgGuRNW3vW18clmRzePpKFM/dev/joint/'\n",
        "\n",
        "valid_set = []\n",
        "count = 0\n",
        "\n",
        "for sample in valid_data:\n",
        "  name = sample['name'][4:] # train -> [6:] valid -> [4:]\n",
        "  #print(source + name + '.npy')\n",
        "  np_file = np.load(source + name + '_data_joint.npy')\n",
        "  tensor_file = torch.from_numpy(np_file)  # \n",
        "  #print(\"Original Shape: {}\".format(tensor_file.shape))\n",
        "  #break\n",
        "\n",
        "  tensor_file = torch.squeeze(tensor_file, 4)\n",
        "  tensor_file = torch.permute(tensor_file, (0, 2, 3, 1))\n",
        "  tensor_file = tensor_file[:,:,:,0:2]\n",
        "  tensor_file = tensor_file.reshape(tensor_file.shape[0], 8, -1)\n",
        "  tensor_file = tensor_file.reshape(tensor_file.shape[0], -1)\n",
        "\n",
        "  #tensor_file = torch.squeeze(tensor_file,1) # \n",
        "  #tensor_file = tensor_file.reshape(tensor_file.shape[0],-1) # \n",
        "  #tensor_file = tensor_file.mean(2) # \n",
        "\n",
        "  temp_dict = sample\n",
        "  temp_dict['sign'] = tensor_file\n",
        "\n",
        "  valid_set.append(temp_dict)\n",
        "  count += 1\n",
        "  if count % 20 == 0:\n",
        "    print('count: {}, sample: {}, shape: {}'.format(count, name, temp_dict['sign'].shape))    "
      ],
      "metadata": {
        "id": "V4VVtazO66V3"
      },
      "execution_count": null,
      "outputs": []
    },
    {
      "cell_type": "code",
      "source": [
        "print(len(train_set))\n",
        "print(len(valid_set))"
      ],
      "metadata": {
        "colab": {
          "base_uri": "https://localhost:8080/"
        },
        "id": "ycs2jyX8hbDE",
        "outputId": "479d23b3-a8f6-4cbd-fb7e-aa8fe969abd1"
      },
      "execution_count": null,
      "outputs": [
        {
          "output_type": "stream",
          "name": "stdout",
          "text": [
            "7096\n",
            "519\n"
          ]
        }
      ]
    },
    {
      "cell_type": "code",
      "source": [
        "type(train_set)"
      ],
      "metadata": {
        "colab": {
          "base_uri": "https://localhost:8080/"
        },
        "id": "O7t5cbp8Dzvh",
        "outputId": "e31c3b48-2471-46a1-c402-2925a4242b5f"
      },
      "execution_count": null,
      "outputs": [
        {
          "output_type": "execute_result",
          "data": {
            "text/plain": [
              "list"
            ]
          },
          "metadata": {},
          "execution_count": 16
        }
      ]
    },
    {
      "cell_type": "code",
      "source": [
        "with open('/content/valid_dataset.pkl', 'wb') as f:\n",
        "  pickle.dump(valid_set, f)\n",
        "with open('/content/train_dataset.pkl', 'wb') as f:\n",
        "  pickle.dump(train_set, f)"
      ],
      "metadata": {
        "id": "YUlpU5Uc_kIW"
      },
      "execution_count": null,
      "outputs": []
    },
    {
      "cell_type": "code",
      "source": [
        "!gzip -k /content/valid_dataset.pkl\n",
        "!gzip -k /content/train_dataset.pkl"
      ],
      "metadata": {
        "id": "SgHmn7aQFae2"
      },
      "execution_count": null,
      "outputs": []
    },
    {
      "cell_type": "code",
      "source": [
        "shutil.copy('/content/train_dataset.pkl.gz','/content/drive/MyDrive/SLT-2020/Joint_Dataset/8_Finetuned/OnlyJointDataset/Attempt-2/')\n",
        "shutil.copy('/content/valid_dataset.pkl.gz','/content/drive/MyDrive/SLT-2020/Joint_Dataset/8_Finetuned/OnlyJointDataset/Attempt-2/')"
      ],
      "metadata": {
        "colab": {
          "base_uri": "https://localhost:8080/",
          "height": 34
        },
        "id": "uOzQ_5ZJFblt",
        "outputId": "eb900ad9-c9ab-4095-ac1b-fb0dab9b0a74"
      },
      "execution_count": null,
      "outputs": [
        {
          "output_type": "execute_result",
          "data": {
            "application/vnd.google.colaboratory.intrinsic+json": {
              "type": "string"
            },
            "text/plain": [
              "'/content/drive/MyDrive/SLT-2020/Joint_Dataset/8_Finetuned/OnlyJointDataset/Attempt-2/valid_dataset.pkl.gz'"
            ]
          },
          "metadata": {},
          "execution_count": 16
        }
      ]
    },
    {
      "cell_type": "markdown",
      "source": [
        "### rough"
      ],
      "metadata": {
        "id": "EEgbTWAa_dpd"
      }
    },
    {
      "cell_type": "code",
      "source": [
        "!gzip -k /content/valid_dataset.pkl"
      ],
      "metadata": {
        "id": "KphF6yMrFExK"
      },
      "execution_count": null,
      "outputs": []
    },
    {
      "cell_type": "code",
      "source": [
        "data = load_dataset_file('/content/valid_dataset.pkl.gz')\n",
        "type(data)"
      ],
      "metadata": {
        "colab": {
          "base_uri": "https://localhost:8080/"
        },
        "id": "s0eXuomNEvoy",
        "outputId": "b43bbffc-0719-42f3-ad1d-e50e7f3ec606"
      },
      "execution_count": null,
      "outputs": [
        {
          "output_type": "execute_result",
          "data": {
            "text/plain": [
              "list"
            ]
          },
          "metadata": {},
          "execution_count": 27
        }
      ]
    },
    {
      "cell_type": "code",
      "source": [
        "temp = valid_set[0]['sign']\n",
        "temp.shape"
      ],
      "metadata": {
        "colab": {
          "base_uri": "https://localhost:8080/"
        },
        "id": "XDFTEZzFiI9k",
        "outputId": "e12fc2ff-888a-43e8-f4ba-6af1a7333869"
      },
      "execution_count": null,
      "outputs": [
        {
          "output_type": "execute_result",
          "data": {
            "text/plain": [
              "torch.Size([3, 1, 256, 108])"
            ]
          },
          "metadata": {},
          "execution_count": 39
        }
      ]
    },
    {
      "cell_type": "code",
      "source": [
        "temp2 = torch.squeeze(temp)\n",
        "temp2.shape"
      ],
      "metadata": {
        "colab": {
          "base_uri": "https://localhost:8080/"
        },
        "id": "FxxEKrdNsfdi",
        "outputId": "67377a6f-91d8-4bbd-cfb5-3301fa97f724"
      },
      "execution_count": null,
      "outputs": [
        {
          "output_type": "execute_result",
          "data": {
            "text/plain": [
              "torch.Size([3, 256, 108])"
            ]
          },
          "metadata": {},
          "execution_count": 42
        }
      ]
    },
    {
      "cell_type": "code",
      "source": [
        "temp3 = temp2.view(3,1024,-1)\n",
        "temp3.shape"
      ],
      "metadata": {
        "colab": {
          "base_uri": "https://localhost:8080/"
        },
        "id": "KaWiprY0sqii",
        "outputId": "39e150bb-a434-42d0-a7f4-78481ea77302"
      },
      "execution_count": null,
      "outputs": [
        {
          "output_type": "execute_result",
          "data": {
            "text/plain": [
              "torch.Size([3, 1024, 27])"
            ]
          },
          "metadata": {},
          "execution_count": 50
        }
      ]
    },
    {
      "cell_type": "code",
      "source": [
        "temp4 = temp3.mean(2)\n",
        "temp4.shape"
      ],
      "metadata": {
        "colab": {
          "base_uri": "https://localhost:8080/"
        },
        "id": "GzjiprZVuY2Q",
        "outputId": "0665d7c7-b8cb-4300-d242-04679f60b1ef"
      },
      "execution_count": null,
      "outputs": [
        {
          "output_type": "execute_result",
          "data": {
            "text/plain": [
              "torch.Size([3, 1024])"
            ]
          },
          "metadata": {},
          "execution_count": 51
        }
      ]
    },
    {
      "cell_type": "code",
      "source": [
        "test = torch.rand(3,2,3)\n",
        "test"
      ],
      "metadata": {
        "colab": {
          "base_uri": "https://localhost:8080/"
        },
        "id": "KxT2R0QgvMSX",
        "outputId": "d8c702e5-5e57-466b-b25d-436b09874fc0"
      },
      "execution_count": null,
      "outputs": [
        {
          "output_type": "execute_result",
          "data": {
            "text/plain": [
              "tensor([[[0.9234, 0.6904, 0.9907],\n",
              "         [0.5823, 0.0578, 0.1708]],\n",
              "\n",
              "        [[0.0577, 0.8941, 0.1372],\n",
              "         [0.0254, 0.6440, 0.1795]],\n",
              "\n",
              "        [[0.7731, 0.3997, 0.6134],\n",
              "         [0.0189, 0.4463, 0.8071]]])"
            ]
          },
          "metadata": {},
          "execution_count": 52
        }
      ]
    },
    {
      "cell_type": "code",
      "source": [
        "test.mean(2)"
      ],
      "metadata": {
        "colab": {
          "base_uri": "https://localhost:8080/"
        },
        "id": "lklbaiIewEQu",
        "outputId": "5831f346-7158-42d2-a484-023331205a93"
      },
      "execution_count": null,
      "outputs": [
        {
          "output_type": "execute_result",
          "data": {
            "text/plain": [
              "tensor([[0.8681, 0.2703],\n",
              "        [0.3630, 0.2830],\n",
              "        [0.5954, 0.4241]])"
            ]
          },
          "metadata": {},
          "execution_count": 53
        }
      ]
    },
    {
      "cell_type": "code",
      "source": [
        "temp.shape"
      ],
      "metadata": {
        "colab": {
          "base_uri": "https://localhost:8080/"
        },
        "id": "qfiXJxwr0Rlj",
        "outputId": "11208934-633b-4fb6-eb84-54d9e3e31f9e"
      },
      "execution_count": null,
      "outputs": [
        {
          "output_type": "execute_result",
          "data": {
            "text/plain": [
              "torch.Size([3, 1, 256, 108])"
            ]
          },
          "metadata": {},
          "execution_count": 55
        }
      ]
    },
    {
      "cell_type": "code",
      "source": [
        "temp5 = temp.view(3,1,1024,-1)\n",
        "temp5.shape"
      ],
      "metadata": {
        "colab": {
          "base_uri": "https://localhost:8080/"
        },
        "id": "gp7AUO7Hz3Pe",
        "outputId": "dbad7f25-0795-42be-986c-c13b8e67c8cc"
      },
      "execution_count": null,
      "outputs": [
        {
          "output_type": "execute_result",
          "data": {
            "text/plain": [
              "torch.Size([3, 1, 1024, 27])"
            ]
          },
          "metadata": {},
          "execution_count": 56
        }
      ]
    },
    {
      "cell_type": "code",
      "source": [
        "temp.shape"
      ],
      "metadata": {
        "colab": {
          "base_uri": "https://localhost:8080/"
        },
        "id": "mGnwquJD0M4T",
        "outputId": "12dd5b73-7575-4235-8a9c-54ccdd696a07"
      },
      "execution_count": null,
      "outputs": [
        {
          "output_type": "execute_result",
          "data": {
            "text/plain": [
              "torch.Size([3, 1, 256, 108])"
            ]
          },
          "metadata": {},
          "execution_count": 57
        }
      ]
    },
    {
      "cell_type": "code",
      "source": [
        "temp.mean(3).mean(1).shape"
      ],
      "metadata": {
        "colab": {
          "base_uri": "https://localhost:8080/"
        },
        "id": "sevcUnYbwLmM",
        "outputId": "4fbd4605-4605-4e38-e2a1-6fe779703fc9"
      },
      "execution_count": null,
      "outputs": [
        {
          "output_type": "execute_result",
          "data": {
            "text/plain": [
              "torch.Size([3, 256])"
            ]
          },
          "metadata": {},
          "execution_count": 54
        }
      ]
    },
    {
      "cell_type": "markdown",
      "source": [
        "### back again"
      ],
      "metadata": {
        "id": "tTUSEZbA_fSd"
      }
    },
    {
      "cell_type": "code",
      "source": [
        "temp_list = os.listdir('/content/drive/.shortcut-targets-by-id/1LiUsGee_42KZek_UKIAglrWNFS0iyRPW/4-2 shared/HRNet_Outputs_1_frame_div/dev/')"
      ],
      "metadata": {
        "id": "gYW1_TVezN_H"
      },
      "execution_count": null,
      "outputs": []
    },
    {
      "cell_type": "code",
      "source": [
        "temp_list"
      ],
      "metadata": {
        "colab": {
          "base_uri": "https://localhost:8080/"
        },
        "id": "AIzZbPaQv9vJ",
        "outputId": "480f685c-b78f-48cd-ce1f-c3083ae77813"
      },
      "execution_count": null,
      "outputs": [
        {
          "output_type": "execute_result",
          "data": {
            "text/plain": [
              "['npy_1_frame', 'sl_gcn_output', 'pkl', 'joint', 'csv']"
            ]
          },
          "metadata": {},
          "execution_count": 18
        }
      ]
    },
    {
      "cell_type": "code",
      "source": [
        ""
      ],
      "metadata": {
        "id": "AQcWXpLDwEQA"
      },
      "execution_count": null,
      "outputs": []
    },
    {
      "cell_type": "markdown",
      "source": [
        "### r2+1d"
      ],
      "metadata": {
        "id": "C5UcdN3g06Xb"
      }
    },
    {
      "cell_type": "code",
      "source": [
        "import shutil\n",
        "shutil.unpack_archive('/content/drive/MyDrive/SLT-2020/CNN_Dataset/R2+1D/Attempt-2/valid_r21d.zip','/content/valid/')"
      ],
      "metadata": {
        "id": "14nVOblO1SSp"
      },
      "execution_count": null,
      "outputs": []
    },
    {
      "cell_type": "code",
      "source": [
        "!mkdir valid_dataset"
      ],
      "metadata": {
        "id": "W5IkyV-O3-ex"
      },
      "execution_count": null,
      "outputs": []
    },
    {
      "cell_type": "code",
      "source": [
        "source = f'/content/valid/'\n",
        "\n",
        "valid_set = []\n",
        "count = 0\n",
        "\n",
        "# valid_data -> authors'\n",
        "\n",
        "for sample in valid_data:\n",
        "  name = sample['name'][4:] # train -> [6:] valid -> [4:]\n",
        "  tensor = torch.load(source + name + '.pt', map_location = torch.device('cpu'))\n",
        "   \n",
        "  temp_dict = sample\n",
        "  temp_dict['sign'] = tensor\n",
        "\n",
        "  valid_set.append(temp_dict)\n",
        "  count += 1\n",
        "  if count % 100 == 0:\n",
        "    print('count: {}, sample: {}, shape: {}'.format(count, name, temp_dict['sign'].shape))    "
      ],
      "metadata": {
        "id": "Y6uwRN4E16EB",
        "colab": {
          "base_uri": "https://localhost:8080/"
        },
        "outputId": "c08ae9d0-799a-45a2-fc02-a4ebfb198f77"
      },
      "execution_count": null,
      "outputs": [
        {
          "output_type": "stream",
          "name": "stdout",
          "text": [
            "count: 100, sample: 09March_2011_Wednesday_heute-1742, shape: torch.Size([27, 512])\n",
            "count: 200, sample: 27August_2009_Thursday_tagesschau-3284, shape: torch.Size([8, 512])\n",
            "count: 300, sample: 23August_2010_Monday_heute-5319, shape: torch.Size([11, 512])\n",
            "count: 400, sample: 06July_2011_Wednesday_tagesschau-6870, shape: torch.Size([26, 512])\n",
            "count: 500, sample: 28July_2011_Thursday_tagesschau-8521, shape: torch.Size([28, 512])\n"
          ]
        }
      ]
    },
    {
      "cell_type": "code",
      "source": [
        "import shutil\n",
        "shutil.unpack_archive('/content/drive/MyDrive/SLT-2020/CNN_Dataset/R2+1D/Attempt-2/train_r21d.zip','/content/train/')"
      ],
      "metadata": {
        "id": "FuzSRB3g5cgJ"
      },
      "execution_count": null,
      "outputs": []
    },
    {
      "cell_type": "code",
      "source": [
        "len(os.listdir('/content/train/'))"
      ],
      "metadata": {
        "colab": {
          "base_uri": "https://localhost:8080/"
        },
        "id": "L1CfJSLp8c8T",
        "outputId": "99e1c505-7b55-49e0-ca34-35e7100e27d9"
      },
      "execution_count": null,
      "outputs": [
        {
          "output_type": "execute_result",
          "data": {
            "text/plain": [
              "7096"
            ]
          },
          "metadata": {},
          "execution_count": 10
        }
      ]
    },
    {
      "cell_type": "code",
      "source": [
        "source = f'/content/train/'\n",
        "\n",
        "train_set = []\n",
        "count = 0\n",
        "\n",
        "for sample in train_data:\n",
        "  name = sample['name'][6:] # train -> [6:] valid -> [4:]\n",
        "  tensor = torch.load(source + name + '.pt', map_location = torch.device('cpu'))\n",
        "   \n",
        "  temp_dict = sample\n",
        "  temp_dict['sign'] = tensor\n",
        "\n",
        "  train_set.append(temp_dict)\n",
        "  count += 1\n",
        "  if count % 1000 == 0:\n",
        "    print('count: {}, sample: {}, shape: {}'.format(count, name, temp_dict['sign'].shape))    "
      ],
      "metadata": {
        "id": "IYnq4sHp6kSm",
        "colab": {
          "base_uri": "https://localhost:8080/"
        },
        "outputId": "aa9fc35d-552e-47ab-d56f-4905adb61244"
      },
      "execution_count": null,
      "outputs": [
        {
          "output_type": "stream",
          "name": "stdout",
          "text": [
            "count: 1000, sample: 02August_2010_Monday_heute-1248, shape: torch.Size([16, 512])\n",
            "count: 2000, sample: 15September_2010_Wednesday_heute-2474, shape: torch.Size([25, 512])\n",
            "count: 3000, sample: 24January_2011_Monday_tagesschau-3717, shape: torch.Size([6, 512])\n",
            "count: 4000, sample: 25April_2010_Sunday_tagesschau-4947, shape: torch.Size([22, 512])\n",
            "count: 5000, sample: 18July_2010_Sunday_tagesschau-6225, shape: torch.Size([31, 512])\n",
            "count: 6000, sample: 10December_2009_Thursday_tagesschau-7491, shape: torch.Size([14, 512])\n",
            "count: 7000, sample: 15July_2011_Friday_tagesschau-8722, shape: torch.Size([26, 512])\n"
          ]
        }
      ]
    },
    {
      "cell_type": "code",
      "source": [
        "print(len(train_set))\n",
        "print(len(valid_set))"
      ],
      "metadata": {
        "colab": {
          "base_uri": "https://localhost:8080/"
        },
        "id": "2huDQCCAPVdu",
        "outputId": "447978d9-ab35-46f8-94e6-9ca119214908"
      },
      "execution_count": null,
      "outputs": [
        {
          "output_type": "stream",
          "name": "stdout",
          "text": [
            "7096\n",
            "519\n"
          ]
        }
      ]
    },
    {
      "cell_type": "code",
      "source": [
        "with open('/content/valid_dataset.pkl', 'wb') as f:\n",
        "  pickle.dump(valid_set, f)\n",
        "with open('/content/train_dataset.pkl', 'wb') as f:\n",
        "  pickle.dump(train_set, f)"
      ],
      "metadata": {
        "id": "MC8E0zY078mB"
      },
      "execution_count": null,
      "outputs": []
    },
    {
      "cell_type": "code",
      "source": [
        "!gzip -k /content/valid_dataset.pkl\n",
        "!gzip -k /content/train_dataset.pkl"
      ],
      "metadata": {
        "id": "K9zOdes08M6H"
      },
      "execution_count": null,
      "outputs": []
    },
    {
      "cell_type": "code",
      "source": [
        "shutil.copy('/content/train_dataset.pkl.gz','/content/drive/MyDrive/SLT-2020/CNN_Dataset/R2+1D/Attempt-2/')\n",
        "shutil.copy('/content/valid_dataset.pkl.gz','/content/drive/MyDrive/SLT-2020/CNN_Dataset/R2+1D/Attempt-2/')"
      ],
      "metadata": {
        "colab": {
          "base_uri": "https://localhost:8080/",
          "height": 34
        },
        "id": "9sceG0A38M3P",
        "outputId": "36b2d157-a60b-4718-f6b2-9116f2f62a90"
      },
      "execution_count": null,
      "outputs": [
        {
          "output_type": "execute_result",
          "data": {
            "application/vnd.google.colaboratory.intrinsic+json": {
              "type": "string"
            },
            "text/plain": [
              "'/content/drive/MyDrive/SLT-2020/CNN_Dataset/R2+1D/Attempt-2/valid_dataset.pkl.gz'"
            ]
          },
          "metadata": {},
          "execution_count": 15
        }
      ]
    },
    {
      "cell_type": "markdown",
      "source": [
        "### i3d"
      ],
      "metadata": {
        "id": "oVCGtwBATjq8"
      }
    },
    {
      "cell_type": "code",
      "source": [
        "import shutil\n",
        "shutil.unpack_archive('/content/drive/MyDrive/SLT-2020/CNN_Dataset/I3D/Attempt-7/valid_i3d.zip','/content/valid/')"
      ],
      "metadata": {
        "id": "QZyfff0BTv_7"
      },
      "execution_count": null,
      "outputs": []
    },
    {
      "cell_type": "code",
      "source": [
        "source = f'/content/valid/'\n",
        "\n",
        "valid_set = []\n",
        "count = 0\n",
        "\n",
        "# valid_data -> authors'\n",
        "\n",
        "for sample in valid_data:\n",
        "  name = sample['name'][4:] # train -> [6:] valid -> [4:]\n",
        "  tensor = torch.load(source + name + '.pt', map_location = torch.device('cpu'))\n",
        "   \n",
        "  temp_dict = sample\n",
        "  temp_dict['sign'] = tensor\n",
        "\n",
        "  valid_set.append(temp_dict)\n",
        "  count += 1\n",
        "  if count % 100 == 0:\n",
        "    print('count: {}, sample: {}, shape: {}'.format(count, name, temp_dict['sign'].shape))    "
      ],
      "metadata": {
        "id": "0kVFdoyF_PpD",
        "colab": {
          "base_uri": "https://localhost:8080/"
        },
        "outputId": "ffe1ea23-45aa-450c-9a6c-d2ffa1a8c015"
      },
      "execution_count": null,
      "outputs": [
        {
          "output_type": "stream",
          "name": "stdout",
          "text": [
            "count: 100, sample: 09March_2011_Wednesday_heute-1742, shape: torch.Size([38, 1024])\n",
            "count: 200, sample: 27August_2009_Thursday_tagesschau-3284, shape: torch.Size([9, 1024])\n",
            "count: 300, sample: 23August_2010_Monday_heute-5319, shape: torch.Size([14, 1024])\n",
            "count: 400, sample: 06July_2011_Wednesday_tagesschau-6870, shape: torch.Size([36, 1024])\n",
            "count: 500, sample: 28July_2011_Thursday_tagesschau-8521, shape: torch.Size([39, 1024])\n"
          ]
        }
      ]
    },
    {
      "cell_type": "code",
      "source": [
        "shutil.unpack_archive('/content/drive/MyDrive/SLT-2020/CNN_Dataset/I3D/Attempt-7/train_i3d.zip','/content/train/')"
      ],
      "metadata": {
        "id": "Fhl4zlm8xlBz"
      },
      "execution_count": null,
      "outputs": []
    },
    {
      "cell_type": "code",
      "source": [
        "len(os.listdir('/content/train/kaggle/working/train_dataset/'))"
      ],
      "metadata": {
        "colab": {
          "base_uri": "https://localhost:8080/"
        },
        "id": "UjZZRGNZUyFG",
        "outputId": "003d5c06-cdf5-4487-e12c-52b9b9e36c24"
      },
      "execution_count": null,
      "outputs": [
        {
          "output_type": "execute_result",
          "data": {
            "text/plain": [
              "7096"
            ]
          },
          "metadata": {},
          "execution_count": 13
        }
      ]
    },
    {
      "cell_type": "code",
      "source": [
        "source = f'/content/train/kaggle/working/train_dataset/'\n",
        "\n",
        "train_set = []\n",
        "count = 0\n",
        "\n",
        "for sample in train_data:\n",
        "  name = sample['name'][6:] # train -> [6:] valid -> [4:]\n",
        "  tensor = torch.load(source + name + '.pt', map_location = torch.device('cpu'))\n",
        "   \n",
        "  temp_dict = sample\n",
        "  temp_dict['sign'] = tensor\n",
        "\n",
        "  train_set.append(temp_dict)\n",
        "  count += 1\n",
        "  if count % 100 == 0:\n",
        "    print('count: {}, sample: {}, shape: {}'.format(count, name, temp_dict['sign'].shape))    "
      ],
      "metadata": {
        "id": "7R61BPA5U2GB",
        "colab": {
          "base_uri": "https://localhost:8080/"
        },
        "outputId": "0226864f-9f51-4056-dbb3-67249d58f879"
      },
      "execution_count": null,
      "outputs": [
        {
          "output_type": "stream",
          "name": "stdout",
          "text": [
            "count: 100, sample: 01November_2010_Monday_tagesschau-132, shape: torch.Size([21, 1024])\n",
            "count: 200, sample: 12July_2010_Monday_heute-256, shape: torch.Size([61, 1024])\n",
            "count: 300, sample: 12July_2010_Monday_tagesschau-381, shape: torch.Size([31, 1024])\n",
            "count: 400, sample: 20October_2011_Thursday_tagesschau-504, shape: torch.Size([21, 1024])\n",
            "count: 500, sample: 18October_2010_Monday_heute-626, shape: torch.Size([47, 1024])\n",
            "count: 600, sample: 09November_2010_Tuesday_tagesschau-753, shape: torch.Size([18, 1024])\n",
            "count: 700, sample: 29January_2013_Tuesday_tagesschau-883, shape: torch.Size([25, 1024])\n",
            "count: 800, sample: 29October_2009_Thursday_tagesschau-1012, shape: torch.Size([26, 1024])\n",
            "count: 900, sample: 22October_2009_Thursday_tagesschau-1128, shape: torch.Size([22, 1024])\n",
            "count: 1000, sample: 02August_2010_Monday_heute-1248, shape: torch.Size([20, 1024])\n",
            "count: 1100, sample: 10January_2011_Monday_heute-1374, shape: torch.Size([66, 1024])\n",
            "count: 1200, sample: 17February_2010_Wednesday_heute-1494, shape: torch.Size([11, 1024])\n",
            "count: 1300, sample: 14June_2010_Monday_heute-1607, shape: torch.Size([5, 1024])\n",
            "count: 1400, sample: 12January_2011_Wednesday_tagesschau-1735, shape: torch.Size([8, 1024])\n",
            "count: 1500, sample: 15February_2010_Monday_tagesschau-1850, shape: torch.Size([21, 1024])\n",
            "count: 1600, sample: 07November_2010_Sunday_tagesschau-1977, shape: torch.Size([47, 1024])\n",
            "count: 1700, sample: 14December_2009_Monday_tagesschau-2098, shape: torch.Size([18, 1024])\n",
            "count: 1800, sample: 16March_2011_Wednesday_tagesschau-2222, shape: torch.Size([28, 1024])\n",
            "count: 1900, sample: 03February_2010_Wednesday_heute-2357, shape: torch.Size([69, 1024])\n",
            "count: 2000, sample: 15September_2010_Wednesday_heute-2474, shape: torch.Size([35, 1024])\n",
            "count: 2100, sample: 28May_2011_Saturday_tagesschau-2600, shape: torch.Size([28, 1024])\n",
            "count: 2200, sample: 22May_2010_Saturday_tagesschau-2734, shape: torch.Size([52, 1024])\n",
            "count: 2300, sample: 02July_2009_Thursday_tagesschau-2863, shape: torch.Size([86, 1024])\n",
            "count: 2400, sample: 25January_2011_Tuesday_tagesschau-2990, shape: torch.Size([28, 1024])\n",
            "count: 2500, sample: 21April_2010_Wednesday_heute-3116, shape: torch.Size([19, 1024])\n",
            "count: 2600, sample: 14August_2011_Sunday_tagesschau-3238, shape: torch.Size([27, 1024])\n",
            "count: 2700, sample: 18May_2010_Tuesday_heute-3364, shape: torch.Size([68, 1024])\n",
            "count: 2800, sample: 25September_2010_Saturday_tagesschau-3485, shape: torch.Size([41, 1024])\n",
            "count: 2900, sample: 07May_2010_Friday_tagesschau-3606, shape: torch.Size([50, 1024])\n",
            "count: 3000, sample: 24January_2011_Monday_tagesschau-3717, shape: torch.Size([5, 1024])\n",
            "count: 3100, sample: 13January_2010_Wednesday_tagesschau-3830, shape: torch.Size([45, 1024])\n",
            "count: 3200, sample: 08April_2010_Thursday_tagesschau-3954, shape: torch.Size([29, 1024])\n",
            "count: 3300, sample: 05September_2009_Saturday_tagesschau-4081, shape: torch.Size([32, 1024])\n",
            "count: 3400, sample: 08December_2009_Tuesday_heute-4205, shape: torch.Size([31, 1024])\n",
            "count: 3500, sample: 23May_2010_Sunday_tagesschau-4342, shape: torch.Size([30, 1024])\n",
            "count: 3600, sample: 05July_2009_Sunday_tagesschau-4453, shape: torch.Size([32, 1024])\n",
            "count: 3700, sample: 03July_2010_Saturday_tagesschau-4584, shape: torch.Size([22, 1024])\n",
            "count: 3800, sample: 04October_2010_Monday_tagesschau-4718, shape: torch.Size([24, 1024])\n",
            "count: 3900, sample: 18June_2010_Friday_tagesschau-4828, shape: torch.Size([52, 1024])\n",
            "count: 4000, sample: 25April_2010_Sunday_tagesschau-4947, shape: torch.Size([30, 1024])\n",
            "count: 4100, sample: 10March_2011_Thursday_tagesschau-5079, shape: torch.Size([11, 1024])\n",
            "count: 4200, sample: 15September_2010_Wednesday_tagesschau-5207, shape: torch.Size([41, 1024])\n",
            "count: 4300, sample: 23August_2010_Monday_heute-5330, shape: torch.Size([16, 1024])\n",
            "count: 4400, sample: 29September_2010_Wednesday_heute-5462, shape: torch.Size([6, 1024])\n",
            "count: 4500, sample: 18November_2009_Wednesday_tagesschau-5589, shape: torch.Size([20, 1024])\n",
            "count: 4600, sample: 29August_2011_Monday_tagesschau-5717, shape: torch.Size([27, 1024])\n",
            "count: 4700, sample: 26November_2011_Saturday_tagesschau-5845, shape: torch.Size([22, 1024])\n",
            "count: 4800, sample: 06April_2010_Tuesday_heute-5973, shape: torch.Size([19, 1024])\n",
            "count: 4900, sample: 27February_2011_Sunday_tagesschau-6109, shape: torch.Size([13, 1024])\n",
            "count: 5000, sample: 18July_2010_Sunday_tagesschau-6225, shape: torch.Size([43, 1024])\n",
            "count: 5100, sample: 06June_2010_Sunday_tagesschau-6359, shape: torch.Size([35, 1024])\n",
            "count: 5200, sample: 23September_2010_Thursday_heute-6479, shape: torch.Size([8, 1024])\n",
            "count: 5300, sample: 01June_2010_Tuesday_heute-6612, shape: torch.Size([51, 1024])\n",
            "count: 5400, sample: 18October_2010_Monday_tagesschau-6744, shape: torch.Size([35, 1024])\n",
            "count: 5500, sample: 10May_2010_Monday_tagesschau-6860, shape: torch.Size([49, 1024])\n",
            "count: 5600, sample: 24January_2011_Monday_heute-6982, shape: torch.Size([26, 1024])\n",
            "count: 5700, sample: 09July_2009_Thursday_tagesschau-7114, shape: torch.Size([19, 1024])\n",
            "count: 5800, sample: 10November_2009_Tuesday_tagesschau-7242, shape: torch.Size([26, 1024])\n",
            "count: 5900, sample: 21July_2010_Wednesday_tagesschau-7374, shape: torch.Size([23, 1024])\n",
            "count: 6000, sample: 10December_2009_Thursday_tagesschau-7491, shape: torch.Size([17, 1024])\n",
            "count: 6100, sample: 03August_2010_Tuesday_heute-7610, shape: torch.Size([42, 1024])\n",
            "count: 6200, sample: 29July_2010_Thursday_heute-7742, shape: torch.Size([10, 1024])\n",
            "count: 6300, sample: 26May_2010_Wednesday_heute-7868, shape: torch.Size([27, 1024])\n",
            "count: 6400, sample: 13July_2011_Wednesday_tagesschau-7989, shape: torch.Size([34, 1024])\n",
            "count: 6500, sample: 07April_2011_Thursday_tagesschau-8106, shape: torch.Size([7, 1024])\n",
            "count: 6600, sample: 25July_2011_Monday_heute-8224, shape: torch.Size([25, 1024])\n",
            "count: 6700, sample: 28September_2010_Tuesday_heute-8346, shape: torch.Size([32, 1024])\n",
            "count: 6800, sample: 14December_2010_Tuesday_tagesschau-8465, shape: torch.Size([41, 1024])\n",
            "count: 6900, sample: 30July_2011_Saturday_tagesschau-8593, shape: torch.Size([17, 1024])\n",
            "count: 7000, sample: 15July_2011_Friday_tagesschau-8722, shape: torch.Size([36, 1024])\n"
          ]
        }
      ]
    },
    {
      "cell_type": "code",
      "source": [
        "print(len(train_set))\n",
        "print(len(valid_set))"
      ],
      "metadata": {
        "colab": {
          "base_uri": "https://localhost:8080/"
        },
        "id": "9XS6U7wCxx13",
        "outputId": "c938eb12-0742-4965-a97d-17b31d10964a"
      },
      "execution_count": null,
      "outputs": [
        {
          "output_type": "stream",
          "name": "stdout",
          "text": [
            "7096\n",
            "519\n"
          ]
        }
      ]
    },
    {
      "cell_type": "code",
      "source": [
        "with open('/content/valid_dataset.pkl', 'wb') as f:\n",
        "  pickle.dump(valid_set, f)\n",
        "with open('/content/train_dataset.pkl', 'wb') as f:\n",
        "  pickle.dump(train_set, f)"
      ],
      "metadata": {
        "id": "8MBi5imGx3sg"
      },
      "execution_count": null,
      "outputs": []
    },
    {
      "cell_type": "code",
      "source": [
        "!gzip -k /content/valid_dataset.pkl\n",
        "!gzip -k /content/train_dataset.pkl"
      ],
      "metadata": {
        "id": "rlhARU9yyPdU"
      },
      "execution_count": null,
      "outputs": []
    },
    {
      "cell_type": "code",
      "source": [
        "shutil.copy('/content/train_dataset.pkl.gz','/content/drive/MyDrive/SLT-2020/CNN_Dataset/I3D/Attempt-7/')\n",
        "shutil.copy('/content/valid_dataset.pkl.gz','/content/drive/MyDrive/SLT-2020/CNN_Dataset/I3D/Attempt-7/')"
      ],
      "metadata": {
        "colab": {
          "base_uri": "https://localhost:8080/",
          "height": 34
        },
        "id": "nyyFY7OmVBTz",
        "outputId": "96297002-3c93-40e2-b7db-3d110e2cfd17"
      },
      "execution_count": null,
      "outputs": [
        {
          "output_type": "execute_result",
          "data": {
            "application/vnd.google.colaboratory.intrinsic+json": {
              "type": "string"
            },
            "text/plain": [
              "'/content/drive/MyDrive/SLT-2020/CNN_Dataset/I3D/Attempt-7/valid_dataset.pkl.gz'"
            ]
          },
          "metadata": {},
          "execution_count": 18
        }
      ]
    },
    {
      "cell_type": "code",
      "source": [
        ""
      ],
      "metadata": {
        "id": "IAYOfsExVyV4"
      },
      "execution_count": null,
      "outputs": []
    },
    {
      "cell_type": "code",
      "source": [
        ""
      ],
      "metadata": {
        "id": "5m4XnkoKPnh8"
      },
      "execution_count": null,
      "outputs": []
    },
    {
      "cell_type": "code",
      "source": [
        "!unzip -q /content/01April_2010_Thursday_heute-6697.zip"
      ],
      "metadata": {
        "id": "iIUPnLktPndx"
      },
      "execution_count": null,
      "outputs": []
    },
    {
      "cell_type": "code",
      "source": [
        "import cv2\n",
        "import os\n",
        "\n",
        "image_folder = '/content/01April_2010_Thursday_heute-6697/'\n",
        "video_name = 'output.avi'\n",
        "\n",
        "images = [img for img in os.listdir(image_folder) if img.endswith(\".png\")]\n",
        "frame = cv2.imread(os.path.join(image_folder, images[0]))\n",
        "height, width, layers = frame.shape\n",
        "\n",
        "video = cv2.VideoWriter(video_name, 0, 1, (width,height))\n",
        "\n",
        "for image in images:\n",
        "    video.write(cv2.imread(os.path.join(image_folder, image)))\n",
        "\n",
        "#cv2.destroyAllWindows()\n",
        "video.release()"
      ],
      "metadata": {
        "id": "miUvwp7mPnaE"
      },
      "execution_count": null,
      "outputs": []
    },
    {
      "cell_type": "code",
      "source": [
        ""
      ],
      "metadata": {
        "id": "yAuhrdn-QMAt"
      },
      "execution_count": null,
      "outputs": []
    },
    {
      "cell_type": "markdown",
      "source": [
        "### i3d (6+8+12)"
      ],
      "metadata": {
        "id": "wYJkZ3PUjGhL"
      }
    },
    {
      "cell_type": "code",
      "source": [
        "import shutil\n",
        "#shutil.unpack_archive('/content/drive/MyDrive/SLT-2020/CNN_Dataset/I3D/Attempt-3/train_i3d.zip','/content/train_8/')\n",
        "shutil.unpack_archive('/content/drive/MyDrive/SLT-2020/CNN_Dataset/I3D/Attempt-4/train_i3d.zip','/content/train_12/')\n",
        "#shutil.unpack_archive('/content/drive/MyDrive/SLT-2020/CNN_Dataset/I3D/Attempt-5/train_i3d.zip','/content/train_6/')"
      ],
      "metadata": {
        "id": "8x3tmkxsjKZn"
      },
      "execution_count": null,
      "outputs": []
    },
    {
      "cell_type": "code",
      "source": [
        "import os\n",
        "print(len(os.listdir('/content/train_6/train_i3d/')))\n",
        "print(len(os.listdir('/content/train_8/')))\n",
        "print(len(os.listdir('/content/train_12/train_dataset/')))"
      ],
      "metadata": {
        "colab": {
          "base_uri": "https://localhost:8080/"
        },
        "id": "s5QoNTD4oixX",
        "outputId": "6121e784-2449-4974-dd8c-2e7c71664864"
      },
      "execution_count": null,
      "outputs": [
        {
          "output_type": "stream",
          "name": "stdout",
          "text": [
            "7096\n",
            "7096\n",
            "7096\n"
          ]
        }
      ]
    },
    {
      "cell_type": "code",
      "source": [
        "!mkdir train_dataset"
      ],
      "metadata": {
        "id": "FmQ5kNx6kAUF"
      },
      "execution_count": null,
      "outputs": []
    },
    {
      "cell_type": "code",
      "source": [
        "import os\n",
        "import torch\n",
        "\n",
        "source = '/content/train_6/train_i3d/' # has most number of segments\n",
        "target = '/content/train_dataset/'\n",
        "\n",
        "print(\"Number of 6 Frame Samples: {}\".format(len(os.listdir(source))))\n",
        "count = 0\n",
        "\n",
        "for sample in sorted(os.listdir(source)):\n",
        "  path = source + sample\n",
        "  tensor6 = torch.load(path, map_location = torch.device('cpu'))\n",
        "  #print('6 shape: {}'.format(tensor6.shape))\n",
        "  lst6 = tensor6.tolist()\n",
        "  target_len = len(lst6)\n",
        "\n",
        "  tensor8 = torch.load('/content/train_8/' + sample , map_location = torch.device('cpu'))\n",
        "  #print('8 shape: {}'.format(tensor8.shape))\n",
        "  lst8 = tensor8.tolist()\n",
        "  while len(lst8) < target_len:\n",
        "    lst8.append(lst8[-1])\n",
        "\n",
        "  tensor12 = torch.load('/content/train_12/train_dataset/' + sample , map_location = torch.device('cpu'))\n",
        "  #print('12 shape: {}'.format(tensor12.shape))\n",
        "  lst12 = tensor12.tolist()\n",
        "  while len(lst12) < target_len:\n",
        "    lst12.append(lst12[-1])\n",
        "\n",
        "  new6 = torch.Tensor(lst6) \n",
        "  new8 = torch.Tensor(lst8)\n",
        "  new12 = torch.Tensor(lst12)\n",
        "\n",
        "  #print('6 shape after: {}'.format(new6.shape))\n",
        "  #print('8 shape after: {}'.format(new8.shape))\n",
        "  #print('12 shape after: {}'.format(new12.shape))\n",
        "  \n",
        "  out = torch.cat([new6, new8, new12], dim = 1)\n",
        "  torch.save(out, target + sample, _use_new_zipfile_serialization = False)\n",
        "  count += 1\n",
        "\n",
        "  if count % 100 == 0:\n",
        "    print('Count: {}, Sample: {}, Shape: {}'.format(count, sample, out.shape))\n",
        "\n",
        "print('Output: {}'.format(len(os.listdir(target))))  "
      ],
      "metadata": {
        "colab": {
          "base_uri": "https://localhost:8080/"
        },
        "id": "N2jwLn2XkARA",
        "outputId": "3206f277-9baf-4f4d-e88e-8f435f108cea"
      },
      "execution_count": null,
      "outputs": [
        {
          "output_type": "stream",
          "name": "stdout",
          "text": [
            "Number of 6 Frame Samples: 7096\n",
            "Count: 100, Sample: 01July_2009_Wednesday_tagesschau-4553.pt, Shape: torch.Size([18, 3072])\n",
            "Count: 200, Sample: 01November_2010_Monday_heute-1722.pt, Shape: torch.Size([12, 3072])\n",
            "Count: 300, Sample: 02December_2010_Thursday_tagesschau-3634.pt, Shape: torch.Size([12, 3072])\n",
            "Count: 400, Sample: 02November_2010_Tuesday_heute-2756.pt, Shape: torch.Size([9, 3072])\n",
            "Count: 500, Sample: 03August_2010_Tuesday_heute-7614.pt, Shape: torch.Size([15, 3072])\n",
            "Count: 600, Sample: 03July_2009_Friday_tagesschau-2005.pt, Shape: torch.Size([17, 3072])\n",
            "Count: 700, Sample: 03October_2012_Wednesday_tagesschau-7663.pt, Shape: torch.Size([10, 3072])\n",
            "Count: 800, Sample: 04January_2010_Monday_tagesschau-8549.pt, Shape: torch.Size([18, 3072])\n",
            "Count: 900, Sample: 04May_2010_Tuesday_tagesschau-7846.pt, Shape: torch.Size([21, 3072])\n",
            "Count: 1000, Sample: 05December_2009_Saturday_tagesschau-4699.pt, Shape: torch.Size([21, 3072])\n",
            "Count: 1100, Sample: 05July_2009_Sunday_tagesschau-4452.pt, Shape: torch.Size([16, 3072])\n",
            "Count: 1200, Sample: 05October_2010_Tuesday_heute-1209.pt, Shape: torch.Size([11, 3072])\n",
            "Count: 1300, Sample: 06December_2010_Monday_heute-6198.pt, Shape: torch.Size([12, 3072])\n",
            "Count: 1400, Sample: 06July_2009_Monday_tagesschau-2105.pt, Shape: torch.Size([37, 3072])\n",
            "Count: 1500, Sample: 06October_2009_Tuesday_tagesschau-8161.pt, Shape: torch.Size([19, 3072])\n",
            "Count: 1600, Sample: 07August_2009_Friday_tagesschau-6161.pt, Shape: torch.Size([13, 3072])\n",
            "Count: 1700, Sample: 07February_2011_Monday_heute-4663.pt, Shape: torch.Size([11, 3072])\n",
            "Count: 1800, Sample: 07October_2010_Thursday_tagesschau-4119.pt, Shape: torch.Size([32, 3072])\n",
            "Count: 1900, Sample: 08February_2010_Monday_tagesschau-2805.pt, Shape: torch.Size([22, 3072])\n",
            "Count: 2000, Sample: 08September_2010_Wednesday_tagesschau-5242.pt, Shape: torch.Size([22, 3072])\n",
            "Count: 2100, Sample: 09December_2010_Thursday_heute-7548.pt, Shape: torch.Size([13, 3072])\n",
            "Count: 2200, Sample: 09July_2011_Saturday_tagesschau-3297.pt, Shape: torch.Size([18, 3072])\n",
            "Count: 2300, Sample: 10August_2009_Monday_heute-6889.pt, Shape: torch.Size([22, 3072])\n",
            "Count: 2400, Sample: 10January_2010_Sunday_tagesschau-479.pt, Shape: torch.Size([44, 3072])\n",
            "Count: 2500, Sample: 11August_2009_Tuesday_tagesschau-4347.pt, Shape: torch.Size([14, 3072])\n",
            "Count: 2600, Sample: 11January_2011_Tuesday_tagesschau-8023.pt, Shape: torch.Size([14, 3072])\n",
            "Count: 2700, Sample: 11September_2010_Saturday_tagesschau-4990.pt, Shape: torch.Size([18, 3072])\n",
            "Count: 2800, Sample: 12December_2011_Monday_heute-5815.pt, Shape: torch.Size([18, 3072])\n",
            "Count: 2900, Sample: 12July_2010_Monday_heute-256.pt, Shape: torch.Size([43, 3072])\n",
            "Count: 3000, Sample: 13April_2011_Wednesday_tagesschau-1676.pt, Shape: torch.Size([17, 3072])\n",
            "Count: 3100, Sample: 13July_2011_Wednesday_tagesschau-7979.pt, Shape: torch.Size([19, 3072])\n",
            "Count: 3200, Sample: 14April_2010_Wednesday_tagesschau-3819.pt, Shape: torch.Size([8, 3072])\n",
            "Count: 3300, Sample: 14July_2010_Wednesday_tagesschau-1862.pt, Shape: torch.Size([28, 3072])\n",
            "Count: 3400, Sample: 14September_2010_Tuesday_heute-8241.pt, Shape: torch.Size([15, 3072])\n",
            "Count: 3500, Sample: 15February_2011_Tuesday_tagesschau-7479.pt, Shape: torch.Size([15, 3072])\n",
            "Count: 3600, Sample: 15September_2010_Wednesday_heute-2483.pt, Shape: torch.Size([28, 3072])\n",
            "Count: 3700, Sample: 16June_2010_Wednesday_heute-8318.pt, Shape: torch.Size([18, 3072])\n",
            "Count: 3800, Sample: 17February_2010_Wednesday_tagesschau-4938.pt, Shape: torch.Size([22, 3072])\n",
            "Count: 3900, Sample: 17September_2010_Friday_tagesschau-3418.pt, Shape: torch.Size([14, 3072])\n",
            "Count: 4000, Sample: 18January_2011_Tuesday_tagesschau-6993.pt, Shape: torch.Size([8, 3072])\n",
            "Count: 4100, Sample: 18October_2010_Monday_heute-628.pt, Shape: torch.Size([48, 3072])\n",
            "Count: 4200, Sample: 19January_2011_Wednesday_tagesschau-7069.pt, Shape: torch.Size([25, 3072])\n",
            "Count: 4300, Sample: 19September_2010_Sunday_tagesschau-3798.pt, Shape: torch.Size([13, 3072])\n",
            "Count: 4400, Sample: 20July_2010_Tuesday_tagesschau-7876.pt, Shape: torch.Size([21, 3072])\n",
            "Count: 4500, Sample: 20October_2010_Wednesday_heute-8500.pt, Shape: torch.Size([42, 3072])\n",
            "Count: 4600, Sample: 21January_2011_Friday_tagesschau-4887.pt, Shape: torch.Size([20, 3072])\n",
            "Count: 4700, Sample: 21November_2011_Monday_tagesschau-2266.pt, Shape: torch.Size([31, 3072])\n",
            "Count: 4800, Sample: 22January_2010_Friday_tagesschau-901.pt, Shape: torch.Size([17, 3072])\n",
            "Count: 4900, Sample: 22November_2010_Monday_heute-277.pt, Shape: torch.Size([19, 3072])\n",
            "Count: 5000, Sample: 23August_2010_Monday_heute-5331.pt, Shape: torch.Size([11, 3072])\n",
            "Count: 5100, Sample: 23July_2009_Thursday_tagesschau-6758.pt, Shape: torch.Size([23, 3072])\n",
            "Count: 5200, Sample: 23October_2010_Saturday_tagesschau-889.pt, Shape: torch.Size([22, 3072])\n",
            "Count: 5300, Sample: 24December_2010_Friday_tagesschau-5131.pt, Shape: torch.Size([11, 3072])\n",
            "Count: 5400, Sample: 24July_2011_Sunday_tagesschau-6623.pt, Shape: torch.Size([21, 3072])\n",
            "Count: 5500, Sample: 24November_2011_Thursday_tagesschau-8329.pt, Shape: torch.Size([15, 3072])\n",
            "Count: 5600, Sample: 25February_2010_Thursday_tagesschau-1754.pt, Shape: torch.Size([14, 3072])\n",
            "Count: 5700, Sample: 25March_2011_Friday_tagesschau-5827.pt, Shape: torch.Size([28, 3072])\n",
            "Count: 5800, Sample: 26April_2010_Monday_tagesschau-7274.pt, Shape: torch.Size([16, 3072])\n",
            "Count: 5900, Sample: 26June_2010_Saturday_tagesschau-720.pt, Shape: torch.Size([17, 3072])\n",
            "Count: 6000, Sample: 26September_2010_Sunday_tagesschau-5943.pt, Shape: torch.Size([27, 3072])\n",
            "Count: 6100, Sample: 27July_2010_Tuesday_tagesschau-6057.pt, Shape: torch.Size([20, 3072])\n",
            "Count: 6200, Sample: 27September_2009_Sunday_tagesschau-2165.pt, Shape: torch.Size([20, 3072])\n",
            "Count: 6300, Sample: 28January_2013_Monday_tagesschau-3621.pt, Shape: torch.Size([28, 3072])\n",
            "Count: 6400, Sample: 28October_2010_Thursday_heute-328.pt, Shape: torch.Size([18, 3072])\n",
            "Count: 6500, Sample: 29August_2011_Monday_tagesschau-5707.pt, Shape: torch.Size([18, 3072])\n",
            "Count: 6600, Sample: 29March_2010_Monday_tagesschau-8385.pt, Shape: torch.Size([12, 3072])\n",
            "Count: 6700, Sample: 29September_2010_Wednesday_heute-5459.pt, Shape: torch.Size([14, 3072])\n",
            "Count: 6800, Sample: 30January_2010_Saturday_tagesschau-1696.pt, Shape: torch.Size([16, 3072])\n",
            "Count: 6900, Sample: 30May_2010_Sunday_tagesschau-4157.pt, Shape: torch.Size([19, 3072])\n",
            "Count: 7000, Sample: 31August_2010_Tuesday_tagesschau-5176.pt, Shape: torch.Size([17, 3072])\n",
            "Output: 7096\n"
          ]
        }
      ]
    },
    {
      "cell_type": "code",
      "source": [
        "import shutil\n",
        "shutil.unpack_archive('/content/drive/MyDrive/SLT-2020/CNN_Dataset/I3D/Attempt-3/valid_i3d.zip','/content/valid_8/')\n",
        "shutil.unpack_archive('/content/drive/MyDrive/SLT-2020/CNN_Dataset/I3D/Attempt-4/valid_i3d.zip','/content/valid_12/')\n",
        "shutil.unpack_archive('/content/drive/MyDrive/SLT-2020/CNN_Dataset/I3D/Attempt-5/valid_i3d.zip','/content/valid_6/')"
      ],
      "metadata": {
        "id": "DUOJpuXSu9SL"
      },
      "execution_count": null,
      "outputs": []
    },
    {
      "cell_type": "code",
      "source": [
        "import os\n",
        "print(len(os.listdir('/content/valid_6/')))\n",
        "print(len(os.listdir('/content/valid_8/')))\n",
        "print(len(os.listdir('/content/valid_12/')))"
      ],
      "metadata": {
        "colab": {
          "base_uri": "https://localhost:8080/"
        },
        "id": "6KVYvT8lu9PD",
        "outputId": "da1e8996-bd67-4798-fc46-327af4f09db7"
      },
      "execution_count": null,
      "outputs": [
        {
          "output_type": "stream",
          "name": "stdout",
          "text": [
            "519\n",
            "519\n",
            "519\n"
          ]
        }
      ]
    },
    {
      "cell_type": "code",
      "source": [
        "!mkdir valid_dataset"
      ],
      "metadata": {
        "id": "or5klulrvXmk"
      },
      "execution_count": null,
      "outputs": []
    },
    {
      "cell_type": "code",
      "source": [
        "import os\n",
        "import torch\n",
        "\n",
        "source = '/content/valid_6/' # has most number of segments\n",
        "target = '/content/valid_dataset/'\n",
        "\n",
        "print(\"Number of 6 Frame Samples: {}\".format(len(os.listdir(source))))\n",
        "count = 0\n",
        "\n",
        "for sample in sorted(os.listdir(source)):\n",
        "  path = source + sample\n",
        "  tensor6 = torch.load(path, map_location = torch.device('cpu'))\n",
        "  #print('6 shape: {}'.format(tensor6.shape))\n",
        "  lst6 = tensor6.tolist()\n",
        "  target_len = len(lst6)\n",
        "\n",
        "  tensor8 = torch.load('/content/valid_8/' + sample , map_location = torch.device('cpu'))\n",
        "  #print('8 shape: {}'.format(tensor8.shape))\n",
        "  lst8 = tensor8.tolist()\n",
        "  while len(lst8) < target_len:\n",
        "    lst8.append(lst8[-1])\n",
        "\n",
        "  tensor12 = torch.load('/content/valid_12/' + sample , map_location = torch.device('cpu'))\n",
        "  #print('12 shape: {}'.format(tensor12.shape))\n",
        "  lst12 = tensor12.tolist()\n",
        "  while len(lst12) < target_len:\n",
        "    lst12.append(lst12[-1])\n",
        "\n",
        "  new6 = torch.Tensor(lst6) \n",
        "  new8 = torch.Tensor(lst8)\n",
        "  new12 = torch.Tensor(lst12)\n",
        "\n",
        "  #print('6 shape after: {}'.format(new6.shape))\n",
        "  #print('8 shape after: {}'.format(new8.shape))\n",
        "  #print('12 shape after: {}'.format(new12.shape))\n",
        "  \n",
        "  out = torch.cat([new6, new8, new12], dim = 1)\n",
        "  torch.save(out, target + sample, _use_new_zipfile_serialization = False)\n",
        "  count += 1\n",
        "\n",
        "  if count % 50 == 0:\n",
        "    print('Count: {}, Sample: {}, Shape: {}'.format(count, sample, out.shape))\n",
        "\n",
        "print('Output: {}'.format(len(os.listdir(target))))  "
      ],
      "metadata": {
        "colab": {
          "base_uri": "https://localhost:8080/"
        },
        "id": "iq-dOBXzvL0l",
        "outputId": "c6c82cf0-49b7-48bc-de9d-f4ca69c1d0e0"
      },
      "execution_count": null,
      "outputs": [
        {
          "output_type": "stream",
          "name": "stdout",
          "text": [
            "Number of 6 Frame Samples: 519\n",
            "Count: 50, Sample: 03October_2012_Wednesday_tagesschau-7651.pt, Shape: torch.Size([17, 3072])\n",
            "Count: 100, Sample: 06July_2011_Wednesday_tagesschau-6870.pt, Shape: torch.Size([26, 3072])\n",
            "Count: 150, Sample: 09February_2011_Wednesday_heute-7538.pt, Shape: torch.Size([27, 3072])\n",
            "Count: 200, Sample: 12February_2010_Friday_tagesschau-126.pt, Shape: torch.Size([18, 3072])\n",
            "Count: 250, Sample: 16December_2009_Wednesday_tagesschau-5918.pt, Shape: torch.Size([19, 3072])\n",
            "Count: 300, Sample: 20July_2010_Tuesday_tagesschau-7877.pt, Shape: torch.Size([20, 3072])\n",
            "Count: 350, Sample: 23April_2010_Friday_tagesschau-3668.pt, Shape: torch.Size([17, 3072])\n",
            "Count: 400, Sample: 25April_2010_Sunday_tagesschau-4952.pt, Shape: torch.Size([9, 3072])\n",
            "Count: 450, Sample: 27September_2009_Sunday_tagesschau-2169.pt, Shape: torch.Size([27, 3072])\n",
            "Count: 500, Sample: 30November_2009_Monday_tagesschau-5755.pt, Shape: torch.Size([18, 3072])\n",
            "Output: 519\n"
          ]
        }
      ]
    },
    {
      "cell_type": "code",
      "source": [
        "source = f'/content/valid_dataset/'\n",
        "\n",
        "valid_set = []\n",
        "count = 0\n",
        "\n",
        "# valid_data -> authors'\n",
        "\n",
        "for sample in valid_data:\n",
        "  name = sample['name'][4:] # train -> [6:] valid -> [4:]\n",
        "  tensor = torch.load(source + name + '.pt', map_location = torch.device('cpu'))\n",
        "   \n",
        "  temp_dict = sample\n",
        "  temp_dict['sign'] = tensor\n",
        "\n",
        "  valid_set.append(temp_dict)\n",
        "  count += 1\n",
        "  if count % 100 == 0:\n",
        "    print('count: {}, sample: {}, shape: {}'.format(count, name, temp_dict['sign'].shape))    "
      ],
      "metadata": {
        "colab": {
          "base_uri": "https://localhost:8080/"
        },
        "id": "Uxbnzy-rw1U6",
        "outputId": "54d315b3-f26c-4f80-df41-bb1c41e11dd8"
      },
      "execution_count": null,
      "outputs": [
        {
          "output_type": "stream",
          "name": "stdout",
          "text": [
            "count: 100, sample: 09March_2011_Wednesday_heute-1742, shape: torch.Size([27, 3072])\n",
            "count: 200, sample: 27August_2009_Thursday_tagesschau-3284, shape: torch.Size([8, 3072])\n",
            "count: 300, sample: 23August_2010_Monday_heute-5319, shape: torch.Size([11, 3072])\n",
            "count: 400, sample: 06July_2011_Wednesday_tagesschau-6870, shape: torch.Size([26, 3072])\n",
            "count: 500, sample: 28July_2011_Thursday_tagesschau-8521, shape: torch.Size([28, 3072])\n"
          ]
        }
      ]
    },
    {
      "cell_type": "code",
      "source": [
        "source = f'/content/train_dataset/'\n",
        "\n",
        "train_set = []\n",
        "count = 0\n",
        "\n",
        "for sample in train_data:\n",
        "  name = sample['name'][6:] # train -> [6:] valid -> [4:]\n",
        "  tensor = torch.load(source + name + '.pt', map_location = torch.device('cpu'))\n",
        "   \n",
        "  temp_dict = sample\n",
        "  temp_dict['sign'] = tensor\n",
        "\n",
        "  train_set.append(temp_dict)\n",
        "  count += 1\n",
        "  if count % 100 == 0:\n",
        "    print('count: {}, sample: {}, shape: {}'.format(count, name, temp_dict['sign'].shape))    "
      ],
      "metadata": {
        "colab": {
          "base_uri": "https://localhost:8080/"
        },
        "id": "chJBeajUyC9S",
        "outputId": "af0ce30f-f8d3-40f1-c10e-c8173d642520"
      },
      "execution_count": null,
      "outputs": [
        {
          "output_type": "stream",
          "name": "stdout",
          "text": [
            "count: 100, sample: 01November_2010_Monday_tagesschau-132, shape: torch.Size([16, 3072])\n",
            "count: 200, sample: 12July_2010_Monday_heute-256, shape: torch.Size([43, 3072])\n",
            "count: 300, sample: 12July_2010_Monday_tagesschau-381, shape: torch.Size([23, 3072])\n",
            "count: 400, sample: 20October_2011_Thursday_tagesschau-504, shape: torch.Size([16, 3072])\n",
            "count: 500, sample: 18October_2010_Monday_heute-626, shape: torch.Size([33, 3072])\n",
            "count: 600, sample: 09November_2010_Tuesday_tagesschau-753, shape: torch.Size([14, 3072])\n",
            "count: 700, sample: 29January_2013_Tuesday_tagesschau-883, shape: torch.Size([19, 3072])\n",
            "count: 800, sample: 29October_2009_Thursday_tagesschau-1012, shape: torch.Size([20, 3072])\n",
            "count: 900, sample: 22October_2009_Thursday_tagesschau-1128, shape: torch.Size([17, 3072])\n",
            "count: 1000, sample: 02August_2010_Monday_heute-1248, shape: torch.Size([16, 3072])\n",
            "count: 1100, sample: 10January_2011_Monday_heute-1374, shape: torch.Size([46, 3072])\n",
            "count: 1200, sample: 17February_2010_Wednesday_heute-1494, shape: torch.Size([9, 3072])\n",
            "count: 1300, sample: 14June_2010_Monday_heute-1607, shape: torch.Size([6, 3072])\n",
            "count: 1400, sample: 12January_2011_Wednesday_tagesschau-1735, shape: torch.Size([8, 3072])\n",
            "count: 1500, sample: 15February_2010_Monday_tagesschau-1850, shape: torch.Size([16, 3072])\n",
            "count: 1600, sample: 07November_2010_Sunday_tagesschau-1977, shape: torch.Size([33, 3072])\n",
            "count: 1700, sample: 14December_2009_Monday_tagesschau-2098, shape: torch.Size([14, 3072])\n",
            "count: 1800, sample: 16March_2011_Wednesday_tagesschau-2222, shape: torch.Size([21, 3072])\n",
            "count: 1900, sample: 03February_2010_Wednesday_heute-2357, shape: torch.Size([48, 3072])\n",
            "count: 2000, sample: 15September_2010_Wednesday_heute-2474, shape: torch.Size([25, 3072])\n",
            "count: 2100, sample: 28May_2011_Saturday_tagesschau-2600, shape: torch.Size([21, 3072])\n",
            "count: 2200, sample: 22May_2010_Saturday_tagesschau-2734, shape: torch.Size([37, 3072])\n",
            "count: 2300, sample: 02July_2009_Thursday_tagesschau-2863, shape: torch.Size([59, 3072])\n",
            "count: 2400, sample: 25January_2011_Tuesday_tagesschau-2990, shape: torch.Size([21, 3072])\n",
            "count: 2500, sample: 21April_2010_Wednesday_heute-3116, shape: torch.Size([15, 3072])\n",
            "count: 2600, sample: 14August_2011_Sunday_tagesschau-3238, shape: torch.Size([20, 3072])\n",
            "count: 2700, sample: 18May_2010_Tuesday_heute-3364, shape: torch.Size([47, 3072])\n",
            "count: 2800, sample: 25September_2010_Saturday_tagesschau-3485, shape: torch.Size([30, 3072])\n",
            "count: 2900, sample: 07May_2010_Friday_tagesschau-3606, shape: torch.Size([36, 3072])\n",
            "count: 3000, sample: 24January_2011_Monday_tagesschau-3717, shape: torch.Size([6, 3072])\n",
            "count: 3100, sample: 13January_2010_Wednesday_tagesschau-3830, shape: torch.Size([32, 3072])\n",
            "count: 3200, sample: 08April_2010_Thursday_tagesschau-3954, shape: torch.Size([21, 3072])\n",
            "count: 3300, sample: 05September_2009_Saturday_tagesschau-4081, shape: torch.Size([24, 3072])\n",
            "count: 3400, sample: 08December_2009_Tuesday_heute-4205, shape: torch.Size([23, 3072])\n",
            "count: 3500, sample: 23May_2010_Sunday_tagesschau-4342, shape: torch.Size([22, 3072])\n",
            "count: 3600, sample: 05July_2009_Sunday_tagesschau-4453, shape: torch.Size([24, 3072])\n",
            "count: 3700, sample: 03July_2010_Saturday_tagesschau-4584, shape: torch.Size([17, 3072])\n",
            "count: 3800, sample: 04October_2010_Monday_tagesschau-4718, shape: torch.Size([18, 3072])\n",
            "count: 3900, sample: 18June_2010_Friday_tagesschau-4828, shape: torch.Size([37, 3072])\n",
            "count: 4000, sample: 25April_2010_Sunday_tagesschau-4947, shape: torch.Size([22, 3072])\n",
            "count: 4100, sample: 10March_2011_Thursday_tagesschau-5079, shape: torch.Size([9, 3072])\n",
            "count: 4200, sample: 15September_2010_Wednesday_tagesschau-5207, shape: torch.Size([29, 3072])\n",
            "count: 4300, sample: 23August_2010_Monday_heute-5330, shape: torch.Size([13, 3072])\n",
            "count: 4400, sample: 29September_2010_Wednesday_heute-5462, shape: torch.Size([6, 3072])\n",
            "count: 4500, sample: 18November_2009_Wednesday_tagesschau-5589, shape: torch.Size([16, 3072])\n",
            "count: 4600, sample: 29August_2011_Monday_tagesschau-5717, shape: torch.Size([20, 3072])\n",
            "count: 4700, sample: 26November_2011_Saturday_tagesschau-5845, shape: torch.Size([17, 3072])\n",
            "count: 4800, sample: 06April_2010_Tuesday_heute-5973, shape: torch.Size([15, 3072])\n",
            "count: 4900, sample: 27February_2011_Sunday_tagesschau-6109, shape: torch.Size([11, 3072])\n",
            "count: 5000, sample: 18July_2010_Sunday_tagesschau-6225, shape: torch.Size([31, 3072])\n",
            "count: 5100, sample: 06June_2010_Sunday_tagesschau-6359, shape: torch.Size([25, 3072])\n",
            "count: 5200, sample: 23September_2010_Thursday_heute-6479, shape: torch.Size([7, 3072])\n",
            "count: 5300, sample: 01June_2010_Tuesday_heute-6612, shape: torch.Size([36, 3072])\n",
            "count: 5400, sample: 18October_2010_Monday_tagesschau-6744, shape: torch.Size([26, 3072])\n",
            "count: 5500, sample: 10May_2010_Monday_tagesschau-6860, shape: torch.Size([35, 3072])\n",
            "count: 5600, sample: 24January_2011_Monday_heute-6982, shape: torch.Size([19, 3072])\n",
            "count: 5700, sample: 09July_2009_Thursday_tagesschau-7114, shape: torch.Size([15, 3072])\n",
            "count: 5800, sample: 10November_2009_Tuesday_tagesschau-7242, shape: torch.Size([19, 3072])\n",
            "count: 5900, sample: 21July_2010_Wednesday_tagesschau-7374, shape: torch.Size([17, 3072])\n",
            "count: 6000, sample: 10December_2009_Thursday_tagesschau-7491, shape: torch.Size([14, 3072])\n",
            "count: 6100, sample: 03August_2010_Tuesday_heute-7610, shape: torch.Size([30, 3072])\n",
            "count: 6200, sample: 29July_2010_Thursday_heute-7742, shape: torch.Size([9, 3072])\n",
            "count: 6300, sample: 26May_2010_Wednesday_heute-7868, shape: torch.Size([20, 3072])\n",
            "count: 6400, sample: 13July_2011_Wednesday_tagesschau-7989, shape: torch.Size([25, 3072])\n",
            "count: 6500, sample: 07April_2011_Thursday_tagesschau-8106, shape: torch.Size([7, 3072])\n",
            "count: 6600, sample: 25July_2011_Monday_heute-8224, shape: torch.Size([19, 3072])\n",
            "count: 6700, sample: 28September_2010_Tuesday_heute-8346, shape: torch.Size([23, 3072])\n",
            "count: 6800, sample: 14December_2010_Tuesday_tagesschau-8465, shape: torch.Size([29, 3072])\n",
            "count: 6900, sample: 30July_2011_Saturday_tagesschau-8593, shape: torch.Size([14, 3072])\n",
            "count: 7000, sample: 15July_2011_Friday_tagesschau-8722, shape: torch.Size([26, 3072])\n"
          ]
        }
      ]
    },
    {
      "cell_type": "code",
      "source": [
        "print(len(train_set))\n",
        "print(len(valid_set))"
      ],
      "metadata": {
        "colab": {
          "base_uri": "https://localhost:8080/"
        },
        "id": "A9A3O_RhyC6i",
        "outputId": "9c1779d4-ab44-48b3-97a3-298459c69254"
      },
      "execution_count": null,
      "outputs": [
        {
          "output_type": "stream",
          "name": "stdout",
          "text": [
            "7096\n",
            "519\n"
          ]
        }
      ]
    },
    {
      "cell_type": "code",
      "source": [
        "with open('/content/valid_dataset.pkl', 'wb') as f:\n",
        "  pickle.dump(valid_set, f)\n",
        "with open('/content/train_dataset.pkl', 'wb') as f:\n",
        "  pickle.dump(train_set, f)"
      ],
      "metadata": {
        "id": "Nuv2q5GiyC4M"
      },
      "execution_count": null,
      "outputs": []
    },
    {
      "cell_type": "code",
      "source": [
        "!gzip -k /content/valid_dataset.pkl\n",
        "!gzip -k /content/train_dataset.pkl"
      ],
      "metadata": {
        "id": "2BXDNc-py-E_"
      },
      "execution_count": null,
      "outputs": []
    },
    {
      "cell_type": "code",
      "source": [
        "shutil.copy('/content/train_dataset.pkl.gz','/content/drive/MyDrive/SLT-2020/CNN_Dataset/I3D/Attempt-6/')\n",
        "shutil.copy('/content/valid_dataset.pkl.gz','/content/drive/MyDrive/SLT-2020/CNN_Dataset/I3D/Attempt-6/')"
      ],
      "metadata": {
        "colab": {
          "base_uri": "https://localhost:8080/",
          "height": 34
        },
        "id": "6zfHzuxny-CG",
        "outputId": "90d8c7fe-d8fd-485e-ad2b-a4b5e4ce400f"
      },
      "execution_count": null,
      "outputs": [
        {
          "output_type": "execute_result",
          "data": {
            "application/vnd.google.colaboratory.intrinsic+json": {
              "type": "string"
            },
            "text/plain": [
              "'/content/drive/MyDrive/SLT-2020/CNN_Dataset/I3D/Attempt-6/valid_dataset.pkl.gz'"
            ]
          },
          "metadata": {},
          "execution_count": 23
        }
      ]
    },
    {
      "cell_type": "code",
      "source": [
        ""
      ],
      "metadata": {
        "id": "ciyuTXNnzvMn"
      },
      "execution_count": null,
      "outputs": []
    },
    {
      "cell_type": "code",
      "source": [
        ""
      ],
      "metadata": {
        "id": "mP6rpItVyAsE"
      },
      "execution_count": null,
      "outputs": []
    },
    {
      "cell_type": "markdown",
      "source": [
        "### HRNet 133 keypoints"
      ],
      "metadata": {
        "id": "EWHS_Ld18jH2"
      }
    },
    {
      "cell_type": "code",
      "source": [
        "import shutil\n",
        "import os\n",
        "import numpy as np\n",
        "import torch\n",
        "from pathlib import Path"
      ],
      "metadata": {
        "id": "O15TaOMw-Gpc"
      },
      "execution_count": null,
      "outputs": []
    },
    {
      "cell_type": "code",
      "source": [
        "shutil.unpack_archive('/content/drive/MyDrive/SLT-2020/Joint_Dataset/HRNet-133/train.zip','/content/train/')\n",
        "shutil.unpack_archive('/content/drive/MyDrive/SLT-2020/Joint_Dataset/HRNet-133/valid.zip','/content/valid/')"
      ],
      "metadata": {
        "id": "u8tCilwI8qC0"
      },
      "execution_count": null,
      "outputs": []
    },
    {
      "cell_type": "code",
      "source": [
        "#shutil.rmtree('/content/train_after_discard')\n",
        "#shutil.rmtree('/content/valid_after_discard')"
      ],
      "metadata": {
        "id": "2YMqmhdygJFq"
      },
      "execution_count": null,
      "outputs": []
    },
    {
      "cell_type": "code",
      "source": [
        "def discard_frames(source, dest):\n",
        "  print(\"Number of Input Samples: {}\".format(len(os.listdir(source))))\n",
        "\n",
        "  # check if destination exists, create otherwise\n",
        "  path = Path(dest)\n",
        "  if not path.exists():\n",
        "    os.makedirs(path) \n",
        "\n",
        "  count = 0\n",
        "  # iterate through each sample\n",
        "  for sample in sorted(os.listdir(source)):\n",
        "    data = np.load(source + sample)\n",
        "    \n",
        "    # list to store new data\n",
        "    lst = []\n",
        "    discard_count = 0\n",
        "    # iterate through each frame\n",
        "    for idx in range(data.shape[0]):\n",
        "      # if all hand keypoints doesn't average to\n",
        "      # more than 0.7 confidence score, discard the frame\n",
        "      conf_mean = np.mean(data[idx, 91:133, 2]) \n",
        "      if conf_mean < 0.7:\n",
        "        discard_count += 1\n",
        "        continue\n",
        "      lst.append(data[idx, :, 0:2])\n",
        "\n",
        "    if discard_count == data.shape[0]:\n",
        "      tensor = torch.from_numpy(data)\n",
        "      torch.save(tensor, dest + sample[:-4] + '.pt', _use_new_zipfile_serialization = False)    \n",
        "    else:\n",
        "      new_data = np.array(lst)\n",
        "      tensor = torch.from_numpy(new_data)\n",
        "      torch.save(tensor, dest + sample[:-4] + '.pt', _use_new_zipfile_serialization = False)\n",
        "    \n",
        "    count += 1\n",
        "    if count % 500 == 0:\n",
        "      print(\"Sample: {} , Shape: {}, Discarded: {}\".format(count, tensor.shape, discard_count))\n",
        "\n",
        "  print(\"Number of Output Samples: {}\".format(len(os.listdir(dest))))"
      ],
      "metadata": {
        "id": "fcYBQSLV8rmn"
      },
      "execution_count": null,
      "outputs": []
    },
    {
      "cell_type": "code",
      "source": [
        "# train set\n",
        "discard_frames('/content/train/train/', '/content/train_after_discard/')"
      ],
      "metadata": {
        "colab": {
          "base_uri": "https://localhost:8080/"
        },
        "id": "9Ho_a6sA8rkY",
        "outputId": "e5d89721-f80c-4498-d4d6-a14a81ba8b51"
      },
      "execution_count": null,
      "outputs": [
        {
          "output_type": "stream",
          "name": "stdout",
          "text": [
            "Number of Input Samples: 7096\n",
            "Sample: 500 , Shape: torch.Size([73, 133, 2]), Discarded: 17\n",
            "Sample: 1000 , Shape: torch.Size([89, 133, 2]), Discarded: 33\n",
            "Sample: 1500 , Shape: torch.Size([71, 133, 2]), Discarded: 43\n",
            "Sample: 2000 , Shape: torch.Size([61, 133, 2]), Discarded: 66\n",
            "Sample: 2500 , Shape: torch.Size([4, 133, 2]), Discarded: 79\n",
            "Sample: 3000 , Shape: torch.Size([22, 133, 2]), Discarded: 75\n",
            "Sample: 3500 , Shape: torch.Size([40, 133, 2]), Discarded: 49\n",
            "Sample: 4000 , Shape: torch.Size([23, 133, 2]), Discarded: 22\n",
            "Sample: 4500 , Shape: torch.Size([147, 133, 2]), Discarded: 102\n",
            "Sample: 5000 , Shape: torch.Size([22, 133, 2]), Discarded: 42\n",
            "Sample: 5500 , Shape: torch.Size([11, 133, 2]), Discarded: 77\n",
            "Sample: 6000 , Shape: torch.Size([123, 133, 2]), Discarded: 35\n",
            "Sample: 6500 , Shape: torch.Size([1, 133, 2]), Discarded: 105\n",
            "Sample: 7000 , Shape: torch.Size([89, 133, 2]), Discarded: 12\n",
            "Number of Output Samples: 7096\n"
          ]
        }
      ]
    },
    {
      "cell_type": "code",
      "source": [
        "# valid set\n",
        "discard_frames('/content/valid/dev/', '/content/valid_after_discard/')"
      ],
      "metadata": {
        "colab": {
          "base_uri": "https://localhost:8080/"
        },
        "id": "1TnSHKbY8rd0",
        "outputId": "514df0e6-4cd5-468b-8c7c-4b61a8367c8c"
      },
      "execution_count": null,
      "outputs": [
        {
          "output_type": "stream",
          "name": "stdout",
          "text": [
            "Number of Input Samples: 519\n",
            "Sample: 500 , Shape: torch.Size([46, 133, 2]), Discarded: 60\n",
            "Number of Output Samples: 519\n"
          ]
        }
      ]
    },
    {
      "cell_type": "code",
      "source": [
        "def norm_segment(source, dest): # window_size):\n",
        "  print(\"Number of Input Samples: {}\".format(len(os.listdir(source))))\n",
        "\n",
        "  # check if destination exists, create otherwise\n",
        "  path = Path(dest)\n",
        "  if not path.exists():\n",
        "    os.makedirs(path) \n",
        "\n",
        "  count = 0\n",
        "  # iterate through each sample\n",
        "  for sample in sorted(os.listdir(source)):\n",
        "    data = torch.load(source + sample)\n",
        "    #frame_count = data.shape[0]\n",
        "\n",
        "    '''\n",
        "    if frame_count % window_size:\n",
        "      # extracting last frame that should be repeated\n",
        "      to_stack = data[frame_count - 1, :, :].unsqueeze(0)\n",
        "      num = window_size - (frame_count % window_size)\n",
        "      to_stack = to_stack.repeat(num, 1, 1)\n",
        "      data = torch.cat([data, to_stack])\n",
        "    '''\n",
        "    \n",
        "    lst = []\n",
        "    # iterate through each frame\n",
        "    for idx in range(data.shape[0]):\n",
        "      x = data[idx, :, 0]\n",
        "      y = data[idx, :, 1]\n",
        "      mean_x = torch.mean(x)\n",
        "      mean_y = torch.mean(y)\n",
        "      std_x = torch.std(x)\n",
        "      std_y = torch.std(y)\n",
        "      norm_x = (x-mean_x)/std_x\n",
        "      norm_y = (y-mean_y)/std_y\n",
        "      coord = torch.cat([norm_x, norm_y])\n",
        "\n",
        "      lst.append(coord)\n",
        "      '''\n",
        "      i = idx + 1\n",
        "      if idx == 0:\n",
        "        out = coord\n",
        "      elif i % window_size == 0:\n",
        "        out = torch.cat([out, coord])\n",
        "        lst.append(out)\n",
        "      else:\n",
        "        out = torch.cat([out, coord])\n",
        "      '''\n",
        "\n",
        "    output = torch.stack(lst)\n",
        "    torch.save(output, dest + sample, _use_new_zipfile_serialization = False)\n",
        "    count += 1\n",
        "    if count % 500 == 0:\n",
        "      print(\"Sample: {}, Shape: {}\".format(count, output.shape))\n",
        "\n",
        "  print(\"Number of Output Samples: {}\".format(len(os.listdir(dest))))"
      ],
      "metadata": {
        "id": "0mVbI0W-8rbn"
      },
      "execution_count": null,
      "outputs": []
    },
    {
      "cell_type": "code",
      "source": [
        "#shutil.rmtree('/content/train_data')"
      ],
      "metadata": {
        "id": "Qtr3ZpRxhOaD"
      },
      "execution_count": null,
      "outputs": []
    },
    {
      "cell_type": "code",
      "source": [
        "norm_segment('/content/train_after_discard/','/content/train_data/')"
      ],
      "metadata": {
        "colab": {
          "base_uri": "https://localhost:8080/"
        },
        "id": "NkSLHsDg8rUI",
        "outputId": "59fbc97e-bfe8-4a82-bb9d-f09c90f737c2"
      },
      "execution_count": null,
      "outputs": [
        {
          "output_type": "stream",
          "name": "stdout",
          "text": [
            "Number of Input Samples: 7096\n",
            "Sample: 500, Shape: torch.Size([73, 266])\n",
            "Sample: 1000, Shape: torch.Size([89, 266])\n",
            "Sample: 1500, Shape: torch.Size([71, 266])\n",
            "Sample: 2000, Shape: torch.Size([61, 266])\n",
            "Sample: 2500, Shape: torch.Size([4, 266])\n",
            "Sample: 3000, Shape: torch.Size([22, 266])\n",
            "Sample: 3500, Shape: torch.Size([40, 266])\n",
            "Sample: 4000, Shape: torch.Size([23, 266])\n",
            "Sample: 4500, Shape: torch.Size([147, 266])\n",
            "Sample: 5000, Shape: torch.Size([22, 266])\n",
            "Sample: 5500, Shape: torch.Size([11, 266])\n",
            "Sample: 6000, Shape: torch.Size([123, 266])\n",
            "Sample: 6500, Shape: torch.Size([1, 266])\n",
            "Sample: 7000, Shape: torch.Size([89, 266])\n",
            "Number of Output Samples: 7096\n"
          ]
        }
      ]
    },
    {
      "cell_type": "code",
      "source": [
        "norm_segment('/content/valid_after_discard/','/content/valid_data/')"
      ],
      "metadata": {
        "colab": {
          "base_uri": "https://localhost:8080/"
        },
        "id": "YTtMS8OghcKx",
        "outputId": "44a6bff2-c4e5-48fb-fc16-8140ea52f4fe"
      },
      "execution_count": null,
      "outputs": [
        {
          "output_type": "stream",
          "name": "stdout",
          "text": [
            "Number of Input Samples: 519\n",
            "Sample: 500, Shape: torch.Size([46, 266])\n",
            "Number of Output Samples: 519\n"
          ]
        }
      ]
    },
    {
      "cell_type": "code",
      "source": [
        "source = f'/content/train_data/'\n",
        "\n",
        "train_set = []\n",
        "count = 0\n",
        "\n",
        "for sample in train_data:\n",
        "  name = sample['name'][6:] # train -> [6:] valid -> [4:]\n",
        "  tensor = torch.load(source + name + '.pt', map_location = torch.device('cpu'))\n",
        "   \n",
        "  temp_dict = sample\n",
        "  temp_dict['sign'] = tensor\n",
        "\n",
        "  train_set.append(temp_dict)\n",
        "  count += 1\n",
        "  if count % 500 == 0:\n",
        "    print('count: {}, sample: {}, shape: {}'.format(count, name, temp_dict['sign'].shape))    "
      ],
      "metadata": {
        "colab": {
          "base_uri": "https://localhost:8080/"
        },
        "id": "tnxXmnNghcFm",
        "outputId": "b59aa809-79f7-4674-f8b4-bf0b05d401f9"
      },
      "execution_count": null,
      "outputs": [
        {
          "output_type": "stream",
          "name": "stdout",
          "text": [
            "count: 500, sample: 18October_2010_Monday_heute-626, shape: torch.Size([177, 266])\n",
            "count: 1000, sample: 02August_2010_Monday_heute-1248, shape: torch.Size([56, 266])\n",
            "count: 1500, sample: 15February_2010_Monday_tagesschau-1850, shape: torch.Size([42, 266])\n",
            "count: 2000, sample: 15September_2010_Wednesday_heute-2474, shape: torch.Size([124, 266])\n",
            "count: 2500, sample: 21April_2010_Wednesday_heute-3116, shape: torch.Size([42, 266])\n",
            "count: 3000, sample: 24January_2011_Monday_tagesschau-3717, shape: torch.Size([15, 266])\n",
            "count: 3500, sample: 23May_2010_Sunday_tagesschau-4342, shape: torch.Size([82, 266])\n",
            "count: 4000, sample: 25April_2010_Sunday_tagesschau-4947, shape: torch.Size([99, 266])\n",
            "count: 4500, sample: 18November_2009_Wednesday_tagesschau-5589, shape: torch.Size([36, 266])\n",
            "count: 5000, sample: 18July_2010_Sunday_tagesschau-6225, shape: torch.Size([31, 266])\n",
            "count: 5500, sample: 10May_2010_Monday_tagesschau-6860, shape: torch.Size([112, 266])\n",
            "count: 6000, sample: 10December_2009_Thursday_tagesschau-7491, shape: torch.Size([76, 266])\n",
            "count: 6500, sample: 07April_2011_Thursday_tagesschau-8106, shape: torch.Size([37, 266])\n",
            "count: 7000, sample: 15July_2011_Friday_tagesschau-8722, shape: torch.Size([38, 266])\n"
          ]
        }
      ]
    },
    {
      "cell_type": "code",
      "source": [
        "source = f'/content/valid_data/'\n",
        "\n",
        "valid_set = []\n",
        "count = 0\n",
        "\n",
        "# valid_data -> authors'\n",
        "\n",
        "for sample in valid_data:\n",
        "  name = sample['name'][4:] # train -> [6:] valid -> [4:]\n",
        "  tensor = torch.load(source + name + '.pt', map_location = torch.device('cpu'))\n",
        "   \n",
        "  temp_dict = sample\n",
        "  temp_dict['sign'] = tensor\n",
        "\n",
        "  valid_set.append(temp_dict)\n",
        "  count += 1\n",
        "  if count % 100 == 0:\n",
        "    print('count: {}, sample: {}, shape: {}'.format(count, name, temp_dict['sign'].shape))    "
      ],
      "metadata": {
        "colab": {
          "base_uri": "https://localhost:8080/"
        },
        "id": "STQ8zjbwhcDS",
        "outputId": "34652f6d-9bd1-4912-bc3c-3e260b4d118f"
      },
      "execution_count": null,
      "outputs": [
        {
          "output_type": "stream",
          "name": "stdout",
          "text": [
            "count: 100, sample: 09March_2011_Wednesday_heute-1742, shape: torch.Size([59, 266])\n",
            "count: 200, sample: 27August_2009_Thursday_tagesschau-3284, shape: torch.Size([10, 266])\n",
            "count: 300, sample: 23August_2010_Monday_heute-5319, shape: torch.Size([45, 266])\n",
            "count: 400, sample: 06July_2011_Wednesday_tagesschau-6870, shape: torch.Size([33, 266])\n",
            "count: 500, sample: 28July_2011_Thursday_tagesschau-8521, shape: torch.Size([66, 266])\n"
          ]
        }
      ]
    },
    {
      "cell_type": "code",
      "source": [
        "print(len(train_set))\n",
        "print(len(valid_set))"
      ],
      "metadata": {
        "colab": {
          "base_uri": "https://localhost:8080/"
        },
        "id": "b_PKOZ7_hb-J",
        "outputId": "0eb2aa24-1ae3-4620-db01-75a9b045783b"
      },
      "execution_count": null,
      "outputs": [
        {
          "output_type": "stream",
          "name": "stdout",
          "text": [
            "7096\n",
            "519\n"
          ]
        }
      ]
    },
    {
      "cell_type": "code",
      "source": [
        "with open('/content/valid_dataset.pkl', 'wb') as f:\n",
        "  pickle.dump(valid_set, f)\n",
        "with open('/content/train_dataset.pkl', 'wb') as f:\n",
        "  pickle.dump(train_set, f)"
      ],
      "metadata": {
        "id": "vwJVIMVEhb7x"
      },
      "execution_count": null,
      "outputs": []
    },
    {
      "cell_type": "code",
      "source": [
        "!gzip -k /content/valid_dataset.pkl\n",
        "!gzip -k /content/train_dataset.pkl"
      ],
      "metadata": {
        "id": "fDXW6Ph4ixbp"
      },
      "execution_count": null,
      "outputs": []
    },
    {
      "cell_type": "code",
      "source": [
        "shutil.copy('/content/train_dataset.pkl.gz','/content/drive/MyDrive/SLT-2020/Joint_Dataset/HRNet-133/Attempt-2/')\n",
        "shutil.copy('/content/valid_dataset.pkl.gz','/content/drive/MyDrive/SLT-2020/Joint_Dataset/HRNet-133/Attempt-2/')"
      ],
      "metadata": {
        "colab": {
          "base_uri": "https://localhost:8080/",
          "height": 34
        },
        "id": "uGu0P2yPixZW",
        "outputId": "9db9a24c-83d8-413d-ced9-4f7b3517b48a"
      },
      "execution_count": null,
      "outputs": [
        {
          "output_type": "execute_result",
          "data": {
            "application/vnd.google.colaboratory.intrinsic+json": {
              "type": "string"
            },
            "text/plain": [
              "'/content/drive/MyDrive/SLT-2020/Joint_Dataset/HRNet-133/Attempt-2/valid_dataset.pkl.gz'"
            ]
          },
          "metadata": {},
          "execution_count": 24
        }
      ]
    },
    {
      "cell_type": "code",
      "source": [
        ""
      ],
      "metadata": {
        "id": "l7Cn6rmei5_n"
      },
      "execution_count": null,
      "outputs": []
    },
    {
      "cell_type": "code",
      "source": [
        ""
      ],
      "metadata": {
        "id": "waHmsM6pL-xo"
      },
      "execution_count": null,
      "outputs": []
    },
    {
      "cell_type": "markdown",
      "source": [
        "### HRNet 133 keypoints - Part-2"
      ],
      "metadata": {
        "id": "Im6AEaedL_qX"
      }
    },
    {
      "cell_type": "code",
      "source": [
        "import shutil\n",
        "import os\n",
        "import numpy as np\n",
        "import torch\n",
        "from pathlib import Path"
      ],
      "metadata": {
        "id": "dHNR8CtoL_qZ"
      },
      "execution_count": null,
      "outputs": []
    },
    {
      "cell_type": "code",
      "source": [
        "shutil.unpack_archive('/content/drive/MyDrive/SLT-2020/Joint_Dataset/HRNet-133/train.zip','/content/train/')\n",
        "shutil.unpack_archive('/content/drive/MyDrive/SLT-2020/Joint_Dataset/HRNet-133/valid.zip','/content/valid/')"
      ],
      "metadata": {
        "id": "91q2-R_DL_qa"
      },
      "execution_count": null,
      "outputs": []
    },
    {
      "cell_type": "code",
      "source": [
        "#shutil.rmtree('/content/train_after_discard')\n",
        "#shutil.rmtree('/content/valid_after_discard')\n",
        "#shutil.rmtree('/content/train_data')\n",
        "#shutil.rmtree('/content/valid_data')"
      ],
      "metadata": {
        "id": "4Yxk3qX1L_qb"
      },
      "execution_count": null,
      "outputs": []
    },
    {
      "cell_type": "code",
      "source": [
        "def discard_frames(source, dest):\n",
        "  print(\"Number of Input Samples: {}\".format(len(os.listdir(source))))\n",
        "\n",
        "  # check if destination exists, create otherwise\n",
        "  path = Path(dest)\n",
        "  if not path.exists():\n",
        "    os.makedirs(path) \n",
        "\n",
        "  count = 0\n",
        "  # iterate through each sample\n",
        "  for sample in sorted(os.listdir(source)):\n",
        "    data = np.load(source + sample)\n",
        "    data = torch.from_numpy(data)\n",
        "    \n",
        "    # list to store new data\n",
        "    lst = []\n",
        "\n",
        "    # iterate through each frame\n",
        "    for idx in range(data.shape[0]):\n",
        "      new_data = torch.cat([data[idx, 0:12, 0:2], data[idx, 23:-1, 0:2]])\n",
        "      lst.append(new_data)\n",
        "\n",
        "    tensor = torch.stack(lst)\n",
        "    torch.save(tensor, dest + sample[:-4] + '.pt', _use_new_zipfile_serialization = False)    \n",
        "    \n",
        "    count += 1\n",
        "    if count % 500 == 0:\n",
        "      print(\"Sample:{} , Shape: {}\".format(count, tensor.shape))\n",
        "\n",
        "  print(\"Number of Output Samples: {}\".format(len(os.listdir(dest))))"
      ],
      "metadata": {
        "id": "VfBoVWrJL_qc"
      },
      "execution_count": null,
      "outputs": []
    },
    {
      "cell_type": "code",
      "source": [
        "# train set\n",
        "discard_frames('/content/train/train/', '/content/train_after_discard/')"
      ],
      "metadata": {
        "colab": {
          "base_uri": "https://localhost:8080/"
        },
        "outputId": "a6b37a4a-6180-4ea0-d857-c91189eeb279",
        "id": "_kg9U8fPL_qd"
      },
      "execution_count": null,
      "outputs": [
        {
          "output_type": "stream",
          "name": "stdout",
          "text": [
            "Number of Input Samples: 7096\n",
            "Sample:500 , Shape: torch.Size([90, 121, 2])\n",
            "Sample:1000 , Shape: torch.Size([122, 121, 2])\n",
            "Sample:1500 , Shape: torch.Size([114, 121, 2])\n",
            "Sample:2000 , Shape: torch.Size([127, 121, 2])\n",
            "Sample:2500 , Shape: torch.Size([83, 121, 2])\n",
            "Sample:3000 , Shape: torch.Size([97, 121, 2])\n",
            "Sample:3500 , Shape: torch.Size([89, 121, 2])\n",
            "Sample:4000 , Shape: torch.Size([45, 121, 2])\n",
            "Sample:4500 , Shape: torch.Size([249, 121, 2])\n",
            "Sample:5000 , Shape: torch.Size([64, 121, 2])\n",
            "Sample:5500 , Shape: torch.Size([88, 121, 2])\n",
            "Sample:6000 , Shape: torch.Size([158, 121, 2])\n",
            "Sample:6500 , Shape: torch.Size([106, 121, 2])\n",
            "Sample:7000 , Shape: torch.Size([101, 121, 2])\n",
            "Number of Output Samples: 7096\n"
          ]
        }
      ]
    },
    {
      "cell_type": "code",
      "source": [
        "# valid set\n",
        "discard_frames('/content/valid/dev/', '/content/valid_after_discard/')"
      ],
      "metadata": {
        "colab": {
          "base_uri": "https://localhost:8080/"
        },
        "outputId": "6104338f-dbbe-450a-897f-8a6d06ffc2f5",
        "id": "tOrvnltqL_qf"
      },
      "execution_count": null,
      "outputs": [
        {
          "output_type": "stream",
          "name": "stdout",
          "text": [
            "Number of Input Samples: 519\n",
            "Sample:500 , Shape: torch.Size([106, 121, 2])\n",
            "Number of Output Samples: 519\n"
          ]
        }
      ]
    },
    {
      "cell_type": "code",
      "source": [
        "def norm_segment(source, dest): # window_size):\n",
        "  print(\"Number of Input Samples: {}\".format(len(os.listdir(source))))\n",
        "\n",
        "  # check if destination exists, create otherwise\n",
        "  path = Path(dest)\n",
        "  if not path.exists():\n",
        "    os.makedirs(path) \n",
        "\n",
        "  count = 0\n",
        "  # iterate through each sample\n",
        "  for sample in sorted(os.listdir(source)):\n",
        "    data = torch.load(source + sample)\n",
        "    #frame_count = data.shape[0]\n",
        "\n",
        "    '''\n",
        "    if frame_count % window_size:\n",
        "      # extracting last frame that should be repeated\n",
        "      to_stack = data[frame_count - 1, :, :].unsqueeze(0)\n",
        "      num = window_size - (frame_count % window_size)\n",
        "      to_stack = to_stack.repeat(num, 1, 1)\n",
        "      data = torch.cat([data, to_stack])\n",
        "    '''\n",
        "    \n",
        "    lst = []\n",
        "    # iterate through each frame\n",
        "    for idx in range(data.shape[0]):\n",
        "      x = data[idx, :, 0]\n",
        "      y = data[idx, :, 1]\n",
        "      mean_x = torch.mean(x)\n",
        "      mean_y = torch.mean(y)\n",
        "      std_x = torch.std(x)\n",
        "      std_y = torch.std(y)\n",
        "      norm_x = (x-mean_x)/std_x\n",
        "      norm_y = (y-mean_y)/std_y\n",
        "      coord = torch.cat([norm_x, norm_y])\n",
        "\n",
        "      lst.append(coord)\n",
        "      '''\n",
        "      i = idx + 1\n",
        "      if idx == 0:\n",
        "        out = coord\n",
        "      elif i % window_size == 0:\n",
        "        out = torch.cat([out, coord])\n",
        "        lst.append(out)\n",
        "      else:\n",
        "        out = torch.cat([out, coord])\n",
        "      '''\n",
        "\n",
        "    output = torch.stack(lst)\n",
        "    torch.save(output, dest + sample, _use_new_zipfile_serialization = False)\n",
        "    count += 1\n",
        "    if count % 500 == 0:\n",
        "      print(\"Sample: {}, Shape: {}\".format(count, output.shape))\n",
        "\n",
        "  print(\"Number of Output Samples: {}\".format(len(os.listdir(dest))))"
      ],
      "metadata": {
        "id": "TujDNOrJL_qg"
      },
      "execution_count": null,
      "outputs": []
    },
    {
      "cell_type": "code",
      "source": [
        "#shutil.rmtree('/content/train_data')"
      ],
      "metadata": {
        "id": "OID79siZL_qi"
      },
      "execution_count": null,
      "outputs": []
    },
    {
      "cell_type": "code",
      "source": [
        "norm_segment('/content/train_after_discard/','/content/train_data/')"
      ],
      "metadata": {
        "colab": {
          "base_uri": "https://localhost:8080/"
        },
        "outputId": "961ad9c9-bac9-4f27-b361-a45f0b20d169",
        "id": "RoLxTmR9L_qi"
      },
      "execution_count": null,
      "outputs": [
        {
          "output_type": "stream",
          "name": "stdout",
          "text": [
            "Number of Input Samples: 7096\n",
            "Sample: 500, Shape: torch.Size([90, 242])\n",
            "Sample: 1000, Shape: torch.Size([122, 242])\n",
            "Sample: 1500, Shape: torch.Size([114, 242])\n",
            "Sample: 2000, Shape: torch.Size([127, 242])\n",
            "Sample: 2500, Shape: torch.Size([83, 242])\n",
            "Sample: 3000, Shape: torch.Size([97, 242])\n",
            "Sample: 3500, Shape: torch.Size([89, 242])\n",
            "Sample: 4000, Shape: torch.Size([45, 242])\n",
            "Sample: 4500, Shape: torch.Size([249, 242])\n",
            "Sample: 5000, Shape: torch.Size([64, 242])\n",
            "Sample: 5500, Shape: torch.Size([88, 242])\n",
            "Sample: 6000, Shape: torch.Size([158, 242])\n",
            "Sample: 6500, Shape: torch.Size([106, 242])\n",
            "Sample: 7000, Shape: torch.Size([101, 242])\n",
            "Number of Output Samples: 7096\n"
          ]
        }
      ]
    },
    {
      "cell_type": "code",
      "source": [
        "norm_segment('/content/valid_after_discard/','/content/valid_data/')"
      ],
      "metadata": {
        "colab": {
          "base_uri": "https://localhost:8080/"
        },
        "outputId": "0188a214-d122-4676-f536-51dab4a3d173",
        "id": "UxUGOltML_qj"
      },
      "execution_count": null,
      "outputs": [
        {
          "output_type": "stream",
          "name": "stdout",
          "text": [
            "Number of Input Samples: 519\n",
            "Sample: 500, Shape: torch.Size([106, 242])\n",
            "Number of Output Samples: 519\n"
          ]
        }
      ]
    },
    {
      "cell_type": "code",
      "source": [
        "source = f'/content/train_data/'\n",
        "\n",
        "train_set = []\n",
        "count = 0\n",
        "\n",
        "for sample in train_data:\n",
        "  name = sample['name'][6:] # train -> [6:] valid -> [4:]\n",
        "  tensor = torch.load(source + name + '.pt', map_location = torch.device('cpu'))\n",
        "   \n",
        "  temp_dict = sample\n",
        "  temp_dict['sign'] = tensor\n",
        "\n",
        "  train_set.append(temp_dict)\n",
        "  count += 1\n",
        "  if count % 500 == 0:\n",
        "    print('count: {}, sample: {}, shape: {}'.format(count, name, temp_dict['sign'].shape))    "
      ],
      "metadata": {
        "colab": {
          "base_uri": "https://localhost:8080/"
        },
        "outputId": "d7ec7759-436c-4208-f4e6-04cbd78dd4ea",
        "id": "5UY0NObPL_qk"
      },
      "execution_count": null,
      "outputs": [
        {
          "output_type": "stream",
          "name": "stdout",
          "text": [
            "count: 500, sample: 18October_2010_Monday_heute-626, shape: torch.Size([198, 242])\n",
            "count: 1000, sample: 02August_2010_Monday_heute-1248, shape: torch.Size([92, 242])\n",
            "count: 1500, sample: 15February_2010_Monday_tagesschau-1850, shape: torch.Size([93, 242])\n",
            "count: 2000, sample: 15September_2010_Wednesday_heute-2474, shape: torch.Size([150, 242])\n",
            "count: 2500, sample: 21April_2010_Wednesday_heute-3116, shape: torch.Size([85, 242])\n",
            "count: 3000, sample: 24January_2011_Monday_tagesschau-3717, shape: torch.Size([31, 242])\n",
            "count: 3500, sample: 23May_2010_Sunday_tagesschau-4342, shape: torch.Size([130, 242])\n",
            "count: 4000, sample: 25April_2010_Sunday_tagesschau-4947, shape: torch.Size([131, 242])\n",
            "count: 4500, sample: 18November_2009_Wednesday_tagesschau-5589, shape: torch.Size([91, 242])\n",
            "count: 5000, sample: 18July_2010_Sunday_tagesschau-6225, shape: torch.Size([183, 242])\n",
            "count: 5500, sample: 10May_2010_Monday_tagesschau-6860, shape: torch.Size([208, 242])\n",
            "count: 6000, sample: 10December_2009_Thursday_tagesschau-7491, shape: torch.Size([80, 242])\n",
            "count: 6500, sample: 07April_2011_Thursday_tagesschau-8106, shape: torch.Size([37, 242])\n",
            "count: 7000, sample: 15July_2011_Friday_tagesschau-8722, shape: torch.Size([154, 242])\n"
          ]
        }
      ]
    },
    {
      "cell_type": "code",
      "source": [
        "source = f'/content/valid_data/'\n",
        "\n",
        "valid_set = []\n",
        "count = 0\n",
        "\n",
        "# valid_data -> authors'\n",
        "\n",
        "for sample in valid_data:\n",
        "  name = sample['name'][4:] # train -> [6:] valid -> [4:]\n",
        "  tensor = torch.load(source + name + '.pt', map_location = torch.device('cpu'))\n",
        "   \n",
        "  temp_dict = sample\n",
        "  temp_dict['sign'] = tensor\n",
        "\n",
        "  valid_set.append(temp_dict)\n",
        "  count += 1\n",
        "  if count % 100 == 0:\n",
        "    print('count: {}, sample: {}, shape: {}'.format(count, name, temp_dict['sign'].shape))    "
      ],
      "metadata": {
        "colab": {
          "base_uri": "https://localhost:8080/"
        },
        "outputId": "8e0f7b0e-0bd2-4b7f-e3e5-72afd46cf600",
        "id": "Bdghy0U6L_ql"
      },
      "execution_count": null,
      "outputs": [
        {
          "output_type": "stream",
          "name": "stdout",
          "text": [
            "count: 100, sample: 09March_2011_Wednesday_heute-1742, shape: torch.Size([162, 242])\n",
            "count: 200, sample: 27August_2009_Thursday_tagesschau-3284, shape: torch.Size([45, 242])\n",
            "count: 300, sample: 23August_2010_Monday_heute-5319, shape: torch.Size([65, 242])\n",
            "count: 400, sample: 06July_2011_Wednesday_tagesschau-6870, shape: torch.Size([156, 242])\n",
            "count: 500, sample: 28July_2011_Thursday_tagesschau-8521, shape: torch.Size([166, 242])\n"
          ]
        }
      ]
    },
    {
      "cell_type": "code",
      "source": [
        "print(len(train_set))\n",
        "print(len(valid_set))"
      ],
      "metadata": {
        "colab": {
          "base_uri": "https://localhost:8080/"
        },
        "outputId": "1128c6d0-9ac6-4f70-f239-7df78c401f4f",
        "id": "DoLLjKU-L_qm"
      },
      "execution_count": null,
      "outputs": [
        {
          "output_type": "stream",
          "name": "stdout",
          "text": [
            "7096\n",
            "519\n"
          ]
        }
      ]
    },
    {
      "cell_type": "code",
      "source": [
        "with open('/content/valid_dataset.pkl', 'wb') as f:\n",
        "  pickle.dump(valid_set, f)\n",
        "with open('/content/train_dataset.pkl', 'wb') as f:\n",
        "  pickle.dump(train_set, f)"
      ],
      "metadata": {
        "id": "CbYPzPmyL_qm"
      },
      "execution_count": null,
      "outputs": []
    },
    {
      "cell_type": "code",
      "source": [
        "!gzip -k /content/valid_dataset.pkl\n",
        "!gzip -k /content/train_dataset.pkl"
      ],
      "metadata": {
        "id": "80LBogd4L_qn"
      },
      "execution_count": null,
      "outputs": []
    },
    {
      "cell_type": "code",
      "source": [
        "shutil.copy('/content/train_dataset.pkl.gz','/content/drive/MyDrive/SLT-2020/Joint_Dataset/HRNet-133/Attempt-3/')\n",
        "shutil.copy('/content/valid_dataset.pkl.gz','/content/drive/MyDrive/SLT-2020/Joint_Dataset/HRNet-133/Attempt-3/')"
      ],
      "metadata": {
        "colab": {
          "base_uri": "https://localhost:8080/",
          "height": 34
        },
        "outputId": "2c4daa54-8b98-4e31-95cc-f55a74bcd4da",
        "id": "ekTB0elCL_qn"
      },
      "execution_count": null,
      "outputs": [
        {
          "output_type": "execute_result",
          "data": {
            "application/vnd.google.colaboratory.intrinsic+json": {
              "type": "string"
            },
            "text/plain": [
              "'/content/drive/MyDrive/SLT-2020/Joint_Dataset/HRNet-133/Attempt-3/valid_dataset.pkl.gz'"
            ]
          },
          "metadata": {},
          "execution_count": 49
        }
      ]
    },
    {
      "cell_type": "code",
      "source": [
        ""
      ],
      "metadata": {
        "id": "cBh8dlzYL_qo"
      },
      "execution_count": null,
      "outputs": []
    },
    {
      "cell_type": "markdown",
      "source": [
        "### rough-2"
      ],
      "metadata": {
        "id": "eSE9z9dciN3_"
      }
    },
    {
      "cell_type": "code",
      "source": [
        "l = os.listdir('/content/train_after_discard/')\n",
        "l[34]"
      ],
      "metadata": {
        "colab": {
          "base_uri": "https://localhost:8080/",
          "height": 34
        },
        "id": "zAPVjYWcX3x9",
        "outputId": "a39d4146-2ffb-4eef-e1f6-60c2f3c66350"
      },
      "execution_count": null,
      "outputs": [
        {
          "output_type": "execute_result",
          "data": {
            "application/vnd.google.colaboratory.intrinsic+json": {
              "type": "string"
            },
            "text/plain": [
              "'28January_2010_Thursday_tagesschau-2811.npy.pt'"
            ]
          },
          "metadata": {},
          "execution_count": 39
        }
      ]
    },
    {
      "cell_type": "code",
      "source": [
        "tt = torch.load('/content/train_after_discard/01August_2011_Monday_heute-4849.pt')\n",
        "tt.shape"
      ],
      "metadata": {
        "colab": {
          "base_uri": "https://localhost:8080/"
        },
        "id": "r90z5Xp0X3vt",
        "outputId": "84f8a028-a9d2-43af-ca27-247ee9f061e9"
      },
      "execution_count": null,
      "outputs": [
        {
          "output_type": "execute_result",
          "data": {
            "text/plain": [
              "torch.Size([0])"
            ]
          },
          "metadata": {},
          "execution_count": 64
        }
      ]
    },
    {
      "cell_type": "code",
      "source": [
        "print(42 % 6)"
      ],
      "metadata": {
        "colab": {
          "base_uri": "https://localhost:8080/"
        },
        "id": "SDGC9YXlX3rS",
        "outputId": "b93ef638-6c8e-4041-fba9-81c79ec18653"
      },
      "execution_count": null,
      "outputs": [
        {
          "output_type": "stream",
          "name": "stdout",
          "text": [
            "0\n"
          ]
        }
      ]
    },
    {
      "cell_type": "code",
      "source": [
        "if 0:\n",
        "  print('wut')"
      ],
      "metadata": {
        "id": "Y7Zm31HCX3pD"
      },
      "execution_count": null,
      "outputs": []
    },
    {
      "cell_type": "code",
      "source": [
        "temp = np.load('/content/train/train/01April_2010_Thursday_heute-6694.npy')\n",
        "temp.shape"
      ],
      "metadata": {
        "colab": {
          "base_uri": "https://localhost:8080/"
        },
        "id": "q7ciTmD58rRy",
        "outputId": "3ed3d74a-f8f7-4307-c29a-423d17537611"
      },
      "execution_count": null,
      "outputs": [
        {
          "output_type": "execute_result",
          "data": {
            "text/plain": [
              "(53, 133, 3)"
            ]
          },
          "metadata": {},
          "execution_count": 13
        }
      ]
    },
    {
      "cell_type": "code",
      "source": [
        "temp[0, :, 2]"
      ],
      "metadata": {
        "colab": {
          "base_uri": "https://localhost:8080/"
        },
        "id": "ERlsHpyp8rKa",
        "outputId": "a9c29274-f901-41b4-a19b-00a11eef35c9"
      },
      "execution_count": null,
      "outputs": [
        {
          "output_type": "execute_result",
          "data": {
            "text/plain": [
              "array([0.9638047 , 0.9590918 , 0.9573112 , 0.9016408 , 0.9116309 ,\n",
              "       0.8409655 , 0.87791747, 0.8872658 , 0.88564247, 0.9322082 ,\n",
              "       0.90770936, 0.66431105, 0.68250203, 0.04623652, 0.04578356,\n",
              "       0.1501307 , 0.142673  , 0.35242778, 0.34163466, 0.3940376 ,\n",
              "       0.30609155, 0.28177425, 0.35224986, 0.90631974, 0.9588274 ,\n",
              "       0.9575112 , 0.9390445 , 0.9433827 , 0.97055334, 0.9808987 ,\n",
              "       0.9656267 , 0.9717074 , 0.97239256, 0.97122204, 0.9636855 ,\n",
              "       0.9577147 , 0.9402936 , 0.9639468 , 0.9581839 , 0.8942652 ,\n",
              "       0.95807767, 0.97466797, 0.9797343 , 0.95632875, 0.92680466,\n",
              "       0.92267716, 0.94105065, 0.95227206, 0.9510535 , 0.958421  ,\n",
              "       0.9583516 , 0.9992411 , 1.00329   , 0.95539653, 0.97395766,\n",
              "       1.0075103 , 1.004766  , 1.0023639 , 0.98463166, 0.9477819 ,\n",
              "       0.95317113, 0.94642735, 0.9753853 , 1.0023267 , 0.99810696,\n",
              "       0.9804976 , 0.9632288 , 0.9555929 , 0.9516536 , 0.97590214,\n",
              "       1.0004263 , 0.9785799 , 0.9891299 , 0.9823488 , 0.97161055,\n",
              "       0.9815486 , 0.9980842 , 0.97107905, 0.9866072 , 0.9925576 ,\n",
              "       0.9878367 , 0.979246  , 0.9815495 , 0.9800932 , 0.98499954,\n",
              "       0.96754074, 0.9868163 , 0.9742482 , 0.97014916, 0.96496356,\n",
              "       0.9749986 , 0.88613945, 0.7882688 , 0.8849846 , 0.832229  ,\n",
              "       0.73317385, 0.8618367 , 0.80393684, 0.81070805, 0.77325916,\n",
              "       0.8720064 , 0.79198563, 0.8118296 , 0.8297668 , 0.90235734,\n",
              "       0.827976  , 0.87523735, 0.9007062 , 0.9252223 , 0.8795396 ,\n",
              "       0.85111904, 0.85538816, 0.8643786 , 0.8030416 , 0.86589265,\n",
              "       0.8401004 , 0.67465484, 0.810027  , 0.7875962 , 0.77693754,\n",
              "       0.7347342 , 0.8693104 , 0.78696823, 0.7503274 , 0.7683582 ,\n",
              "       0.8964186 , 0.8005473 , 0.8691484 , 0.90275586, 0.93283826,\n",
              "       0.87410265, 0.8617581 , 0.8909396 ], dtype=float32)"
            ]
          },
          "metadata": {},
          "execution_count": 17
        }
      ]
    },
    {
      "cell_type": "code",
      "source": [
        "# 92-133\n",
        "len(temp[0, 91:133, 2])"
      ],
      "metadata": {
        "colab": {
          "base_uri": "https://localhost:8080/"
        },
        "id": "jZlYpQB68rIL",
        "outputId": "0d982b5c-1d82-4f5a-8cf1-e2507ce90db9"
      },
      "execution_count": null,
      "outputs": [
        {
          "output_type": "execute_result",
          "data": {
            "text/plain": [
              "42"
            ]
          },
          "metadata": {},
          "execution_count": 19
        }
      ]
    },
    {
      "cell_type": "code",
      "source": [
        "np.mean(temp[0, 91:133, 2])"
      ],
      "metadata": {
        "colab": {
          "base_uri": "https://localhost:8080/"
        },
        "id": "sCDB8oJs8rCq",
        "outputId": "17c2243c-8efd-4a03-9cd6-b3afcbf3c423"
      },
      "execution_count": null,
      "outputs": [
        {
          "output_type": "execute_result",
          "data": {
            "text/plain": [
              "0.83472633"
            ]
          },
          "metadata": {},
          "execution_count": 20
        }
      ]
    },
    {
      "cell_type": "code",
      "source": [
        "sum = 0\n",
        "num = 42\n",
        "for i in range(91, 133):\n",
        "  sum += temp[0][i][2]\n",
        "print(sum/num)  "
      ],
      "metadata": {
        "colab": {
          "base_uri": "https://localhost:8080/"
        },
        "id": "ZluRsPCv8rAa",
        "outputId": "629345c8-35b8-4cb8-d765-ecc99c05bb80"
      },
      "execution_count": null,
      "outputs": [
        {
          "output_type": "stream",
          "name": "stdout",
          "text": [
            "0.8347263520672208\n"
          ]
        }
      ]
    },
    {
      "cell_type": "code",
      "source": [
        "temp[0,:].shape"
      ],
      "metadata": {
        "colab": {
          "base_uri": "https://localhost:8080/"
        },
        "id": "b8muRiEBFR5D",
        "outputId": "ed9db94b-2c44-4c4f-bf7b-75a37089e6cb"
      },
      "execution_count": null,
      "outputs": [
        {
          "output_type": "execute_result",
          "data": {
            "text/plain": [
              "(133, 3)"
            ]
          },
          "metadata": {},
          "execution_count": 35
        }
      ]
    },
    {
      "cell_type": "code",
      "source": [
        "import torch\n",
        "t = torch.randn((5, 4, 3))\n",
        "t.shape"
      ],
      "metadata": {
        "colab": {
          "base_uri": "https://localhost:8080/"
        },
        "id": "yTvxe7fFTcuP",
        "outputId": "df3ecb0c-936b-4088-ee56-1833d3658303"
      },
      "execution_count": null,
      "outputs": [
        {
          "output_type": "execute_result",
          "data": {
            "text/plain": [
              "torch.Size([5, 4, 3])"
            ]
          },
          "metadata": {},
          "execution_count": 1
        }
      ]
    },
    {
      "cell_type": "code",
      "source": [
        "to_stack = t[4, :, :].unsqueeze(0)\n",
        "print(to_stack.shape)\n",
        "to_to_stack = to_stack.repeat(7, 1, 1)\n",
        "print(to_to_stack.shape)"
      ],
      "metadata": {
        "colab": {
          "base_uri": "https://localhost:8080/"
        },
        "id": "nb0KE7q2NzXn",
        "outputId": "2b5ce128-ed90-4f83-9253-2e5f5b5ae3ed"
      },
      "execution_count": null,
      "outputs": [
        {
          "output_type": "stream",
          "name": "stdout",
          "text": [
            "torch.Size([1, 4, 3])\n",
            "torch.Size([7, 4, 3])\n"
          ]
        }
      ]
    },
    {
      "cell_type": "code",
      "source": [
        "to_stack"
      ],
      "metadata": {
        "colab": {
          "base_uri": "https://localhost:8080/"
        },
        "id": "rkLFHoX0QGUD",
        "outputId": "024da01d-adc7-4e6e-ae73-c113b2055c0e"
      },
      "execution_count": null,
      "outputs": [
        {
          "output_type": "execute_result",
          "data": {
            "text/plain": [
              "tensor([[[ 0.5719,  0.5784,  0.0804],\n",
              "         [ 0.4905,  0.4057, -0.8036],\n",
              "         [ 1.5667, -0.4470, -0.2487],\n",
              "         [ 2.5866, -0.5030, -0.8694]]])"
            ]
          },
          "metadata": {},
          "execution_count": 15
        }
      ]
    },
    {
      "cell_type": "code",
      "source": [
        "to_to_stack"
      ],
      "metadata": {
        "colab": {
          "base_uri": "https://localhost:8080/"
        },
        "id": "9gXl5qFAQI-W",
        "outputId": "0198c99c-61c5-4dd7-b236-7c777708a74e"
      },
      "execution_count": null,
      "outputs": [
        {
          "output_type": "execute_result",
          "data": {
            "text/plain": [
              "tensor([[[ 0.5719,  0.5784,  0.0804],\n",
              "         [ 0.4905,  0.4057, -0.8036],\n",
              "         [ 1.5667, -0.4470, -0.2487],\n",
              "         [ 2.5866, -0.5030, -0.8694]],\n",
              "\n",
              "        [[ 0.5719,  0.5784,  0.0804],\n",
              "         [ 0.4905,  0.4057, -0.8036],\n",
              "         [ 1.5667, -0.4470, -0.2487],\n",
              "         [ 2.5866, -0.5030, -0.8694]],\n",
              "\n",
              "        [[ 0.5719,  0.5784,  0.0804],\n",
              "         [ 0.4905,  0.4057, -0.8036],\n",
              "         [ 1.5667, -0.4470, -0.2487],\n",
              "         [ 2.5866, -0.5030, -0.8694]],\n",
              "\n",
              "        [[ 0.5719,  0.5784,  0.0804],\n",
              "         [ 0.4905,  0.4057, -0.8036],\n",
              "         [ 1.5667, -0.4470, -0.2487],\n",
              "         [ 2.5866, -0.5030, -0.8694]],\n",
              "\n",
              "        [[ 0.5719,  0.5784,  0.0804],\n",
              "         [ 0.4905,  0.4057, -0.8036],\n",
              "         [ 1.5667, -0.4470, -0.2487],\n",
              "         [ 2.5866, -0.5030, -0.8694]],\n",
              "\n",
              "        [[ 0.5719,  0.5784,  0.0804],\n",
              "         [ 0.4905,  0.4057, -0.8036],\n",
              "         [ 1.5667, -0.4470, -0.2487],\n",
              "         [ 2.5866, -0.5030, -0.8694]],\n",
              "\n",
              "        [[ 0.5719,  0.5784,  0.0804],\n",
              "         [ 0.4905,  0.4057, -0.8036],\n",
              "         [ 1.5667, -0.4470, -0.2487],\n",
              "         [ 2.5866, -0.5030, -0.8694]]])"
            ]
          },
          "metadata": {},
          "execution_count": 16
        }
      ]
    },
    {
      "cell_type": "code",
      "source": [
        "tt = torch.cat([t, t[4, :, :]*7])\n",
        "tt.shape"
      ],
      "metadata": {
        "colab": {
          "base_uri": "https://localhost:8080/",
          "height": 182
        },
        "id": "hjHqc2FRNGAf",
        "outputId": "7ab1df22-377f-47c5-fb8a-db221ec12004"
      },
      "execution_count": null,
      "outputs": [
        {
          "output_type": "error",
          "ename": "RuntimeError",
          "evalue": "ignored",
          "traceback": [
            "\u001b[0;31m---------------------------------------------------------------------------\u001b[0m",
            "\u001b[0;31mRuntimeError\u001b[0m                              Traceback (most recent call last)",
            "\u001b[0;32m<ipython-input-2-4ade433e8585>\u001b[0m in \u001b[0;36m<module>\u001b[0;34m()\u001b[0m\n\u001b[0;32m----> 1\u001b[0;31m \u001b[0mtt\u001b[0m \u001b[0;34m=\u001b[0m \u001b[0mtorch\u001b[0m\u001b[0;34m.\u001b[0m\u001b[0mcat\u001b[0m\u001b[0;34m(\u001b[0m\u001b[0;34m[\u001b[0m\u001b[0mt\u001b[0m\u001b[0;34m,\u001b[0m \u001b[0mt\u001b[0m\u001b[0;34m[\u001b[0m\u001b[0;36m4\u001b[0m\u001b[0;34m,\u001b[0m \u001b[0;34m:\u001b[0m\u001b[0;34m,\u001b[0m \u001b[0;34m:\u001b[0m\u001b[0;34m]\u001b[0m\u001b[0;34m*\u001b[0m\u001b[0;36m7\u001b[0m\u001b[0;34m]\u001b[0m\u001b[0;34m)\u001b[0m\u001b[0;34m\u001b[0m\u001b[0;34m\u001b[0m\u001b[0m\n\u001b[0m\u001b[1;32m      2\u001b[0m \u001b[0mtt\u001b[0m\u001b[0;34m.\u001b[0m\u001b[0mshape\u001b[0m\u001b[0;34m\u001b[0m\u001b[0;34m\u001b[0m\u001b[0m\n",
            "\u001b[0;31mRuntimeError\u001b[0m: Tensors must have same number of dimensions: got 3 and 2"
          ]
        }
      ]
    },
    {
      "cell_type": "code",
      "source": [
        "lst = [1,2,3,4,5,6,7,8,9,10,11,12,13,14,15,16]\n",
        "print(len(lst))\n",
        "lst = lst[4:]\n",
        "print(len(lst))"
      ],
      "metadata": {
        "id": "BGMwqDlENnJJ",
        "colab": {
          "base_uri": "https://localhost:8080/"
        },
        "outputId": "62ed633a-ebbc-4e73-eafa-6d6ba11fb062"
      },
      "execution_count": null,
      "outputs": [
        {
          "output_type": "stream",
          "name": "stdout",
          "text": [
            "16\n",
            "12\n"
          ]
        }
      ]
    },
    {
      "cell_type": "code",
      "source": [
        "lst"
      ],
      "metadata": {
        "colab": {
          "base_uri": "https://localhost:8080/"
        },
        "id": "c5ttFWo7NVuB",
        "outputId": "a82bf4fd-0dcf-4226-8561-1acc006c44ec"
      },
      "execution_count": null,
      "outputs": [
        {
          "output_type": "execute_result",
          "data": {
            "text/plain": [
              "[5, 6, 7, 8, 9, 10, 11, 12, 13, 14, 15, 16]"
            ]
          },
          "metadata": {},
          "execution_count": 6
        }
      ]
    },
    {
      "cell_type": "code",
      "source": [
        ""
      ],
      "metadata": {
        "id": "whkEVzmCNXpn"
      },
      "execution_count": null,
      "outputs": []
    },
    {
      "cell_type": "markdown",
      "source": [
        "### i3d + joint slgcn"
      ],
      "metadata": {
        "id": "lpP2aVbr0dC1"
      }
    },
    {
      "cell_type": "code",
      "source": [
        "import shutil\n",
        "shutil.copy('/content/drive/MyDrive/SLT-2020/CNN_Dataset/I3D/Attempt-3/train_dataset.pkl.gz','/content/')\n",
        "shutil.copy('/content/drive/MyDrive/SLT-2020/CNN_Dataset/I3D/Attempt-3/valid_dataset.pkl.gz','/content/')"
      ],
      "metadata": {
        "colab": {
          "base_uri": "https://localhost:8080/",
          "height": 34
        },
        "id": "9i4ZE12h0hjW",
        "outputId": "28954813-2b27-430e-825a-af8ad340c449"
      },
      "execution_count": null,
      "outputs": [
        {
          "output_type": "execute_result",
          "data": {
            "application/vnd.google.colaboratory.intrinsic+json": {
              "type": "string"
            },
            "text/plain": [
              "'/content/valid_dataset.pkl.gz'"
            ]
          },
          "metadata": {},
          "execution_count": 4
        }
      ]
    },
    {
      "cell_type": "code",
      "source": [
        "import shutil\n",
        "shutil.copy('/content/drive/MyDrive/SLT-2020/Joint_Dataset/8_Finetuned/train_dataset.pkl.gz','/content/joint/')\n",
        "shutil.copy('/content/drive/MyDrive/SLT-2020/Joint_Dataset/8_Finetuned/valid_dataset.pkl.gz','/content/joint/')"
      ],
      "metadata": {
        "colab": {
          "base_uri": "https://localhost:8080/",
          "height": 34
        },
        "id": "b7dOfaPR0iQ2",
        "outputId": "790c9191-d8dc-4ba0-b17e-5c6f2852dca9"
      },
      "execution_count": null,
      "outputs": [
        {
          "output_type": "execute_result",
          "data": {
            "application/vnd.google.colaboratory.intrinsic+json": {
              "type": "string"
            },
            "text/plain": [
              "'/content/joint/valid_dataset.pkl.gz'"
            ]
          },
          "metadata": {},
          "execution_count": 5
        }
      ]
    },
    {
      "cell_type": "code",
      "source": [
        "i3d_train = load_dataset_file('/content/train_dataset.pkl.gz')\n",
        "print(type(i3d_train))\n",
        "i3d_valid = load_dataset_file('/content/valid_dataset.pkl.gz')\n",
        "print(type(i3d_valid))"
      ],
      "metadata": {
        "colab": {
          "base_uri": "https://localhost:8080/"
        },
        "id": "kldEconj0iOp",
        "outputId": "7b6cd265-eee8-428b-db04-5e1e4f6ebde1"
      },
      "execution_count": null,
      "outputs": [
        {
          "output_type": "stream",
          "name": "stdout",
          "text": [
            "<class 'list'>\n",
            "<class 'list'>\n"
          ]
        }
      ]
    },
    {
      "cell_type": "code",
      "source": [
        "joint_train = load_dataset_file('/content/joint/train_dataset.pkl.gz')\n",
        "print(type(joint_train))\n",
        "joint_valid = load_dataset_file('/content/joint/valid_dataset.pkl.gz')\n",
        "print(type(joint_valid))"
      ],
      "metadata": {
        "colab": {
          "base_uri": "https://localhost:8080/"
        },
        "id": "9ZMFTqht0iLq",
        "outputId": "54b76052-3347-414a-a1d3-16e5eb0a0072"
      },
      "execution_count": null,
      "outputs": [
        {
          "output_type": "stream",
          "name": "stdout",
          "text": [
            "<class 'list'>\n",
            "<class 'list'>\n"
          ]
        }
      ]
    },
    {
      "cell_type": "code",
      "source": [
        "i3d_train[0]"
      ],
      "metadata": {
        "colab": {
          "base_uri": "https://localhost:8080/"
        },
        "id": "dsVSrAfg0iJR",
        "outputId": "4b2d8a00-b3aa-4c3e-8883-630d7f57e61c"
      },
      "execution_count": null,
      "outputs": [
        {
          "output_type": "execute_result",
          "data": {
            "text/plain": [
              "{'gloss': 'JETZT WETTER MORGEN DONNERSTAG ZWOELF FEBRUAR',\n",
              " 'name': 'train/11August_2010_Wednesday_tagesschau-1',\n",
              " 'sign': tensor([[0.0000, 0.0000, 0.0000,  ..., 0.0000, 0.0455, 0.0000],\n",
              "         [0.0000, 0.0000, 0.0000,  ..., 0.0000, 0.0215, 0.0000],\n",
              "         [0.0656, 0.0765, 0.0241,  ..., 0.0000, 0.1074, 0.0000],\n",
              "         ...,\n",
              "         [0.0000, 0.0145, 0.0000,  ..., 0.0000, 0.0449, 0.0000],\n",
              "         [0.2525, 0.0000, 0.0007,  ..., 0.0000, 0.0078, 0.0000],\n",
              "         [0.0000, 0.0000, 0.0000,  ..., 0.0000, 0.0605, 0.0000]]),\n",
              " 'signer': 'Signer08',\n",
              " 'text': 'und nun die wettervorhersage für morgen donnerstag den zwölften august .'}"
            ]
          },
          "metadata": {},
          "execution_count": 8
        }
      ]
    },
    {
      "cell_type": "code",
      "source": [
        "i3d_train[0]['sign'].shape"
      ],
      "metadata": {
        "colab": {
          "base_uri": "https://localhost:8080/"
        },
        "id": "U0zaKp690iG-",
        "outputId": "a7d9209e-8614-4753-dada-0052ce678970"
      },
      "execution_count": null,
      "outputs": [
        {
          "output_type": "execute_result",
          "data": {
            "text/plain": [
              "torch.Size([11, 1024])"
            ]
          },
          "metadata": {},
          "execution_count": 10
        }
      ]
    },
    {
      "cell_type": "code",
      "source": [
        "joint_train[0]"
      ],
      "metadata": {
        "colab": {
          "base_uri": "https://localhost:8080/"
        },
        "id": "l3ic-rsH0iDu",
        "outputId": "8156ff88-8e2e-48a3-8677-df3eada019f3"
      },
      "execution_count": null,
      "outputs": [
        {
          "output_type": "execute_result",
          "data": {
            "text/plain": [
              "{'gloss': 'JETZT WETTER MORGEN DONNERSTAG ZWOELF FEBRUAR',\n",
              " 'name': 'train/11August_2010_Wednesday_tagesschau-1',\n",
              " 'sign': tensor([[2.3709e-01, 6.1418e-01, 4.9700e-01,  ..., 0.0000e+00, 0.0000e+00,\n",
              "          0.0000e+00],\n",
              "         [0.0000e+00, 0.0000e+00, 0.0000e+00,  ..., 3.0196e-01, 1.1470e+00,\n",
              "          9.3762e-01],\n",
              "         [2.7983e-03, 0.0000e+00, 1.0097e-02,  ..., 1.4955e-01, 1.0444e-01,\n",
              "          2.7775e-01],\n",
              "         ...,\n",
              "         [0.0000e+00, 0.0000e+00, 8.4339e-03,  ..., 1.1277e-01, 1.6648e-01,\n",
              "          9.8992e-02],\n",
              "         [0.0000e+00, 0.0000e+00, 3.7642e-04,  ..., 1.6213e-01, 4.3711e-02,\n",
              "          0.0000e+00],\n",
              "         [0.0000e+00, 0.0000e+00, 0.0000e+00,  ..., 5.2813e-01, 1.4803e+00,\n",
              "          5.3173e-01]]),\n",
              " 'signer': 'Signer08',\n",
              " 'text': 'und nun die wettervorhersage für morgen donnerstag den zwölften august .'}"
            ]
          },
          "metadata": {},
          "execution_count": 11
        }
      ]
    },
    {
      "cell_type": "code",
      "source": [
        "joint_train[0]['sign'].shape"
      ],
      "metadata": {
        "colab": {
          "base_uri": "https://localhost:8080/"
        },
        "id": "LY3ft_qh0iAa",
        "outputId": "686a136b-eee5-4bcf-978e-bda119871400"
      },
      "execution_count": null,
      "outputs": [
        {
          "output_type": "execute_result",
          "data": {
            "text/plain": [
              "torch.Size([11, 1152])"
            ]
          },
          "metadata": {},
          "execution_count": 12
        }
      ]
    },
    {
      "cell_type": "code",
      "source": [
        "len(i3d_train)"
      ],
      "metadata": {
        "colab": {
          "base_uri": "https://localhost:8080/"
        },
        "id": "SUtwSQTl0h-D",
        "outputId": "ac474712-4d37-42a4-9ed4-a864a798d437"
      },
      "execution_count": null,
      "outputs": [
        {
          "output_type": "execute_result",
          "data": {
            "text/plain": [
              "7096"
            ]
          },
          "metadata": {},
          "execution_count": 13
        }
      ]
    },
    {
      "cell_type": "code",
      "source": [
        "new_train = i3d_train\n",
        "new_valid = i3d_valid"
      ],
      "metadata": {
        "id": "UqWxtPlI2XC6"
      },
      "execution_count": null,
      "outputs": []
    },
    {
      "cell_type": "code",
      "source": [
        "import torch\n",
        "for i in range(len(i3d_train)):\n",
        "  new_tensor = torch.cat([i3d_train[i]['sign'], joint_train[i]['sign']], axis = 1)\n",
        "  new_train[i]['sign'] = new_tensor\n",
        "\n",
        "for i in range(len(i3d_valid)):\n",
        "  new_tensor = torch.cat([i3d_valid[i]['sign'], joint_valid[i]['sign']], axis = 1)\n",
        "  new_valid[i]['sign'] = new_tensor"
      ],
      "metadata": {
        "id": "QH_q4tsi0h4D"
      },
      "execution_count": null,
      "outputs": []
    },
    {
      "cell_type": "code",
      "source": [
        "new_train[0]['sign'].shape"
      ],
      "metadata": {
        "colab": {
          "base_uri": "https://localhost:8080/"
        },
        "id": "JqQxBBLB0h13",
        "outputId": "a681b902-3beb-43ad-cd8f-1a087a74300b"
      },
      "execution_count": null,
      "outputs": [
        {
          "output_type": "execute_result",
          "data": {
            "text/plain": [
              "torch.Size([11, 2176])"
            ]
          },
          "metadata": {},
          "execution_count": 19
        }
      ]
    },
    {
      "cell_type": "code",
      "source": [
        "new_valid[0]['sign'].shape"
      ],
      "metadata": {
        "colab": {
          "base_uri": "https://localhost:8080/"
        },
        "id": "oNYLk4y10hsE",
        "outputId": "067af037-a8f2-4f7e-b42b-e07adaef555c"
      },
      "execution_count": null,
      "outputs": [
        {
          "output_type": "execute_result",
          "data": {
            "text/plain": [
              "torch.Size([6, 2176])"
            ]
          },
          "metadata": {},
          "execution_count": 20
        }
      ]
    },
    {
      "cell_type": "code",
      "source": [
        "print(len(new_train))\n",
        "print(len(new_valid))"
      ],
      "metadata": {
        "colab": {
          "base_uri": "https://localhost:8080/"
        },
        "id": "WHr19r4n3_ho",
        "outputId": "fb1a5aaa-543e-4fd6-83ec-4e2cb0c93586"
      },
      "execution_count": null,
      "outputs": [
        {
          "output_type": "stream",
          "name": "stdout",
          "text": [
            "7096\n",
            "519\n"
          ]
        }
      ]
    },
    {
      "cell_type": "code",
      "source": [
        "with open('/content/new/valid_dataset.pkl', 'wb') as f:\n",
        "  pickle.dump(new_valid, f)\n",
        "with open('/content/new/train_dataset.pkl', 'wb') as f:\n",
        "  pickle.dump(new_train, f)"
      ],
      "metadata": {
        "id": "9xYqR0Ay0hpx"
      },
      "execution_count": null,
      "outputs": []
    },
    {
      "cell_type": "code",
      "source": [
        "!gzip -k /content/new/valid_dataset.pkl\n",
        "!gzip -k /content/new/train_dataset.pkl"
      ],
      "metadata": {
        "id": "XywH1sAU4PgA"
      },
      "execution_count": null,
      "outputs": []
    },
    {
      "cell_type": "code",
      "source": [
        "shutil.copy('/content/new/train_dataset.pkl.gz','/content/drive/MyDrive/SLT-2020/CNN_Dataset/Combined/')\n",
        "shutil.copy('/content/new/valid_dataset.pkl.gz','/content/drive/MyDrive/SLT-2020/CNN_Dataset/Combined/')"
      ],
      "metadata": {
        "colab": {
          "base_uri": "https://localhost:8080/",
          "height": 34
        },
        "id": "o9T0EBBj4VUp",
        "outputId": "d0c0e7e8-bf32-46d5-ccad-3240e63095d3"
      },
      "execution_count": null,
      "outputs": [
        {
          "output_type": "execute_result",
          "data": {
            "application/vnd.google.colaboratory.intrinsic+json": {
              "type": "string"
            },
            "text/plain": [
              "'/content/drive/MyDrive/SLT-2020/CNN_Dataset/Combined/valid_dataset.pkl.gz'"
            ]
          },
          "metadata": {},
          "execution_count": 24
        }
      ]
    },
    {
      "cell_type": "code",
      "source": [
        ""
      ],
      "metadata": {
        "id": "sW5GhQSU417m"
      },
      "execution_count": null,
      "outputs": []
    },
    {
      "cell_type": "markdown",
      "source": [
        "### Augmentation in 8 only joint finetuned dataset"
      ],
      "metadata": {
        "id": "2YbL9JCIow9f"
      }
    },
    {
      "cell_type": "code",
      "source": [
        "import shutil\n",
        "shutil.copy('/content/drive/MyDrive/SLT-2020/Joint_Dataset/8_Finetuned/OnlyJointDataset/Attempt-2/train_dataset.pkl.gz','/content/')\n",
        "#shutil.copy('/content/drive/MyDrive/SLT-2020/Joint_Dataset/8_Finetuned/OnlyJointDataset/Attempt-2/valid_dataset.pkl.gz','/content/')"
      ],
      "metadata": {
        "colab": {
          "base_uri": "https://localhost:8080/",
          "height": 34
        },
        "id": "hq2vyURioxZn",
        "outputId": "ae0a4e71-c2ab-422e-e7c0-9dac961e66f6"
      },
      "execution_count": null,
      "outputs": [
        {
          "output_type": "execute_result",
          "data": {
            "application/vnd.google.colaboratory.intrinsic+json": {
              "type": "string"
            },
            "text/plain": [
              "'/content/train_dataset.pkl.gz'"
            ]
          },
          "metadata": {},
          "execution_count": 125
        }
      ]
    },
    {
      "cell_type": "code",
      "source": [
        "#ori_valid_set = load_dataset_file(\"/content/valid_dataset.pkl.gz\")\n",
        "ori_train_set = load_dataset_file('/content/train_dataset.pkl.gz')\n",
        "type(ori_train_set)"
      ],
      "metadata": {
        "colab": {
          "base_uri": "https://localhost:8080/"
        },
        "id": "Ms4jyFtxoyA-",
        "outputId": "a57150d5-a1a2-41ed-9908-ac845caa0417"
      },
      "execution_count": null,
      "outputs": [
        {
          "output_type": "execute_result",
          "data": {
            "text/plain": [
              "list"
            ]
          },
          "metadata": {},
          "execution_count": 126
        }
      ]
    },
    {
      "cell_type": "code",
      "source": [
        "#new_valid_set = ori_valid_set.copy()\n",
        "new_train_set = ori_train_set.copy()"
      ],
      "metadata": {
        "id": "kGLZF2z3ox-1"
      },
      "execution_count": null,
      "outputs": []
    },
    {
      "cell_type": "code",
      "source": [
        "print(len(new_train_set))\n",
        "#print(len(new_valid_set))"
      ],
      "metadata": {
        "colab": {
          "base_uri": "https://localhost:8080/"
        },
        "id": "vRp8e3lLmrWJ",
        "outputId": "d788bba6-cd63-433d-fa74-5e1e4d0c1065"
      },
      "execution_count": null,
      "outputs": [
        {
          "output_type": "stream",
          "name": "stdout",
          "text": [
            "7096\n"
          ]
        }
      ]
    },
    {
      "cell_type": "code",
      "source": [
        "new_train_set[0]"
      ],
      "metadata": {
        "colab": {
          "base_uri": "https://localhost:8080/"
        },
        "id": "9Xtkwzs_ox3P",
        "outputId": "44d47d60-4af8-4e93-9bdf-67eee6f1b947"
      },
      "execution_count": null,
      "outputs": [
        {
          "output_type": "execute_result",
          "data": {
            "text/plain": [
              "{'gloss': 'JETZT WETTER MORGEN DONNERSTAG ZWOELF FEBRUAR',\n",
              " 'name': 'train/11August_2010_Wednesday_tagesschau-1',\n",
              " 'sign': tensor([[ 99.0894,  56.3203, 137.5529,  ..., 153.3950,  53.2995, 155.2265],\n",
              "         [104.5842,  61.8151, 137.5529,  ..., 114.9314,  34.9835, 100.2787],\n",
              "         [104.5842,  65.4783, 137.5529,  ..., 144.2370,  55.1311, 146.0686],\n",
              "         ...,\n",
              "         [102.7526,  69.1415, 133.8898,  ..., 255.9644,  58.7943, 257.7960],\n",
              "         [ 97.2578,  70.9731, 133.8898,  ..., 255.9644,  58.7943, 257.7960],\n",
              "         [ 97.2578,  74.6363, 133.8898,  ..., 255.9644,  58.7943, 257.7960]]),\n",
              " 'signer': 'Signer08',\n",
              " 'text': 'und nun die wettervorhersage für morgen donnerstag den zwölften august .'}"
            ]
          },
          "metadata": {},
          "execution_count": 129
        }
      ]
    },
    {
      "cell_type": "code",
      "source": [
        "ori_train_set[0]"
      ],
      "metadata": {
        "colab": {
          "base_uri": "https://localhost:8080/"
        },
        "id": "1wrNtz6VmzSo",
        "outputId": "11ad356b-e8b2-4960-c727-6f03d8440379"
      },
      "execution_count": null,
      "outputs": [
        {
          "output_type": "execute_result",
          "data": {
            "text/plain": [
              "{'gloss': 'JETZT WETTER MORGEN DONNERSTAG ZWOELF FEBRUAR',\n",
              " 'name': 'train/11August_2010_Wednesday_tagesschau-1',\n",
              " 'sign': tensor([[ 99.0894,  56.3203, 137.5529,  ..., 153.3950,  53.2995, 155.2265],\n",
              "         [104.5842,  61.8151, 137.5529,  ..., 114.9314,  34.9835, 100.2787],\n",
              "         [104.5842,  65.4783, 137.5529,  ..., 144.2370,  55.1311, 146.0686],\n",
              "         ...,\n",
              "         [102.7526,  69.1415, 133.8898,  ..., 255.9644,  58.7943, 257.7960],\n",
              "         [ 97.2578,  70.9731, 133.8898,  ..., 255.9644,  58.7943, 257.7960],\n",
              "         [ 97.2578,  74.6363, 133.8898,  ..., 255.9644,  58.7943, 257.7960]]),\n",
              " 'signer': 'Signer08',\n",
              " 'text': 'und nun die wettervorhersage für morgen donnerstag den zwölften august .'}"
            ]
          },
          "metadata": {},
          "execution_count": 130
        }
      ]
    },
    {
      "cell_type": "code",
      "source": [
        "for idx in range(len(ori_train_set)):\n",
        "  sign_tensor = ori_train_set[idx]['sign']\n",
        "  # add 1 to every value\n",
        "  aug_one = sign_tensor + 1.0\n",
        "  # subtract 1 from every value\n",
        "  aug_two = sign_tensor - 1.0\n",
        "  # add 2 to every value\n",
        "  aug_three = sign_tensor + 2.0\n",
        "  # subtract 2 from every value\n",
        "  aug_four = sign_tensor - 2.0\n",
        " \n",
        "  name = ori_train_set[idx]['name']\n",
        "  \n",
        "  aug_sample_1 =  ori_train_set[idx].copy()\n",
        "  aug_sample_1['name'] = name + '-1'\n",
        "  aug_sample_1['sign'] = aug_one\n",
        "\n",
        "  aug_sample_2 =  ori_train_set[idx].copy()\n",
        "  aug_sample_2['name'] = name + '-2'\n",
        "  aug_sample_2['sign'] = aug_two\n",
        "\n",
        "  aug_sample_3 =  ori_train_set[idx].copy()\n",
        "  aug_sample_3['name'] = name + '-3'\n",
        "  aug_sample_3['sign'] = aug_three\n",
        "\n",
        "  aug_sample_4 =  ori_train_set[idx].copy()\n",
        "  aug_sample_4['name'] = name + '-4'\n",
        "  aug_sample_4['sign'] = aug_four\n",
        "\n",
        "  new_train_set.append(aug_sample_1)\n",
        "  new_train_set.append(aug_sample_2)\n",
        "  new_train_set.append(aug_sample_3)\n",
        "  new_train_set.append(aug_sample_4)\n",
        "\n",
        "  if idx % 1000 == 0:\n",
        "    print(\"count: {}\".format(idx))"
      ],
      "metadata": {
        "id": "HuZEmXbGox08",
        "colab": {
          "base_uri": "https://localhost:8080/"
        },
        "outputId": "c8b5a150-323f-409f-e364-7262a5df227a"
      },
      "execution_count": null,
      "outputs": [
        {
          "output_type": "stream",
          "name": "stdout",
          "text": [
            "count: 0\n",
            "count: 1000\n",
            "count: 2000\n",
            "count: 3000\n",
            "count: 4000\n",
            "count: 5000\n",
            "count: 6000\n",
            "count: 7000\n"
          ]
        }
      ]
    },
    {
      "cell_type": "code",
      "source": [
        "print(len(new_train_set))\n",
        "#print(len(new_valid_set))"
      ],
      "metadata": {
        "colab": {
          "base_uri": "https://localhost:8080/"
        },
        "id": "zyXsDcwAqdiR",
        "outputId": "feb699ae-7b7f-40d0-a93c-8274609e9ec5"
      },
      "execution_count": null,
      "outputs": [
        {
          "output_type": "stream",
          "name": "stdout",
          "text": [
            "35480\n"
          ]
        }
      ]
    },
    {
      "cell_type": "code",
      "source": [
        "print(len(ori_train_set))\n",
        "#print(len(ori_valid_set))"
      ],
      "metadata": {
        "colab": {
          "base_uri": "https://localhost:8080/"
        },
        "id": "CZgJt5HjmHy6",
        "outputId": "1745485a-6389-46d6-abe9-04717e00cb28"
      },
      "execution_count": null,
      "outputs": [
        {
          "output_type": "stream",
          "name": "stdout",
          "text": [
            "7096\n"
          ]
        }
      ]
    },
    {
      "cell_type": "code",
      "source": [
        "new_train_set[0]"
      ],
      "metadata": {
        "colab": {
          "base_uri": "https://localhost:8080/"
        },
        "id": "h59olmevhfzg",
        "outputId": "b5040bce-48db-4c37-8064-eb53226b4e09"
      },
      "execution_count": null,
      "outputs": [
        {
          "output_type": "execute_result",
          "data": {
            "text/plain": [
              "{'gloss': 'JETZT WETTER MORGEN DONNERSTAG ZWOELF FEBRUAR',\n",
              " 'name': 'train/11August_2010_Wednesday_tagesschau-1',\n",
              " 'sign': tensor([[ 99.0894,  56.3203, 137.5529,  ..., 153.3950,  53.2995, 155.2265],\n",
              "         [104.5842,  61.8151, 137.5529,  ..., 114.9314,  34.9835, 100.2787],\n",
              "         [104.5842,  65.4783, 137.5529,  ..., 144.2370,  55.1311, 146.0686],\n",
              "         ...,\n",
              "         [102.7526,  69.1415, 133.8898,  ..., 255.9644,  58.7943, 257.7960],\n",
              "         [ 97.2578,  70.9731, 133.8898,  ..., 255.9644,  58.7943, 257.7960],\n",
              "         [ 97.2578,  74.6363, 133.8898,  ..., 255.9644,  58.7943, 257.7960]]),\n",
              " 'signer': 'Signer08',\n",
              " 'text': 'und nun die wettervorhersage für morgen donnerstag den zwölften august .'}"
            ]
          },
          "metadata": {},
          "execution_count": 134
        }
      ]
    },
    {
      "cell_type": "code",
      "source": [
        "new_train_set[7096]"
      ],
      "metadata": {
        "colab": {
          "base_uri": "https://localhost:8080/"
        },
        "id": "scPw_rxGfgGx",
        "outputId": "8b241492-04f6-485a-f22a-78be549b32a4"
      },
      "execution_count": null,
      "outputs": [
        {
          "output_type": "execute_result",
          "data": {
            "text/plain": [
              "{'gloss': 'JETZT WETTER MORGEN DONNERSTAG ZWOELF FEBRUAR',\n",
              " 'name': 'train/11August_2010_Wednesday_tagesschau-1-1',\n",
              " 'sign': tensor([[100.0894,  57.3203, 138.5529,  ..., 154.3950,  54.2995, 156.2265],\n",
              "         [105.5842,  62.8151, 138.5529,  ..., 115.9314,  35.9835, 101.2787],\n",
              "         [105.5842,  66.4783, 138.5529,  ..., 145.2370,  56.1311, 147.0686],\n",
              "         ...,\n",
              "         [103.7526,  70.1415, 134.8898,  ..., 256.9644,  59.7943, 258.7960],\n",
              "         [ 98.2578,  71.9731, 134.8898,  ..., 256.9644,  59.7943, 258.7960],\n",
              "         [ 98.2578,  75.6363, 134.8898,  ..., 256.9644,  59.7943, 258.7960]]),\n",
              " 'signer': 'Signer08',\n",
              " 'text': 'und nun die wettervorhersage für morgen donnerstag den zwölften august .'}"
            ]
          },
          "metadata": {},
          "execution_count": 135
        }
      ]
    },
    {
      "cell_type": "code",
      "source": [
        "new_train_set[7100]"
      ],
      "metadata": {
        "colab": {
          "base_uri": "https://localhost:8080/"
        },
        "id": "qUIKON-3hNBN",
        "outputId": "b4e72166-8f9b-40a6-db63-80295127cf00"
      },
      "execution_count": null,
      "outputs": [
        {
          "output_type": "execute_result",
          "data": {
            "text/plain": [
              "{'gloss': 'ORT REGEN DURCH REGEN KOENNEN UEBERSCHWEMMUNG KOENNEN',\n",
              " 'name': 'train/11August_2010_Wednesday_tagesschau-4-1',\n",
              " 'sign': tensor([[101.9210,  68.3099, 134.8898,  ..., 200.1849,  70.7839, 209.3429],\n",
              "         [107.4158,  71.9731, 136.7213,  ..., 161.7214,  17.6675, 159.8898],\n",
              "         [103.7526,  77.4679, 138.5529,  ..., 147.0686,  65.2891, 136.0790],\n",
              "         ...,\n",
              "         [122.0686,  66.4783, 136.7213,  ..., 152.5634,  61.6259, 163.5530],\n",
              "         [118.4054,  71.9731, 136.7213,  ..., 234.9852,  57.9627, 234.9852],\n",
              "         [112.9106,  75.6363, 140.3845,  ..., 255.1328,  30.4887, 256.9644]]),\n",
              " 'signer': 'Signer08',\n",
              " 'text': 'mancherorts regnet es auch länger und ergiebig auch lokale überschwemmungen sind wieder möglich .'}"
            ]
          },
          "metadata": {},
          "execution_count": 136
        }
      ]
    },
    {
      "cell_type": "code",
      "source": [
        "new_train_set[7100]['sign'].shape"
      ],
      "metadata": {
        "colab": {
          "base_uri": "https://localhost:8080/"
        },
        "id": "75QopHbGhM-o",
        "outputId": "1435c489-680a-4fad-d000-a508d179cf9c"
      },
      "execution_count": null,
      "outputs": [
        {
          "output_type": "execute_result",
          "data": {
            "text/plain": [
              "torch.Size([16, 432])"
            ]
          },
          "metadata": {},
          "execution_count": 140
        }
      ]
    },
    {
      "cell_type": "code",
      "source": [
        ""
      ],
      "metadata": {
        "id": "3heceI3vhM5y"
      },
      "execution_count": null,
      "outputs": []
    },
    {
      "cell_type": "code",
      "source": [
        "with open('/content/train_dataset.pkl', 'wb') as f:\n",
        "  pickle.dump(new_train_set, f)"
      ],
      "metadata": {
        "id": "JMtdAn0Hs0oP"
      },
      "execution_count": null,
      "outputs": []
    },
    {
      "cell_type": "code",
      "source": [
        "!gzip -k /content/train_dataset.pkl"
      ],
      "metadata": {
        "id": "IpJJGEbQs0l8"
      },
      "execution_count": null,
      "outputs": []
    },
    {
      "cell_type": "code",
      "source": [
        "import shutil\n",
        "shutil.copy('/content/train_dataset.pkl.gz','/content/drive/MyDrive/SLT-2020/Joint_Dataset/8_Finetuned/OnlyJointDataset/Attempt-3/')\n",
        "#shutil.copy('/content/valid_dataset.pkl.gz','/content/drive/MyDrive/SLT-2020/Joint_Dataset/8_Finetuned/OnlyJointDataset/Attempt-3/')"
      ],
      "metadata": {
        "colab": {
          "base_uri": "https://localhost:8080/",
          "height": 34
        },
        "id": "CzMF3WXRqdf_",
        "outputId": "2d837c9f-e2bf-4de9-eb53-058794dc3c1b"
      },
      "execution_count": null,
      "outputs": [
        {
          "output_type": "execute_result",
          "data": {
            "application/vnd.google.colaboratory.intrinsic+json": {
              "type": "string"
            },
            "text/plain": [
              "'/content/drive/MyDrive/SLT-2020/Joint_Dataset/8_Finetuned/OnlyJointDataset/Attempt-3/train_dataset.pkl.gz'"
            ]
          },
          "metadata": {},
          "execution_count": 139
        }
      ]
    },
    {
      "cell_type": "code",
      "source": [
        ""
      ],
      "metadata": {
        "id": "-iLIS6whqdOa"
      },
      "execution_count": null,
      "outputs": []
    },
    {
      "cell_type": "code",
      "source": [
        ""
      ],
      "metadata": {
        "id": "yGbFAtevqc1e"
      },
      "execution_count": null,
      "outputs": []
    },
    {
      "cell_type": "markdown",
      "source": [
        "# Normalization of HRNet"
      ],
      "metadata": {
        "id": "APUBGqTEnPlU"
      }
    },
    {
      "cell_type": "code",
      "source": [
        "from google.colab import drive\n",
        "drive.mount('/content/drive')"
      ],
      "metadata": {
        "colab": {
          "base_uri": "https://localhost:8080/"
        },
        "id": "oMQxdpqGlwC_",
        "outputId": "78518071-d7c1-4d8c-cb32-4019d58b21a2"
      },
      "execution_count": null,
      "outputs": [
        {
          "output_type": "stream",
          "name": "stdout",
          "text": [
            "Mounted at /content/drive\n"
          ]
        }
      ]
    },
    {
      "cell_type": "code",
      "source": [
        "import shutil\n",
        "import os\n",
        "import numpy as np\n",
        "import torch\n",
        "from pathlib import Path"
      ],
      "metadata": {
        "id": "XYaJB_6GnTix"
      },
      "execution_count": null,
      "outputs": []
    },
    {
      "cell_type": "code",
      "source": [
        "shutil.unpack_archive('/content/drive/MyDrive/SLT-2020/Joint_Dataset/HRNet-133/train.zip','/content/')\n",
        "shutil.unpack_archive('/content/drive/MyDrive/SLT-2020/Joint_Dataset/HRNet-133/valid.zip','/content/')"
      ],
      "metadata": {
        "id": "lG2Ck7FwnT-e"
      },
      "execution_count": null,
      "outputs": []
    },
    {
      "cell_type": "markdown",
      "source": [
        "In 27 node skeleton: (0-th index)\n",
        "\n",
        "nose - 0\n",
        "\n",
        "**shoulders - 1(l) 2(r)**\n",
        "\n",
        "elbows - 3(l) 4(r)\n",
        "\n",
        "**wrist - 5(l) 6(r)**\n",
        "\n",
        "***when we normalize based on arm, center point is wrist and reference point is shoulder.***\n",
        "\n",
        "***we normalize all hand keypoints and elbow based on arm.***\n",
        "\n",
        "$(x',y') = (\\frac{x-c_x}{d},\\frac{y-c_y}{d})$\n",
        "\n",
        "$d = \\sqrt{(c_x-r_x)^2 + (c_y-r_y)^2}$ \n",
        "\n",
        "$(x, y)$ is the position of the point before normalization,\n",
        "$(c_x, c_y)$ is the center point for calculating the relative position,\n",
        "and the reference distance $d$ is the euclidean distance between\n",
        "$(c_x, c_y)$ and reference point $(r_x, r_y).$\n"
      ],
      "metadata": {
        "id": "1NrT4FS3oC14"
      }
    },
    {
      "cell_type": "code",
      "source": [
        "import math\n",
        "import os\n",
        "\n",
        "source = '/content/train/'\n",
        "dest = '/content/norm_train/'\n",
        "print(\"Number of Input Samples: {}\".format(len(os.listdir(source))))\n",
        "\n",
        "# check if destination exists, create otherwise\n",
        "path = Path(dest)\n",
        "if not path.exists():\n",
        "  os.makedirs(path)\n",
        "\n",
        "count = 0\n",
        "for sample in sorted(os.listdir(source)):\n",
        "  whole = np.load(source + sample)\n",
        "  selected = np.concatenate(([0,5,6,7,8,9,10], \n",
        "                    [91,95,96,99,100,103,104,107,108,111],[112,116,117,120,121,124,125,128,129,132]), axis=0) #27\n",
        "\n",
        "  #print('sample:{}'.format(sample))\n",
        "  #print('whole shape:{}'.format(whole.shape))\n",
        "  select = whole[:,selected,:]\n",
        "  skel = np.copy(select)\n",
        "  #print('skel shape:{}'.format(skel.shape))\n",
        "\n",
        "  delta = 1e-9\n",
        "  # iterate through each frame\n",
        "  for idx in range(skel.shape[0]):\n",
        "    # iterate through each keypoint\n",
        "    for p in range(skel[idx].shape[0]):\n",
        "      x, y = select[idx][p][0].item(), select[idx][p][1].item()\n",
        "\n",
        "      if (p == 0 or p == 2 or p == 4 or p == 6) or (p >= 17 and p <= 26):\n",
        "        # right side (0,2,4,6) and (17-26)\n",
        "        cx, cy = select[idx][6][0].item(), select[idx][6][1].item()\n",
        "        rx, ry = select[idx][2][0].item(), select[idx][2][1].item()\n",
        "        d = math.sqrt((cx-rx)**2 + (cy-ry)**2)\n",
        "      else:\n",
        "        # left side (1,3,5) and (7-16)\n",
        "        cx, cy = select[idx][6][0].item(), select[idx][6][1].item()\n",
        "        rx, ry = select[idx][2][0].item(), select[idx][2][1].item()\n",
        "        d = math.sqrt((cx-rx)**2 + (cy-ry)**2)\n",
        "\n",
        "      nx, ny = (x-cx)/(d+delta) , (y-cy)/(d+delta) \n",
        "      skel[idx][p][0], skel[idx][p][1] = nx, ny \n",
        "\n",
        "\n",
        "  tensor = torch.from_numpy(skel)\n",
        "  #tensor = tensor[:,:,:2]\n",
        "  #tensor = torch.flatten(tensor, start_dim = 1)\n",
        "  torch.save(tensor, dest + sample[:-4] + '.pt', _use_new_zipfile_serialization = False)\n",
        "  count += 1\n",
        "  if count % 1000 == 0:\n",
        "    print('{} done!'.format(count))\n",
        "print(\"Number of Output Samples: {}\".format(len(os.listdir(dest))))"
      ],
      "metadata": {
        "colab": {
          "base_uri": "https://localhost:8080/"
        },
        "id": "CkYQAn9YzgyG",
        "outputId": "841c2baa-77f1-4a16-bb28-b0560d543172"
      },
      "execution_count": null,
      "outputs": [
        {
          "output_type": "stream",
          "name": "stdout",
          "text": [
            "Number of Input Samples: 7096\n",
            "1000 done!\n",
            "2000 done!\n",
            "3000 done!\n",
            "4000 done!\n",
            "5000 done!\n",
            "6000 done!\n",
            "7000 done!\n",
            "Number of Output Samples: 7096\n"
          ]
        }
      ]
    },
    {
      "cell_type": "code",
      "source": [
        "import math\n",
        "import os\n",
        "\n",
        "source = '/content/dev/'\n",
        "dest = '/content/norm_valid/'\n",
        "print(\"Number of Input Samples: {}\".format(len(os.listdir(source))))\n",
        "\n",
        "# check if destination exists, create otherwise\n",
        "path = Path(dest)\n",
        "if not path.exists():\n",
        "  os.makedirs(path)\n",
        "\n",
        "count = 0\n",
        "for sample in sorted(os.listdir(source)):\n",
        "  whole = np.load(source + sample)\n",
        "  selected = np.concatenate(([0,5,6,7,8,9,10], \n",
        "                    [91,95,96,99,100,103,104,107,108,111],[112,116,117,120,121,124,125,128,129,132]), axis=0) #27\n",
        "\n",
        "  #print('sample:{}'.format(sample))\n",
        "  #print('whole shape:{}'.format(whole.shape))\n",
        "  select = whole[:,selected,:]\n",
        "  skel = np.copy(select)\n",
        "  #print('skel shape:{}'.format(skel.shape))\n",
        "  \n",
        "  delta = 1e-9\n",
        "  # iterate through each frame\n",
        "  for idx in range(skel.shape[0]):\n",
        "    # iterate through each keypoint\n",
        "    for p in range(skel[idx].shape[0]):\n",
        "      x, y = select[idx][p][0].item(), select[idx][p][1].item()\n",
        "\n",
        "      if (p == 0 or p == 2 or p == 4 or p == 6) or (p >= 17 and p <= 26):\n",
        "        # right side (0,2,4,6) and (17-26)\n",
        "        cx, cy = select[idx][6][0].item(), select[idx][6][1].item()\n",
        "        rx, ry = select[idx][2][0].item(), select[idx][2][1].item()\n",
        "        d = math.sqrt((cx-rx)**2 + (cy-ry)**2)\n",
        "      else:\n",
        "        # left side (1,3,5) and (7-16)\n",
        "        cx, cy = select[idx][6][0].item(), select[idx][6][1].item()\n",
        "        rx, ry = select[idx][2][0].item(), select[idx][2][1].item()\n",
        "        d = math.sqrt((cx-rx)**2 + (cy-ry)**2)\n",
        "\n",
        "      nx, ny = (x-cx)/(d+delta) , (y-cy)/(d+delta) \n",
        "      skel[idx][p][0], skel[idx][p][1] = nx, ny \n",
        "  \n",
        "\n",
        "  tensor = torch.from_numpy(skel)\n",
        "  #tensor = tensor[:,:,:2]\n",
        "  #tensor = torch.flatten(tensor, start_dim = 1)\n",
        "  torch.save(tensor, dest + sample[:-4] + '.pt', _use_new_zipfile_serialization = False)\n",
        "  count += 1\n",
        "  if count % 100 == 0:\n",
        "    print('{} done!'.format(count))\n",
        "print(\"Number of Output Samples: {}\".format(len(os.listdir(dest))))"
      ],
      "metadata": {
        "colab": {
          "base_uri": "https://localhost:8080/"
        },
        "id": "nUgJDuT1qtYK",
        "outputId": "9ae434c1-072b-4ce5-dd25-895cf545b5a5"
      },
      "execution_count": null,
      "outputs": [
        {
          "output_type": "stream",
          "name": "stdout",
          "text": [
            "Number of Input Samples: 519\n",
            "100 done!\n",
            "200 done!\n",
            "300 done!\n",
            "400 done!\n",
            "500 done!\n",
            "Number of Output Samples: 519\n"
          ]
        }
      ]
    },
    {
      "cell_type": "code",
      "source": [
        "%cd /content/norm_train/\n",
        "!zip -r -q norm_train.zip ./*"
      ],
      "metadata": {
        "colab": {
          "base_uri": "https://localhost:8080/"
        },
        "id": "d6woifvxrAvW",
        "outputId": "9990e84e-c4e7-4c1d-8973-66fe872c7a14"
      },
      "execution_count": null,
      "outputs": [
        {
          "output_type": "stream",
          "name": "stdout",
          "text": [
            "/content/norm_train\n"
          ]
        }
      ]
    },
    {
      "cell_type": "code",
      "source": [
        "%cd /content/norm_valid/\n",
        "!zip -r -q norm_valid.zip ./*"
      ],
      "metadata": {
        "colab": {
          "base_uri": "https://localhost:8080/"
        },
        "id": "VM7NhLL-rAq4",
        "outputId": "2b28d037-d2e3-431f-e763-ed2b62023d89"
      },
      "execution_count": null,
      "outputs": [
        {
          "output_type": "stream",
          "name": "stdout",
          "text": [
            "/content/norm_valid\n"
          ]
        }
      ]
    },
    {
      "cell_type": "code",
      "source": [
        "shutil.copy('/content/norm_train/norm_train.zip','/content/drive/MyDrive/SLT-2020/Joint_Dataset/Normalized/temp/')\n",
        "shutil.copy('/content/norm_valid/norm_valid.zip','/content/drive/MyDrive/SLT-2020/Joint_Dataset/Normalized/temp/')"
      ],
      "metadata": {
        "colab": {
          "base_uri": "https://localhost:8080/",
          "height": 34
        },
        "id": "i7PY2gwZrAom",
        "outputId": "18f35c94-cbb5-4bc6-8ec5-1d701823ada5"
      },
      "execution_count": null,
      "outputs": [
        {
          "output_type": "execute_result",
          "data": {
            "application/vnd.google.colaboratory.intrinsic+json": {
              "type": "string"
            },
            "text/plain": [
              "'/content/drive/MyDrive/SLT-2020/Joint_Dataset/Normalized/temp/norm_valid.zip'"
            ]
          },
          "metadata": {},
          "execution_count": 8
        }
      ]
    },
    {
      "cell_type": "code",
      "source": [
        "source = f'/content/norm_train/'\n",
        "\n",
        "train_set = []\n",
        "count = 0\n",
        "\n",
        "# train_data -> authors'\n",
        "\n",
        "for sample in train_data:\n",
        "  name = sample['name'][6:] # train -> [6:] valid -> [4:]\n",
        "  tensor = torch.load(source + name + '.pt', map_location = torch.device('cpu'))\n",
        "   \n",
        "  temp_dict = sample\n",
        "  temp_dict['sign'] = tensor\n",
        "\n",
        "  train_set.append(temp_dict)\n",
        "  count += 1\n",
        "  if count % 500 == 0:\n",
        "    print('count: {}, sample: {}, shape: {}'.format(count, name, temp_dict['sign'].shape))    "
      ],
      "metadata": {
        "colab": {
          "base_uri": "https://localhost:8080/"
        },
        "id": "AHAbxK6irAlW",
        "outputId": "939ce7ab-1c61-4215-a359-c3018f4537fa"
      },
      "execution_count": null,
      "outputs": [
        {
          "output_type": "stream",
          "name": "stdout",
          "text": [
            "count: 500, sample: 18October_2010_Monday_heute-626, shape: torch.Size([198, 54])\n",
            "count: 1000, sample: 02August_2010_Monday_heute-1248, shape: torch.Size([92, 54])\n",
            "count: 1500, sample: 15February_2010_Monday_tagesschau-1850, shape: torch.Size([93, 54])\n",
            "count: 2000, sample: 15September_2010_Wednesday_heute-2474, shape: torch.Size([150, 54])\n",
            "count: 2500, sample: 21April_2010_Wednesday_heute-3116, shape: torch.Size([85, 54])\n",
            "count: 3000, sample: 24January_2011_Monday_tagesschau-3717, shape: torch.Size([31, 54])\n",
            "count: 3500, sample: 23May_2010_Sunday_tagesschau-4342, shape: torch.Size([130, 54])\n",
            "count: 4000, sample: 25April_2010_Sunday_tagesschau-4947, shape: torch.Size([131, 54])\n",
            "count: 4500, sample: 18November_2009_Wednesday_tagesschau-5589, shape: torch.Size([91, 54])\n",
            "count: 5000, sample: 18July_2010_Sunday_tagesschau-6225, shape: torch.Size([183, 54])\n",
            "count: 5500, sample: 10May_2010_Monday_tagesschau-6860, shape: torch.Size([208, 54])\n",
            "count: 6000, sample: 10December_2009_Thursday_tagesschau-7491, shape: torch.Size([80, 54])\n",
            "count: 6500, sample: 07April_2011_Thursday_tagesschau-8106, shape: torch.Size([37, 54])\n",
            "count: 7000, sample: 15July_2011_Friday_tagesschau-8722, shape: torch.Size([154, 54])\n"
          ]
        }
      ]
    },
    {
      "cell_type": "code",
      "source": [
        "source = f'/content/norm_valid/'\n",
        "\n",
        "valid_set = []\n",
        "count = 0\n",
        "\n",
        "# valid_data -> authors'\n",
        "\n",
        "for sample in valid_data:\n",
        "  name = sample['name'][4:] # train -> [6:] valid -> [4:]\n",
        "  tensor = torch.load(source + name + '.pt', map_location = torch.device('cpu'))\n",
        "   \n",
        "  temp_dict = sample\n",
        "  temp_dict['sign'] = tensor\n",
        "\n",
        "  valid_set.append(temp_dict)\n",
        "  count += 1\n",
        "  if count % 100 == 0:\n",
        "    print('count: {}, sample: {}, shape: {}'.format(count, name, temp_dict['sign'].shape))    "
      ],
      "metadata": {
        "colab": {
          "base_uri": "https://localhost:8080/"
        },
        "id": "2zct6hLCyMKm",
        "outputId": "674891c9-fc90-454b-d1c2-756137a6ccd0"
      },
      "execution_count": null,
      "outputs": [
        {
          "output_type": "stream",
          "name": "stdout",
          "text": [
            "count: 100, sample: 09March_2011_Wednesday_heute-1742, shape: torch.Size([162, 54])\n",
            "count: 200, sample: 27August_2009_Thursday_tagesschau-3284, shape: torch.Size([45, 54])\n",
            "count: 300, sample: 23August_2010_Monday_heute-5319, shape: torch.Size([65, 54])\n",
            "count: 400, sample: 06July_2011_Wednesday_tagesschau-6870, shape: torch.Size([156, 54])\n",
            "count: 500, sample: 28July_2011_Thursday_tagesschau-8521, shape: torch.Size([166, 54])\n"
          ]
        }
      ]
    },
    {
      "cell_type": "code",
      "source": [
        "print(len(train_set))\n",
        "print(len(valid_set))"
      ],
      "metadata": {
        "colab": {
          "base_uri": "https://localhost:8080/"
        },
        "id": "1UHZmZyVyMII",
        "outputId": "8a5a4636-825c-41ac-ff7a-16e5c42113ad"
      },
      "execution_count": null,
      "outputs": [
        {
          "output_type": "stream",
          "name": "stdout",
          "text": [
            "7096\n",
            "519\n"
          ]
        }
      ]
    },
    {
      "cell_type": "code",
      "source": [
        "with open('/content/valid_dataset.pkl', 'wb') as f:\n",
        "  pickle.dump(valid_set, f)\n",
        "with open('/content/train_dataset.pkl', 'wb') as f:\n",
        "  pickle.dump(train_set, f)"
      ],
      "metadata": {
        "id": "5shR4YhWyMEf"
      },
      "execution_count": null,
      "outputs": []
    },
    {
      "cell_type": "code",
      "source": [
        "!gzip -k /content/valid_dataset.pkl\n",
        "!gzip -k /content/train_dataset.pkl"
      ],
      "metadata": {
        "id": "70-o-qmKyMCS"
      },
      "execution_count": null,
      "outputs": []
    },
    {
      "cell_type": "code",
      "source": [
        "shutil.copy('/content/train_dataset.pkl.gz','/content/drive/MyDrive/SLT-2020/Joint_Dataset/Normalized/temp/')\n",
        "shutil.copy('/content/valid_dataset.pkl.gz','/content/drive/MyDrive/SLT-2020/Joint_Dataset/Normalized/temp/')"
      ],
      "metadata": {
        "colab": {
          "base_uri": "https://localhost:8080/",
          "height": 34
        },
        "id": "X5UT6DDKyL-z",
        "outputId": "dc6e5eb3-aca2-44c2-bd22-61af48ebd209"
      },
      "execution_count": null,
      "outputs": [
        {
          "output_type": "execute_result",
          "data": {
            "application/vnd.google.colaboratory.intrinsic+json": {
              "type": "string"
            },
            "text/plain": [
              "'/content/drive/MyDrive/SLT-2020/Joint_Dataset/Normalized/temp/valid_dataset.pkl.gz'"
            ]
          },
          "metadata": {},
          "execution_count": 16
        }
      ]
    },
    {
      "cell_type": "code",
      "source": [
        ""
      ],
      "metadata": {
        "id": "WfeJaNMWzGAW"
      },
      "execution_count": null,
      "outputs": []
    },
    {
      "cell_type": "code",
      "source": [
        "t = torch.randn((1,27,2))\n",
        "t.shape"
      ],
      "metadata": {
        "colab": {
          "base_uri": "https://localhost:8080/"
        },
        "id": "SH3IK3fNrAiQ",
        "outputId": "0d30f890-d93c-4120-beef-c4464c41cc38"
      },
      "execution_count": null,
      "outputs": [
        {
          "output_type": "execute_result",
          "data": {
            "text/plain": [
              "torch.Size([1, 27, 2])"
            ]
          },
          "metadata": {},
          "execution_count": 34
        }
      ]
    },
    {
      "cell_type": "code",
      "source": [
        "q = torch.flatten(t, start_dim = 1)\n",
        "q.shape"
      ],
      "metadata": {
        "colab": {
          "base_uri": "https://localhost:8080/"
        },
        "id": "3jSYedjwnTop",
        "outputId": "be45e5b5-810d-41ff-eb77-44076e6a77cc"
      },
      "execution_count": null,
      "outputs": [
        {
          "output_type": "execute_result",
          "data": {
            "text/plain": [
              "torch.Size([1, 54])"
            ]
          },
          "metadata": {},
          "execution_count": 35
        }
      ]
    },
    {
      "cell_type": "code",
      "source": [
        "t"
      ],
      "metadata": {
        "colab": {
          "base_uri": "https://localhost:8080/"
        },
        "id": "mNHPFwrsvIus",
        "outputId": "1dfe5e1d-eaa8-4837-93e7-b57adc370ac0"
      },
      "execution_count": null,
      "outputs": [
        {
          "output_type": "execute_result",
          "data": {
            "text/plain": [
              "tensor([[[-0.3479,  0.0430],\n",
              "         [ 1.9476,  1.3583],\n",
              "         [-0.5955,  0.4441],\n",
              "         [ 0.0608,  1.0643],\n",
              "         [-1.3812, -0.0410],\n",
              "         [-0.9868,  1.2980],\n",
              "         [ 1.3730,  0.5569],\n",
              "         [-0.4484,  1.4109],\n",
              "         [-0.7456,  1.3498],\n",
              "         [-1.9918,  0.9663],\n",
              "         [-0.4871,  0.4250],\n",
              "         [ 0.3840,  1.1753],\n",
              "         [-0.2636, -0.5317],\n",
              "         [-0.8719,  0.7928],\n",
              "         [ 2.0974, -0.5921],\n",
              "         [-1.4736, -1.6210],\n",
              "         [ 0.4125,  0.0333],\n",
              "         [ 0.3838,  1.5392],\n",
              "         [-0.6992,  0.4725],\n",
              "         [ 1.1557,  0.0217],\n",
              "         [ 1.0335, -0.0343],\n",
              "         [ 3.2318, -0.1929],\n",
              "         [ 0.0388, -0.2265],\n",
              "         [ 0.1840, -2.2653],\n",
              "         [-0.5987, -0.9994],\n",
              "         [ 0.5525,  1.2731],\n",
              "         [-1.2521, -0.2543]]])"
            ]
          },
          "metadata": {},
          "execution_count": 36
        }
      ]
    },
    {
      "cell_type": "code",
      "source": [
        "q"
      ],
      "metadata": {
        "colab": {
          "base_uri": "https://localhost:8080/"
        },
        "id": "bzBtDvz9vXlt",
        "outputId": "b110fcdc-b601-4f0c-b6fd-775721e225c0"
      },
      "execution_count": null,
      "outputs": [
        {
          "output_type": "execute_result",
          "data": {
            "text/plain": [
              "tensor([[-0.3479,  0.0430,  1.9476,  1.3583, -0.5955,  0.4441,  0.0608,  1.0643,\n",
              "         -1.3812, -0.0410, -0.9868,  1.2980,  1.3730,  0.5569, -0.4484,  1.4109,\n",
              "         -0.7456,  1.3498, -1.9918,  0.9663, -0.4871,  0.4250,  0.3840,  1.1753,\n",
              "         -0.2636, -0.5317, -0.8719,  0.7928,  2.0974, -0.5921, -1.4736, -1.6210,\n",
              "          0.4125,  0.0333,  0.3838,  1.5392, -0.6992,  0.4725,  1.1557,  0.0217,\n",
              "          1.0335, -0.0343,  3.2318, -0.1929,  0.0388, -0.2265,  0.1840, -2.2653,\n",
              "         -0.5987, -0.9994,  0.5525,  1.2731, -1.2521, -0.2543]])"
            ]
          },
          "metadata": {},
          "execution_count": 37
        }
      ]
    },
    {
      "cell_type": "markdown",
      "source": [
        "# wlasl"
      ],
      "metadata": {
        "id": "hNh9sjOda3IC"
      }
    },
    {
      "cell_type": "code",
      "source": [
        "!git clone https://github.com/dxli94/WLASL.git"
      ],
      "metadata": {
        "id": "yMsiUFxMvZYq",
        "colab": {
          "base_uri": "https://localhost:8080/"
        },
        "outputId": "513666d1-e494-4a87-bf99-92587dc33079"
      },
      "execution_count": null,
      "outputs": [
        {
          "output_type": "stream",
          "name": "stdout",
          "text": [
            "Cloning into 'WLASL'...\n",
            "remote: Enumerating objects: 216, done.\u001b[K\n",
            "remote: Counting objects: 100% (39/39), done.\u001b[K\n",
            "remote: Compressing objects: 100% (24/24), done.\u001b[K\n",
            "remote: Total 216 (delta 17), reused 15 (delta 15), pack-reused 177\u001b[K\n",
            "Receiving objects: 100% (216/216), 3.73 MiB | 16.67 MiB/s, done.\n",
            "Resolving deltas: 100% (86/86), done.\n"
          ]
        }
      ]
    },
    {
      "cell_type": "code",
      "source": [
        "import json\n",
        "with open('/content/WLASL/start_kit/WLASL_v0.3.json', 'r') as f:\n",
        "  data = json.load(f)"
      ],
      "metadata": {
        "id": "QZE_S-NLa1j8"
      },
      "execution_count": null,
      "outputs": []
    },
    {
      "cell_type": "code",
      "source": [
        "len(data)"
      ],
      "metadata": {
        "colab": {
          "base_uri": "https://localhost:8080/"
        },
        "id": "A2GNuqkBbVI1",
        "outputId": "9d7e3cf9-bd8f-4254-ef90-2126a7103a89"
      },
      "execution_count": null,
      "outputs": [
        {
          "output_type": "execute_result",
          "data": {
            "text/plain": [
              "2000"
            ]
          },
          "metadata": {},
          "execution_count": 13
        }
      ]
    },
    {
      "cell_type": "code",
      "source": [
        "type(data[0]['instances'])"
      ],
      "metadata": {
        "colab": {
          "base_uri": "https://localhost:8080/"
        },
        "id": "tu_H_70FJY3b",
        "outputId": "1e9a8835-b434-4f06-d1c5-fcabd48024a3"
      },
      "execution_count": null,
      "outputs": [
        {
          "output_type": "execute_result",
          "data": {
            "text/plain": [
              "list"
            ]
          },
          "metadata": {},
          "execution_count": 4
        }
      ]
    },
    {
      "cell_type": "code",
      "source": [
        "data[1113]"
      ],
      "metadata": {
        "id": "IJfjW3rxbWpV"
      },
      "execution_count": null,
      "outputs": []
    },
    {
      "cell_type": "code",
      "source": [
        "train_ids = []\n",
        "valid_ids = []\n",
        "test_ids = []\n",
        "\n",
        "id_to_label = {}\n",
        "\n",
        "for id,entity in enumerate(data):\n",
        "  for sample in entity['instances']: \n",
        "    split = sample['split']\n",
        "    id_to_label[sample['video_id']] = id\n",
        "    if split == 'train':\n",
        "      train_ids.append(sample['video_id'])\n",
        "    elif split == 'val':\n",
        "      valid_ids.append(sample['video_id'])\n",
        "    elif split == 'test':\n",
        "      test_ids.append(sample['video_id'])\n",
        "\n",
        "print(len(train_ids))\n",
        "print(len(valid_ids))\n",
        "print(len(test_ids))\n",
        "print(len(id_to_label))"
      ],
      "metadata": {
        "id": "g0xy9shnbZ07",
        "colab": {
          "base_uri": "https://localhost:8080/"
        },
        "outputId": "3451d614-e21a-4b8d-8461-c5e707c40041"
      },
      "execution_count": null,
      "outputs": [
        {
          "output_type": "stream",
          "name": "stdout",
          "text": [
            "14289\n",
            "3916\n",
            "2878\n",
            "21083\n"
          ]
        }
      ]
    },
    {
      "cell_type": "code",
      "source": [
        "import shutil\n",
        "shutil.unpack_archive('/content/drive/MyDrive/pose-c3d/WLASL/videos.zip','/content/')"
      ],
      "metadata": {
        "id": "jtIBGvOLKfCG"
      },
      "execution_count": null,
      "outputs": []
    },
    {
      "cell_type": "code",
      "source": [
        "!mkdir train\n",
        "!mkdir valid\n",
        "!mkdir test"
      ],
      "metadata": {
        "id": "6n3bYF3ILHvP"
      },
      "execution_count": null,
      "outputs": []
    },
    {
      "cell_type": "code",
      "source": [
        "import os\n",
        "from pathlib import Path\n",
        "\n",
        "source = '/content/videos/'\n",
        "print('source videos: {}'.format(len(os.listdir(source))))\n",
        "\n",
        "for sample in os.listdir(source):\n",
        "  id = sample[:-4]\n",
        "  vid = source + sample\n",
        "\n",
        "  if id in train_ids:\n",
        "    shutil.copy(vid,'/content/train/')\n",
        "  elif id in valid_ids:\n",
        "    shutil.copy(vid, '/content/valid/')\n",
        "  elif id in test_ids:\n",
        "    shutil.copy(vid, '/content/test/')\n",
        "    \n",
        "print(len(os.listdir('/content/train/')))\n",
        "print(len(os.listdir('/content/valid/')))\n",
        "print(len(os.listdir('/content/test/')))    "
      ],
      "metadata": {
        "colab": {
          "base_uri": "https://localhost:8080/"
        },
        "id": "zBSfMMPLKe_s",
        "outputId": "f5424b4f-e3ac-48e1-f04c-2caf02439980"
      },
      "execution_count": null,
      "outputs": [
        {
          "output_type": "stream",
          "name": "stdout",
          "text": [
            "source videos: 11980\n",
            "8313\n",
            "2253\n",
            "1414\n"
          ]
        }
      ]
    },
    {
      "cell_type": "code",
      "source": [
        "%cd /content/train/\n",
        "!zip -r -q train.zip ./*"
      ],
      "metadata": {
        "colab": {
          "base_uri": "https://localhost:8080/"
        },
        "id": "Mdh4Qhb7Ke9J",
        "outputId": "3112e228-a471-4a89-9c01-8494ab653077"
      },
      "execution_count": null,
      "outputs": [
        {
          "output_type": "stream",
          "name": "stdout",
          "text": [
            "/content/train\n"
          ]
        }
      ]
    },
    {
      "cell_type": "code",
      "source": [
        "%cd /content/valid/\n",
        "!zip -r -q valid.zip ./*"
      ],
      "metadata": {
        "colab": {
          "base_uri": "https://localhost:8080/"
        },
        "id": "FUc3fiTrKe63",
        "outputId": "a5b41c46-e4b4-4895-ef6b-ca50aa0fa90a"
      },
      "execution_count": null,
      "outputs": [
        {
          "output_type": "stream",
          "name": "stdout",
          "text": [
            "/content/valid\n"
          ]
        }
      ]
    },
    {
      "cell_type": "code",
      "source": [
        "%cd /content/test/\n",
        "!zip -r -q test.zip ./*"
      ],
      "metadata": {
        "colab": {
          "base_uri": "https://localhost:8080/"
        },
        "id": "G-wzNBIXKe18",
        "outputId": "555d60cc-a459-41fe-98aa-10c427e929de"
      },
      "execution_count": null,
      "outputs": [
        {
          "output_type": "stream",
          "name": "stdout",
          "text": [
            "/content/test\n"
          ]
        }
      ]
    },
    {
      "cell_type": "code",
      "source": [
        "import shutil\n",
        "shutil.copy('/content/train/train.zip','/content/drive/MyDrive/pose-c3d/WLASL/')\n",
        "shutil.copy('/content/valid/valid.zip','/content/drive/MyDrive/pose-c3d/WLASL/')\n",
        "shutil.copy('/content/test/test.zip','/content/drive/MyDrive/pose-c3d/WLASL/')"
      ],
      "metadata": {
        "colab": {
          "base_uri": "https://localhost:8080/",
          "height": 34
        },
        "id": "YOBSScDMKezx",
        "outputId": "450f4193-7cba-438f-ee3c-ddc1867422a3"
      },
      "execution_count": null,
      "outputs": [
        {
          "output_type": "execute_result",
          "data": {
            "application/vnd.google.colaboratory.intrinsic+json": {
              "type": "string"
            },
            "text/plain": [
              "'/content/drive/MyDrive/pose-c3d/WLASL/test.zip'"
            ]
          },
          "metadata": {},
          "execution_count": 29
        }
      ]
    },
    {
      "cell_type": "code",
      "source": [
        "train_ids = os.listdir('/content/train')\n",
        "valid_ids = os.listdir('/content/valid')\n",
        "test_ids = os.listdir('/content/test')\n",
        "\n",
        "print(len(train_ids)-1)\n",
        "print(len(valid_ids)-1)\n",
        "print(len(test_ids)-1)"
      ],
      "metadata": {
        "colab": {
          "base_uri": "https://localhost:8080/"
        },
        "id": "9TJjfi9VWOtc",
        "outputId": "77fab71a-5e5e-4e82-a978-95da50a3caca"
      },
      "execution_count": null,
      "outputs": [
        {
          "output_type": "stream",
          "name": "stdout",
          "text": [
            "8313\n",
            "2253\n",
            "1414\n"
          ]
        }
      ]
    },
    {
      "cell_type": "code",
      "source": [
        "import pickle\n",
        "\n",
        "with open(r\"/content/train_ids.pkl\", \"wb\") as output_file:\n",
        "  pickle.dump(train_ids, output_file)\n",
        "\n",
        "with open(r\"/content/valid_ids.pkl\", \"wb\") as output_file:\n",
        "  pickle.dump(valid_ids, output_file)\n",
        "\n",
        "with open(r\"/content/test_ids.pkl\", \"wb\") as output_file:\n",
        "  pickle.dump(test_ids, output_file)\n",
        "\n",
        "with open(r\"/content/id_to_label.pkl\", \"wb\") as output_file:\n",
        "  pickle.dump(id_to_label, output_file)"
      ],
      "metadata": {
        "id": "p8TvjYtsWOlm"
      },
      "execution_count": null,
      "outputs": []
    },
    {
      "cell_type": "code",
      "source": [
        "import shutil\n",
        "shutil.copy('/content/train_ids.pkl','/content/drive/MyDrive/pose-c3d/WLASL/')\n",
        "shutil.copy('/content/valid_ids.pkl','/content/drive/MyDrive/pose-c3d/WLASL/')\n",
        "shutil.copy('/content/test_ids.pkl','/content/drive/MyDrive/pose-c3d/WLASL/')\n",
        "shutil.copy('/content/id_to_label.pkl','/content/drive/MyDrive/pose-c3d/WLASL/')"
      ],
      "metadata": {
        "colab": {
          "base_uri": "https://localhost:8080/",
          "height": 34
        },
        "id": "zlbehFdUampd",
        "outputId": "db9aaf3b-c72d-4899-8f3c-144401031eb5"
      },
      "execution_count": null,
      "outputs": [
        {
          "output_type": "execute_result",
          "data": {
            "application/vnd.google.colaboratory.intrinsic+json": {
              "type": "string"
            },
            "text/plain": [
              "'/content/drive/MyDrive/pose-c3d/WLASL/id_to_label.pkl'"
            ]
          },
          "metadata": {},
          "execution_count": 34
        }
      ]
    },
    {
      "cell_type": "code",
      "source": [
        "import shutil\n",
        "shutil.unpack_archive('/content/drive/MyDrive/pose-c3d/WLASL/valid_pkl.zip','/content/validpkl/')"
      ],
      "metadata": {
        "id": "bEctX72q6bXS"
      },
      "execution_count": null,
      "outputs": []
    },
    {
      "cell_type": "code",
      "source": [
        "import os \n",
        "pkl_list = os.listdir('/content/validpkl/valid_pkl')\n",
        "print(len(pkl_list))"
      ],
      "metadata": {
        "colab": {
          "base_uri": "https://localhost:8080/"
        },
        "id": "dLnUZaQf6bGJ",
        "outputId": "f2592dc6-bab2-4d84-dc57-795ebd24a858"
      },
      "execution_count": null,
      "outputs": [
        {
          "output_type": "stream",
          "name": "stdout",
          "text": [
            "2184\n"
          ]
        }
      ]
    },
    {
      "cell_type": "code",
      "source": [
        "import random\n",
        "valid = random.sample(pkl_list, 700)\n",
        "print(len(valid))\n",
        "valid"
      ],
      "metadata": {
        "id": "QtCnGlwC8t7l"
      },
      "execution_count": null,
      "outputs": []
    },
    {
      "cell_type": "code",
      "source": [
        "src = '/content/validpkl/valid_pkl/'\n",
        "dest = '/content/valid/'\n",
        "\n",
        "for sample in valid:\n",
        "  shutil.move(src + sample, dest)"
      ],
      "metadata": {
        "colab": {
          "base_uri": "https://localhost:8080/"
        },
        "id": "3faUvzY-9XJX",
        "outputId": "84cacc50-79c8-4695-9c7c-7f59d1d51ba0"
      },
      "execution_count": null,
      "outputs": [
        {
          "output_type": "stream",
          "name": "stdout",
          "text": [
            "train: 28\n",
            "valid: 15.\n"
          ]
        }
      ]
    },
    {
      "cell_type": "code",
      "source": [
        "print('train: {}'.format(len(os.listdir(src))))\n",
        "print('valid: {}.'.format(len(os.listdir(dest))))"
      ],
      "metadata": {
        "colab": {
          "base_uri": "https://localhost:8080/"
        },
        "id": "oVCXK0Ct98hp",
        "outputId": "1a98f4b0-7a90-4f24-de7e-42c4a5cb0f9d"
      },
      "execution_count": null,
      "outputs": [
        {
          "output_type": "stream",
          "name": "stdout",
          "text": [
            "train: 1484\n",
            "valid: 700.\n"
          ]
        }
      ]
    },
    {
      "cell_type": "code",
      "source": [
        "%cd '/content/validpkl/valid_pkl'\n",
        "!zip -r -q train.zip ./*"
      ],
      "metadata": {
        "colab": {
          "base_uri": "https://localhost:8080/"
        },
        "id": "_-Zq-9AG-G-t",
        "outputId": "640f01aa-0a5b-4800-ac3d-070d441768d7"
      },
      "execution_count": null,
      "outputs": [
        {
          "output_type": "stream",
          "name": "stdout",
          "text": [
            "/content/validpkl/valid_pkl\n"
          ]
        }
      ]
    },
    {
      "cell_type": "code",
      "source": [
        "%cd '/content/valid/'\n",
        "!zip -r -q valid.zip ./*"
      ],
      "metadata": {
        "colab": {
          "base_uri": "https://localhost:8080/"
        },
        "id": "m1dLwgaA-Ofn",
        "outputId": "42c5fe06-0485-4ad4-c654-476fe3d38fd5"
      },
      "execution_count": null,
      "outputs": [
        {
          "output_type": "stream",
          "name": "stdout",
          "text": [
            "/content/valid\n"
          ]
        }
      ]
    },
    {
      "cell_type": "code",
      "source": [
        "shutil.copy('/content/validpkl/valid_pkl/train.zip','/content/')"
      ],
      "metadata": {
        "colab": {
          "base_uri": "https://localhost:8080/",
          "height": 34
        },
        "id": "O__Rw1ty-krm",
        "outputId": "efbfb976-0659-4d60-9d48-a834ab57ce44"
      },
      "execution_count": null,
      "outputs": [
        {
          "output_type": "execute_result",
          "data": {
            "application/vnd.google.colaboratory.intrinsic+json": {
              "type": "string"
            },
            "text/plain": [
              "'/content/train.zip'"
            ]
          },
          "metadata": {},
          "execution_count": 10
        }
      ]
    },
    {
      "cell_type": "code",
      "source": [
        ""
      ],
      "metadata": {
        "id": "O-R7a2NGPrfC"
      },
      "execution_count": null,
      "outputs": []
    },
    {
      "cell_type": "markdown",
      "source": [
        "# wlasl for posec3d"
      ],
      "metadata": {
        "id": "II8coM__GcVI"
      }
    },
    {
      "cell_type": "code",
      "source": [
        "import json\n",
        "with open('/content/nslt_100.json', 'r') as f:\n",
        "  data = json.load(f)\n",
        "print(len(data))\n",
        "print(type(data))"
      ],
      "metadata": {
        "colab": {
          "base_uri": "https://localhost:8080/"
        },
        "id": "f8qK-DePPrb4",
        "outputId": "cc04c5c9-4ddb-4f16-faa1-c8008975f100"
      },
      "execution_count": null,
      "outputs": [
        {
          "output_type": "stream",
          "name": "stdout",
          "text": [
            "2038\n",
            "<class 'dict'>\n"
          ]
        }
      ]
    },
    {
      "cell_type": "code",
      "source": [
        "data.keys()"
      ],
      "metadata": {
        "colab": {
          "base_uri": "https://localhost:8080/"
        },
        "id": "wRqWa6pMPrUd",
        "outputId": "5944606e-87ae-4088-a013-a44b96a17fde"
      },
      "execution_count": null,
      "outputs": [
        {
          "output_type": "execute_result",
          "data": {
            "text/plain": [
              "dict_keys(['05237', '69422', '10899', '10898', '10893', '10892', '10896', '10895', '10894', '51069', '51068', '51064', '51067', '51066', '51061', '51060', '66779', '66778', '65278', '43180', '06365', '69395', '69396', '49185', '57290', '57291', '69370', '56839', '56838', '56837', '56835', '06335', '06334', '06337', '06336', '06331', '06330', '06333', '06332', '06339', '06338', '11768', '11769', '11767', '30849', '64298', '64299', '64296', '64297', '64294', '64295', '64292', '64293', '64290', '64291', '65504', '65507', '65506', '65503', '45442', '45443', '45440', '45441', '05734', '05735', '05736', '05737', '05730', '05731', '05732', '05733', '70244', '70245', '70246', '70247', '05739', '70242', '42838', '05229', '17728', '17729', '17724', '17725', '17726', '17727', '17720', '17721', '17722', '17723', '68178', '68171', '68177', '14624', '14625', '26973', '26972', '26975', '14621', '26977', '26976', '26978', '14628', '31766', '53277', '14685', '68288', '68770', '65029', '63208', '14680', '67038', '63204', '67036', '63206', '63207', '63200', '63201', '63202', '63203', '51063', '24655', '68918', '62241', '62247', '62246', '62245', '62244', '62249', '62248', '68592', '68350', '67367', '08437', '22959', '07079', '07078', '07075', '07074', '07077', '07076', '07071', '07070', '07073', '07072', '26719', '26713', '26712', '26715', '26714', '26717', '26716', '67745', '48111', '07961', '22956', '65889', '67961', '65884', '15043', '15042', '15041', '15040', '28187', '07964', '28214', '28212', '28213', '28210', '28211', '65084', '65085', '65086', '66532', '10888', '69413', '69411', '66769', '51072', '51070', '51071', '70356', '70357', '32319', '05243', '65263', '02003', '02002', '02000', '39005', '39004', '39006', '39001', '39000', '39003', '39002', '69343', '69345', '06326', '11752', '49577', '70015', '70016', '49173', '21933', '49176', '49174', '49175', '42843', '49178', '49179', '05741', '05740', '05743', '05742', '10156', '05744', '05747', '05746', '05749', '36944', '10158', '36946', '36941', '36940', '70237', '36942', '68162', '13199', '13198', '14899', '14898', '14896', '14895', '14894', '14893', '13196', '14891', '45271', '45270', '45273', '45272', '42841', '70345', '70348', '68292', '68294', '06476', '68764', '67594', '69086', '68904', '67114', '62258', '62259', '68586', '62256', '62257', '62250', '62251', '68580', '62253', '68344', '68612', '40844', '07068', '07069', '40847', '67750', '31759', '31758', '31755', '31754', '31757', '31756', '31751', '31750', '31753', '31752', '06822', '66575', '06483', '06482', '06481', '06480', '06486', '06485', '06484', '69402', '66799', '66798', '05641', '05642', '05643', '05644', '65216', '35458', '35452', '35453', '35456', '35457', '65187', '35455', '32251', '32250', '32253', '32252', '32255', '32254', '32257', '65677', '32258', '01387', '56851', '56850', '56852', '69359', '57278', '55367', '24955', '24954', '24956', '24951', '65328', '24952', '55365', '38982', '55362', '67287', '69439', '22119', '68330', '22118', '68336', '05750', '10166', '10164', '10162', '10161', '10160', '68110', '68114', '14888', '14889', '14882', '14883', '14884', '14885', '14886', '14887', '45262', '45263', '45261', '45266', '45267', '45264', '45265', '45268', '45269', '70132', '09851', '09850', '09853', '70355', '09855', '09854', '09857', '09856', '09859', '09858', '40835', '70359', '48122', '48123', '48120', '48126', '48124', '68029', '68028', '68024', '68027', '70249', '67161', '10147', '10146', '68338', '10148', '68622', '68624', '67309', '67306', '26736', '26739', '32263', '68070', '31749', '31746', '67414', '67411', '67413', '66146', '66147', '67949', '42832', '42833', '42830', '42831', '66097', '42836', '66098', '66099', '05227', '06832', '06833', '06836', '06837', '06834', '06835', '06838', '06839', '65996', '51054', '51056', '51057', '51058', '51059', '50052', '50051', '50050', '66780', '35467', '35466', '35465', '35464', '35463', '35462', '35461', '35460', '65200', '65192', '32246', '32248', '32249', '01912', '65843', '65440', '56843', '56840', '56841', '65332', '65445', '56844', '56845', '24946', '24947', '56848', '56849', '69325', '24943', '24940', '24941', '38990', '38991', '38994', '38995', '38996', '38997', '38999', '57647', '57646', '57645', '57643', '57642', '57641', '31763', '69213', '26971', '06361', '06366', '14626', '06367', '14627', '63679', '63678', '63675', '63677', '63676', '63671', '63670', '63673', '26974', '14622', '14623', '70030', '27210', '27216', '14629', '63789', '63788', '25318', '42953', '42956', '42959', '42958', '70107', '45252', '48117', '70361', '48114', '09847', '14855', '14678', '14677', '14676', '09848', '09849', '14673', '14672', '14671', '68035', '68032', '68033', '70212', '70211', '67578', '67579', '63209', '57935', '57934', '57937', '57936', '67177', '57933', '57939', '63205', '68320', '23780', '68810', '26721', '26722', '26723', '26724', '26726', '24657', '08427', '08426', '08425', '08424', '68924', '40840', '08421', '40842', '68928', '08429', '08428', '07957', '67400', '67958', '15038', '15039', '15032', '15033', '15031', '15036', '15037', '15034', '15035', '08935', '08937', '08936', '08939', '08938', '50048', '50049', '50044', '43178', '50046', '50047', '50040', '50041', '50042', '24961', '51077', '13647', '13646', '13645', '13644', '13643', '13642', '13641', '13640', '57634', '13648', '64093', '64094', '64095', '57630', '57631', '65300', '24973', '24972', '24971', '24970', '08431', '06371', '06370', '21891', '21890', '27220', '27221', '69206', '21875', '21874', '21876', '21871', '21870', '21872', '21878', '69028', '63668', '63669', '63666', '63667', '63664', '63665', '63662', '70029', '70026', '43167', '43166', '43169', '43168', '49183', '49182', '49181', '38544', '49187', '38542', '38541', '38540', '68137', '49188', '64300', '68132', '63799', '63792', '63793', '63790', '63791', '68218', '63794', '63795', '14669', '70378', '70379', '48106', '48107', '48108', '48109', '70376', '63240', '63241', '63242', '68003', '68001', '68007', '12306', '70207', '68790', '68794', '58369', '58368', '58499', '58498', '22130', '58361', '58360', '58363', '58362', '58497', '58364', '58367', '58366', '67143', '67142', '69269', '42976', '56564', '31764', '31765', '14684', '31767', '14682', '14683', '31762', '14681', '65299', '08432', '08433', '08434', '08435', '08436', '65298', '67697', '07963', '07962', '67431', '07960', '07967', '07966', '70308', '07969', '07968', '67890', '11330', '09867', '08926', '08927', '08924', '08925', '08922', '08923', '08920', '08921', '08928', '08929', '50039', '50038', '64201', '50037', '50036', '56842', '66183', '56846', '24948', '68018', '69524', '05241', '24638', '24639', '65043', '32260', '32261', '24636', '17709', '65824', '19257', '19255', '19258', '19259', '21888', '21889', '06368', '06369', '06362', '06363', '06360', '21883', '21884', '21885', '21886', '21887', '27213', '27212', '27211', '69238', '27217', '65225', '27215', '27214', '69233', '27219', '27218', '69236', '10149', '69016', '21869', '45439', '45438', '45437', '45436', '45435', '45434', '45433', '45432', '69307', '24965', '24960', '69302', '24962', '43174', '43175', '43176', '43177', '43170', '24969', '43172', '43173', '68122', '68125', '68127', '17083', '17085', '17084', '17087', '17086', '42977', '17088', '42974', '42972', '42971', '70309', '09869', '09860', '09861', '09862', '09863', '09865', '09866', '70306', '68016', '68010', '68011', '68012', '57640', '64209', '68019', '12316', '12317', '12314', '12315', '12312', '12313', '12311', '12318', '12319', '67081', '58488', '58370', '67159', '57919', '40130', '68870', '26984', '26985', '26986', '26980', '26981', '26982', '26983', '67555', '67556', '67550', '68274', '63227', '67424', '67420', '07971', '07972', '07973', '63225', '67886', '65539', '11322', '66592', '66591', '11321', '11326', '11327', '11324', '11325', '11328', '11329', '08917', '08916', '08915', '08919', '08918', '66441', '13161', '66112', '66111', '63672', '65145', '65144', '69531', '69533', '69534', '28115', '28114', '28116', '28111', '28110', '28113', '28112', '24641', '24640', '24643', '24642', '28119', '28118', '19263', '19262', '19261', '19260', '19267', '19266', '19265', '19264', '19269', '19268', '06355', '11780', '06359', '69225', '27208', '27209', '27206', '27207', '69004', '65761', '32146', '32946', '69316', '70173', '70176', '13309', '17092', '17093', '17090', '17091', '17096', '17097', '17095', '42960', '42961', '42962', '42963', '42964', '42966', '42967', '70310', '64216', '64217', '64215', '64212', '64213', '64210', '64211', '68068', '64218', '64219', '55366', '12323', '12322', '12321', '12320', '12327', '12326', '12324', '12329', '12328', '55364', '68660', '40122', '40123', '40120', '40121', '40126', '40124', '40128', '40129', '03004', '03005', '03006', '03007', '03000', '03001', '03002', '03003', '67188', '03008', '68688', '18329', '18328', '18323', '18325', '18324', '18326', '62171', '62170', '62173', '62172', '62175', '62174', '68208', '68079', '67527', '37888', '37887', '37886', '37885', '68202', '37883', '37882', '37881', '67451', '02999', '02997', '68842', '28074', '11319', '11318', '11317', '11316', '11315', '11314', '11313', '11312', '11311', '11310', '08909', '48115', '48112', '14679', '28107', '24658', '24659', '24652', '24651', '24656', '14675', '28108', '28109', '14674', '06340', '06341', '06342', '06343', '37889', '69252', '69257', '65792', '38482', '69068', '32158', '32156', '32157', '32154', '32155', '49604', '49605', '49606', '49600', '49601', '49602', '49603', '13333', '13331', '13330', '13337', '13336', '13335', '13334', '64223', '64222', '64221', '05639', '05638', '64224', '05635', '05634', '05637', '05636', '05631', '05630', '05633', '05632', '13207', '13206', '13205', '13203', '13202', '13201', '13200', '13209', '13208', '12338', '36929', '36927', '12335', '12336', '12337', '12330', '12331', '12332', '12333', '58359', '33281', '33280', '33283', '33282', '33285', '33284', '33286', '68674', '11320', '70326', '70325', '70323', '40119', '40118', '40117', '40116', '40115', '40114', '68694', '68692', '67624', '18332', '18333', '18331', '18334', '18335', '62168', '62169', '62163', '62160', '62166', '62164', '62165', '67530', '67531', '67536', '67535', '37890', '37891', '37892', '37893', '37894', '40836', '10900', '10903', '67446', '37879', '38538', '68852', '68856', '66008', '66007', '11309', '67840', '11305', '67990', '66469', '65163', '65162', '65161', '65167', '67170', '01987', '01986', '13681', '01989', '01988', '32945', '68632', '32947', '24660', '32949', '32948', '40838', '40839', '35522', '35523', '35520', '35521', '06455', '69241', '51206', '32167', '32166', '32165', '32164', '32163', '32162', '32161', '32160', '10904', '10901', '65342', '65341', '10902', '21945', '21944', '21946', '21941', '21943', '21942', '63191', '21949', '13325', '13326', '13327', '13323', '13328', '13329', '70152', '53269', '69431', '69433', '05628', '68048', '68046', '68044', '68042', '68041', '13213', '13214', '13216', '13217', '22966', '22967', '22964', '22965', '22962', '22963', '22960', '22961', '62971', '36939', '62973', '62975', '36930', '36931', '36932', '36933', '36934', '56552', '36936', '36937', '53268', '10151', '56556', '56557', '10157', '24649', '24648', '36945', '70332', '70335', '05748', '68190', '68192', '68446', '10159', '67611', '67610', '70234', '62152', '62159', '62158', '68992', '67299', '24645', '67292', '67058', '67057', '40816', '67501', '67275', '05629', '67279', '67278', '30838', '30833', '30832', '30831', '30830', '30837', '30835', '30834', '40845', '09967', '09966', '09961', '09960', '09963', '09962', '65717', '09969', '09968', '40846', '40841', '68538', '65363', '65362', '40843', '23769', '23768', '23767', '23766', '66010', '66014', '66015', '67873', '67872', '11323', '67776', '67470', '13695', '13696', '13697', '13197', '13698', '13699', '01990', '01991', '01992', '34738', '01995', '01996', '01997', '34734', '01999', '34736', '34737', '43179', '34732', '34733', '36938', '32950', '32951', '32956', '32957', '32954', '62970', '32959', '65009', '28124', '28125', '28120', '28121', '28122', '28123', '25321', '25323', '25322', '25325', '25324', '25327', '25326', '25329', '25328', '35513', '62979', '35511', '35517', '35516', '35515', '35514', '35519', '35518', '13630', '23782', '69274', '69290', '69298', '21956', '21954', '21955', '21952', '21953', '21950', '21951', '63769', '69054', '53278', '53279', '57286', '53272', '53273', '53270', '53271', '53276', '43171', '53274', '53275', '68050', '68053', '68054', '00625', '00624', '00627', '00626', '00623', '22953', '22952', '00629', '00628', '22955', '22954', '62966', '62967', '62964', '62965', '62968', '14901', '14900', '14903', '57953', '57952', '57950', '57288', '20976', '68189', '68182', '68183', '68187', '20979', '20978', '18316', '68230', '01388', '01385', '01384', '68988', '01386', '01383', '01382', '67519', '67514', '66640', '66644', '09970', '66246', '68528', '68520', '23778', '23779', '66804', '23771', '23772', '23773', '23774', '23775', '23776', '23777', '08955', '08953', '08952', '08951', '08950', '67465', '67468', '69092', '34741', '34743', '34742', '34745', '34744', '34746', '24857', '25332', '25333', '25330', '25337', '25338', '25339', '35509', '64289', '35506', '17022', '56560', '56563', '65294', '56567', '56566', '56569', '56568', '51229', '51228', '51223', '51221', '51220', '51227', '51226', '51225', '51224', '69282', '69283', '69281', '50045', '65721', '67111', '62254', '50043', '65635', '65434', '65439', '69048', '63806', '63804', '63805', '63802', '63803', '63801', '17076', '00636', '00634', '00635', '00632', '00633', '00630', '00631', '06478', '00638', '00639', '57940', '57941', '57942', '57943', '57944', '57945', '57947', '57948', '57949', '06471', '42969', '68428', '22127', '13168', '22124', '13162', '13160', '22125', '13166', '13167', '13164', '13165', '51235', '69511', '51230', '51231', '40834', '51232', '01398', '40837', '01396', '01397', '01394', '01395', '01392', '01393', '01390', '01391', '67078', '68086', '68085', '68084', '68089', '68954', '26688', '09945', '09949', '07389', '07388', '66816', '07383', '66818', '08942', '08944', '08945', '08946', '08947', '08948', '08949', '67817', '42829', '05238', '17731', '05728', '67490', '67925', '05231', '05233', '05232', '42827', '66038', '05236', '67757', '55375', '55374', '55371', '55370', '55373', '55372', '65601', '22128', '22129', '06472', '06473', '22120', '22121', '22126', '06477', '06474', '06475', '51234', '56573', '51236', '56571', '56576', '56577', '56574', '51233', '56578', '56579', '64090', '69455', '64091', '65731', '57629', '57628', '64089', '64088', '64087', '64086', '64085', '64084', '64082', '37884', '17007', '70299', '70296', '70295', '70051', '41008', '70271', '70270', '17715', '17714', '17717', '17716', '17711', '17710', '17713', '17712', '34837', '34836', '34835', '34834', '17719', '17718', '34831', '34830', '13157', '13156', '13155', '13154', '13159', '13158', '53258', '20991', '20990', '20992', '33267', '33266', '33269', '33268', '63234', '67066', '63236', '63231', '63230', '63233', '63232', '63239', '63238', '68099', '68726', '68720', '68093', '30842', '30843', '30840', '30841', '30847', '67003', '30848', '67715', '67392', '68890', '09954', '09955', '09956', '09957', '09950', '09953', '67663', '67660', '67667', '68540', '68544', '66531', '66820', '65540', '67802', '26741', '67489', '67483', '67937', '67934', '07394', '07395', '07396', '07397', '07390', '07391', '07392', '07393', '07398', '07399', '34739', '22117', '22116', '22115', '22114', '22113', '55363', '55361', '55368', '55369', '01998', '68133', '70230', '69440', '13710', '07400', '07401', '07402', '07403', '51081', '68636', '32953', '65449', '32329', '32328', '32321', '32320', '32323', '32322', '32325', '32324', '32327', '32326', '32955', '65415', '57638', '57639', '57636', '57637', '64092', '57635', '57632', '57633', '64096', '64097', '64275', '17018', '17019', '17013', '17016', '17017', '17014', '17015', '00618', '49180', '70049', '49186', '70266', '70263', '49184', '34828', '34829', '68398', '68396', '34822', '34823', '34824', '34825', '34826', '34827', '38525', '38524', '38527', '68406', '38529', '20988', '20989', '20986', '20987', '20984', '20985', '20982', '20983', '20980', '20981', '33278', '33279', '33274', '33277', '33270', '33271', '33273', '63226', '67010', '67012', '35512', '63228', '63229', '41037', '41036', '41035', '41034', '41033', '41032', '41031', '41030', '68972', '68974', '67722', '70119', '68576', '67350', '68374', '35454', '67659', '06842', '67342', '66296', '66297', '07097', '07096', '07095', '07094', '07093', '07092', '07091', '07090', '07099', '07098', '58505', '58504', '58507', '58506', '58501', '58500', '58503', '58502', '62944', '58508', '66637', '66638', '66639', '66742', '66743', '67908', '48105', '42835', '34685', '55356', '22109', '32259', '56558', '69430', '13708', '13709', '42842', '13702', '13703', '13700', '13701', '13706', '13707', '13704', '13705', '42840', '65242', '34839', '65241', '34838', '32338', '32333', '32336', '32337', '32334', '32335', '13636', '13637', '13634', '13635', '13632', '13633', '69389', '13631', '34833', '65450', '13638', '13639', '57276', '57277', '69546', '68510', '57287', '69364', '57285', '57284', '57283', '57282', '57281', '57280', '69368', '57289', '24950', '66355', '65408', '65409', '05239', '65402', '65403', '11779', '11778', '11771', '11770', '11773', '11772', '11775', '11774', '11777', '11776', '17026', '17025', '17024', '17023', '64288', '17020', '64284', '64287', '64281', '64280', '64283', '49595', '49596', '49597', '49598', '49599', '34832', '17733', '17732', '05729', '17730', '62988', '17734', '62984', '05230', '62986', '62987', '05727', '05234', '62982', '05724', '38536', '38534', '38532', '38533', '38530', '38531', '68145', '68142', '68416', '38539', '57279', '14633', '14632', '14631', '14630', '63213', '63212', '63211', '63210', '63214', '63219', '67009', '41025', '41026', '41027', '41028', '41029', '67227', '68364', '67642', '68368', '67356', '67826', '67827', '06843', '67829', '06841', '06840', '06845', '06844', '07080', '07081', '07082', '07083', '07084', '07085', '07086', '07087', '07088', '07089', '58365', '57273', '66607', '66606', '66351', '63237', '27194', '65891', '65890', '28208', '28205', '28204', '28207', '28206', '28201', '28203', '28202'])"
            ]
          },
          "metadata": {},
          "execution_count": 5
        }
      ]
    },
    {
      "cell_type": "code",
      "source": [
        "train_ids = []\n",
        "valid_ids = []\n",
        "test_ids = []\n",
        "id_to_label = {}\n",
        "\n",
        "for key in data:\n",
        "  if data[key]['subset'] == 'train':\n",
        "    train_ids.append(key)\n",
        "  elif data[key]['subset'] == 'val':\n",
        "    valid_ids.append(key)\n",
        "  elif data[key]['subset'] == 'test':\n",
        "    test_ids.append(key)\n",
        "\n",
        "  id_to_label[key] = data[key]['action'][0]\n",
        "\n",
        "print('train:{}'.format(len(train_ids)))\n",
        "print('valid:{}'.format(len(valid_ids)))\n",
        "print('test:{}'.format(len(test_ids)))"
      ],
      "metadata": {
        "colab": {
          "base_uri": "https://localhost:8080/"
        },
        "id": "htKviDKIHWaG",
        "outputId": "7c02db33-381a-4579-9858-46e5d23272b7"
      },
      "execution_count": null,
      "outputs": [
        {
          "output_type": "stream",
          "name": "stdout",
          "text": [
            "train:1442\n",
            "valid:338\n",
            "test:258\n"
          ]
        }
      ]
    },
    {
      "cell_type": "code",
      "source": [
        "import pickle\n",
        "\n",
        "with open(r\"/content/train_ids.pkl\", \"wb\") as output_file:\n",
        "  pickle.dump(train_ids, output_file)\n",
        "\n",
        "with open(r\"/content/valid_ids.pkl\", \"wb\") as output_file:\n",
        "  pickle.dump(valid_ids, output_file)\n",
        "\n",
        "with open(r\"/content/test_ids.pkl\", \"wb\") as output_file:\n",
        "  pickle.dump(test_ids, output_file)\n",
        "\n",
        "with open(r\"/content/id_to_label.pkl\", \"wb\") as output_file:\n",
        "  pickle.dump(id_to_label, output_file)"
      ],
      "metadata": {
        "id": "Rmyec8BdJln7"
      },
      "execution_count": null,
      "outputs": []
    },
    {
      "cell_type": "code",
      "source": [
        "import shutil\n",
        "shutil.copy('/content/drive/MyDrive/pose-c3d/WLASL/valid_ids.pkl','/content/check/')\n",
        "shutil.copy('/content/drive/MyDrive/pose-c3d/WLASL/train_ids.pkl','/content/check/')\n",
        "shutil.copy('/content/drive/MyDrive/pose-c3d/WLASL/test_ids.pkl','/content/check/')"
      ],
      "metadata": {
        "colab": {
          "base_uri": "https://localhost:8080/",
          "height": 34
        },
        "id": "4YcbjUVJJ6if",
        "outputId": "6eda2b2e-3331-4fdb-abbb-b42a2d924def"
      },
      "execution_count": null,
      "outputs": [
        {
          "output_type": "execute_result",
          "data": {
            "application/vnd.google.colaboratory.intrinsic+json": {
              "type": "string"
            },
            "text/plain": [
              "'/content/check/test_ids.pkl'"
            ]
          },
          "metadata": {},
          "execution_count": 24
        }
      ]
    },
    {
      "cell_type": "code",
      "source": [
        "shutil.unpack_archive('/content/drive/MyDrive/pose-c3d/WLASL/train_pkl.zip','/content/check/train/')\n",
        "shutil.unpack_archive('/content/drive/MyDrive/pose-c3d/WLASL/valid_pkl.zip','/content/check/valid/')"
      ],
      "metadata": {
        "id": "bjfFW7V_P6dx"
      },
      "execution_count": null,
      "outputs": []
    },
    {
      "cell_type": "code",
      "source": [
        "import os\n",
        "\n",
        "train_processed = os.listdir('/content/check/train/train_pkl')\n",
        "valid_processed = os.listdir('/content/check/valid/valid_pkl')\n",
        "\n",
        "print('train pkls processed: {}'.format(len(train_processed)))\n",
        "print('valid pkls processed: {}'.format(len(valid_processed)))"
      ],
      "metadata": {
        "colab": {
          "base_uri": "https://localhost:8080/"
        },
        "id": "c71aKcaHQUsh",
        "outputId": "166ccd42-bae0-4a0b-a1f3-f5bf080389d8"
      },
      "execution_count": null,
      "outputs": [
        {
          "output_type": "stream",
          "name": "stdout",
          "text": [
            "train pkls processed: 2847\n",
            "valid pkls processed: 700\n"
          ]
        }
      ]
    },
    {
      "cell_type": "code",
      "source": [
        "# format of name in processed files: id.pkl\n",
        "# format of name in train_ids: id\n",
        "\n",
        "# check how many train samples already processed\n",
        "train_pkls_already_processed = []\n",
        "valid_pkls_already_processed = []\n",
        "\n",
        "for id in train_ids:\n",
        "  name = id + '.pkl'\n",
        "  if name in train_processed:\n",
        "    train_pkls_already_processed.append(name)\n",
        "  elif name in valid_processed:\n",
        "    train_pkls_already_processed.append(name)\n",
        "print('train already processed: {}'.format(len(train_pkls_already_processed)))\n",
        "\n",
        "# check how many valid samples already processed\n",
        "c = 0\n",
        "for id in valid_ids:\n",
        "  name = id + '.pkl'\n",
        "  if name in train_processed:\n",
        "    valid_pkls_already_processed.append(name)\n",
        "  elif name in valid_processed:\n",
        "    valid_pkls_already_processed.append(name)\n",
        "print('valid already processed: {}'.format(len(valid_pkls_already_processed)))"
      ],
      "metadata": {
        "colab": {
          "base_uri": "https://localhost:8080/"
        },
        "id": "QxfHx_2RPCJM",
        "outputId": "20fdcb9d-e2b7-458e-f40d-d56fa8a2d5f4"
      },
      "execution_count": null,
      "outputs": [
        {
          "output_type": "stream",
          "name": "stdout",
          "text": [
            "train already processed: 131\n",
            "valid already processed: 162\n"
          ]
        }
      ]
    },
    {
      "cell_type": "code",
      "source": [
        "print(len(train_pkls_already_processed))\n",
        "print(len(valid_pkls_already_processed))"
      ],
      "metadata": {
        "colab": {
          "base_uri": "https://localhost:8080/"
        },
        "id": "XRk8rEjScai0",
        "outputId": "e069f371-f83d-4b3a-abe4-b03f214486c2"
      },
      "execution_count": null,
      "outputs": [
        {
          "output_type": "stream",
          "name": "stdout",
          "text": [
            "131\n",
            "162\n"
          ]
        }
      ]
    },
    {
      "cell_type": "code",
      "source": [
        "with open(r\"/content/train_processed.pkl\", \"wb\") as output_file:\n",
        "  pickle.dump(train_pkls_already_processed, output_file)\n",
        "\n",
        "with open(r\"/content/valid_processed.pkl\", \"wb\") as output_file:\n",
        "  pickle.dump(valid_pkls_already_processed, output_file)"
      ],
      "metadata": {
        "id": "zoGcjjJFcMZ-"
      },
      "execution_count": null,
      "outputs": []
    },
    {
      "cell_type": "code",
      "source": [
        "shutil.copy('/content/train_processed.pkl','/content/drive/MyDrive/pose-c3d/WLASL/100/')\n",
        "shutil.copy('/content/valid_processed.pkl','/content/drive/MyDrive/pose-c3d/WLASL/100/')"
      ],
      "metadata": {
        "colab": {
          "base_uri": "https://localhost:8080/",
          "height": 34
        },
        "id": "PjO-UlWCcljy",
        "outputId": "0d622d4d-d920-4c60-ca4d-1c400f42759a"
      },
      "execution_count": null,
      "outputs": [
        {
          "output_type": "execute_result",
          "data": {
            "application/vnd.google.colaboratory.intrinsic+json": {
              "type": "string"
            },
            "text/plain": [
              "'/content/drive/MyDrive/pose-c3d/WLASL/100/valid_processed.pkl'"
            ]
          },
          "metadata": {},
          "execution_count": 74
        }
      ]
    },
    {
      "cell_type": "code",
      "source": [
        "from os import path\n",
        "\n",
        "for sample in train_pkls_already_processed:\n",
        "  src = '/content/check/train/train_pkl/' + sample\n",
        "  if path.exists(src):\n",
        "    shutil.move(src ,'/content/train-wlasl-100/') \n",
        "\n",
        "for sample in valid_pkls_already_processed:\n",
        "  src = '/content/check/valid/valid_pkl/' + sample\n",
        "  if path.exists(src):\n",
        "    shutil.move(src ,'/content/valid-wlasl-100/')\n",
        "\n",
        "print('train: {}'.format(len(os.listdir('/content/train-wlasl-100'))))\n",
        "print('valid: {}'.format(len(os.listdir('/content/valid-wlasl-100')))) "
      ],
      "metadata": {
        "colab": {
          "base_uri": "https://localhost:8080/"
        },
        "id": "NrLRtsR0XRJO",
        "outputId": "fff619ba-149f-4615-eac6-d6953dfb1393"
      },
      "execution_count": null,
      "outputs": [
        {
          "output_type": "stream",
          "name": "stdout",
          "text": [
            "train: 131\n",
            "valid: 52\n"
          ]
        }
      ]
    },
    {
      "cell_type": "code",
      "source": [
        "for sample in valid_pkls_already_processed:\n",
        "  src = '/content/check/train/train_pkl/' + sample\n",
        "  if path.exists(src):\n",
        "    shutil.move(src ,'/content/valid-wlasl-100/')\n",
        "\n",
        "print('train: {}'.format(len(os.listdir('/content/train-wlasl-100'))))\n",
        "print('valid: {}'.format(len(os.listdir('/content/valid-wlasl-100')))) "
      ],
      "metadata": {
        "colab": {
          "base_uri": "https://localhost:8080/"
        },
        "id": "A83pBuzvXRG-",
        "outputId": "1ea3d1b9-5aca-448a-db76-d98c24d19b07"
      },
      "execution_count": null,
      "outputs": [
        {
          "output_type": "stream",
          "name": "stdout",
          "text": [
            "train: 131\n",
            "valid: 162\n"
          ]
        }
      ]
    },
    {
      "cell_type": "code",
      "source": [
        "%cd /content/vids/videos\n",
        "!zip -r -q vids.zip ./*\n",
        "shutil.copy('/content/vids/videos/vids.zip','/content/drive/MyDrive/pose-c3d/WLASL/')"
      ],
      "metadata": {
        "colab": {
          "base_uri": "https://localhost:8080/",
          "height": 52
        },
        "id": "rhEUTfSLXQuY",
        "outputId": "ec5d11d2-cbe6-4989-cfbd-29bee2fff8b7"
      },
      "execution_count": null,
      "outputs": [
        {
          "output_type": "stream",
          "name": "stdout",
          "text": [
            "/content/vids/videos\n"
          ]
        },
        {
          "output_type": "execute_result",
          "data": {
            "application/vnd.google.colaboratory.intrinsic+json": {
              "type": "string"
            },
            "text/plain": [
              "'/content/drive/MyDrive/pose-c3d/WLASL/vids.zip'"
            ]
          },
          "metadata": {},
          "execution_count": 68
        }
      ]
    },
    {
      "cell_type": "code",
      "source": [
        "%cd /content/train-wlasl-100\n",
        "!zip -r -q train_pkls.zip ./*\n",
        "shutil.copy('/content/train-wlasl-100/train_pkls.zip','/content/drive/MyDrive/pose-c3d/WLASL/100/')"
      ],
      "metadata": {
        "colab": {
          "base_uri": "https://localhost:8080/",
          "height": 52
        },
        "id": "1_6u1zVPaFOX",
        "outputId": "ec635ed8-6159-4a85-f060-2ccc1496b6d8"
      },
      "execution_count": null,
      "outputs": [
        {
          "output_type": "stream",
          "name": "stdout",
          "text": [
            "/content/train-wlasl-100\n"
          ]
        },
        {
          "output_type": "execute_result",
          "data": {
            "application/vnd.google.colaboratory.intrinsic+json": {
              "type": "string"
            },
            "text/plain": [
              "'/content/drive/MyDrive/pose-c3d/WLASL/100/train_pkls.zip'"
            ]
          },
          "metadata": {},
          "execution_count": 69
        }
      ]
    },
    {
      "cell_type": "code",
      "source": [
        "%cd /content/valid-wlasl-100\n",
        "!zip -r -q valid_pkls.zip ./*\n",
        "shutil.copy('/content/valid-wlasl-100/valid_pkls.zip','/content/drive/MyDrive/pose-c3d/WLASL/100/')"
      ],
      "metadata": {
        "colab": {
          "base_uri": "https://localhost:8080/",
          "height": 52
        },
        "id": "6eP9crHgaFKN",
        "outputId": "125a643f-ca35-4e8a-da43-5defcd54dea7"
      },
      "execution_count": null,
      "outputs": [
        {
          "output_type": "stream",
          "name": "stdout",
          "text": [
            "/content/valid-wlasl-100\n"
          ]
        },
        {
          "output_type": "execute_result",
          "data": {
            "application/vnd.google.colaboratory.intrinsic+json": {
              "type": "string"
            },
            "text/plain": [
              "'/content/drive/MyDrive/pose-c3d/WLASL/100/valid_pkls.zip'"
            ]
          },
          "metadata": {},
          "execution_count": 70
        }
      ]
    },
    {
      "cell_type": "code",
      "source": [
        "import shutil\n",
        "shutil.unpack_archive('/content/drive/MyDrive/pose-c3d/WLASL/videos.zip','/content/vids/')"
      ],
      "metadata": {
        "id": "z72UfaTcKwV-"
      },
      "execution_count": null,
      "outputs": []
    },
    {
      "cell_type": "code",
      "source": [
        "import os\n",
        "vid_list = os.listdir('/content/vids/videos')\n",
        "print(len(vid_list))"
      ],
      "metadata": {
        "colab": {
          "base_uri": "https://localhost:8080/"
        },
        "id": "q_bhNqsRKwTy",
        "outputId": "12f79aac-d162-453e-9f54-b816a0bdc0bb"
      },
      "execution_count": null,
      "outputs": [
        {
          "output_type": "stream",
          "name": "stdout",
          "text": [
            "11980\n"
          ]
        }
      ]
    },
    {
      "cell_type": "code",
      "source": [
        "t = 0\n",
        "v = 0\n",
        "tt = 0\n",
        "\n",
        "for sample in vid_list:\n",
        "  name = sample[:-4]\n",
        "  if name in train_ids:\n",
        "    t += 1\n",
        "  elif name in valid_ids:\n",
        "    v += 1\n",
        "  elif name in test_ids:\n",
        "    tt += 1\n",
        "\n",
        "print('train: {}'.format(t))\n",
        "print('valid: {}'.format(v))\n",
        "print('test: {}'.format(tt))  "
      ],
      "metadata": {
        "colab": {
          "base_uri": "https://localhost:8080/"
        },
        "id": "OrQSru50Oq0x",
        "outputId": "3f3362cf-0e3a-4a89-d456-265839434e04"
      },
      "execution_count": null,
      "outputs": [
        {
          "output_type": "stream",
          "name": "stdout",
          "text": [
            "train: 748\n",
            "valid: 165\n",
            "test: 100\n"
          ]
        }
      ]
    },
    {
      "cell_type": "code",
      "source": [
        "for key in data:\n",
        "  #print(key)\n",
        "  #print(type(key))\n",
        "  #print(data[key])\n",
        "  print(data[key]['subset'])\n",
        "  #print(data[key]['action'])\n",
        "  #print(type(data[key]['action']))\n",
        "  #print(data[key]['action'][0])\n",
        "  #break"
      ],
      "metadata": {
        "id": "s2Xv5kggGr1S"
      },
      "execution_count": null,
      "outputs": []
    },
    {
      "cell_type": "code",
      "source": [
        "data['10894']"
      ],
      "metadata": {
        "colab": {
          "base_uri": "https://localhost:8080/"
        },
        "id": "xxoowZ9uGrzU",
        "outputId": "abcb3998-31b4-497c-de0e-34936e6fa629"
      },
      "execution_count": null,
      "outputs": [
        {
          "output_type": "execute_result",
          "data": {
            "text/plain": [
              "{'action': [82, 1, 39], 'subset': 'train'}"
            ]
          },
          "metadata": {},
          "execution_count": 12
        }
      ]
    },
    {
      "cell_type": "code",
      "source": [
        "import shutil\n",
        "shutil.unpack_archive('/content/drive/MyDrive/pose-c3d/WLASL/raw_videos.zip','/content/vids/')"
      ],
      "metadata": {
        "id": "AExYC1DzGrxm"
      },
      "execution_count": null,
      "outputs": []
    },
    {
      "cell_type": "code",
      "source": [
        "import os\n",
        "\n",
        "total_data = os.listdir('/content/vids/')\n",
        "\n",
        "mp3 = []\n",
        "swf = []\n",
        "for sample in total_data:\n",
        "  name = sample[-3:]\n",
        "  if name == 'mp4':\n",
        "    mp3.append(sample)\n",
        "  else:\n",
        "    swf.append(sample)\n",
        "\n",
        "print('total: {}'.format(len(total_data)))\n",
        "print('mp3: {}'.format(len(mp3)))\n",
        "print('swf: {}'.format(len(swf)))"
      ],
      "metadata": {
        "colab": {
          "base_uri": "https://localhost:8080/"
        },
        "id": "oGtLVgSTmkRD",
        "outputId": "c9a97a67-a712-4f0d-d2f9-fd6618863719"
      },
      "execution_count": null,
      "outputs": [
        {
          "output_type": "stream",
          "name": "stdout",
          "text": [
            "total: 13716\n",
            "mp3: 11980\n",
            "swf: 1736\n"
          ]
        }
      ]
    },
    {
      "cell_type": "code",
      "source": [
        "for sample in total_data:\n",
        "  name = sample[-3:]\n",
        "  if name == 'swf':\n",
        "    shutil.move('/content/vids/' + sample, '/content/swf/')\n",
        "print(len(os.listdir('/content/swf/')))"
      ],
      "metadata": {
        "colab": {
          "base_uri": "https://localhost:8080/"
        },
        "id": "Gz9bOdQarjsj",
        "outputId": "639c0d0e-b7af-451b-ed7e-6e4cdbfa3a3e"
      },
      "execution_count": null,
      "outputs": [
        {
          "output_type": "stream",
          "name": "stdout",
          "text": [
            "1736\n"
          ]
        }
      ]
    },
    {
      "cell_type": "code",
      "source": [
        "!bash swf.sh"
      ],
      "metadata": {
        "id": "PIaCb6oTrjqJ"
      },
      "execution_count": null,
      "outputs": []
    },
    {
      "cell_type": "code",
      "source": [
        "print(len(os.listdir('/content/vids')))\n",
        "print(len(os.listdir('/content/swf')))\n",
        "print(len(os.listdir('/content/converted')))"
      ],
      "metadata": {
        "colab": {
          "base_uri": "https://localhost:8080/"
        },
        "id": "1udyYF_6rjnq",
        "outputId": "55e1df63-d5da-45be-9788-9412bd3942da"
      },
      "execution_count": null,
      "outputs": [
        {
          "output_type": "stream",
          "name": "stdout",
          "text": [
            "11980\n",
            "1736\n",
            "0\n"
          ]
        }
      ]
    },
    {
      "cell_type": "code",
      "source": [
        "!ffmpeg"
      ],
      "metadata": {
        "colab": {
          "base_uri": "https://localhost:8080/"
        },
        "id": "wun7lEvDw02G",
        "outputId": "8600814b-76f7-4511-baf9-0c55e366338c"
      },
      "execution_count": null,
      "outputs": [
        {
          "output_type": "stream",
          "name": "stdout",
          "text": [
            "ffmpeg version 3.4.8-0ubuntu0.2 Copyright (c) 2000-2020 the FFmpeg developers\n",
            "  built with gcc 7 (Ubuntu 7.5.0-3ubuntu1~18.04)\n",
            "  configuration: --prefix=/usr --extra-version=0ubuntu0.2 --toolchain=hardened --libdir=/usr/lib/x86_64-linux-gnu --incdir=/usr/include/x86_64-linux-gnu --enable-gpl --disable-stripping --enable-avresample --enable-avisynth --enable-gnutls --enable-ladspa --enable-libass --enable-libbluray --enable-libbs2b --enable-libcaca --enable-libcdio --enable-libflite --enable-libfontconfig --enable-libfreetype --enable-libfribidi --enable-libgme --enable-libgsm --enable-libmp3lame --enable-libmysofa --enable-libopenjpeg --enable-libopenmpt --enable-libopus --enable-libpulse --enable-librubberband --enable-librsvg --enable-libshine --enable-libsnappy --enable-libsoxr --enable-libspeex --enable-libssh --enable-libtheora --enable-libtwolame --enable-libvorbis --enable-libvpx --enable-libwavpack --enable-libwebp --enable-libx265 --enable-libxml2 --enable-libxvid --enable-libzmq --enable-libzvbi --enable-omx --enable-openal --enable-opengl --enable-sdl2 --enable-libdc1394 --enable-libdrm --enable-libiec61883 --enable-chromaprint --enable-frei0r --enable-libopencv --enable-libx264 --enable-shared\n",
            "  libavutil      55. 78.100 / 55. 78.100\n",
            "  libavcodec     57.107.100 / 57.107.100\n",
            "  libavformat    57. 83.100 / 57. 83.100\n",
            "  libavdevice    57. 10.100 / 57. 10.100\n",
            "  libavfilter     6.107.100 /  6.107.100\n",
            "  libavresample   3.  7.  0 /  3.  7.  0\n",
            "  libswscale      4.  8.100 /  4.  8.100\n",
            "  libswresample   2.  9.100 /  2.  9.100\n",
            "  libpostproc    54.  7.100 / 54.  7.100\n",
            "Hyper fast Audio and Video encoder\n",
            "usage: ffmpeg [options] [[infile options] -i infile]... {[outfile options] outfile}...\n",
            "\n",
            "\u001b[0;33mUse -h to get full help or, even better, run 'man ffmpeg'\n",
            "\u001b[0m"
          ]
        }
      ]
    },
    {
      "cell_type": "code",
      "source": [
        "src_file = '/content/swf/00.swf'\n",
        "dst_file = '00340.mp4'\n",
        "!ffmpeg -i {src_file} -vf pad=\"width=ceil(iw/2)*2:height=ceil(ih/2)*2\" {dst_file}"
      ],
      "metadata": {
        "colab": {
          "base_uri": "https://localhost:8080/"
        },
        "id": "N9AE1mi8wTKf",
        "outputId": "bf944987-4577-4401-b16f-8e222eadcc84"
      },
      "execution_count": null,
      "outputs": [
        {
          "output_type": "stream",
          "name": "stdout",
          "text": [
            "ffmpeg version 3.4.8-0ubuntu0.2 Copyright (c) 2000-2020 the FFmpeg developers\n",
            "  built with gcc 7 (Ubuntu 7.5.0-3ubuntu1~18.04)\n",
            "  configuration: --prefix=/usr --extra-version=0ubuntu0.2 --toolchain=hardened --libdir=/usr/lib/x86_64-linux-gnu --incdir=/usr/include/x86_64-linux-gnu --enable-gpl --disable-stripping --enable-avresample --enable-avisynth --enable-gnutls --enable-ladspa --enable-libass --enable-libbluray --enable-libbs2b --enable-libcaca --enable-libcdio --enable-libflite --enable-libfontconfig --enable-libfreetype --enable-libfribidi --enable-libgme --enable-libgsm --enable-libmp3lame --enable-libmysofa --enable-libopenjpeg --enable-libopenmpt --enable-libopus --enable-libpulse --enable-librubberband --enable-librsvg --enable-libshine --enable-libsnappy --enable-libsoxr --enable-libspeex --enable-libssh --enable-libtheora --enable-libtwolame --enable-libvorbis --enable-libvpx --enable-libwavpack --enable-libwebp --enable-libx265 --enable-libxml2 --enable-libxvid --enable-libzmq --enable-libzvbi --enable-omx --enable-openal --enable-opengl --enable-sdl2 --enable-libdc1394 --enable-libdrm --enable-libiec61883 --enable-chromaprint --enable-frei0r --enable-libopencv --enable-libx264 --enable-shared\n",
            "  libavutil      55. 78.100 / 55. 78.100\n",
            "  libavcodec     57.107.100 / 57.107.100\n",
            "  libavformat    57. 83.100 / 57. 83.100\n",
            "  libavdevice    57. 10.100 / 57. 10.100\n",
            "  libavfilter     6.107.100 /  6.107.100\n",
            "  libavresample   3.  7.  0 /  3.  7.  0\n",
            "  libswscale      4.  8.100 /  4.  8.100\n",
            "  libswresample   2.  9.100 /  2.  9.100\n",
            "  libpostproc    54.  7.100 / 54.  7.100\n",
            "\u001b[1;31m/content/swf/00340.swf: Invalid data found when processing input\n",
            "\u001b[0m"
          ]
        }
      ]
    },
    {
      "cell_type": "code",
      "source": [
        "for sample in os.listdir('/content/converted/'):\n",
        "  shutil.move('/content/converted/' + sample,'/content/vids/')\n",
        "print(len(os.listdir('/content/vids')))"
      ],
      "metadata": {
        "id": "91Y6uMQQrjlJ"
      },
      "execution_count": null,
      "outputs": []
    },
    {
      "cell_type": "code",
      "source": [
        "shutil.copy('/content/drive/MyDrive/pose-c3d/WLASL/100/train_ids.pkl','/content/')\n",
        "shutil.copy('/content/drive/MyDrive/pose-c3d/WLASL/100/train_processed.pkl','/content/')"
      ],
      "metadata": {
        "id": "xxmS-5HQGrvl",
        "colab": {
          "base_uri": "https://localhost:8080/",
          "height": 34
        },
        "outputId": "39cc5b0e-795e-4452-be62-7fa609a55a22"
      },
      "execution_count": null,
      "outputs": [
        {
          "output_type": "execute_result",
          "data": {
            "application/vnd.google.colaboratory.intrinsic+json": {
              "type": "string"
            },
            "text/plain": [
              "'/content/train_processed.pkl'"
            ]
          },
          "metadata": {},
          "execution_count": 5
        }
      ]
    },
    {
      "cell_type": "code",
      "source": [
        "import shutil\n",
        "shutil.unpack_archive('/content/drive/MyDrive/pose-c3d/WLASL/vids.zip','/content/old_vids/')"
      ],
      "metadata": {
        "id": "2HUb9Z3oGrs_"
      },
      "execution_count": null,
      "outputs": []
    },
    {
      "cell_type": "code",
      "source": [
        "import pickle\n",
        "with open('/content/train_ids.pkl', 'rb') as f:\n",
        "  train_data = pickle.load(f)\n",
        "with open('/content/train_processed.pkl', 'rb') as f:\n",
        "  processed = pickle.load(f)"
      ],
      "metadata": {
        "id": "565HbNIgGrqo"
      },
      "execution_count": null,
      "outputs": []
    },
    {
      "cell_type": "code",
      "source": [
        "old = os.listdir('/content/old_vids')\n",
        "\n",
        "train_pending = []\n",
        "\n",
        "for sample in old:\n",
        "  id = sample[:-4]\n",
        "  id2 = sample[:-3] + 'pkl'\n",
        "  if id in train_data and id2 not in processed:\n",
        "    train_pending.append(sample)\n",
        "\n",
        "print('pending:{}'.format(len(train_pending)))  "
      ],
      "metadata": {
        "colab": {
          "base_uri": "https://localhost:8080/"
        },
        "id": "RnhNI1BEpI3x",
        "outputId": "07684a7a-f0e6-4648-9877-f752572f8fa8"
      },
      "execution_count": null,
      "outputs": [
        {
          "output_type": "stream",
          "name": "stdout",
          "text": [
            "pending:617\n"
          ]
        }
      ]
    },
    {
      "cell_type": "code",
      "source": [
        "with open('/content/train_pending.pkl', 'wb') as f:\n",
        "  pickle.dump(train_pending, f)"
      ],
      "metadata": {
        "id": "MVtGShZJpIz5"
      },
      "execution_count": null,
      "outputs": []
    },
    {
      "cell_type": "code",
      "source": [
        "shutil.copy('/content/train_pending.pkl','/content/drive/MyDrive/pose-c3d/WLASL/100/')"
      ],
      "metadata": {
        "colab": {
          "base_uri": "https://localhost:8080/",
          "height": 34
        },
        "id": "BqsqMuZtpIxg",
        "outputId": "62a03c11-b4ff-4ae7-b24e-b52009f94ecd"
      },
      "execution_count": null,
      "outputs": [
        {
          "output_type": "execute_result",
          "data": {
            "application/vnd.google.colaboratory.intrinsic+json": {
              "type": "string"
            },
            "text/plain": [
              "'/content/drive/MyDrive/pose-c3d/WLASL/100/train_pending.pkl'"
            ]
          },
          "metadata": {},
          "execution_count": 11
        }
      ]
    },
    {
      "cell_type": "code",
      "source": [
        ""
      ],
      "metadata": {
        "id": "ShN7TSIEpIuX"
      },
      "execution_count": null,
      "outputs": []
    },
    {
      "cell_type": "code",
      "source": [
        ""
      ],
      "metadata": {
        "id": "Dv3fMpoppIsL"
      },
      "execution_count": null,
      "outputs": []
    },
    {
      "cell_type": "code",
      "source": [
        "import json\n",
        "with open('/content/nslt_300.json', 'r') as f:\n",
        "  data2 = json.load(f)"
      ],
      "metadata": {
        "id": "ET69cJVQTa65"
      },
      "execution_count": null,
      "outputs": []
    },
    {
      "cell_type": "code",
      "source": [
        "len(data2)"
      ],
      "metadata": {
        "colab": {
          "base_uri": "https://localhost:8080/"
        },
        "id": "JwO1Yc8eTa4w",
        "outputId": "18821056-4791-4d2c-fb66-a34ddccd673d"
      },
      "execution_count": null,
      "outputs": [
        {
          "output_type": "execute_result",
          "data": {
            "text/plain": [
              "5118"
            ]
          },
          "metadata": {},
          "execution_count": 12
        }
      ]
    },
    {
      "cell_type": "code",
      "source": [
        "!sudo apt-get install ffmpeg swftools"
      ],
      "metadata": {
        "id": "eW8KyDEeTa2F"
      },
      "execution_count": null,
      "outputs": []
    },
    {
      "cell_type": "code",
      "source": [
        "!swfcombine -d /content/57290.swf -o /content/57290-new.swf"
      ],
      "metadata": {
        "colab": {
          "base_uri": "https://localhost:8080/"
        },
        "id": "WKu2wwk6b6NI",
        "outputId": "45bce2d9-b443-467a-fe51-d13693d51df6"
      },
      "execution_count": null,
      "outputs": [
        {
          "output_type": "stream",
          "name": "stdout",
          "text": [
            "FATAL   Failed to read from /content/57290.swf\n"
          ]
        }
      ]
    },
    {
      "cell_type": "code",
      "source": [
        "import json\n",
        "\n",
        "with open('/content/asl100.json', 'rb') as f:\n",
        "    data = json.load(f)"
      ],
      "metadata": {
        "id": "3Jeombk3b6Ks"
      },
      "execution_count": null,
      "outputs": []
    },
    {
      "cell_type": "code",
      "source": [
        "data[0]"
      ],
      "metadata": {
        "id": "RU0UGOxyb6DV"
      },
      "execution_count": null,
      "outputs": []
    },
    {
      "cell_type": "code",
      "source": [
        "import json\n",
        "\n",
        "with open('/content/WLASL_v0.3.json', 'rb') as f:\n",
        "    data2 = json.load(f)\n",
        "data2[0]"
      ],
      "metadata": {
        "id": "gwcLONB-b6Ar"
      },
      "execution_count": null,
      "outputs": []
    },
    {
      "cell_type": "code",
      "source": [
        "import json\n",
        "\n",
        "with open('/content/image_00001_keypoints.json', 'rb') as f:\n",
        "    data = json.load(f)\n",
        "print(type(data))"
      ],
      "metadata": {
        "colab": {
          "base_uri": "https://localhost:8080/"
        },
        "id": "WeIdFhI2oc9e",
        "outputId": "bab45ddb-a181-4e9f-cc9d-a6732c4c1f79"
      },
      "execution_count": null,
      "outputs": [
        {
          "output_type": "stream",
          "name": "stdout",
          "text": [
            "<class 'dict'>\n"
          ]
        }
      ]
    },
    {
      "cell_type": "code",
      "source": [
        "len(data)"
      ],
      "metadata": {
        "colab": {
          "base_uri": "https://localhost:8080/"
        },
        "id": "iz2m3ECvossq",
        "outputId": "d7b6379b-2a17-4a29-cb31-e4bf03d4ab4a"
      },
      "execution_count": null,
      "outputs": [
        {
          "output_type": "execute_result",
          "data": {
            "text/plain": [
              "2"
            ]
          },
          "metadata": {},
          "execution_count": 2
        }
      ]
    },
    {
      "cell_type": "code",
      "source": [
        "data.keys()"
      ],
      "metadata": {
        "colab": {
          "base_uri": "https://localhost:8080/"
        },
        "id": "cn29G0lSouTl",
        "outputId": "957f87fd-8d0f-4895-e0b3-84dd44162a93"
      },
      "execution_count": null,
      "outputs": [
        {
          "output_type": "execute_result",
          "data": {
            "text/plain": [
              "dict_keys(['version', 'people'])"
            ]
          },
          "metadata": {},
          "execution_count": 4
        }
      ]
    },
    {
      "cell_type": "code",
      "source": [
        "data['version']"
      ],
      "metadata": {
        "colab": {
          "base_uri": "https://localhost:8080/"
        },
        "id": "_jfycKI8o0Jx",
        "outputId": "60685ee2-945d-4517-e9d9-7757c609b848"
      },
      "execution_count": null,
      "outputs": [
        {
          "output_type": "execute_result",
          "data": {
            "text/plain": [
              "1.3"
            ]
          },
          "metadata": {},
          "execution_count": 5
        }
      ]
    },
    {
      "cell_type": "code",
      "source": [
        "data['people'][0]['hand_left_keypoints_2d']"
      ],
      "metadata": {
        "id": "ZnBwSebeo2ti"
      },
      "execution_count": null,
      "outputs": []
    },
    {
      "cell_type": "code",
      "source": [
        "len(data['people'][0]['hand_left_keypoints_2d'])"
      ],
      "metadata": {
        "colab": {
          "base_uri": "https://localhost:8080/"
        },
        "id": "IjPoRF7QpY74",
        "outputId": "ebc50243-330c-4c53-a56f-7edf66411fd0"
      },
      "execution_count": null,
      "outputs": [
        {
          "output_type": "execute_result",
          "data": {
            "text/plain": [
              "63"
            ]
          },
          "metadata": {},
          "execution_count": 12
        }
      ]
    },
    {
      "cell_type": "code",
      "source": [
        "import shutil\n",
        "shutil.copy('/content/drive/MyDrive/pose-c3d/WLASL/100/train_ids.pkl','/content/')\n",
        "shutil.unpack_archive('/content/drive/MyDrive/pose-c3d/WLASL/100/train_pkls.zip','/content/train/')\n",
        "shutil.unpack_archive('/content/drive/MyDrive/pose-c3d/WLASL/WLASL2000.zip','/content/vids/')"
      ],
      "metadata": {
        "id": "zjyUNkiZpY53"
      },
      "execution_count": null,
      "outputs": []
    },
    {
      "cell_type": "code",
      "source": [
        "import pickle\n",
        "\n",
        "with open('/content/train_ids.pkl', 'rb') as f:\n",
        "    train_ids = pickle.load(f)\n",
        "print(len(train_ids))"
      ],
      "metadata": {
        "colab": {
          "base_uri": "https://localhost:8080/"
        },
        "id": "TeKmGSRFTU0w",
        "outputId": "0cbae337-ce7f-4f1d-c700-336c0277cdf6"
      },
      "execution_count": null,
      "outputs": [
        {
          "output_type": "stream",
          "name": "stdout",
          "text": [
            "1442\n"
          ]
        }
      ]
    },
    {
      "cell_type": "code",
      "source": [
        "import os\n",
        "train_proc = os.listdir('/content/train/train_pkls/')\n",
        "len(train_proc)"
      ],
      "metadata": {
        "colab": {
          "base_uri": "https://localhost:8080/"
        },
        "id": "Rm2FwKybTUyT",
        "outputId": "82e18355-cc81-41ec-9d0a-bcff37de7c76"
      },
      "execution_count": null,
      "outputs": [
        {
          "output_type": "execute_result",
          "data": {
            "text/plain": [
              "734"
            ]
          },
          "metadata": {},
          "execution_count": 5
        }
      ]
    },
    {
      "cell_type": "code",
      "source": [
        "src = os.listdir('/content/vids/')\n",
        "print('total:{}'.format(len(src)))\n",
        "\n",
        "train_pending = []\n",
        "\n",
        "for sample in src:\n",
        "  id = sample[:-4]\n",
        "  name = sample[:-4] + '.pkl' \n",
        "  if id in train_ids and name not in train_proc:\n",
        "    train_pending.append(id)\n",
        "print(len(train_pending))"
      ],
      "metadata": {
        "colab": {
          "base_uri": "https://localhost:8080/"
        },
        "id": "PSMJ3bGOTUvy",
        "outputId": "c8296d9d-f052-4eba-df90-ab0f9f5dd050"
      },
      "execution_count": null,
      "outputs": [
        {
          "output_type": "stream",
          "name": "stdout",
          "text": [
            "total:21095\n",
            "708\n"
          ]
        }
      ]
    },
    {
      "cell_type": "code",
      "source": [
        "with open('/content/train_pending.pkl', 'wb') as f:\n",
        "    pickle.dump(train_pending, f)"
      ],
      "metadata": {
        "id": "6-GPr6woTUtY"
      },
      "execution_count": null,
      "outputs": []
    },
    {
      "cell_type": "code",
      "source": [
        "shutil.copy('/content/train_pending.pkl','/content/drive/MyDrive/pose-c3d/WLASL/100/')"
      ],
      "metadata": {
        "colab": {
          "base_uri": "https://localhost:8080/",
          "height": 34
        },
        "id": "m0zkSY7MXLLQ",
        "outputId": "4642e828-c323-45c3-d5b6-20fabdaa5826"
      },
      "execution_count": null,
      "outputs": [
        {
          "output_type": "execute_result",
          "data": {
            "text/plain": [
              "'/content/drive/MyDrive/pose-c3d/WLASL/100/train_pending.pkl'"
            ],
            "application/vnd.google.colaboratory.intrinsic+json": {
              "type": "string"
            }
          },
          "metadata": {},
          "execution_count": 9
        }
      ]
    },
    {
      "cell_type": "code",
      "source": [
        "shutil.copy('/content/drive/MyDrive/pose-c3d/WLASL/100/valid_ids.pkl','/content/')\n",
        "shutil.unpack_archive('/content/drive/MyDrive/pose-c3d/WLASL/100/valid_pkls.zip','/content/valid/')"
      ],
      "metadata": {
        "id": "XdVIvxEwXbZx"
      },
      "execution_count": null,
      "outputs": []
    },
    {
      "cell_type": "code",
      "source": [
        "import pickle\n",
        "\n",
        "with open('/content/valid_ids.pkl', 'rb') as f:\n",
        "    valid_ids = pickle.load(f)\n",
        "print(len(valid_ids))"
      ],
      "metadata": {
        "colab": {
          "base_uri": "https://localhost:8080/"
        },
        "id": "8vDCGCsbXbXs",
        "outputId": "cf3082d7-d406-4791-d4d6-d26510dbb4db"
      },
      "execution_count": null,
      "outputs": [
        {
          "output_type": "stream",
          "name": "stdout",
          "text": [
            "338\n"
          ]
        }
      ]
    },
    {
      "cell_type": "code",
      "source": [
        "import os\n",
        "valid_proc = os.listdir('/content/valid/')\n",
        "len(valid_proc)"
      ],
      "metadata": {
        "colab": {
          "base_uri": "https://localhost:8080/"
        },
        "id": "9jnemiQgXbVa",
        "outputId": "c74e8e71-ec8b-482c-87cb-f8664749ca53"
      },
      "execution_count": null,
      "outputs": [
        {
          "output_type": "execute_result",
          "data": {
            "text/plain": [
              "162"
            ]
          },
          "metadata": {},
          "execution_count": 12
        }
      ]
    },
    {
      "cell_type": "code",
      "source": [
        "src = os.listdir('/content/vids/')\n",
        "print('total:{}'.format(len(src)))\n",
        "\n",
        "valid_pending = []\n",
        "\n",
        "for sample in src:\n",
        "  id = sample[:-4]\n",
        "  name = sample[:-4] + '.pkl' \n",
        "  if id in valid_ids and name not in valid_proc:\n",
        "    valid_pending.append(id)\n",
        "print(len(valid_pending))"
      ],
      "metadata": {
        "colab": {
          "base_uri": "https://localhost:8080/"
        },
        "id": "NvvxcSl_XbQ1",
        "outputId": "901a565a-4389-4df4-b242-71e0b846b7c0"
      },
      "execution_count": null,
      "outputs": [
        {
          "output_type": "stream",
          "name": "stdout",
          "text": [
            "total:21095\n",
            "176\n"
          ]
        }
      ]
    },
    {
      "cell_type": "code",
      "source": [
        "with open('/content/valid_pending.pkl', 'wb') as f:\n",
        "    pickle.dump(valid_pending, f)"
      ],
      "metadata": {
        "id": "HDXy-mPdXbOF"
      },
      "execution_count": null,
      "outputs": []
    },
    {
      "cell_type": "code",
      "source": [
        "shutil.copy('/content/valid_pending.pkl','/content/drive/MyDrive/pose-c3d/WLASL/100/')"
      ],
      "metadata": {
        "colab": {
          "base_uri": "https://localhost:8080/",
          "height": 34
        },
        "id": "EfcBYXlPXbK3",
        "outputId": "d8c662ae-463d-42d0-95e9-45dd913562a8"
      },
      "execution_count": null,
      "outputs": [
        {
          "output_type": "execute_result",
          "data": {
            "text/plain": [
              "'/content/drive/MyDrive/pose-c3d/WLASL/100/valid_pending.pkl'"
            ],
            "application/vnd.google.colaboratory.intrinsic+json": {
              "type": "string"
            }
          },
          "metadata": {},
          "execution_count": 15
        }
      ]
    },
    {
      "cell_type": "code",
      "source": [
        ""
      ],
      "metadata": {
        "id": "-7V0E_uxXbGp"
      },
      "execution_count": null,
      "outputs": []
    },
    {
      "cell_type": "markdown",
      "source": [
        "# wlasl - combine pkls"
      ],
      "metadata": {
        "id": "msj30JOa6ugK"
      }
    },
    {
      "cell_type": "code",
      "source": [
        "import shutil\n",
        "shutil.unpack_archive('/content/drive/MyDrive/pose-c3d/WLASL/100/train_pkls.zip','/content/train-pkls')\n",
        "shutil.unpack_archive('/content/drive/MyDrive/pose-c3d/WLASL/100/valid_pkls.zip','/content/valid-pkls')"
      ],
      "metadata": {
        "id": "IKvhnXpb6uHC"
      },
      "execution_count": null,
      "outputs": []
    },
    {
      "cell_type": "code",
      "source": [
        "import os\n",
        "import pickle\n",
        "\n",
        "wlasl100_train = []\n",
        "wlasl100_valid = []\n",
        "\n",
        "s = '/content/train-pkls/train_pkls/'\n",
        "v = '/content/valid-pkls/valid_pkls/'\n",
        "\n",
        "tsrc = os.listdir(s)\n",
        "vsrc = os.listdir(v)\n",
        "\n",
        "for sample in tsrc:\n",
        "  loc = s + sample\n",
        "  \n",
        "  with open(loc, 'rb') as f:\n",
        "    pkl = pickle.load(f)\n",
        "\n",
        "  wlasl100_train.append(pkl)\n",
        "\n",
        "for sample in vsrc:\n",
        "  loc = v + sample\n",
        "\n",
        "  with open(loc, 'rb') as f:\n",
        "    pkl = pickle.load(f)\n",
        "\n",
        "  wlasl100_valid.append(pkl)\n",
        "\n",
        "print(len(wlasl100_train))\n",
        "print(len(wlasl100_valid))"
      ],
      "metadata": {
        "colab": {
          "base_uri": "https://localhost:8080/"
        },
        "id": "YTURkDoa6uFH",
        "outputId": "2947f72a-10f1-4108-aa54-54acd97ac51b"
      },
      "execution_count": null,
      "outputs": [
        {
          "output_type": "stream",
          "name": "stdout",
          "text": [
            "1402\n",
            "327\n"
          ]
        }
      ]
    },
    {
      "cell_type": "code",
      "source": [
        "with open('/content/train-wlasl100.pkl', 'wb') as f:\n",
        "    pickle.dump(wlasl100_train, f)\n",
        "with open('/content/valid-wlasl100.pkl', 'wb') as f:\n",
        "    pickle.dump(wlasl100_valid, f)"
      ],
      "metadata": {
        "id": "IQIfnDEX80KO"
      },
      "execution_count": null,
      "outputs": []
    },
    {
      "cell_type": "code",
      "source": [
        "shutil.copy('/content/train-wlasl100.pkl','/content/drive/MyDrive/pose-c3d/WLASL/100/')\n",
        "shutil.copy('/content/valid-wlasl100.pkl','/content/drive/MyDrive/pose-c3d/WLASL/100/')"
      ],
      "metadata": {
        "colab": {
          "base_uri": "https://localhost:8080/",
          "height": 34
        },
        "id": "mNbuVD-l8z-p",
        "outputId": "5e018b6f-4d98-4dec-f996-1b14ff561d26"
      },
      "execution_count": null,
      "outputs": [
        {
          "output_type": "execute_result",
          "data": {
            "text/plain": [
              "'/content/drive/MyDrive/pose-c3d/WLASL/100/valid-wlasl100.pkl'"
            ],
            "application/vnd.google.colaboratory.intrinsic+json": {
              "type": "string"
            }
          },
          "metadata": {},
          "execution_count": 9
        }
      ]
    },
    {
      "cell_type": "code",
      "source": [
        ""
      ],
      "metadata": {
        "id": "zzUYtnu58z8B"
      },
      "execution_count": null,
      "outputs": []
    },
    {
      "cell_type": "markdown",
      "source": [
        "# AUTSL dataset"
      ],
      "metadata": {
        "id": "vFO7U6k6puh3"
      }
    },
    {
      "cell_type": "code",
      "source": [
        "from google.colab import drive\n",
        "drive.mount('/content/drive')"
      ],
      "metadata": {
        "id": "pAVxdGoy8z4r",
        "colab": {
          "base_uri": "https://localhost:8080/"
        },
        "outputId": "5fe5a8f9-0242-4a30-bf8d-f80afe0f8050"
      },
      "execution_count": null,
      "outputs": [
        {
          "output_type": "stream",
          "name": "stdout",
          "text": [
            "Mounted at /content/drive\n"
          ]
        }
      ]
    },
    {
      "cell_type": "markdown",
      "source": [
        "**generate id to label dictionary for train set**"
      ],
      "metadata": {
        "id": "Oc1f0Rm4AzRc"
      }
    },
    {
      "cell_type": "code",
      "source": [
        "import csv\n",
        "\n",
        "id_to_label = {}\n",
        "\n",
        "with open('/content/train_labels.csv', mode='r') as infile:\n",
        "    reader = csv.reader(infile)\n",
        "    line_count = 0\n",
        "    for rows in reader:\n",
        "      line_count += 1\n",
        "      id_to_label[rows[0]] = rows[1]\n",
        "\n",
        "print(len(id_to_label))\n",
        "print(line_count)"
      ],
      "metadata": {
        "colab": {
          "base_uri": "https://localhost:8080/"
        },
        "id": "EzLDpOKUp4uv",
        "outputId": "cbdca901-b854-45bd-a7d8-3e8d08581e9f"
      },
      "execution_count": null,
      "outputs": [
        {
          "output_type": "stream",
          "name": "stdout",
          "text": [
            "28142\n",
            "28142\n"
          ]
        }
      ]
    },
    {
      "cell_type": "code",
      "source": [
        "import csv\n",
        "\n",
        "id_to_label_val = {}\n",
        "\n",
        "with open('/content/ground_truth.csv', mode='r') as infile:\n",
        "    reader = csv.reader(infile)\n",
        "    line_count = 0\n",
        "    for rows in reader:\n",
        "      line_count += 1\n",
        "      id_to_label_val[rows[0]] = rows[1]\n",
        "\n",
        "print(len(id_to_label_val))\n",
        "print(line_count)"
      ],
      "metadata": {
        "colab": {
          "base_uri": "https://localhost:8080/"
        },
        "id": "_vL6Wp72kQ3o",
        "outputId": "74117844-0a3d-4c6e-b353-faccd0e85c64"
      },
      "execution_count": null,
      "outputs": [
        {
          "output_type": "stream",
          "name": "stdout",
          "text": [
            "4418\n",
            "4418\n"
          ]
        }
      ]
    },
    {
      "cell_type": "code",
      "source": [
        "train_id = []\n",
        "for id in id_to_label.keys():\n",
        "  train_id.append(id)\n",
        "\n",
        "len(train_id) "
      ],
      "metadata": {
        "colab": {
          "base_uri": "https://localhost:8080/"
        },
        "id": "Lk-bbMrhp4ro",
        "outputId": "fecfe4a3-fb80-46e7-9180-99b481e6d7b0"
      },
      "execution_count": null,
      "outputs": [
        {
          "output_type": "execute_result",
          "data": {
            "text/plain": [
              "28142"
            ]
          },
          "metadata": {},
          "execution_count": 19
        }
      ]
    },
    {
      "cell_type": "code",
      "source": [
        "train_id = []\n",
        "for id in id_to_label.keys():\n",
        "  train_id.append(id)\n",
        "\n",
        "len(train_id) "
      ],
      "metadata": {
        "id": "_cw9j9e-kbsX"
      },
      "execution_count": null,
      "outputs": []
    },
    {
      "cell_type": "code",
      "source": [
        "!mkdir train"
      ],
      "metadata": {
        "id": "keYU9q6XzAq2"
      },
      "execution_count": null,
      "outputs": []
    },
    {
      "cell_type": "code",
      "source": [
        "subset = train_id[25000:28412]\n",
        "\n",
        "count = 0\n",
        "for id in subset:\n",
        "  loc = '/content/drive/.shortcut-targets-by-id/1tFu1ysY_OHFIQTnmGzCRjRwOxWWUQQbR/Dataset/train_npy_files_Darkpose/' + id + '_color.npy'\n",
        "  shutil.copy(loc, '/content/train/')\n",
        "  count += 1\n",
        "  if count % 100 == 0:\n",
        "    print('progress:{}'.format(count))\n",
        "\n",
        "print(len(os.listdir('/content/train/')))"
      ],
      "metadata": {
        "id": "8gB0-8FBp4mf"
      },
      "execution_count": null,
      "outputs": []
    },
    {
      "cell_type": "code",
      "source": [
        "%cd /content/valid\n",
        "!zip -r -y valid-133-darkpose.zip ./*"
      ],
      "metadata": {
        "id": "n_ctT84nIpPJ"
      },
      "execution_count": null,
      "outputs": []
    },
    {
      "cell_type": "code",
      "source": [
        "%cd /content/train\n",
        "!zip -r -q -y train-133-darkpose.zip ./*"
      ],
      "metadata": {
        "colab": {
          "base_uri": "https://localhost:8080/"
        },
        "id": "Fo7fxJyBRiQ6",
        "outputId": "5540255c-e626-4e79-d3d1-d4d8834214f1"
      },
      "execution_count": null,
      "outputs": [
        {
          "metadata": {
            "tags": null
          },
          "name": "stdout",
          "output_type": "stream",
          "text": [
            "/content/train\n"
          ]
        }
      ]
    },
    {
      "cell_type": "code",
      "source": [
        "len(os.listdir('/content/valid'))"
      ],
      "metadata": {
        "colab": {
          "base_uri": "https://localhost:8080/"
        },
        "id": "83PpBY3ZTgd7",
        "outputId": "5f91414e-69c2-49da-8c7f-ab7723499fa1"
      },
      "execution_count": null,
      "outputs": [
        {
          "output_type": "execute_result",
          "data": {
            "text/plain": [
              "4419"
            ]
          },
          "metadata": {},
          "execution_count": 45
        }
      ]
    },
    {
      "cell_type": "code",
      "source": [
        "import shutil\n",
        "shutil.copy('/content/train/train-133-darkpose.zip','/content/drive/MyDrive/AUTSL/')\n",
        "shutil.copy('/content/valid/valid-133-darkpose.zip','/content/drive/MyDrive/AUTSL/')"
      ],
      "metadata": {
        "colab": {
          "base_uri": "https://localhost:8080/",
          "height": 34
        },
        "id": "yLuMFo3KIpJq",
        "outputId": "ba8e6cdf-1e5b-4590-eb72-9846fd75db00"
      },
      "execution_count": null,
      "outputs": [
        {
          "output_type": "execute_result",
          "data": {
            "text/plain": [
              "'/content/drive/MyDrive/AUTSL/valid-133-darkpose.zip'"
            ],
            "application/vnd.google.colaboratory.intrinsic+json": {
              "type": "string"
            }
          },
          "metadata": {},
          "execution_count": 46
        }
      ]
    },
    {
      "cell_type": "code",
      "source": [
        "import os\n",
        "os.remove('/content/train/train-133-darkpose.zip')\n",
        "os.remove('/content/valid/valid-133-darkpose.zip')"
      ],
      "metadata": {
        "id": "dK2QsIW3IpGz"
      },
      "execution_count": null,
      "outputs": []
    },
    {
      "cell_type": "code",
      "source": [
        "%cd /content/"
      ],
      "metadata": {
        "colab": {
          "base_uri": "https://localhost:8080/"
        },
        "id": "lFtDpB-WIpA_",
        "outputId": "6642c5a7-2f8c-4c83-f0ef-841b59af9a39"
      },
      "execution_count": null,
      "outputs": [
        {
          "output_type": "stream",
          "name": "stdout",
          "text": [
            "/content\n"
          ]
        }
      ]
    },
    {
      "cell_type": "code",
      "source": [
        "len(id_to_label)"
      ],
      "metadata": {
        "colab": {
          "base_uri": "https://localhost:8080/"
        },
        "id": "A6ziK0Z0hXsp",
        "outputId": "d7f1ff72-5675-4812-a44e-be1a75110d66"
      },
      "execution_count": null,
      "outputs": [
        {
          "output_type": "execute_result",
          "data": {
            "text/plain": [
              "28142"
            ]
          },
          "metadata": {},
          "execution_count": 59
        }
      ]
    },
    {
      "cell_type": "markdown",
      "source": [
        "**prepare data for posec3d**"
      ],
      "metadata": {
        "id": "9O__p86zBUyQ"
      }
    },
    {
      "cell_type": "code",
      "source": [
        "import shutil\n",
        "shutil.unpack_archive('/content/drive/MyDrive/AUTSL/train-133-darkpose.zip','/content/train/')\n",
        "shutil.unpack_archive('/content/drive/MyDrive/AUTSL/valid-133-darkpose.zip','/content/valid/')"
      ],
      "metadata": {
        "id": "8Usx2IIwmfJ0"
      },
      "execution_count": null,
      "outputs": []
    },
    {
      "cell_type": "code",
      "source": [
        "import os\n",
        "print(len(os.listdir('/content/train')))\n",
        "print(len(os.listdir('/content/valid')))"
      ],
      "metadata": {
        "colab": {
          "base_uri": "https://localhost:8080/"
        },
        "id": "vuHlx_r8m5cT",
        "outputId": "7f1f99e0-eeca-4151-eafb-61f0249a7c72"
      },
      "execution_count": null,
      "outputs": [
        {
          "output_type": "stream",
          "name": "stdout",
          "text": [
            "28142\n",
            "4418\n"
          ]
        }
      ]
    },
    {
      "cell_type": "code",
      "source": [
        "import numpy as np \n",
        "import os\n",
        "\n",
        "src = '/content/valid/'\n",
        "src_list = os.listdir(src)\n",
        "valid_list = []\n",
        "count = 0\n",
        "\n",
        "for sample in src_list:\n",
        "\n",
        "  name = src + sample\n",
        "  whole = np.load(name)\n",
        "\n",
        "  #joints = np.array([0,5,6,7,8,91,94,99,103,107,111,112,116,120,124,128,132])\n",
        "  joints = np.concatenate(([0,5,6,7,8,9,10], \n",
        "                    [91,95,96,99,100,103,104,107,108,111],[112,116,117,120,121,124,125,128,129,132]), axis=0) #27\n",
        "  \n",
        "  select = whole[:,joints,:]\n",
        "  skeleton = np.copy(select)\n",
        "\n",
        "  #print(whole.shape)\n",
        "  \n",
        "  kpts = np.copy(skeleton)\n",
        "  kpts = kpts[:,:,:2]\n",
        "  kpts = np.expand_dims(kpts,0)\n",
        "\n",
        "  #print(kpts.shape)\n",
        "\n",
        "  conf = np.copy(skeleton)\n",
        "  conf = conf[:,:,2:]\n",
        "  conf = np.expand_dims(conf,0)\n",
        "\n",
        "  #print(conf.shape)\n",
        "\n",
        "  anno = dict()\n",
        "  anno['keypoint'] = kpts\n",
        "  anno['keypoint_score'] = conf\n",
        "  anno['frame_dir'] = sample[:-10]\n",
        "  anno['img_shape'] = (512, 512)\n",
        "  anno['original_shape'] = (512, 512)\n",
        "  anno['total_frames'] = whole.shape[0]\n",
        "  anno['label'] = int(id_to_label_val[sample[:-10]])\n",
        "\n",
        "  #print(anno)\n",
        "  #break\n",
        "\n",
        "  valid_list.append(anno)\n",
        "  count += 1\n",
        "\n",
        "  if count % 1000 == 0:\n",
        "    print(count)\n",
        "\n",
        "print('total:{}'.format(len(valid_list)))"
      ],
      "metadata": {
        "colab": {
          "base_uri": "https://localhost:8080/"
        },
        "id": "Le2qWbhOp4kQ",
        "outputId": "f494a3e1-1bda-40aa-b53d-903a07312066"
      },
      "execution_count": null,
      "outputs": [
        {
          "output_type": "stream",
          "name": "stdout",
          "text": [
            "1000\n",
            "2000\n",
            "3000\n",
            "4000\n",
            "total:4418\n"
          ]
        }
      ]
    },
    {
      "cell_type": "code",
      "source": [
        "import numpy as np \n",
        "import os\n",
        "\n",
        "src = '/content/train/'\n",
        "src_list = os.listdir(src)\n",
        "train_list = []\n",
        "count = 0\n",
        "\n",
        "for sample in src_list:\n",
        "\n",
        "  name = src + sample\n",
        "  whole = np.load(name)\n",
        "\n",
        "  #joints = np.array([0,5,6,7,8,91,94,99,103,107,111,112,116,120,124,128,132])\n",
        "  joints = np.concatenate(([0,5,6,7,8,9,10], \n",
        "                    [91,95,96,99,100,103,104,107,108,111],[112,116,117,120,121,124,125,128,129,132]), axis=0) #27\n",
        "  \n",
        "  select = whole[:,joints,:]\n",
        "  skeleton = np.copy(select)\n",
        "\n",
        "  #print(whole.shape)\n",
        "  \n",
        "  kpts = np.copy(skeleton)\n",
        "  kpts = kpts[:,:,:2]\n",
        "  kpts = np.expand_dims(kpts,0)\n",
        "\n",
        "  #print(kpts.shape)\n",
        "\n",
        "  conf = np.copy(skeleton)\n",
        "  conf = conf[:,:,2:]\n",
        "  conf = np.expand_dims(conf,0)\n",
        "\n",
        "  #print(conf.shape)\n",
        "\n",
        "  anno = dict()\n",
        "  anno['keypoint'] = kpts\n",
        "  anno['keypoint_score'] = conf\n",
        "  anno['frame_dir'] = sample[:-10]\n",
        "  anno['img_shape'] = (512, 512)\n",
        "  anno['original_shape'] = (512, 512)\n",
        "  anno['total_frames'] = whole.shape[0]\n",
        "  anno['label'] = int(id_to_label[sample[:-10]])\n",
        "\n",
        "  #print(anno)\n",
        "  #break\n",
        "\n",
        "  train_list.append(anno)\n",
        "  count += 1\n",
        "\n",
        "  if count % 1000 == 0:\n",
        "    print(count)\n",
        "\n",
        "print('total:{}'.format(len(train_list)))"
      ],
      "metadata": {
        "id": "rg61w7S3n-do"
      },
      "execution_count": null,
      "outputs": []
    },
    {
      "cell_type": "code",
      "source": [
        "import pickle\n",
        "with open('/content/train-autsl.pkl', 'wb') as f:\n",
        "    pickle.dump(train_list, f)\n",
        "with open('/content/valid-autsl.pkl', 'wb') as f:\n",
        "    pickle.dump(valid_list, f)"
      ],
      "metadata": {
        "id": "H6q0-Ub9mXT4"
      },
      "execution_count": null,
      "outputs": []
    },
    {
      "cell_type": "code",
      "source": [
        "shutil.copy('/content/train-autsl.pkl','/content/drive/MyDrive/pose-c3d/AUTSL/27kpts/')\n",
        "shutil.copy('/content/valid-autsl.pkl','/content/drive/MyDrive/pose-c3d/AUTSL/27kpts/')"
      ],
      "metadata": {
        "colab": {
          "base_uri": "https://localhost:8080/",
          "height": 34
        },
        "id": "Y00tbvzvm7U2",
        "outputId": "b052afa0-1455-4f4c-ef30-b0966d993a5a"
      },
      "execution_count": null,
      "outputs": [
        {
          "output_type": "execute_result",
          "data": {
            "text/plain": [
              "'/content/drive/MyDrive/pose-c3d/AUTSL/27kpts/valid-autsl.pkl'"
            ],
            "application/vnd.google.colaboratory.intrinsic+json": {
              "type": "string"
            }
          },
          "metadata": {},
          "execution_count": 13
        }
      ]
    },
    {
      "cell_type": "markdown",
      "source": [
        "left - **0**, 5, 7, 9, 91, 95, 96, 99, 100, 103, 104, 107, 108, 111.\n",
        "\n",
        "right - 6, 8, 10, 112, 116, 117, 120, 121, 124, 125, 128, 129, 132.\n",
        "\n",
        "total - 0,5,6,7,8,9,10,91,95,96,99,100,103,104,107,108,111,112,116,117,120,121,124,125,128,129,132."
      ],
      "metadata": {
        "id": "u81W17qUnxAW"
      }
    },
    {
      "cell_type": "markdown",
      "source": [
        "left - 0, 5, 7, 91, 94, 99, 103, 107, 111\n",
        "\n",
        "right - 6, 8, 112, 116, 120, 124, 128, 132\n",
        "\n",
        "total - 0,5,6,7,8,91,94,99,103,107,111,112,116,120,124,128,132"
      ],
      "metadata": {
        "id": "k_dhf26jBYxK"
      }
    },
    {
      "cell_type": "code",
      "source": [
        "'''\n",
        "whole = np.load(source + sample)\n",
        "selected = np.concatenate(([0,5,6,7,8,9,10], \n",
        "                  [91,95,96,99,100,103,104,107,108,111],[112,116,117,120,121,124,125,128,129,132]), axis=0) #27\n",
        "\n",
        "#print('sample:{}'.format(sample))\n",
        "#print('whole shape:{}'.format(whole.shape))\n",
        "select = whole[:,selected,:]\n",
        "skel = np.copy(select)\n",
        "#print('skel shape:{}'.format(skel.shape))\n",
        "'''"
      ],
      "metadata": {
        "id": "c20cP8c8BYYh"
      },
      "execution_count": null,
      "outputs": []
    },
    {
      "cell_type": "code",
      "source": [
        ""
      ],
      "metadata": {
        "id": "DSbcJGmUCzye"
      },
      "execution_count": null,
      "outputs": []
    },
    {
      "cell_type": "code",
      "source": [
        ""
      ],
      "metadata": {
        "id": "iZHYSTeXuEpd"
      },
      "execution_count": null,
      "outputs": []
    },
    {
      "cell_type": "markdown",
      "source": [
        "# Phoenix-2014T dataset"
      ],
      "metadata": {
        "id": "CPT24pO6uF0b"
      }
    },
    {
      "cell_type": "code",
      "source": [
        "from google.colab import drive\n",
        "drive.mount('/content/drive')"
      ],
      "metadata": {
        "colab": {
          "base_uri": "https://localhost:8080/"
        },
        "outputId": "5d2d479a-dd13-4155-a250-e9151519f0a5",
        "id": "6V-uazUUuF0c"
      },
      "execution_count": null,
      "outputs": [
        {
          "output_type": "stream",
          "name": "stdout",
          "text": [
            "Mounted at /content/drive\n"
          ]
        }
      ]
    },
    {
      "cell_type": "code",
      "source": [
        "import shutil\n",
        "shutil.unpack_archive('/content/drive/MyDrive/SLT-2020/Joint_Dataset/HRNet-133/train.zip','/content/train/')\n",
        "shutil.unpack_archive('/content/drive/MyDrive/SLT-2020/Joint_Dataset/HRNet-133/valid.zip','/content/valid/')"
      ],
      "metadata": {
        "id": "mG6HB6BPug-e"
      },
      "execution_count": null,
      "outputs": []
    },
    {
      "cell_type": "code",
      "source": [
        "import os\n",
        "\n",
        "val = os.listdir('/content/train/train/')\n",
        "train = os.listdir('/content/valid/dev/')\n",
        "print(len(val))\n",
        "print(len(train))"
      ],
      "metadata": {
        "colab": {
          "base_uri": "https://localhost:8080/"
        },
        "outputId": "f7ccbec6-d7bc-443a-e291-4d1111c80ff0",
        "id": "ARvsYQqFuF0c"
      },
      "execution_count": null,
      "outputs": [
        {
          "output_type": "stream",
          "name": "stdout",
          "text": [
            "7096\n",
            "519\n"
          ]
        }
      ]
    },
    {
      "cell_type": "markdown",
      "source": [
        "**prepare data for posec3d**"
      ],
      "metadata": {
        "id": "6RbEbe2ZuF0h"
      }
    },
    {
      "cell_type": "code",
      "source": [
        "import numpy as np \n",
        "import os\n",
        "\n",
        "src = '/content/valid/dev/'\n",
        "src_list = os.listdir(src)\n",
        "raw_valid_list = []\n",
        "valid_endpoints = []\n",
        "count = 0\n",
        "\n",
        "\n",
        "for sample in src_list:\n",
        "\n",
        "  name = src + sample\n",
        "  whole = np.load(name)\n",
        "\n",
        "  #print(whole.shape)\n",
        "\n",
        "  joints = np.array([0,5,6,7,8,91,94,99,103,107,111,112,116,120,124,128,132])\n",
        "  select = whole[:,joints,:]\n",
        "  skeleton = np.copy(select)\n",
        "\n",
        "  for frame in range(0, skeleton.shape[0], 8):\n",
        "    if frame + 8 <= skeleton.shape[0]:\n",
        "      subset = skeleton[frame:frame + 8, :, :]\n",
        "    else:\n",
        "      subset = skeleton[frame:, :, :]\n",
        "      diff = 8 - subset.shape[0]\n",
        "      x = subset[-1]\n",
        "      arrays = [x for _ in range(diff)]\n",
        "      temp = np.stack(arrays, axis=0)\n",
        "      subset = np.concatenate((subset, temp), axis = 0)\n",
        "    \n",
        "\n",
        "    #print(subset.shape)\n",
        "\n",
        "    kpts = np.copy(subset)\n",
        "    kpts = kpts[:,:,:2]\n",
        "    kpts = np.expand_dims(kpts,0)\n",
        "\n",
        "    #print(kpts.shape)\n",
        "\n",
        "    conf = np.copy(subset)\n",
        "    conf = conf[:,:,2:]\n",
        "    conf = np.expand_dims(conf,0)\n",
        "\n",
        "    #print(conf.shape)\n",
        "    \n",
        "\n",
        "    anno = dict()\n",
        "    anno['keypoint'] = kpts\n",
        "    anno['keypoint_score'] = conf\n",
        "    anno['frame_dir'] = sample[:-4]\n",
        "    anno['img_shape'] = (210, 260)\n",
        "    anno['original_shape'] = (210, 260)\n",
        "    anno['total_frames'] = int(8)\n",
        "    anno['label'] = int(-1)\n",
        "\n",
        "  #print(anno)\n",
        "\n",
        "    raw_valid_list.append(anno)\n",
        "    \n",
        "  count += 1\n",
        "  valid_endpoints.append(int(len(raw_valid_list) - 1))\n",
        "  \n",
        "  if count % 1000 == 0:\n",
        "    print(count)\n",
        "\n",
        "print('total:{}'.format(len(valid_endpoints)))"
      ],
      "metadata": {
        "colab": {
          "base_uri": "https://localhost:8080/"
        },
        "outputId": "0592db0e-b5aa-4561-e510-01fdbe4c11d2",
        "id": "ubm_1DYGuF0h"
      },
      "execution_count": null,
      "outputs": [
        {
          "output_type": "stream",
          "name": "stdout",
          "text": [
            "total:519\n"
          ]
        }
      ]
    },
    {
      "cell_type": "code",
      "source": [
        "import numpy as np \n",
        "import os\n",
        "\n",
        "src = '/content/train/train/'\n",
        "src_list = os.listdir(src)\n",
        "raw_train_list = []\n",
        "train_endpoints = []\n",
        "count = 0\n",
        "\n",
        "\n",
        "for sample in src_list:\n",
        "\n",
        "  name = src + sample\n",
        "  whole = np.load(name)\n",
        "\n",
        "  #print(whole.shape)\n",
        "\n",
        "  joints = np.array([0,5,6,7,8,91,94,99,103,107,111,112,116,120,124,128,132])\n",
        "  select = whole[:,joints,:]\n",
        "  skeleton = np.copy(select)\n",
        "\n",
        "  for frame in range(0, skeleton.shape[0], 8):\n",
        "    if frame + 8 <= skeleton.shape[0]:\n",
        "      subset = skeleton[frame:frame + 8, :, :]\n",
        "    else:\n",
        "      subset = skeleton[frame:, :, :]\n",
        "      diff = 8 - subset.shape[0]\n",
        "      x = subset[-1]\n",
        "      arrays = [x for _ in range(diff)]\n",
        "      temp = np.stack(arrays, axis=0)\n",
        "      subset = np.concatenate((subset, temp), axis = 0)\n",
        "    \n",
        "\n",
        "    #print(subset.shape)\n",
        "\n",
        "    kpts = np.copy(subset)\n",
        "    kpts = kpts[:,:,:2]\n",
        "    kpts = np.expand_dims(kpts,0)\n",
        "\n",
        "    #print(kpts.shape)\n",
        "\n",
        "    conf = np.copy(subset)\n",
        "    conf = conf[:,:,2:]\n",
        "    conf = np.expand_dims(conf,0)\n",
        "\n",
        "    #print(conf.shape)\n",
        "    \n",
        "\n",
        "    anno = dict()\n",
        "    anno['keypoint'] = kpts\n",
        "    anno['keypoint_score'] = conf\n",
        "    anno['frame_dir'] = sample[:-4]\n",
        "    anno['img_shape'] = (210, 260)\n",
        "    anno['original_shape'] = (210, 260)\n",
        "    anno['total_frames'] = int(8)\n",
        "    anno['label'] = int(-1)\n",
        "\n",
        "  #print(anno)\n",
        "\n",
        "    raw_train_list.append(anno)\n",
        "    \n",
        "  count += 1\n",
        "  train_endpoints.append(int(len(raw_train_list) - 1))\n",
        "  \n",
        "  if count % 1000 == 0:\n",
        "    print(count)\n",
        "\n",
        "print('total:{}'.format(len(train_endpoints)))"
      ],
      "metadata": {
        "colab": {
          "base_uri": "https://localhost:8080/"
        },
        "id": "codVKfmvaR2K",
        "outputId": "fe20e30e-6d82-4fba-944e-2ad1998bf7ba"
      },
      "execution_count": null,
      "outputs": [
        {
          "output_type": "stream",
          "name": "stdout",
          "text": [
            "1000\n",
            "2000\n",
            "3000\n",
            "4000\n",
            "5000\n",
            "6000\n",
            "7000\n",
            "total:7096\n"
          ]
        }
      ]
    },
    {
      "cell_type": "code",
      "source": [
        "import pickle\n",
        "with open('/content/train-endpoints.pkl', 'wb') as f:\n",
        "    pickle.dump(train_endpoints, f)\n",
        "with open('/content/valid-endpoints.pkl', 'wb') as f:\n",
        "    pickle.dump(valid_endpoints, f)\n",
        "\n",
        "with open('/content/train-phoenix2014t.pkl', 'wb') as f:\n",
        "    pickle.dump(raw_train_list, f)\n",
        "with open('/content/valid-phoenix2014t.pkl', 'wb') as f:\n",
        "    pickle.dump(raw_valid_list, f)"
      ],
      "metadata": {
        "id": "BKC-LflYb920"
      },
      "execution_count": null,
      "outputs": []
    },
    {
      "cell_type": "code",
      "source": [
        "import shutil\n",
        "shutil.copy('/content/train-endpoints.pkl','/content/drive/MyDrive/pose-c3d/Phoenix2014T/')\n",
        "shutil.copy('/content/valid-endpoints.pkl','/content/drive/MyDrive/pose-c3d/Phoenix2014T/')\n",
        "shutil.copy('/content/train-phoenix2014t.pkl','/content/drive/MyDrive/pose-c3d/Phoenix2014T/')\n",
        "shutil.copy('/content/valid-phoenix2014t.pkl','/content/drive/MyDrive/pose-c3d/Phoenix2014T/')"
      ],
      "metadata": {
        "colab": {
          "base_uri": "https://localhost:8080/",
          "height": 34
        },
        "id": "yo3T9m7Bc1iX",
        "outputId": "6661014d-a227-4d1f-e7ca-42b84bb3d476"
      },
      "execution_count": null,
      "outputs": [
        {
          "output_type": "execute_result",
          "data": {
            "text/plain": [
              "'/content/drive/MyDrive/pose-c3d/Phoenix2014T/valid-phoenix2014t.pkl'"
            ],
            "application/vnd.google.colaboratory.intrinsic+json": {
              "type": "string"
            }
          },
          "metadata": {},
          "execution_count": 7
        }
      ]
    },
    {
      "cell_type": "code",
      "source": [
        "import shutil"
      ],
      "metadata": {
        "id": "P7jiuQTsrL-q"
      },
      "execution_count": null,
      "outputs": []
    },
    {
      "cell_type": "code",
      "source": [
        "import pickle\n",
        "with open('/content/anno.pkl', 'wb') as f:\n",
        "    pickle.dump(anno, f)"
      ],
      "metadata": {
        "id": "qyGMK_kr2xU4"
      },
      "execution_count": null,
      "outputs": []
    },
    {
      "cell_type": "code",
      "source": [
        "import pickle\n",
        "with open('/content/train-autsl.pkl', 'wb') as f:\n",
        "    pickle.dump(train_list, f)\n",
        "with open('/content/valid-autsl.pkl', 'wb') as f:\n",
        "    pickle.dump(valid_list, f)"
      ],
      "metadata": {
        "id": "QuWNpHdouF0i"
      },
      "execution_count": null,
      "outputs": []
    },
    {
      "cell_type": "code",
      "source": [
        "shutil.copy('/content/train-autsl.pkl','/content/drive/MyDrive/pose-c3d/AUTSL/')\n",
        "shutil.copy('/content/valid-autsl.pkl','/content/drive/MyDrive/pose-c3d/AUTSL/')"
      ],
      "metadata": {
        "colab": {
          "base_uri": "https://localhost:8080/",
          "height": 34
        },
        "outputId": "941cda82-5b43-430b-d719-79037bf84285",
        "id": "TRZ4m_aeuF0i"
      },
      "execution_count": null,
      "outputs": [
        {
          "output_type": "execute_result",
          "data": {
            "text/plain": [
              "'/content/drive/MyDrive/pose-c3d/AUTSL/valid-autsl.pkl'"
            ],
            "application/vnd.google.colaboratory.intrinsic+json": {
              "type": "string"
            }
          },
          "metadata": {},
          "execution_count": 67
        }
      ]
    },
    {
      "cell_type": "markdown",
      "source": [
        "left - 0, 5, 7, 91, 94, 99, 103, 107, 111\n",
        "\n",
        "right - 6, 8, 112, 116, 120, 124, 128, 132\n",
        "\n",
        "total - 0,5,6,7,8,91,94,99,103,107,111,112,116,120,124,128,132"
      ],
      "metadata": {
        "id": "izhPafapuF0i"
      }
    },
    {
      "cell_type": "code",
      "source": [
        "'''\n",
        "whole = np.load(source + sample)\n",
        "selected = np.concatenate(([0,5,6,7,8,9,10], \n",
        "                  [91,95,96,99,100,103,104,107,108,111],[112,116,117,120,121,124,125,128,129,132]), axis=0) #27\n",
        "\n",
        "#print('sample:{}'.format(sample))\n",
        "#print('whole shape:{}'.format(whole.shape))\n",
        "select = whole[:,selected,:]\n",
        "skel = np.copy(select)\n",
        "#print('skel shape:{}'.format(skel.shape))\n",
        "'''"
      ],
      "metadata": {
        "id": "ZnKxLcSTuF0i"
      },
      "execution_count": null,
      "outputs": []
    },
    {
      "cell_type": "code",
      "source": [
        "import pickle\n",
        "with open('/content/result.pkl','rb') as f:\n",
        "  res = pickle.load(f)\n",
        "type(res)"
      ],
      "metadata": {
        "id": "T-Fq1shguF0j",
        "colab": {
          "base_uri": "https://localhost:8080/"
        },
        "outputId": "dc8ff0f9-50f5-4311-ce3a-d5c5d81f5540"
      },
      "execution_count": null,
      "outputs": [
        {
          "output_type": "execute_result",
          "data": {
            "text/plain": [
              "list"
            ]
          },
          "metadata": {},
          "execution_count": 1
        }
      ]
    },
    {
      "cell_type": "code",
      "source": [
        "len(res)"
      ],
      "metadata": {
        "id": "NDj5n84zuFUp",
        "colab": {
          "base_uri": "https://localhost:8080/"
        },
        "outputId": "0e6995ca-4a34-4dbb-8c8c-a99fe5afda84"
      },
      "execution_count": null,
      "outputs": [
        {
          "output_type": "execute_result",
          "data": {
            "text/plain": [
              "327"
            ]
          },
          "metadata": {},
          "execution_count": 2
        }
      ]
    },
    {
      "cell_type": "code",
      "source": [
        "type(res[0])"
      ],
      "metadata": {
        "colab": {
          "base_uri": "https://localhost:8080/"
        },
        "id": "ARQ-ezeZUYrU",
        "outputId": "3355bd9f-d379-4edf-e0b3-71c76d2bf40c"
      },
      "execution_count": null,
      "outputs": [
        {
          "output_type": "execute_result",
          "data": {
            "text/plain": [
              "numpy.ndarray"
            ]
          },
          "metadata": {},
          "execution_count": 3
        }
      ]
    },
    {
      "cell_type": "code",
      "source": [
        "res[0].shape"
      ],
      "metadata": {
        "colab": {
          "base_uri": "https://localhost:8080/"
        },
        "id": "QrqP5k-EUb25",
        "outputId": "e0d691d1-5472-4392-fc25-183f261355da"
      },
      "execution_count": null,
      "outputs": [
        {
          "output_type": "execute_result",
          "data": {
            "text/plain": [
              "(512,)"
            ]
          },
          "metadata": {},
          "execution_count": 4
        }
      ]
    },
    {
      "cell_type": "code",
      "source": [
        "import shutil\n",
        "\n",
        "shutil.copy('/content/drive/MyDrive/pose-c3d/Phoenix2014T/17kpts/valid-result-raw.pkl','/content/')\n",
        "\n",
        "shutil.copy('/content/drive/MyDrive/pose-c3d/Phoenix2014T/17kpts/train-result-raw-0k-3k.pkl','/content/')\n",
        "shutil.copy('/content/drive/MyDrive/pose-c3d/Phoenix2014T/17kpts/train-result-raw-3k-6k.pkl','/content/')\n",
        "shutil.copy('/content/drive/MyDrive/pose-c3d/Phoenix2014T/17kpts/train-result-raw-6k-8k.pkl','/content/')\n",
        "shutil.copy('/content/drive/MyDrive/pose-c3d/Phoenix2014T/17kpts/train-result-raw-8k-10k.pkl','/content/')\n",
        "shutil.copy('/content/drive/MyDrive/pose-c3d/Phoenix2014T/17kpts/train-result-raw-10k-12k.pkl','/content/')\n",
        "shutil.copy('/content/drive/MyDrive/pose-c3d/Phoenix2014T/17kpts/train-result-raw-12k-15k.pkl','/content/')\n",
        "shutil.copy('/content/drive/MyDrive/pose-c3d/Phoenix2014T/17kpts/train-result-raw-15k-16k.pkl','/content/')\n",
        "shutil.copy('/content/drive/MyDrive/pose-c3d/Phoenix2014T/17kpts/train-result-raw-16k-20k.pkl','/content/')\n",
        "shutil.copy('/content/drive/MyDrive/pose-c3d/Phoenix2014T/17kpts/train-result-raw-20k-25k.pkl','/content/')\n",
        "shutil.copy('/content/drive/MyDrive/pose-c3d/Phoenix2014T/17kpts/train-result-raw-25k-30k.pkl','/content/')\n",
        "shutil.copy('/content/drive/MyDrive/pose-c3d/Phoenix2014T/17kpts/train-result-raw-30k-35k.pkl','/content/')\n",
        "shutil.copy('/content/drive/MyDrive/pose-c3d/Phoenix2014T/17kpts/train-result-raw-35k-40k.pkl','/content/')\n",
        "shutil.copy('/content/drive/MyDrive/pose-c3d/Phoenix2014T/17kpts/train-result-raw-40k-50k.pkl','/content/')\n",
        "shutil.copy('/content/drive/MyDrive/pose-c3d/Phoenix2014T/17kpts/train-result-raw-50k-60k.pkl','/content/')\n",
        "shutil.copy('/content/drive/MyDrive/pose-c3d/Phoenix2014T/17kpts/train-result-raw-60k-70k.pkl','/content/')\n",
        "shutil.copy('/content/drive/MyDrive/pose-c3d/Phoenix2014T/17kpts/train-result-raw-70k-80k.pkl','/content/')\n",
        "shutil.copy('/content/drive/MyDrive/pose-c3d/Phoenix2014T/17kpts/train-result-raw-80k-90k.pkl','/content/')\n",
        "shutil.copy('/content/drive/MyDrive/pose-c3d/Phoenix2014T/17kpts/train-result-raw-90k-100k.pkl','/content/')\n",
        "shutil.copy('/content/drive/MyDrive/pose-c3d/Phoenix2014T/17kpts/train-result-raw-100k-106k.pkl','/content/')\n",
        "\n",
        "shutil.copy('/content/drive/MyDrive/pose-c3d/Phoenix2014T/train-endpoints.pkl','/content/')\n",
        "shutil.copy('/content/drive/MyDrive/pose-c3d/Phoenix2014T/valid-endpoints.pkl','/content/')\n",
        "\n",
        "shutil.copy('/content/drive/MyDrive/pose-c3d/Phoenix2014T/train-phoenix2014t.pkl','/content/')\n",
        "shutil.copy('/content/drive/MyDrive/pose-c3d/Phoenix2014T/valid-phoenix2014t.pkl','/content/')"
      ],
      "metadata": {
        "colab": {
          "base_uri": "https://localhost:8080/",
          "height": 34
        },
        "id": "mbXkxBXKYzs_",
        "outputId": "d4c50615-ef07-4e22-a0a4-47c91f1f76b1"
      },
      "execution_count": null,
      "outputs": [
        {
          "output_type": "execute_result",
          "data": {
            "text/plain": [
              "'/content/valid-phoenix2014t.pkl'"
            ],
            "application/vnd.google.colaboratory.intrinsic+json": {
              "type": "string"
            }
          },
          "metadata": {},
          "execution_count": 2
        }
      ]
    },
    {
      "cell_type": "code",
      "source": [
        "import pickle\n",
        "\n",
        "with open('/content/valid-result-raw.pkl','rb') as f:\n",
        "  valid = pickle.load(f)\n",
        "print(len(valid))\n",
        "print(valid[0].shape)\n",
        "\n",
        "with open('/content/valid-endpoints.pkl','rb') as f:\n",
        "  valid_endpoints = pickle.load(f)\n",
        "print(len(valid_endpoints))\n",
        "\n",
        "with open('/content/valid-phoenix2014t.pkl','rb') as f:\n",
        "  valid_ori = pickle.load(f)\n",
        "print(len(valid_ori))"
      ],
      "metadata": {
        "colab": {
          "base_uri": "https://localhost:8080/"
        },
        "id": "lsEMQbZYYzqW",
        "outputId": "2badf2bd-6f45-4e10-98ba-6aeefe49e3f0"
      },
      "execution_count": null,
      "outputs": [
        {
          "output_type": "stream",
          "name": "stdout",
          "text": [
            "7196\n",
            "(512,)\n",
            "519\n",
            "7196\n"
          ]
        }
      ]
    },
    {
      "cell_type": "code",
      "source": [
        "!mkdir valid"
      ],
      "metadata": {
        "id": "C6MpGgSLB55g"
      },
      "execution_count": null,
      "outputs": []
    },
    {
      "cell_type": "code",
      "source": [
        "import torch\n",
        "a = torch.randn((512))\n",
        "\n",
        "b = torch.randn((512))\n",
        "\n",
        "c = torch.stack((a,b),0)\n",
        "c.shape"
      ],
      "metadata": {
        "colab": {
          "base_uri": "https://localhost:8080/"
        },
        "id": "X35ZEWwuA93S",
        "outputId": "0fe7faf8-4dee-429c-9a72-48429ebab2c3"
      },
      "execution_count": null,
      "outputs": [
        {
          "output_type": "execute_result",
          "data": {
            "text/plain": [
              "torch.Size([2, 512])"
            ]
          },
          "metadata": {},
          "execution_count": 8
        }
      ]
    },
    {
      "cell_type": "code",
      "source": [
        "for idx, sample in enumerate(valid):\n",
        "  print(sample)\n",
        "  break"
      ],
      "metadata": {
        "id": "hD_M9WusCKOi"
      },
      "execution_count": null,
      "outputs": []
    },
    {
      "cell_type": "code",
      "source": [
        "for idx,sample in enumerate(valid_ori):\n",
        "  print(idx, sample['frame_dir'])\n",
        "  if idx == 50:\n",
        "    break"
      ],
      "metadata": {
        "id": "qdTlmC8PCaIs"
      },
      "execution_count": null,
      "outputs": []
    },
    {
      "cell_type": "code",
      "source": [
        "print(valid_endpoints[0])\n",
        "print(valid_endpoints[-1])\n",
        "print(len(valid_endpoints))"
      ],
      "metadata": {
        "colab": {
          "base_uri": "https://localhost:8080/"
        },
        "id": "MROKgLeEFVx1",
        "outputId": "c828ee22-48e8-4cf7-c50b-2602d72af625"
      },
      "execution_count": null,
      "outputs": [
        {
          "output_type": "stream",
          "name": "stdout",
          "text": [
            "15\n",
            "7195\n",
            "519\n"
          ]
        }
      ]
    },
    {
      "cell_type": "code",
      "source": [
        "shutil.rmtree('/content/valid/')\n",
        "!mkdir valid"
      ],
      "metadata": {
        "id": "RDpFUwO6H2en"
      },
      "execution_count": null,
      "outputs": []
    },
    {
      "cell_type": "code",
      "source": [
        "import torch\n",
        "import os\n",
        "\n",
        "target = '/content/valid/'\n",
        "counter = 0\n",
        "flag = False\n",
        "\n",
        "tensor_list = []\n",
        "\n",
        "for idx, sample in enumerate(valid):\n",
        "\n",
        "  if idx in valid_endpoints:\n",
        "    tensor = torch.from_numpy(sample)\n",
        "    tensor_list.append(tensor)\n",
        "    \n",
        "    feature = torch.stack(tensor_list, axis = 0)\n",
        "    torch.save(feature, target + valid_ori[idx]['frame_dir'] + '.pt', _use_new_zipfile_serialization = False)\n",
        "    tensor_list.clear()\n",
        "    counter += 1\n",
        "    if counter % 50 == 0:\n",
        "      print(counter, feature.shape)\n",
        "  else:\n",
        "    tensor = torch.from_numpy(sample)\n",
        "    tensor_list.append(tensor)\n",
        "\n",
        "print(len(os.listdir(target)))"
      ],
      "metadata": {
        "colab": {
          "base_uri": "https://localhost:8080/"
        },
        "id": "5DPK_PnvYzn5",
        "outputId": "1eebfe77-2053-4ec4-819a-8b8c5bc88c85"
      },
      "execution_count": null,
      "outputs": [
        {
          "output_type": "stream",
          "name": "stdout",
          "text": [
            "50 torch.Size([14, 512])\n",
            "100 torch.Size([11, 512])\n",
            "150 torch.Size([19, 512])\n",
            "200 torch.Size([14, 512])\n",
            "250 torch.Size([9, 512])\n",
            "300 torch.Size([14, 512])\n",
            "350 torch.Size([12, 512])\n",
            "400 torch.Size([12, 512])\n",
            "450 torch.Size([15, 512])\n",
            "500 torch.Size([14, 512])\n",
            "519\n"
          ]
        }
      ]
    },
    {
      "cell_type": "code",
      "source": [
        "%cd /content/valid/\n",
        "!zip -r -q valid.zip ./*"
      ],
      "metadata": {
        "colab": {
          "base_uri": "https://localhost:8080/"
        },
        "id": "Q-zl2iPSYzhJ",
        "outputId": "798c4856-8a92-4279-84af-f29fabadd71a"
      },
      "execution_count": null,
      "outputs": [
        {
          "output_type": "stream",
          "name": "stdout",
          "text": [
            "/content/valid\n"
          ]
        }
      ]
    },
    {
      "cell_type": "code",
      "source": [
        "shutil.copy('/content/valid/valid.zip','/content/drive/MyDrive/pose-c3d/Phoenix2014T/17kpts')"
      ],
      "metadata": {
        "colab": {
          "base_uri": "https://localhost:8080/",
          "height": 34
        },
        "id": "McGFuRqqYzeH",
        "outputId": "b9408333-e468-4f5f-82f8-aa4ac285b9cb"
      },
      "execution_count": null,
      "outputs": [
        {
          "output_type": "execute_result",
          "data": {
            "text/plain": [
              "'/content/drive/MyDrive/pose-c3d/Phoenix2014T/17kpts/valid.zip'"
            ],
            "application/vnd.google.colaboratory.intrinsic+json": {
              "type": "string"
            }
          },
          "metadata": {},
          "execution_count": 34
        }
      ]
    },
    {
      "cell_type": "code",
      "source": [
        "import pickle\n",
        "with open('/content/train-result-raw-0k-3k.pkl','rb') as f:\n",
        "  t1 = pickle.load(f)\n",
        "\n",
        "with open('/content/train-result-raw-3k-6k.pkl','rb') as f:\n",
        "  t2 = pickle.load(f)\n",
        "\n",
        "with open('/content/train-result-raw-6k-8k.pkl','rb') as f:\n",
        "  t3 = pickle.load(f)\n",
        "\n",
        "with open('/content/train-result-raw-8k-10k.pkl','rb') as f:\n",
        "  t4 = pickle.load(f)\n",
        "\n",
        "with open('/content/train-result-raw-10k-12k.pkl','rb') as f:\n",
        "  t5 = pickle.load(f)\n",
        "\n",
        "with open('/content/train-result-raw-12k-15k.pkl','rb') as f:\n",
        "  t6 = pickle.load(f)\n",
        "\n",
        "with open('/content/train-result-raw-15k-16k.pkl','rb') as f:\n",
        "  t7 = pickle.load(f)\n",
        "\n",
        "with open('/content/train-result-raw-16k-20k.pkl','rb') as f:\n",
        "  t8 = pickle.load(f)\n",
        "\n",
        "with open('/content/train-result-raw-20k-25k.pkl','rb') as f:\n",
        "  t9 = pickle.load(f)\n",
        "\n",
        "with open('/content/train-result-raw-25k-30k.pkl','rb') as f:\n",
        "  t10 = pickle.load(f)\n",
        "\n",
        "with open('/content/train-result-raw-30k-35k.pkl','rb') as f:\n",
        "  t11 = pickle.load(f)\n",
        "\n",
        "with open('/content/train-result-raw-35k-40k.pkl','rb') as f:\n",
        "  t12 = pickle.load(f)\n",
        "\n",
        "with open('/content/train-result-raw-40k-50k.pkl','rb') as f:\n",
        "  t13 = pickle.load(f)\n",
        "\n",
        "with open('/content/train-result-raw-50k-60k.pkl','rb') as f:\n",
        "  t14 = pickle.load(f)\n",
        "\n",
        "with open('/content/train-result-raw-60k-70k.pkl','rb') as f:\n",
        "  t15 = pickle.load(f)\n",
        "\n",
        "with open('/content/train-result-raw-70k-80k.pkl','rb') as f:\n",
        "  t16 = pickle.load(f)\n",
        "\n",
        "with open('/content/train-result-raw-80k-90k.pkl','rb') as f:\n",
        "  t17 = pickle.load(f)\n",
        "\n",
        "with open('/content/train-result-raw-90k-100k.pkl','rb') as f:\n",
        "  t18 = pickle.load(f)\n",
        "\n",
        "with open('/content/train-result-raw-100k-106k.pkl','rb') as f:\n",
        "  t19 = pickle.load(f)"
      ],
      "metadata": {
        "id": "R5psiz_hYzcB"
      },
      "execution_count": null,
      "outputs": []
    },
    {
      "cell_type": "code",
      "source": [
        "import itertools\n",
        "\n",
        "train = []\n",
        "\n",
        "for i in itertools.chain(t1,t2,t3,t4,t5,t6,t7,t8,t9,t10,t11,t12,t13,t14,t15,t16,t17,t18,t19):\n",
        "  train.append(i) \n",
        "print(len(train))"
      ],
      "metadata": {
        "colab": {
          "base_uri": "https://localhost:8080/"
        },
        "id": "B1D89rC7Jz5w",
        "outputId": "56c63cb3-a17b-482d-d106-0fe1a48237fe"
      },
      "execution_count": null,
      "outputs": [
        {
          "output_type": "stream",
          "name": "stdout",
          "text": [
            "106536\n"
          ]
        }
      ]
    },
    {
      "cell_type": "code",
      "source": [
        "print(train[0].shape)\n",
        "\n",
        "with open('/content/train-endpoints.pkl','rb') as f:\n",
        "  train_endpoints = pickle.load(f)\n",
        "print(len(train_endpoints))\n",
        "\n",
        "with open('/content/train-phoenix2014t.pkl','rb') as f:\n",
        "  train_ori = pickle.load(f)\n",
        "print(len(train_ori))"
      ],
      "metadata": {
        "colab": {
          "base_uri": "https://localhost:8080/"
        },
        "id": "xmIlEFrlJzxG",
        "outputId": "34e3f1e2-ce48-4fcd-ee2f-7378258f02ca"
      },
      "execution_count": null,
      "outputs": [
        {
          "output_type": "stream",
          "name": "stdout",
          "text": [
            "(512,)\n",
            "7096\n",
            "106536\n"
          ]
        }
      ]
    },
    {
      "cell_type": "code",
      "source": [
        "#shutil.rmtree('/content/valid/')\n",
        "%cd /content/\n",
        "!mkdir train"
      ],
      "metadata": {
        "colab": {
          "base_uri": "https://localhost:8080/"
        },
        "id": "V5ubgAXCYzWt",
        "outputId": "b904be23-e062-4d0a-ca01-10f02dfc6328"
      },
      "execution_count": null,
      "outputs": [
        {
          "output_type": "stream",
          "name": "stdout",
          "text": [
            "/content\n"
          ]
        }
      ]
    },
    {
      "cell_type": "code",
      "source": [
        "import torch\n",
        "import os\n",
        "\n",
        "target = '/content/train/'\n",
        "counter = 0\n",
        "flag = False\n",
        "\n",
        "tensor_list = []\n",
        "\n",
        "for idx, sample in enumerate(train):\n",
        "\n",
        "  if idx in train_endpoints:\n",
        "    tensor = torch.from_numpy(sample)\n",
        "    tensor_list.append(tensor)\n",
        "    \n",
        "    feature = torch.stack(tensor_list, axis = 0)\n",
        "    torch.save(feature, target + train_ori[idx]['frame_dir'] + '.pt', _use_new_zipfile_serialization = False)\n",
        "    tensor_list.clear()\n",
        "    counter += 1\n",
        "    if counter % 500 == 0:\n",
        "      print(counter, feature.shape)\n",
        "  else:\n",
        "    tensor = torch.from_numpy(sample)\n",
        "    tensor_list.append(tensor)\n",
        "\n",
        "print(len(os.listdir(target)))"
      ],
      "metadata": {
        "colab": {
          "base_uri": "https://localhost:8080/"
        },
        "id": "A_-9cZmzJeRr",
        "outputId": "45f0f1b6-fbfb-4dd2-d81b-8d0ccd1b463e"
      },
      "execution_count": null,
      "outputs": [
        {
          "output_type": "stream",
          "name": "stdout",
          "text": [
            "500 torch.Size([7, 512])\n",
            "1000 torch.Size([3, 512])\n",
            "1500 torch.Size([9, 512])\n",
            "2000 torch.Size([23, 512])\n",
            "2500 torch.Size([30, 512])\n",
            "3000 torch.Size([17, 512])\n",
            "3500 torch.Size([25, 512])\n",
            "4000 torch.Size([16, 512])\n",
            "4500 torch.Size([18, 512])\n",
            "5000 torch.Size([11, 512])\n",
            "5500 torch.Size([6, 512])\n",
            "6000 torch.Size([25, 512])\n",
            "6500 torch.Size([23, 512])\n",
            "7000 torch.Size([14, 512])\n",
            "7096\n"
          ]
        }
      ]
    },
    {
      "cell_type": "code",
      "source": [
        "%cd /content/train/\n",
        "!zip -r -q train.zip ./*"
      ],
      "metadata": {
        "colab": {
          "base_uri": "https://localhost:8080/"
        },
        "id": "P3BP7C4GJeO1",
        "outputId": "f16a9868-22d7-4ad5-f22e-b9326748342b"
      },
      "execution_count": null,
      "outputs": [
        {
          "output_type": "stream",
          "name": "stdout",
          "text": [
            "/content/train\n"
          ]
        }
      ]
    },
    {
      "cell_type": "code",
      "source": [
        "shutil.copy('/content/train/train.zip','/content/drive/MyDrive/pose-c3d/Phoenix2014T/17kpts')"
      ],
      "metadata": {
        "colab": {
          "base_uri": "https://localhost:8080/",
          "height": 34
        },
        "id": "bB5I7_HFJeLb",
        "outputId": "917b330c-02aa-4a62-fff5-c2a27f88c3f6"
      },
      "execution_count": null,
      "outputs": [
        {
          "output_type": "execute_result",
          "data": {
            "text/plain": [
              "'/content/drive/MyDrive/pose-c3d/Phoenix2014T/17kpts/train.zip'"
            ],
            "application/vnd.google.colaboratory.intrinsic+json": {
              "type": "string"
            }
          },
          "metadata": {},
          "execution_count": 43
        }
      ]
    },
    {
      "cell_type": "code",
      "source": [
        "import shutil\n",
        "shutil.unpack_archive('/content/drive/MyDrive/pose-c3d/Phoenix2014T/17kpts/train.zip','/content/train/')\n",
        "shutil.unpack_archive('/content/drive/MyDrive/pose-c3d/Phoenix2014T/17kpts/valid.zip','/content/valid/')"
      ],
      "metadata": {
        "id": "4-32b-C75SGJ"
      },
      "execution_count": null,
      "outputs": []
    },
    {
      "cell_type": "code",
      "source": [
        "source = f'/content/train/'\n",
        "\n",
        "train_set = []\n",
        "count = 0\n",
        "\n",
        "for sample in train_data:\n",
        "  name = sample['name'][6:] # train -> [6:] valid -> [4:]\n",
        "  tensor = torch.load(source + name + '.pt') # map_location = torch.device('cpu'))\n",
        "   \n",
        "  temp_dict = sample\n",
        "  temp_dict['sign'] = tensor\n",
        "\n",
        "  train_set.append(temp_dict)\n",
        "  count += 1\n",
        "  if count % 500 == 0:\n",
        "    print('count: {}, sample: {}, shape: {}'.format(count, name, temp_dict['sign'].shape))\n",
        "print(len(train_set))    "
      ],
      "metadata": {
        "colab": {
          "base_uri": "https://localhost:8080/"
        },
        "id": "ZdDlxhkM5SD0",
        "outputId": "bcbcf65b-773e-4e21-fd80-db9ba875081a"
      },
      "execution_count": null,
      "outputs": [
        {
          "output_type": "stream",
          "name": "stdout",
          "text": [
            "count: 500, sample: 18October_2010_Monday_heute-626, shape: torch.Size([25, 512])\n",
            "count: 1000, sample: 02August_2010_Monday_heute-1248, shape: torch.Size([12, 512])\n",
            "count: 1500, sample: 15February_2010_Monday_tagesschau-1850, shape: torch.Size([12, 512])\n",
            "count: 2000, sample: 15September_2010_Wednesday_heute-2474, shape: torch.Size([19, 512])\n",
            "count: 2500, sample: 21April_2010_Wednesday_heute-3116, shape: torch.Size([11, 512])\n",
            "count: 3000, sample: 24January_2011_Monday_tagesschau-3717, shape: torch.Size([4, 512])\n",
            "count: 3500, sample: 23May_2010_Sunday_tagesschau-4342, shape: torch.Size([17, 512])\n",
            "count: 4000, sample: 25April_2010_Sunday_tagesschau-4947, shape: torch.Size([17, 512])\n",
            "count: 4500, sample: 18November_2009_Wednesday_tagesschau-5589, shape: torch.Size([12, 512])\n",
            "count: 5000, sample: 18July_2010_Sunday_tagesschau-6225, shape: torch.Size([23, 512])\n",
            "count: 5500, sample: 10May_2010_Monday_tagesschau-6860, shape: torch.Size([26, 512])\n",
            "count: 6000, sample: 10December_2009_Thursday_tagesschau-7491, shape: torch.Size([10, 512])\n",
            "count: 6500, sample: 07April_2011_Thursday_tagesschau-8106, shape: torch.Size([5, 512])\n",
            "count: 7000, sample: 15July_2011_Friday_tagesschau-8722, shape: torch.Size([20, 512])\n",
            "7096\n"
          ]
        }
      ]
    },
    {
      "cell_type": "code",
      "source": [
        "source = f'/content/valid/'\n",
        "\n",
        "valid_set = []\n",
        "count = 0\n",
        "\n",
        "# valid_data -> authors'\n",
        "\n",
        "for sample in valid_data:\n",
        "  name = sample['name'][4:] # train -> [6:] valid -> [4:]\n",
        "  tensor = torch.load(source + name + '.pt') # map_location = torch.device('cpu'))\n",
        "   \n",
        "  temp_dict = sample\n",
        "  temp_dict['sign'] = tensor\n",
        "\n",
        "  valid_set.append(temp_dict)\n",
        "  count += 1\n",
        "  if count % 100 == 0:\n",
        "    print('count: {}, sample: {}, shape: {}'.format(count, name, temp_dict['sign'].shape))\n",
        "print(len(valid_set))     "
      ],
      "metadata": {
        "colab": {
          "base_uri": "https://localhost:8080/"
        },
        "id": "aobKRqPd5SAt",
        "outputId": "e1b4b12c-1a8c-4f91-b5e6-056a616398d9"
      },
      "execution_count": null,
      "outputs": [
        {
          "output_type": "stream",
          "name": "stdout",
          "text": [
            "count: 100, sample: 09March_2011_Wednesday_heute-1742, shape: torch.Size([21, 512])\n",
            "count: 200, sample: 27August_2009_Thursday_tagesschau-3284, shape: torch.Size([6, 512])\n",
            "count: 300, sample: 23August_2010_Monday_heute-5319, shape: torch.Size([9, 512])\n",
            "count: 400, sample: 06July_2011_Wednesday_tagesschau-6870, shape: torch.Size([20, 512])\n",
            "count: 500, sample: 28July_2011_Thursday_tagesschau-8521, shape: torch.Size([21, 512])\n",
            "519\n"
          ]
        }
      ]
    },
    {
      "cell_type": "code",
      "source": [
        "with open('/content/valid_dataset.pkl', 'wb') as f:\n",
        "  pickle.dump(valid_set, f)\n",
        "with open('/content/train_dataset.pkl', 'wb') as f:\n",
        "  pickle.dump(train_set, f)"
      ],
      "metadata": {
        "id": "NC_Hetmh5R7P"
      },
      "execution_count": null,
      "outputs": []
    },
    {
      "cell_type": "code",
      "source": [
        "!gzip -k /content/valid_dataset.pkl\n",
        "!gzip -k /content/train_dataset.pkl"
      ],
      "metadata": {
        "id": "hFOrFASn5R4I"
      },
      "execution_count": null,
      "outputs": []
    },
    {
      "cell_type": "code",
      "source": [
        "shutil.copy('/content/train_dataset.pkl.gz','/content/drive/MyDrive/pose-c3d/Phoenix2014T/17kpts/')\n",
        "shutil.copy('/content/valid_dataset.pkl.gz','/content/drive/MyDrive/pose-c3d/Phoenix2014T/17kpts/')"
      ],
      "metadata": {
        "colab": {
          "base_uri": "https://localhost:8080/",
          "height": 34
        },
        "id": "dYvRB9Un5R1H",
        "outputId": "587381c9-50d8-452b-f15b-cd37e6904038"
      },
      "execution_count": null,
      "outputs": [
        {
          "output_type": "execute_result",
          "data": {
            "text/plain": [
              "'/content/drive/MyDrive/pose-c3d/Phoenix2014T/17kpts/valid_dataset.pkl.gz'"
            ],
            "application/vnd.google.colaboratory.intrinsic+json": {
              "type": "string"
            }
          },
          "metadata": {},
          "execution_count": 13
        }
      ]
    },
    {
      "cell_type": "markdown",
      "source": [
        "# Pretrained Transformers"
      ],
      "metadata": {
        "id": "qapkoXIOe9rB"
      }
    },
    {
      "cell_type": "code",
      "source": [
        "import shutil\n",
        "shutil.copy('/content/drive/MyDrive/SLT-2020/Joint_Dataset/8_Finetuned/train_dataset.pkl.gz','/content/')\n",
        "shutil.copy('/content/drive/MyDrive/SLT-2020/Joint_Dataset/8_Finetuned/valid_dataset.pkl.gz','/content/')"
      ],
      "metadata": {
        "colab": {
          "base_uri": "https://localhost:8080/",
          "height": 34
        },
        "id": "1_ZRFrr7fA70",
        "outputId": "a110cb55-dcc3-4a23-bda0-239c9f5545eb"
      },
      "execution_count": null,
      "outputs": [
        {
          "output_type": "execute_result",
          "data": {
            "application/vnd.google.colaboratory.intrinsic+json": {
              "type": "string"
            },
            "text/plain": [
              "'/content/valid_dataset.pkl.gz'"
            ]
          },
          "metadata": {},
          "execution_count": 11
        }
      ]
    },
    {
      "cell_type": "code",
      "source": [
        "train = load_dataset_file('/content/train_dataset.pkl.gz')\n",
        "print(type(train))"
      ],
      "metadata": {
        "colab": {
          "base_uri": "https://localhost:8080/"
        },
        "id": "QIXne73VfQWg",
        "outputId": "0b2c7bba-002c-49ed-bdb8-77a0cef7707a"
      },
      "execution_count": null,
      "outputs": [
        {
          "output_type": "stream",
          "name": "stdout",
          "text": [
            "<class 'list'>\n"
          ]
        }
      ]
    },
    {
      "cell_type": "code",
      "source": [
        "train[0]['sign'].shape"
      ],
      "metadata": {
        "id": "bNlxyZuzfbQk",
        "outputId": "bb366f5b-e3f1-4cce-ffc5-2aed5fc1e3d7",
        "colab": {
          "base_uri": "https://localhost:8080/"
        }
      },
      "execution_count": null,
      "outputs": [
        {
          "output_type": "execute_result",
          "data": {
            "text/plain": [
              "torch.Size([11, 1152])"
            ]
          },
          "metadata": {},
          "execution_count": 13
        }
      ]
    },
    {
      "cell_type": "code",
      "source": [
        ""
      ],
      "metadata": {
        "id": "ghF9NEzxffKF"
      },
      "execution_count": null,
      "outputs": []
    },
    {
      "cell_type": "markdown",
      "source": [
        "# pose-c3d"
      ],
      "metadata": {
        "id": "raf29gY9GyRE"
      }
    },
    {
      "cell_type": "code",
      "source": [
        "import shutil\n",
        "shutil.copy('/content/drive/MyDrive/pose-c3d/ntu60_xsub_val.pkl','/content/')"
      ],
      "metadata": {
        "colab": {
          "base_uri": "https://localhost:8080/",
          "height": 34
        },
        "id": "zu3j_nKqG0iD",
        "outputId": "147cb2de-717c-4fe3-b77f-a0b1d6083cff"
      },
      "execution_count": null,
      "outputs": [
        {
          "output_type": "execute_result",
          "data": {
            "application/vnd.google.colaboratory.intrinsic+json": {
              "type": "string"
            },
            "text/plain": [
              "'/content/ntu60_xsub_val.pkl'"
            ]
          },
          "metadata": {},
          "execution_count": 2
        }
      ]
    },
    {
      "cell_type": "code",
      "source": [
        "import pickle\n",
        "\n",
        "with open('/content/ntu60_xsub_val.pkl', 'rb') as f:\n",
        "    data = pickle.load(f)\n",
        "print(type(data))\n",
        "print(len(data))\n",
        "print(type(data[0]))"
      ],
      "metadata": {
        "colab": {
          "base_uri": "https://localhost:8080/"
        },
        "id": "TnRqZLVPG0ch",
        "outputId": "a1623eeb-6044-4ab8-eb1a-37bf99777c0d"
      },
      "execution_count": null,
      "outputs": [
        {
          "output_type": "stream",
          "name": "stdout",
          "text": [
            "<class 'list'>\n",
            "16487\n",
            "<class 'dict'>\n"
          ]
        }
      ]
    },
    {
      "cell_type": "code",
      "source": [
        "data[0]"
      ],
      "metadata": {
        "id": "iLQ32Po5G0aW"
      },
      "execution_count": null,
      "outputs": []
    },
    {
      "cell_type": "code",
      "source": [
        "data[0]['keypoint'].shape # -> #person x #frames x #keypoints x #x,y "
      ],
      "metadata": {
        "colab": {
          "base_uri": "https://localhost:8080/"
        },
        "id": "mnbTlF7RG0BV",
        "outputId": "ed30eb04-ffe3-4aec-d2a1-49495c9a2bc0"
      },
      "execution_count": null,
      "outputs": [
        {
          "output_type": "execute_result",
          "data": {
            "text/plain": [
              "(1, 63, 17, 2)"
            ]
          },
          "metadata": {},
          "execution_count": 6
        }
      ]
    },
    {
      "cell_type": "code",
      "source": [
        "data[0]['keypoint_score'].shape # -> #person x #frames x #confidence"
      ],
      "metadata": {
        "colab": {
          "base_uri": "https://localhost:8080/"
        },
        "id": "bnINM4jwIUOi",
        "outputId": "407e9e16-cd14-47bc-914a-17a0f3cf6bf8"
      },
      "execution_count": null,
      "outputs": [
        {
          "output_type": "execute_result",
          "data": {
            "text/plain": [
              "(1, 63, 17)"
            ]
          },
          "metadata": {},
          "execution_count": 7
        }
      ]
    },
    {
      "cell_type": "code",
      "source": [
        ""
      ],
      "metadata": {
        "id": "Q8zN09zSJAIV"
      },
      "execution_count": null,
      "outputs": []
    },
    {
      "cell_type": "markdown",
      "source": [
        "# SL-GCN Joint 6 Frames"
      ],
      "metadata": {
        "id": "40aXjC_2Z9PR"
      }
    },
    {
      "cell_type": "code",
      "source": [
        "import shutil\n",
        "shutil.unpack_archive('/content/drive/MyDrive/SLT-2020/Joint_Dataset/6_Finetuned/train.zip','/content/train/')\n",
        "shutil.unpack_archive('/content/drive/MyDrive/SLT-2020/Joint_Dataset/6_Finetuned/valid.zip','/content/valid/')"
      ],
      "metadata": {
        "id": "x43Sxs0CZ-3a"
      },
      "execution_count": null,
      "outputs": []
    },
    {
      "cell_type": "code",
      "source": [
        "train_data[0]"
      ],
      "metadata": {
        "colab": {
          "base_uri": "https://localhost:8080/"
        },
        "id": "3kFKUn2IpJ_F",
        "outputId": "5e82ffc9-38cb-4ae3-973a-59685ee3ec49"
      },
      "execution_count": null,
      "outputs": [
        {
          "output_type": "execute_result",
          "data": {
            "text/plain": [
              "{'gloss': 'JETZT WETTER MORGEN DONNERSTAG ZWOELF FEBRUAR',\n",
              " 'name': 'train/11August_2010_Wednesday_tagesschau-1',\n",
              " 'sign': tensor([[0.0998, 0.0000, 0.1679,  ..., 0.0000, 0.0000, 0.0000],\n",
              "         [4.6956, 0.0000, 0.2897,  ..., 0.0000, 0.0000, 0.0000],\n",
              "         [6.8340, 0.0492, 0.0000,  ..., 0.0000, 0.0000, 0.0000],\n",
              "         ...,\n",
              "         [9.7269, 0.4355, 0.0000,  ..., 3.4021, 0.0000, 0.0000],\n",
              "         [8.1934, 0.3163, 0.0000,  ..., 0.0378, 0.0000, 0.0000],\n",
              "         [6.4664, 0.1839, 0.0000,  ..., 0.0000, 0.0000, 0.0000]]),\n",
              " 'signer': 'Signer08',\n",
              " 'text': 'und nun die wettervorhersage für morgen donnerstag den zwölften august .'}"
            ]
          },
          "metadata": {},
          "execution_count": 30
        }
      ]
    },
    {
      "cell_type": "code",
      "source": [
        "source = f'/content/train/'\n",
        "\n",
        "train_set = []\n",
        "count = 0\n",
        "\n",
        "for sample in train_data:\n",
        "  name = sample['name'][6:] # train -> [6:] valid -> [4:]\n",
        "  np_file = np.load(source + name + '.npy')\n",
        "  tensor_file = torch.from_numpy(np_file)\n",
        "  tensor_file = tensor_file.squeeze(1).reshape(tensor_file.shape[0], 1152, -1)\n",
        "  #print(tensor_file.shape)\n",
        "  tensor_file = tensor_file.mean(2)\n",
        "  #print(tensor_file.shape)\n",
        "  #break\n",
        "  \n",
        "\n",
        "  temp_dict = sample\n",
        "  temp_dict['sign'] = tensor_file\n",
        "\n",
        "  train_set.append(temp_dict)\n",
        "  count += 1\n",
        "  if count % 500 == 0:\n",
        "    print('count: {}, sample: {}, shape: {}'.format(count, name, temp_dict['sign'].shape))    "
      ],
      "metadata": {
        "colab": {
          "base_uri": "https://localhost:8080/"
        },
        "id": "X3lngGT2Z-r4",
        "outputId": "45eb3137-d267-4041-8f65-d960b1a4d948"
      },
      "execution_count": null,
      "outputs": [
        {
          "output_type": "stream",
          "name": "stdout",
          "text": [
            "count: 500, sample: 18October_2010_Monday_heute-626, shape: torch.Size([33, 1152])\n",
            "count: 1000, sample: 02August_2010_Monday_heute-1248, shape: torch.Size([16, 1152])\n",
            "count: 1500, sample: 15February_2010_Monday_tagesschau-1850, shape: torch.Size([16, 1152])\n",
            "count: 2000, sample: 15September_2010_Wednesday_heute-2474, shape: torch.Size([25, 1152])\n",
            "count: 2500, sample: 21April_2010_Wednesday_heute-3116, shape: torch.Size([15, 1152])\n",
            "count: 3000, sample: 24January_2011_Monday_tagesschau-3717, shape: torch.Size([6, 1152])\n",
            "count: 3500, sample: 23May_2010_Sunday_tagesschau-4342, shape: torch.Size([22, 1152])\n",
            "count: 4000, sample: 25April_2010_Sunday_tagesschau-4947, shape: torch.Size([22, 1152])\n",
            "count: 4500, sample: 18November_2009_Wednesday_tagesschau-5589, shape: torch.Size([16, 1152])\n",
            "count: 5000, sample: 18July_2010_Sunday_tagesschau-6225, shape: torch.Size([31, 1152])\n",
            "count: 5500, sample: 10May_2010_Monday_tagesschau-6860, shape: torch.Size([35, 1152])\n",
            "count: 6000, sample: 10December_2009_Thursday_tagesschau-7491, shape: torch.Size([14, 1152])\n",
            "count: 6500, sample: 07April_2011_Thursday_tagesschau-8106, shape: torch.Size([7, 1152])\n",
            "count: 7000, sample: 15July_2011_Friday_tagesschau-8722, shape: torch.Size([26, 1152])\n"
          ]
        }
      ]
    },
    {
      "cell_type": "code",
      "source": [
        "source = f'/content/valid/'\n",
        "\n",
        "valid_set = []\n",
        "count = 0\n",
        "\n",
        "for sample in valid_data:\n",
        "  name = sample['name'][4:] # train -> [6:] valid -> [4:]\n",
        "  np_file = np.load(source + name + '.npy')\n",
        "  tensor_file = torch.from_numpy(np_file)\n",
        "  tensor_file = tensor_file.squeeze(1).reshape(tensor_file.shape[0], 1152, -1)\n",
        "  #print(tensor_file.shape)\n",
        "  tensor_file = tensor_file.mean(2)\n",
        "\n",
        "  temp_dict = sample\n",
        "  temp_dict['sign'] = tensor_file\n",
        "\n",
        "  valid_set.append(temp_dict)\n",
        "  count += 1\n",
        "  if count % 50 == 0:\n",
        "    print('count: {}, sample: {}, shape: {}'.format(count, name, temp_dict['sign'].shape))    "
      ],
      "metadata": {
        "colab": {
          "base_uri": "https://localhost:8080/"
        },
        "id": "H47Tp1qsZ-fb",
        "outputId": "c695f28c-7f89-46a3-ded3-812a544331bc"
      },
      "execution_count": null,
      "outputs": [
        {
          "output_type": "stream",
          "name": "stdout",
          "text": [
            "count: 50, sample: 03February_2011_Thursday_tagesschau-938, shape: torch.Size([18, 1152])\n",
            "count: 100, sample: 09March_2011_Wednesday_heute-1742, shape: torch.Size([27, 1152])\n",
            "count: 150, sample: 25November_2010_Thursday_tagesschau-2529, shape: torch.Size([17, 1152])\n",
            "count: 200, sample: 27August_2009_Thursday_tagesschau-3284, shape: torch.Size([8, 1152])\n",
            "count: 250, sample: 26August_2010_Thursday_tagesschau-4265, shape: torch.Size([19, 1152])\n",
            "count: 300, sample: 23August_2010_Monday_heute-5319, shape: torch.Size([11, 1152])\n",
            "count: 350, sample: 24September_2009_Thursday_heute-6077, shape: torch.Size([28, 1152])\n",
            "count: 400, sample: 06July_2011_Wednesday_tagesschau-6870, shape: torch.Size([26, 1152])\n",
            "count: 450, sample: 03October_2012_Wednesday_tagesschau-7651, shape: torch.Size([17, 1152])\n",
            "count: 500, sample: 28July_2011_Thursday_tagesschau-8521, shape: torch.Size([28, 1152])\n"
          ]
        }
      ]
    },
    {
      "cell_type": "code",
      "source": [
        "print(len(train_set))\n",
        "print(len(valid_set))"
      ],
      "metadata": {
        "colab": {
          "base_uri": "https://localhost:8080/"
        },
        "id": "09A_W5ifZ-do",
        "outputId": "e845151b-504a-4348-ee13-4e92fe96e41b"
      },
      "execution_count": null,
      "outputs": [
        {
          "output_type": "stream",
          "name": "stdout",
          "text": [
            "7096\n",
            "519\n"
          ]
        }
      ]
    },
    {
      "cell_type": "code",
      "source": [
        "with open('/content/valid_dataset.pkl', 'wb') as f:\n",
        "  pickle.dump(valid_set, f)\n",
        "with open('/content/train_dataset.pkl', 'wb') as f:\n",
        "  pickle.dump(train_set, f)"
      ],
      "metadata": {
        "id": "s-oZ3LhJZ96q"
      },
      "execution_count": null,
      "outputs": []
    },
    {
      "cell_type": "code",
      "source": [
        "!gzip -k /content/valid_dataset.pkl\n",
        "!gzip -k /content/train_dataset.pkl"
      ],
      "metadata": {
        "id": "m6CID9gN7ZFS"
      },
      "execution_count": null,
      "outputs": []
    },
    {
      "cell_type": "code",
      "source": [
        "shutil.copy('/content/train_dataset.pkl.gz','/content/drive/MyDrive/SLT-2020/Joint_Dataset/6_Finetuned/1152/')\n",
        "shutil.copy('/content/valid_dataset.pkl.gz','/content/drive/MyDrive/SLT-2020/Joint_Dataset/6_Finetuned/1152/')"
      ],
      "metadata": {
        "colab": {
          "base_uri": "https://localhost:8080/",
          "height": 34
        },
        "id": "j9Hkit3q7dUZ",
        "outputId": "59991d3a-64f8-47f1-dcbc-9e593853c346"
      },
      "execution_count": null,
      "outputs": [
        {
          "output_type": "execute_result",
          "data": {
            "application/vnd.google.colaboratory.intrinsic+json": {
              "type": "string"
            },
            "text/plain": [
              "'/content/drive/MyDrive/SLT-2020/Joint_Dataset/6_Finetuned/1152/valid_dataset.pkl.gz'"
            ]
          },
          "metadata": {},
          "execution_count": 27
        }
      ]
    },
    {
      "cell_type": "code",
      "source": [
        ""
      ],
      "metadata": {
        "id": "WqXz6VCY7-Qm"
      },
      "execution_count": null,
      "outputs": []
    }
  ]
}