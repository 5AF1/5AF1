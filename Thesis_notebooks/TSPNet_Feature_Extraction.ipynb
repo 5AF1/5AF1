{
  "nbformat": 4,
  "nbformat_minor": 0,
  "metadata": {
    "colab": {
      "name": "TSPNet: Feature_Extraction.ipynb",
      "provenance": [],
      "collapsed_sections": [
        "-RLGqxlxiw8o"
      ]
    },
    "kernelspec": {
      "name": "python3",
      "display_name": "Python 3"
    },
    "language_info": {
      "name": "python"
    },
    "accelerator": "GPU"
  },
  "cells": [
    {
      "cell_type": "markdown",
      "source": [
        "1,2."
      ],
      "metadata": {
        "id": "mSCtqXGhkg7z"
      }
    },
    {
      "cell_type": "code",
      "metadata": {
        "colab": {
          "base_uri": "https://localhost:8080/"
        },
        "id": "fALlKXmYdXm4",
        "outputId": "b44cb032-6132-41a7-adfe-1ddb4f6eb078"
      },
      "source": [
        "from google.colab import drive\n",
        "drive.mount('/content/drive')"
      ],
      "execution_count": null,
      "outputs": [
        {
          "output_type": "stream",
          "name": "stdout",
          "text": [
            "Mounted at /content/drive\n"
          ]
        }
      ]
    },
    {
      "cell_type": "code",
      "metadata": {
        "colab": {
          "base_uri": "https://localhost:8080/"
        },
        "id": "bpohc_ktd8O6",
        "outputId": "edc1df56-c35a-4988-b3ec-cfdbeeacd5ba"
      },
      "source": [
        "!nvidia-smi -L"
      ],
      "execution_count": null,
      "outputs": [
        {
          "output_type": "stream",
          "name": "stdout",
          "text": [
            "GPU 0: Tesla K80 (UUID: GPU-44d6dad9-6268-aa00-6a36-0137b213581d)\n"
          ]
        }
      ]
    },
    {
      "cell_type": "markdown",
      "source": [
        "### skip"
      ],
      "metadata": {
        "id": "-RLGqxlxiw8o"
      }
    },
    {
      "cell_type": "code",
      "metadata": {
        "id": "3NRwl36_d-aW"
      },
      "source": [
        "import shutil\n",
        "shutil.unpack_archive(\"/content/drive/MyDrive/TSPNet/dataset/train/ts1.zip\",\"/content/train/\")"
      ],
      "execution_count": null,
      "outputs": []
    },
    {
      "cell_type": "code",
      "source": [
        "shutil.unpack_archive(\"/content/drive/MyDrive/TSPNet/dataset/train/ts2.zip\",\"/content/train/\")"
      ],
      "metadata": {
        "id": "3IciNEhLcghI"
      },
      "execution_count": null,
      "outputs": []
    },
    {
      "cell_type": "code",
      "source": [
        "shutil.unpack_archive(\"/content/drive/MyDrive/TSPNet/dataset/train/ts3.zip\",\"/content/train/\")"
      ],
      "metadata": {
        "id": "cjc5n8cmcgem"
      },
      "execution_count": null,
      "outputs": []
    },
    {
      "cell_type": "code",
      "source": [
        "shutil.unpack_archive(\"/content/drive/MyDrive/TSPNet/dataset/train/ts4.zip\",\"/content/train/\")"
      ],
      "metadata": {
        "id": "5R9HjKJ5cgcK"
      },
      "execution_count": null,
      "outputs": []
    },
    {
      "cell_type": "code",
      "source": [
        "shutil.unpack_archive(\"/content/drive/MyDrive/TSPNet/dataset/train/ts5.zip\",\"/content/train/\")"
      ],
      "metadata": {
        "id": "b3k9OvwscgZR"
      },
      "execution_count": null,
      "outputs": []
    },
    {
      "cell_type": "code",
      "source": [
        "shutil.unpack_archive(\"/content/drive/MyDrive/TSPNet/dataset/train/ts6.zip\",\"/content/train/\")"
      ],
      "metadata": {
        "id": "r5Wn4b-acmvs"
      },
      "execution_count": null,
      "outputs": []
    },
    {
      "cell_type": "code",
      "source": [
        "shutil.unpack_archive(\"/content/drive/MyDrive/TSPNet/dataset/train/ts7.zip\",\"/content/train/\")"
      ],
      "metadata": {
        "id": "wKQhQt2NcmtJ"
      },
      "execution_count": null,
      "outputs": []
    },
    {
      "cell_type": "code",
      "source": [
        "import os\n",
        "print(len(os.listdir('/content/train/')))"
      ],
      "metadata": {
        "colab": {
          "base_uri": "https://localhost:8080/"
        },
        "id": "dbLtVB_YcuCc",
        "outputId": "e4deeb43-07e1-4da1-dc78-b949b9180f2b"
      },
      "execution_count": null,
      "outputs": [
        {
          "output_type": "stream",
          "name": "stdout",
          "text": [
            "7096\n"
          ]
        }
      ]
    },
    {
      "cell_type": "code",
      "source": [
        "%cd /content/train"
      ],
      "metadata": {
        "colab": {
          "base_uri": "https://localhost:8080/"
        },
        "id": "qCjyKiB4ibYN",
        "outputId": "a047d450-043b-4e36-d621-bea99bfb44d2"
      },
      "execution_count": null,
      "outputs": [
        {
          "output_type": "stream",
          "name": "stdout",
          "text": [
            "/content/train\n"
          ]
        }
      ]
    },
    {
      "cell_type": "code",
      "source": [
        "!zip -r -q train_dataset.zip /content/train"
      ],
      "metadata": {
        "id": "xPWDORG0eUBt"
      },
      "execution_count": null,
      "outputs": []
    },
    {
      "cell_type": "code",
      "source": [
        "!cp -R /content/train/train_dataset.zip /content/drive/MyDrive/TSPNet/dataset/train/"
      ],
      "metadata": {
        "id": "pn0AmP_deer1"
      },
      "execution_count": null,
      "outputs": []
    },
    {
      "cell_type": "markdown",
      "source": [
        "### loop"
      ],
      "metadata": {
        "id": "WKDdqsihizEZ"
      }
    },
    {
      "cell_type": "code",
      "source": [
        "%cd /content"
      ],
      "metadata": {
        "colab": {
          "base_uri": "https://localhost:8080/"
        },
        "id": "DuqitSnvqnvh",
        "outputId": "797aa8c9-c5fb-4b0e-f609-6031ca57eed3"
      },
      "execution_count": null,
      "outputs": [
        {
          "output_type": "stream",
          "name": "stdout",
          "text": [
            "/content\n"
          ]
        }
      ]
    },
    {
      "cell_type": "code",
      "source": [
        "shutil.rmtree('/content/valid')"
      ],
      "metadata": {
        "id": "5aFJQcWBqMdF"
      },
      "execution_count": null,
      "outputs": []
    },
    {
      "cell_type": "code",
      "source": [
        "!mkdir train"
      ],
      "metadata": {
        "id": "_sR7yWNdnaVK"
      },
      "execution_count": null,
      "outputs": []
    },
    {
      "cell_type": "code",
      "source": [
        "import shutil\n",
        "shutil.unpack_archive(\"/content/drive/MyDrive/TSPNet/dataset/train/ts2.zip\",\"/content/train/\")"
      ],
      "metadata": {
        "id": "vwwK4LtGnS-o"
      },
      "execution_count": null,
      "outputs": []
    },
    {
      "cell_type": "markdown",
      "source": [
        "### continue"
      ],
      "metadata": {
        "id": "VYrS06a0qrre"
      }
    },
    {
      "cell_type": "code",
      "metadata": {
        "id": "v7V2qUS7d-YB"
      },
      "source": [
        "shutil.unpack_archive(\"/content/drive/MyDrive/TSPNet/code.zip\",\"/content/\")"
      ],
      "execution_count": null,
      "outputs": []
    },
    {
      "cell_type": "code",
      "metadata": {
        "id": "C8pQ-ATcd-TI"
      },
      "source": [
        "!mkdir output"
      ],
      "execution_count": null,
      "outputs": []
    },
    {
      "cell_type": "code",
      "metadata": {
        "colab": {
          "base_uri": "https://localhost:8080/"
        },
        "id": "NZ13_-gKjr3M",
        "outputId": "16bc9f6e-1281-45f4-e353-c2d131f9ff0d"
      },
      "source": [
        "%cd /content/code/"
      ],
      "execution_count": null,
      "outputs": [
        {
          "output_type": "stream",
          "name": "stdout",
          "text": [
            "/content/code\n"
          ]
        }
      ]
    },
    {
      "cell_type": "code",
      "metadata": {
        "colab": {
          "base_uri": "https://localhost:8080/"
        },
        "id": "eK2CrQ04k_IE",
        "outputId": "8f273c23-efb3-4694-d0d4-bacbc9e7e4c5"
      },
      "source": [
        "#import torch\n",
        "#torch.cuda.is_available()"
      ],
      "execution_count": null,
      "outputs": [
        {
          "output_type": "execute_result",
          "data": {
            "text/plain": [
              "True"
            ]
          },
          "metadata": {
            "tags": []
          },
          "execution_count": 10
        }
      ]
    },
    {
      "cell_type": "code",
      "metadata": {
        "id": "qJkIa-7ZnX23"
      },
      "source": [
        "#import shutil\n",
        "shutil.unpack_archive(\"/content/drive/MyDrive/SLT-2020/CNN_Dataset/I3D/Attempt-2/i3d-features_1.zip\",\"/content\")"
      ],
      "execution_count": null,
      "outputs": []
    },
    {
      "cell_type": "code",
      "source": [
        "import os\n",
        "len(os.listdir('/content/content/output2/span=8_stride=2'))"
      ],
      "metadata": {
        "colab": {
          "base_uri": "https://localhost:8080/"
        },
        "id": "VJGGStS3fbqu",
        "outputId": "a77e7a08-8582-4b72-e9c5-d5368be9701d"
      },
      "execution_count": null,
      "outputs": [
        {
          "output_type": "execute_result",
          "data": {
            "text/plain": [
              "1001"
            ]
          },
          "metadata": {},
          "execution_count": 9
        }
      ]
    },
    {
      "cell_type": "code",
      "source": [
        "shutil.copy('/content/drive/MyDrive/SLT-2020/CNN_Dataset/I3D/Attempt-2/FINAL_nslt_2000_iters=5104_top1=32.48_top5=57.31_top10=66.31.pt','/content/')"
      ],
      "metadata": {
        "colab": {
          "base_uri": "https://localhost:8080/",
          "height": 34
        },
        "id": "aPKf-hFWfqvd",
        "outputId": "f65397ba-3bdb-49b4-af7c-ef8661c590ef"
      },
      "execution_count": null,
      "outputs": [
        {
          "output_type": "execute_result",
          "data": {
            "application/vnd.google.colaboratory.intrinsic+json": {
              "type": "string"
            },
            "text/plain": [
              "'/content/FINAL_nslt_2000_iters=5104_top1=32.48_top5=57.31_top10=66.31.pt'"
            ]
          },
          "metadata": {},
          "execution_count": 10
        }
      ]
    },
    {
      "cell_type": "code",
      "source": [
        "import os\n",
        "\n",
        "import numpy as np\n",
        "import torch\n",
        "import cv2\n",
        "\n",
        "from models.pytorch_i3d import InceptionI3d\n",
        "\n",
        "os.environ['CUDA_VISIBLE_DEVICES'] = '0'\n",
        "\n",
        "def load_rgb_frames(image_dir, vid, start, num, desired_channel_order='rgb'):\n",
        "    frames = []\n",
        "    for i in range(start, start + num):\n",
        "        img = cv2.imread(os.path.join(image_dir, vid, \"images\" + str(i).zfill(4) + '.png'))\n",
        "\n",
        "        if desired_channel_order == 'bgr':\n",
        "            img = img[:, :, [2, 1, 0]]\n",
        "\n",
        "        img = (img / 255.) * 2 - 1\n",
        "        frames.append(img)\n",
        "    return np.asarray(frames, dtype=np.float32)\n",
        "\n",
        "\n",
        "def load_all_rgb_frames_from_folder(folder, desired_channel_order='rgb'):\n",
        "    frames = []\n",
        "\n",
        "    for fn in sorted(os.listdir(folder), key=lambda x: int(x[6:6+4])):\n",
        "        img = cv2.imread(os.path.join(folder, fn))\n",
        "        img = cv2.resize(img, dsize=(224, 224))\n",
        "\n",
        "        if desired_channel_order == 'bgr':\n",
        "            img = img[:, :, [2, 1, 0]]\n",
        "\n",
        "        img = (img / 255.) * 2 - 1\n",
        "        frames.append(img)\n",
        "    return np.asarray(frames, dtype=np.float32)\n",
        "\n",
        "\n",
        "def load_rgb_frames_from_video(vid_path, vid, start, num, resize=(256, 256), desired_channel_order='rgb'):\n",
        "    vidcap = cv2.VideoCapture(video_path)\n",
        "\n",
        "    frames = []\n",
        "\n",
        "    total_frames = vidcap.get(cv2.CAP_PROP_FRAME_COUNT)\n",
        "\n",
        "    vidcap.set(cv2.CAP_PROP_POS_FRAMES, start)\n",
        "    for offset in range(min(num, int(total_frames - start))):\n",
        "        success, img = vidcap.read()\n",
        "\n",
        "        w, h, c = img.shape\n",
        "        if w < 226 or h < 226:\n",
        "            d = 226. - min(w, h)\n",
        "            sc = 1 + d / min(w, h)\n",
        "            img = cv2.resize(img, dsize=(0, 0), fx=sc, fy=sc)\n",
        "\n",
        "        if w > 256 or h > 256:\n",
        "            img = cv2.resize(img, (math.ceil(w * (256 / w)), math.ceil(h * (256 / h))))\n",
        "\n",
        "        img = (img / 255.) * 2 - 1\n",
        "\n",
        "        if desired_channel_order == 'bgr':\n",
        "            img = img[:, :, [2, 1, 0]]\n",
        "\n",
        "        frames.append(img)\n",
        "\n",
        "    return np.asarray(frames, dtype=np.float32)\n",
        "\n",
        "\n",
        "def extract_features_fullvideo(model, inp, framespan, stride):\n",
        "    rv = []\n",
        "\n",
        "    indices = list(range(len(inp)))\n",
        "    groups = []\n",
        "    for ind in indices:\n",
        "\n",
        "        if ind % stride == 0:\n",
        "            groups.append(list(range(ind, ind+framespan)))\n",
        "\n",
        "    for g in groups:\n",
        "        # numpy array indexing will deal out-of-index case and return only till last available element\n",
        "        frames = inp[g[0]: min(g[-1]+1, inp.shape[0])]\n",
        "\n",
        "        num_pad = 9 - len(frames)\n",
        "        if num_pad > 0:\n",
        "            pad = np.tile(np.expand_dims(frames[-1], axis=0), (num_pad, 1, 1, 1))\n",
        "            frames = np.concatenate([frames, pad], axis=0)\n",
        "\n",
        "        frames = frames.transpose([3, 0, 1, 2])\n",
        "\n",
        "        ft = _extract_features(model, frames)\n",
        "\n",
        "        rv.append(ft)\n",
        "\n",
        "    return rv\n",
        "\n",
        "\n",
        "def _extract_features(model, frames):\n",
        "    inputs = torch.from_numpy(frames)\n",
        "\n",
        "    inputs = inputs.unsqueeze(0)\n",
        "\n",
        "    inputs = inputs.cuda()\n",
        "    with torch.no_grad():\n",
        "        ft = model.extract_features(inputs)\n",
        "    ft = ft.squeeze(-1).squeeze(-1)[0].transpose(0, 1)\n",
        "\n",
        "    ft = ft.cpu()\n",
        "\n",
        "    return ft\n",
        "\n",
        "\n",
        "def run(weight, frame_roots, outroot, inp_channels='rgb'):\n",
        "    frame_dirs = []\n",
        "\n",
        "    for root in frame_roots:\n",
        "        paths = sorted(os.listdir(root))\n",
        "\n",
        "        frame_dirs.extend([os.path.join(root, path) for path in paths])\n",
        "\n",
        "    # ===== setup models ======\n",
        "    i3d = InceptionI3d(400, in_channels=3)\n",
        "\n",
        "    i3d.replace_logits(2000)\n",
        "    #i3d.replace_logits(1232)\n",
        "\n",
        "    print('loading weights {}'.format(weight))\n",
        "    # i3d.load_state_dict(torch.load(weight))\n",
        "    i3d.load_state_dict(torch.load(weight))\n",
        "\n",
        "    i3d.cuda()\n",
        "    # i3d = nn.DataParallel(i3d)\n",
        "\n",
        "    print('feature extraction starts.')\n",
        "    i3d.train(False)  # Set model to evaluate mode\n",
        "\n",
        "    # ===== extract features ======\n",
        "    # for framespan, stride in [(4, 2), (16, 8), (32, 16)]:\n",
        "    for framespan, stride in [(8, 2)]:\n",
        "    # for framespan, stride in [(16, 8), (32, 16), (64, 32)]:\n",
        "\n",
        "        outdir = os.path.join(outroot, 'span={}_stride={}'.format(framespan, stride))\n",
        "\n",
        "        if not os.path.exists(outdir):\n",
        "            os.makedirs(outdir)\n",
        "\n",
        "\n",
        "        for ind, dir in enumerate(frame_dirs):\n",
        "            out_path = os.path.join(outdir, os.path.basename(dir)) + '.pt'\n",
        "\n",
        "            if os.path.exists(out_path):\n",
        "                print('{} exists, continue'.format(out_path))\n",
        "                continue\n",
        "\n",
        "            frames = load_all_rgb_frames_from_folder(dir, inp_channels)\n",
        "            features = extract_features_fullvideo(i3d, frames, framespan, stride)\n",
        "\n",
        "\n",
        "            if ind % 1 == 0:\n",
        "                print(ind, dir, len(features), features[0].shape)\n",
        "                #print(features.shape)\n",
        "                #print('\\n')\n",
        "\n",
        "            torch.save(features, os.path.join(outdir, os.path.basename(dir)) + '.pt',_use_new_zipfile_serialization=False)\n",
        "\n",
        "\n",
        "if __name__ == \"__main__\":\n",
        "    weight = '/content/FINAL_nslt_2000_iters=5104_top1=32.48_top5=57.31_top10=66.31.pt'\n",
        "\n",
        "    # ======= Extract Features for PHEOENIX-2014-T ========\n",
        "    frame_roots = [\n",
        "        '/content/train/'\n",
        "    ]\n",
        "\n",
        "    # out = '/home/dongxu/Dongxu/workspace/translation/data/PHOENIX-2014-T/features/i3d-features'\n",
        "    out = '/content/content/output2/'\n",
        "\n",
        "    run(weight, frame_roots, out, 'rgb')"
      ],
      "metadata": {
        "id": "rPNgqlTXp3gl",
        "colab": {
          "base_uri": "https://localhost:8080/"
        },
        "outputId": "9e4b8f19-dfbb-418e-b8c0-99882587b2fb"
      },
      "execution_count": null,
      "outputs": [
        {
          "output_type": "stream",
          "name": "stdout",
          "text": [
            "loading weights /content/FINAL_nslt_2000_iters=5104_top1=32.48_top5=57.31_top10=66.31.pt\n",
            "feature extraction starts.\n",
            "0 /content/train/05December_2011_Monday_heute-7425 56 torch.Size([1, 1024])\n",
            "1 /content/train/05December_2011_Monday_heute-7426 18 torch.Size([1, 1024])\n",
            "2 /content/train/05December_2011_Monday_heute-7427 113 torch.Size([1, 1024])\n",
            "3 /content/train/05December_2011_Monday_heute-7428 25 torch.Size([1, 1024])\n",
            "4 /content/train/05December_2011_Monday_heute-7429 42 torch.Size([1, 1024])\n",
            "5 /content/train/05December_2011_Monday_heute-7430 67 torch.Size([1, 1024])\n",
            "6 /content/train/05December_2011_Monday_heute-7431 91 torch.Size([1, 1024])\n",
            "7 /content/train/05December_2011_Monday_heute-7432 48 torch.Size([1, 1024])\n",
            "8 /content/train/05December_2011_Monday_heute-7433 62 torch.Size([1, 1024])\n",
            "9 /content/train/05December_2011_Monday_heute-7434 66 torch.Size([1, 1024])\n",
            "10 /content/train/05December_2011_Monday_heute-7435 47 torch.Size([1, 1024])\n",
            "11 /content/train/05December_2011_Monday_heute-7436 37 torch.Size([1, 1024])\n",
            "12 /content/train/05December_2011_Monday_heute-7437 66 torch.Size([1, 1024])\n",
            "13 /content/train/05December_2011_Monday_heute-7438 44 torch.Size([1, 1024])\n",
            "14 /content/train/05December_2011_Monday_heute-7439 58 torch.Size([1, 1024])\n",
            "15 /content/train/05December_2011_Monday_heute-7440 21 torch.Size([1, 1024])\n",
            "16 /content/train/05December_2011_Monday_tagesschau-4168 52 torch.Size([1, 1024])\n",
            "17 /content/train/05December_2011_Monday_tagesschau-4169 34 torch.Size([1, 1024])\n",
            "18 /content/train/05December_2011_Monday_tagesschau-4170 36 torch.Size([1, 1024])\n",
            "19 /content/train/05December_2011_Monday_tagesschau-4171 86 torch.Size([1, 1024])\n",
            "20 /content/train/05December_2011_Monday_tagesschau-4172 37 torch.Size([1, 1024])\n",
            "21 /content/train/05December_2011_Monday_tagesschau-4173 54 torch.Size([1, 1024])\n",
            "22 /content/train/05December_2011_Monday_tagesschau-4174 27 torch.Size([1, 1024])\n",
            "23 /content/train/05December_2011_Monday_tagesschau-4175 65 torch.Size([1, 1024])\n",
            "24 /content/train/05December_2011_Monday_tagesschau-4176 20 torch.Size([1, 1024])\n",
            "25 /content/train/05December_2011_Monday_tagesschau-4177 112 torch.Size([1, 1024])\n",
            "26 /content/train/05December_2011_Monday_tagesschau-4178 52 torch.Size([1, 1024])\n",
            "27 /content/train/05December_2011_Monday_tagesschau-4179 29 torch.Size([1, 1024])\n",
            "28 /content/train/05December_2011_Monday_tagesschau-4180 49 torch.Size([1, 1024])\n",
            "29 /content/train/05December_2011_Monday_tagesschau-4181 79 torch.Size([1, 1024])\n",
            "30 /content/train/05December_2011_Monday_tagesschau-4182 51 torch.Size([1, 1024])\n",
            "31 /content/train/05December_2011_Monday_tagesschau-4183 53 torch.Size([1, 1024])\n",
            "32 /content/train/05December_2011_Monday_tagesschau-4184 86 torch.Size([1, 1024])\n",
            "33 /content/train/05December_2011_Monday_tagesschau-4185 103 torch.Size([1, 1024])\n",
            "34 /content/train/05February_2010_Friday_tagesschau-2911 40 torch.Size([1, 1024])\n",
            "35 /content/train/05February_2010_Friday_tagesschau-2912 60 torch.Size([1, 1024])\n",
            "36 /content/train/05February_2010_Friday_tagesschau-2913 36 torch.Size([1, 1024])\n",
            "37 /content/train/05February_2010_Friday_tagesschau-2914 103 torch.Size([1, 1024])\n",
            "38 /content/train/05February_2010_Friday_tagesschau-2915 61 torch.Size([1, 1024])\n",
            "39 /content/train/05February_2010_Friday_tagesschau-2917 35 torch.Size([1, 1024])\n",
            "40 /content/train/05February_2010_Friday_tagesschau-2923 38 torch.Size([1, 1024])\n",
            "41 /content/train/05February_2011_Saturday_tagesschau-7850 52 torch.Size([1, 1024])\n",
            "42 /content/train/05February_2011_Saturday_tagesschau-7851 24 torch.Size([1, 1024])\n",
            "43 /content/train/05February_2011_Saturday_tagesschau-7852 66 torch.Size([1, 1024])\n",
            "44 /content/train/05February_2011_Saturday_tagesschau-7853 76 torch.Size([1, 1024])\n",
            "45 /content/train/05February_2011_Saturday_tagesschau-7857 46 torch.Size([1, 1024])\n",
            "46 /content/train/05February_2011_Saturday_tagesschau-7858 47 torch.Size([1, 1024])\n",
            "47 /content/train/05February_2011_Saturday_tagesschau-7859 50 torch.Size([1, 1024])\n",
            "48 /content/train/05February_2011_Saturday_tagesschau-7860 81 torch.Size([1, 1024])\n",
            "49 /content/train/05February_2011_Saturday_tagesschau-7861 62 torch.Size([1, 1024])\n",
            "50 /content/train/05February_2011_Saturday_tagesschau-7862 26 torch.Size([1, 1024])\n",
            "51 /content/train/05January_2010_Tuesday_tagesschau-2664 37 torch.Size([1, 1024])\n",
            "52 /content/train/05January_2010_Tuesday_tagesschau-2665 32 torch.Size([1, 1024])\n",
            "53 /content/train/05January_2010_Tuesday_tagesschau-2666 61 torch.Size([1, 1024])\n",
            "54 /content/train/05January_2010_Tuesday_tagesschau-2670 43 torch.Size([1, 1024])\n",
            "55 /content/train/05January_2010_Tuesday_tagesschau-2671 68 torch.Size([1, 1024])\n",
            "56 /content/train/05January_2010_Tuesday_tagesschau-2673 50 torch.Size([1, 1024])\n",
            "57 /content/train/05January_2010_Tuesday_tagesschau-2674 79 torch.Size([1, 1024])\n",
            "58 /content/train/05January_2010_Tuesday_tagesschau-2675 65 torch.Size([1, 1024])\n",
            "59 /content/train/05January_2010_Tuesday_tagesschau-2676 37 torch.Size([1, 1024])\n",
            "60 /content/train/05January_2011_Wednesday_heute-3532 31 torch.Size([1, 1024])\n",
            "61 /content/train/05January_2011_Wednesday_heute-3533 56 torch.Size([1, 1024])\n",
            "62 /content/train/05January_2011_Wednesday_heute-3534 113 torch.Size([1, 1024])\n",
            "63 /content/train/05January_2011_Wednesday_heute-3535 116 torch.Size([1, 1024])\n",
            "64 /content/train/05January_2011_Wednesday_heute-3536 109 torch.Size([1, 1024])\n",
            "65 /content/train/05January_2011_Wednesday_heute-3537 95 torch.Size([1, 1024])\n",
            "66 /content/train/05January_2011_Wednesday_heute-3538 56 torch.Size([1, 1024])\n",
            "67 /content/train/05January_2011_Wednesday_heute-3539 46 torch.Size([1, 1024])\n",
            "68 /content/train/05January_2011_Wednesday_heute-3540 63 torch.Size([1, 1024])\n",
            "69 /content/train/05January_2011_Wednesday_heute-3541 91 torch.Size([1, 1024])\n",
            "70 /content/train/05January_2011_Wednesday_heute-3542 58 torch.Size([1, 1024])\n",
            "71 /content/train/05January_2011_Wednesday_heute-3543 17 torch.Size([1, 1024])\n",
            "72 /content/train/05January_2011_Wednesday_heute-3544 94 torch.Size([1, 1024])\n",
            "73 /content/train/05January_2011_Wednesday_heute-3545 22 torch.Size([1, 1024])\n",
            "74 /content/train/05January_2011_Wednesday_tagesschau-2242 67 torch.Size([1, 1024])\n",
            "75 /content/train/05January_2011_Wednesday_tagesschau-2243 83 torch.Size([1, 1024])\n",
            "76 /content/train/05January_2011_Wednesday_tagesschau-2244 43 torch.Size([1, 1024])\n",
            "77 /content/train/05January_2011_Wednesday_tagesschau-2245 59 torch.Size([1, 1024])\n",
            "78 /content/train/05January_2011_Wednesday_tagesschau-2246 17 torch.Size([1, 1024])\n",
            "79 /content/train/05January_2011_Wednesday_tagesschau-2247 68 torch.Size([1, 1024])\n",
            "80 /content/train/05January_2011_Wednesday_tagesschau-2248 53 torch.Size([1, 1024])\n",
            "81 /content/train/05January_2011_Wednesday_tagesschau-2249 89 torch.Size([1, 1024])\n",
            "82 /content/train/05January_2011_Wednesday_tagesschau-2250 75 torch.Size([1, 1024])\n",
            "83 /content/train/05January_2011_Wednesday_tagesschau-2251 44 torch.Size([1, 1024])\n",
            "84 /content/train/05January_2011_Wednesday_tagesschau-2252 17 torch.Size([1, 1024])\n",
            "85 /content/train/05January_2011_Wednesday_tagesschau-2253 52 torch.Size([1, 1024])\n",
            "86 /content/train/05January_2011_Wednesday_tagesschau-2254 19 torch.Size([1, 1024])\n",
            "87 /content/train/05July_2009_Sunday_tagesschau-4440 51 torch.Size([1, 1024])\n",
            "88 /content/train/05July_2009_Sunday_tagesschau-4441 95 torch.Size([1, 1024])\n",
            "89 /content/train/05July_2009_Sunday_tagesschau-4442 71 torch.Size([1, 1024])\n",
            "90 /content/train/05July_2009_Sunday_tagesschau-4443 54 torch.Size([1, 1024])\n",
            "91 /content/train/05July_2009_Sunday_tagesschau-4444 37 torch.Size([1, 1024])\n",
            "92 /content/train/05July_2009_Sunday_tagesschau-4445 41 torch.Size([1, 1024])\n",
            "93 /content/train/05July_2009_Sunday_tagesschau-4446 35 torch.Size([1, 1024])\n",
            "94 /content/train/05July_2009_Sunday_tagesschau-4447 91 torch.Size([1, 1024])\n",
            "95 /content/train/05July_2009_Sunday_tagesschau-4448 65 torch.Size([1, 1024])\n",
            "96 /content/train/05July_2009_Sunday_tagesschau-4450 71 torch.Size([1, 1024])\n",
            "97 /content/train/05July_2009_Sunday_tagesschau-4451 29 torch.Size([1, 1024])\n",
            "98 /content/train/05July_2009_Sunday_tagesschau-4452 47 torch.Size([1, 1024])\n",
            "99 /content/train/05July_2009_Sunday_tagesschau-4453 70 torch.Size([1, 1024])\n",
            "100 /content/train/05July_2010_Monday_heute-8686 16 torch.Size([1, 1024])\n",
            "101 /content/train/05July_2010_Monday_heute-8687 83 torch.Size([1, 1024])\n",
            "102 /content/train/05July_2010_Monday_heute-8690 61 torch.Size([1, 1024])\n",
            "103 /content/train/05July_2010_Monday_heute-8691 39 torch.Size([1, 1024])\n",
            "104 /content/train/05July_2010_Monday_heute-8692 33 torch.Size([1, 1024])\n",
            "105 /content/train/05July_2010_Monday_heute-8693 66 torch.Size([1, 1024])\n",
            "106 /content/train/05July_2010_Monday_heute-8694 102 torch.Size([1, 1024])\n",
            "107 /content/train/05July_2010_Monday_heute-8695 51 torch.Size([1, 1024])\n",
            "108 /content/train/05July_2010_Monday_heute-8696 93 torch.Size([1, 1024])\n",
            "109 /content/train/05July_2010_Monday_heute-8697 118 torch.Size([1, 1024])\n",
            "110 /content/train/05July_2010_Monday_heute-8698 63 torch.Size([1, 1024])\n",
            "111 /content/train/05July_2010_Monday_heute-8699 17 torch.Size([1, 1024])\n",
            "112 /content/train/05July_2010_Monday_heute-8700 43 torch.Size([1, 1024])\n",
            "113 /content/train/05July_2010_Monday_heute-8701 53 torch.Size([1, 1024])\n",
            "114 /content/train/05July_2010_Monday_heute-8702 25 torch.Size([1, 1024])\n",
            "115 /content/train/05July_2010_Monday_tagesschau-1195 42 torch.Size([1, 1024])\n",
            "116 /content/train/05July_2010_Monday_tagesschau-1196 44 torch.Size([1, 1024])\n",
            "117 /content/train/05July_2010_Monday_tagesschau-1197 34 torch.Size([1, 1024])\n",
            "118 /content/train/05July_2010_Monday_tagesschau-1198 77 torch.Size([1, 1024])\n",
            "119 /content/train/05July_2010_Monday_tagesschau-1199 89 torch.Size([1, 1024])\n",
            "120 /content/train/05July_2010_Monday_tagesschau-1203 82 torch.Size([1, 1024])\n",
            "121 /content/train/05July_2010_Monday_tagesschau-1204 58 torch.Size([1, 1024])\n",
            "122 /content/train/05July_2010_Monday_tagesschau-1206 39 torch.Size([1, 1024])\n",
            "123 /content/train/05July_2010_Monday_tagesschau-1207 89 torch.Size([1, 1024])\n",
            "124 /content/train/05July_2011_Tuesday_tagesschau-6133 56 torch.Size([1, 1024])\n",
            "125 /content/train/05July_2011_Tuesday_tagesschau-6134 81 torch.Size([1, 1024])\n",
            "126 /content/train/05July_2011_Tuesday_tagesschau-6135 8 torch.Size([1, 1024])\n",
            "127 /content/train/05July_2011_Tuesday_tagesschau-6136 41 torch.Size([1, 1024])\n",
            "128 /content/train/05July_2011_Tuesday_tagesschau-6137 62 torch.Size([1, 1024])\n",
            "129 /content/train/05July_2011_Tuesday_tagesschau-6138 18 torch.Size([1, 1024])\n",
            "130 /content/train/05July_2011_Tuesday_tagesschau-6139 93 torch.Size([1, 1024])\n",
            "131 /content/train/05July_2011_Tuesday_tagesschau-6140 70 torch.Size([1, 1024])\n",
            "132 /content/train/05July_2011_Tuesday_tagesschau-6141 58 torch.Size([1, 1024])\n",
            "133 /content/train/05July_2011_Tuesday_tagesschau-6142 33 torch.Size([1, 1024])\n",
            "134 /content/train/05July_2011_Tuesday_tagesschau-6143 87 torch.Size([1, 1024])\n",
            "135 /content/train/05July_2011_Tuesday_tagesschau-6144 37 torch.Size([1, 1024])\n",
            "136 /content/train/05July_2011_Tuesday_tagesschau-6145 68 torch.Size([1, 1024])\n",
            "137 /content/train/05June_2010_Saturday_tagesschau-3923 105 torch.Size([1, 1024])\n",
            "138 /content/train/05June_2010_Saturday_tagesschau-3924 67 torch.Size([1, 1024])\n",
            "139 /content/train/05June_2010_Saturday_tagesschau-3927 41 torch.Size([1, 1024])\n",
            "140 /content/train/05June_2010_Saturday_tagesschau-3928 101 torch.Size([1, 1024])\n",
            "141 /content/train/05June_2010_Saturday_tagesschau-3929 79 torch.Size([1, 1024])\n",
            "142 /content/train/05June_2010_Saturday_tagesschau-3930 112 torch.Size([1, 1024])\n",
            "143 /content/train/05June_2010_Saturday_tagesschau-3931 98 torch.Size([1, 1024])\n",
            "144 /content/train/05June_2010_Saturday_tagesschau-3933 29 torch.Size([1, 1024])\n",
            "145 /content/train/05March_2011_Saturday_tagesschau-5438 39 torch.Size([1, 1024])\n",
            "146 /content/train/05March_2011_Saturday_tagesschau-5439 61 torch.Size([1, 1024])\n",
            "147 /content/train/05March_2011_Saturday_tagesschau-5440 76 torch.Size([1, 1024])\n",
            "148 /content/train/05March_2011_Saturday_tagesschau-5441 91 torch.Size([1, 1024])\n",
            "149 /content/train/05March_2011_Saturday_tagesschau-5444 57 torch.Size([1, 1024])\n",
            "150 /content/train/05March_2011_Saturday_tagesschau-5445 70 torch.Size([1, 1024])\n",
            "151 /content/train/05March_2011_Saturday_tagesschau-5446 48 torch.Size([1, 1024])\n",
            "152 /content/train/05March_2011_Saturday_tagesschau-5448 48 torch.Size([1, 1024])\n",
            "153 /content/train/05March_2011_Saturday_tagesschau-5449 40 torch.Size([1, 1024])\n",
            "154 /content/train/05March_2011_Saturday_tagesschau-5450 35 torch.Size([1, 1024])\n",
            "155 /content/train/05March_2011_Saturday_tagesschau-5451 28 torch.Size([1, 1024])\n",
            "156 /content/train/05May_2010_Wednesday_tagesschau-3347 52 torch.Size([1, 1024])\n",
            "157 /content/train/05May_2010_Wednesday_tagesschau-3349 46 torch.Size([1, 1024])\n",
            "158 /content/train/05May_2010_Wednesday_tagesschau-3350 62 torch.Size([1, 1024])\n",
            "159 /content/train/05May_2010_Wednesday_tagesschau-3351 26 torch.Size([1, 1024])\n",
            "160 /content/train/05May_2010_Wednesday_tagesschau-3354 30 torch.Size([1, 1024])\n",
            "161 /content/train/05May_2010_Wednesday_tagesschau-3355 52 torch.Size([1, 1024])\n",
            "162 /content/train/05May_2010_Wednesday_tagesschau-3356 55 torch.Size([1, 1024])\n",
            "163 /content/train/05May_2010_Wednesday_tagesschau-3357 69 torch.Size([1, 1024])\n",
            "164 /content/train/05May_2011_Thursday_heute-3739 23 torch.Size([1, 1024])\n",
            "165 /content/train/05May_2011_Thursday_heute-3740 55 torch.Size([1, 1024])\n",
            "166 /content/train/05May_2011_Thursday_heute-3741 42 torch.Size([1, 1024])\n",
            "167 /content/train/05May_2011_Thursday_heute-3742 22 torch.Size([1, 1024])\n",
            "168 /content/train/05May_2011_Thursday_heute-3743 130 torch.Size([1, 1024])\n",
            "169 /content/train/05May_2011_Thursday_heute-3744 74 torch.Size([1, 1024])\n",
            "170 /content/train/05May_2011_Thursday_heute-3745 117 torch.Size([1, 1024])\n",
            "171 /content/train/05May_2011_Thursday_heute-3746 97 torch.Size([1, 1024])\n",
            "172 /content/train/05May_2011_Thursday_heute-3748 64 torch.Size([1, 1024])\n",
            "173 /content/train/05May_2011_Thursday_heute-3749 80 torch.Size([1, 1024])\n",
            "174 /content/train/05May_2011_Thursday_heute-3750 117 torch.Size([1, 1024])\n",
            "175 /content/train/05May_2011_Thursday_heute-3751 19 torch.Size([1, 1024])\n",
            "176 /content/train/05May_2011_Thursday_tagesschau-26 104 torch.Size([1, 1024])\n",
            "177 /content/train/05May_2011_Thursday_tagesschau-27 61 torch.Size([1, 1024])\n",
            "178 /content/train/05May_2011_Thursday_tagesschau-28 76 torch.Size([1, 1024])\n",
            "179 /content/train/05May_2011_Thursday_tagesschau-29 116 torch.Size([1, 1024])\n",
            "180 /content/train/05May_2011_Thursday_tagesschau-30 41 torch.Size([1, 1024])\n",
            "181 /content/train/05May_2011_Thursday_tagesschau-31 62 torch.Size([1, 1024])\n",
            "182 /content/train/05May_2011_Thursday_tagesschau-32 53 torch.Size([1, 1024])\n",
            "183 /content/train/05May_2011_Thursday_tagesschau-33 62 torch.Size([1, 1024])\n",
            "184 /content/train/05May_2011_Thursday_tagesschau-34 69 torch.Size([1, 1024])\n",
            "185 /content/train/05May_2011_Thursday_tagesschau-35 71 torch.Size([1, 1024])\n",
            "186 /content/train/05November_2010_Friday_tagesschau-1866 60 torch.Size([1, 1024])\n",
            "187 /content/train/05November_2010_Friday_tagesschau-1867 56 torch.Size([1, 1024])\n",
            "188 /content/train/05November_2010_Friday_tagesschau-1868 76 torch.Size([1, 1024])\n",
            "189 /content/train/05November_2010_Friday_tagesschau-1869 21 torch.Size([1, 1024])\n",
            "190 /content/train/05November_2010_Friday_tagesschau-1870 30 torch.Size([1, 1024])\n",
            "191 /content/train/05November_2010_Friday_tagesschau-1871 59 torch.Size([1, 1024])\n",
            "192 /content/train/05November_2010_Friday_tagesschau-1874 123 torch.Size([1, 1024])\n",
            "193 /content/train/05November_2010_Friday_tagesschau-1875 56 torch.Size([1, 1024])\n",
            "194 /content/train/05November_2010_Friday_tagesschau-1876 53 torch.Size([1, 1024])\n",
            "195 /content/train/05November_2010_Friday_tagesschau-1877 64 torch.Size([1, 1024])\n",
            "196 /content/train/05November_2010_Friday_tagesschau-1878 63 torch.Size([1, 1024])\n",
            "197 /content/train/05October_2010_Tuesday_heute-1208 21 torch.Size([1, 1024])\n",
            "198 /content/train/05October_2010_Tuesday_heute-1209 33 torch.Size([1, 1024])\n",
            "199 /content/train/05October_2010_Tuesday_heute-1210 31 torch.Size([1, 1024])\n",
            "200 /content/train/05October_2010_Tuesday_heute-1211 46 torch.Size([1, 1024])\n",
            "201 /content/train/05October_2010_Tuesday_heute-1212 64 torch.Size([1, 1024])\n",
            "202 /content/train/05October_2010_Tuesday_heute-1213 33 torch.Size([1, 1024])\n",
            "203 /content/train/05October_2010_Tuesday_heute-1214 57 torch.Size([1, 1024])\n",
            "204 /content/train/05October_2010_Tuesday_heute-1215 34 torch.Size([1, 1024])\n",
            "205 /content/train/05October_2010_Tuesday_heute-1216 88 torch.Size([1, 1024])\n",
            "206 /content/train/05October_2010_Tuesday_heute-1217 95 torch.Size([1, 1024])\n",
            "207 /content/train/05October_2010_Tuesday_heute-1219 94 torch.Size([1, 1024])\n",
            "208 /content/train/05October_2010_Tuesday_heute-1220 84 torch.Size([1, 1024])\n",
            "209 /content/train/05October_2010_Tuesday_heute-1221 44 torch.Size([1, 1024])\n",
            "210 /content/train/05October_2010_Tuesday_heute-1222 52 torch.Size([1, 1024])\n",
            "211 /content/train/05October_2010_Tuesday_heute-1223 25 torch.Size([1, 1024])\n",
            "212 /content/train/05October_2010_Tuesday_tagesschau-4236 41 torch.Size([1, 1024])\n",
            "213 /content/train/05October_2010_Tuesday_tagesschau-4237 39 torch.Size([1, 1024])\n",
            "214 /content/train/05October_2010_Tuesday_tagesschau-4238 55 torch.Size([1, 1024])\n",
            "215 /content/train/05October_2010_Tuesday_tagesschau-4239 41 torch.Size([1, 1024])\n",
            "216 /content/train/05October_2010_Tuesday_tagesschau-4240 72 torch.Size([1, 1024])\n",
            "217 /content/train/05October_2010_Tuesday_tagesschau-4241 50 torch.Size([1, 1024])\n",
            "218 /content/train/05October_2010_Tuesday_tagesschau-4242 49 torch.Size([1, 1024])\n",
            "219 /content/train/05October_2010_Tuesday_tagesschau-4243 31 torch.Size([1, 1024])\n",
            "220 /content/train/05October_2010_Tuesday_tagesschau-4244 90 torch.Size([1, 1024])\n",
            "221 /content/train/05October_2010_Tuesday_tagesschau-4245 58 torch.Size([1, 1024])\n",
            "222 /content/train/05October_2010_Tuesday_tagesschau-4246 66 torch.Size([1, 1024])\n",
            "223 /content/train/05October_2010_Tuesday_tagesschau-4247 72 torch.Size([1, 1024])\n",
            "224 /content/train/05October_2010_Tuesday_tagesschau-4248 51 torch.Size([1, 1024])\n",
            "225 /content/train/05October_2011_Wednesday_heute-1070 56 torch.Size([1, 1024])\n",
            "226 /content/train/05October_2011_Wednesday_heute-1071 23 torch.Size([1, 1024])\n",
            "227 /content/train/05October_2011_Wednesday_heute-1072 129 torch.Size([1, 1024])\n",
            "228 /content/train/05October_2011_Wednesday_heute-1073 35 torch.Size([1, 1024])\n",
            "229 /content/train/05October_2011_Wednesday_heute-1074 84 torch.Size([1, 1024])\n",
            "230 /content/train/05October_2011_Wednesday_heute-1075 39 torch.Size([1, 1024])\n",
            "231 /content/train/05October_2011_Wednesday_heute-1076 109 torch.Size([1, 1024])\n",
            "232 /content/train/05October_2011_Wednesday_heute-1077 34 torch.Size([1, 1024])\n",
            "233 /content/train/05October_2011_Wednesday_heute-1078 59 torch.Size([1, 1024])\n",
            "234 /content/train/05October_2011_Wednesday_heute-1079 89 torch.Size([1, 1024])\n",
            "235 /content/train/05October_2011_Wednesday_heute-1080 97 torch.Size([1, 1024])\n",
            "236 /content/train/05October_2011_Wednesday_heute-1081 42 torch.Size([1, 1024])\n",
            "237 /content/train/05October_2011_Wednesday_heute-1082 17 torch.Size([1, 1024])\n",
            "238 /content/train/05September_2009_Saturday_tagesschau-4079 48 torch.Size([1, 1024])\n",
            "239 /content/train/05September_2009_Saturday_tagesschau-4080 44 torch.Size([1, 1024])\n",
            "240 /content/train/05September_2009_Saturday_tagesschau-4081 70 torch.Size([1, 1024])\n",
            "241 /content/train/05September_2009_Saturday_tagesschau-4083 101 torch.Size([1, 1024])\n",
            "242 /content/train/05September_2009_Saturday_tagesschau-4086 51 torch.Size([1, 1024])\n",
            "243 /content/train/05September_2009_Saturday_tagesschau-4087 57 torch.Size([1, 1024])\n",
            "244 /content/train/05September_2009_Saturday_tagesschau-4088 86 torch.Size([1, 1024])\n",
            "245 /content/train/05September_2009_Saturday_tagesschau-4089 110 torch.Size([1, 1024])\n",
            "246 /content/train/05September_2010_Sunday_tagesschau-3125 59 torch.Size([1, 1024])\n",
            "247 /content/train/05September_2010_Sunday_tagesschau-3126 37 torch.Size([1, 1024])\n",
            "248 /content/train/05September_2010_Sunday_tagesschau-3127 37 torch.Size([1, 1024])\n",
            "249 /content/train/05September_2010_Sunday_tagesschau-3128 85 torch.Size([1, 1024])\n",
            "250 /content/train/05September_2010_Sunday_tagesschau-3129 58 torch.Size([1, 1024])\n",
            "251 /content/train/05September_2010_Sunday_tagesschau-3130 43 torch.Size([1, 1024])\n",
            "252 /content/train/05September_2010_Sunday_tagesschau-3131 84 torch.Size([1, 1024])\n",
            "253 /content/train/05September_2010_Sunday_tagesschau-3133 62 torch.Size([1, 1024])\n",
            "254 /content/train/05September_2010_Sunday_tagesschau-3134 57 torch.Size([1, 1024])\n",
            "255 /content/train/05September_2010_Sunday_tagesschau-3135 50 torch.Size([1, 1024])\n",
            "256 /content/train/05September_2010_Sunday_tagesschau-3136 92 torch.Size([1, 1024])\n",
            "257 /content/train/05September_2010_Sunday_tagesschau-3137 23 torch.Size([1, 1024])\n",
            "258 /content/train/05September_2010_Sunday_tagesschau-3138 88 torch.Size([1, 1024])\n",
            "259 /content/train/06April_2010_Tuesday_heute-5973 44 torch.Size([1, 1024])\n",
            "260 /content/train/06April_2010_Tuesday_heute-5974 50 torch.Size([1, 1024])\n",
            "261 /content/train/06April_2010_Tuesday_heute-5975 53 torch.Size([1, 1024])\n",
            "262 /content/train/06April_2010_Tuesday_heute-5976 95 torch.Size([1, 1024])\n",
            "263 /content/train/06April_2010_Tuesday_heute-5977 23 torch.Size([1, 1024])\n",
            "264 /content/train/06April_2010_Tuesday_heute-5978 51 torch.Size([1, 1024])\n",
            "265 /content/train/06April_2010_Tuesday_heute-5980 62 torch.Size([1, 1024])\n",
            "266 /content/train/06April_2010_Tuesday_heute-5981 52 torch.Size([1, 1024])\n",
            "267 /content/train/06April_2010_Tuesday_heute-5982 88 torch.Size([1, 1024])\n",
            "268 /content/train/06April_2010_Tuesday_heute-5983 77 torch.Size([1, 1024])\n",
            "269 /content/train/06April_2010_Tuesday_heute-5984 15 torch.Size([1, 1024])\n",
            "270 /content/train/06April_2010_Tuesday_tagesschau-302 46 torch.Size([1, 1024])\n",
            "271 /content/train/06April_2010_Tuesday_tagesschau-303 69 torch.Size([1, 1024])\n",
            "272 /content/train/06April_2010_Tuesday_tagesschau-304 85 torch.Size([1, 1024])\n",
            "273 /content/train/06April_2010_Tuesday_tagesschau-305 109 torch.Size([1, 1024])\n",
            "274 /content/train/06April_2010_Tuesday_tagesschau-307 95 torch.Size([1, 1024])\n",
            "275 /content/train/06April_2010_Tuesday_tagesschau-311 92 torch.Size([1, 1024])\n",
            "276 /content/train/06April_2010_Tuesday_tagesschau-312 42 torch.Size([1, 1024])\n",
            "277 /content/train/06August_2010_Friday_tagesschau-2173 96 torch.Size([1, 1024])\n",
            "278 /content/train/06August_2010_Friday_tagesschau-2174 51 torch.Size([1, 1024])\n",
            "279 /content/train/06August_2010_Friday_tagesschau-2175 34 torch.Size([1, 1024])\n",
            "280 /content/train/06August_2010_Friday_tagesschau-2176 69 torch.Size([1, 1024])\n",
            "281 /content/train/06August_2010_Friday_tagesschau-2177 77 torch.Size([1, 1024])\n",
            "282 /content/train/06August_2010_Friday_tagesschau-2179 60 torch.Size([1, 1024])\n",
            "283 /content/train/06August_2010_Friday_tagesschau-2180 72 torch.Size([1, 1024])\n",
            "284 /content/train/06August_2010_Friday_tagesschau-2181 68 torch.Size([1, 1024])\n",
            "285 /content/train/06August_2010_Friday_tagesschau-2182 41 torch.Size([1, 1024])\n",
            "286 /content/train/06August_2010_Friday_tagesschau-2183 52 torch.Size([1, 1024])\n",
            "287 /content/train/06August_2010_Friday_tagesschau-2184 62 torch.Size([1, 1024])\n",
            "288 /content/train/06December_2009_Sunday_tagesschau-5507 48 torch.Size([1, 1024])\n",
            "289 /content/train/06December_2009_Sunday_tagesschau-5508 113 torch.Size([1, 1024])\n",
            "290 /content/train/06December_2009_Sunday_tagesschau-5509 38 torch.Size([1, 1024])\n",
            "291 /content/train/06December_2009_Sunday_tagesschau-5510 70 torch.Size([1, 1024])\n",
            "292 /content/train/06December_2009_Sunday_tagesschau-5511 38 torch.Size([1, 1024])\n",
            "293 /content/train/06December_2009_Sunday_tagesschau-5514 87 torch.Size([1, 1024])\n",
            "294 /content/train/06December_2009_Sunday_tagesschau-5515 61 torch.Size([1, 1024])\n",
            "295 /content/train/06December_2009_Sunday_tagesschau-5516 47 torch.Size([1, 1024])\n",
            "296 /content/train/06December_2009_Sunday_tagesschau-5517 119 torch.Size([1, 1024])\n",
            "297 /content/train/06December_2009_Sunday_tagesschau-5518 22 torch.Size([1, 1024])\n",
            "298 /content/train/06December_2010_Monday_heute-6198 34 torch.Size([1, 1024])\n",
            "299 /content/train/06December_2010_Monday_heute-6199 36 torch.Size([1, 1024])\n",
            "300 /content/train/06December_2010_Monday_heute-6200 28 torch.Size([1, 1024])\n",
            "301 /content/train/06December_2010_Monday_heute-6201 103 torch.Size([1, 1024])\n",
            "302 /content/train/06December_2010_Monday_heute-6202 85 torch.Size([1, 1024])\n",
            "303 /content/train/06December_2010_Monday_heute-6203 55 torch.Size([1, 1024])\n",
            "304 /content/train/06December_2010_Monday_heute-6204 65 torch.Size([1, 1024])\n",
            "305 /content/train/06December_2010_Monday_heute-6205 28 torch.Size([1, 1024])\n",
            "306 /content/train/06December_2010_Monday_heute-6206 92 torch.Size([1, 1024])\n",
            "307 /content/train/06December_2010_Monday_heute-6207 69 torch.Size([1, 1024])\n",
            "308 /content/train/06December_2010_Monday_heute-6208 56 torch.Size([1, 1024])\n",
            "309 /content/train/06December_2010_Monday_heute-6209 73 torch.Size([1, 1024])\n",
            "310 /content/train/06December_2010_Monday_heute-6210 70 torch.Size([1, 1024])\n",
            "311 /content/train/06December_2010_Monday_heute-6211 54 torch.Size([1, 1024])\n",
            "312 /content/train/06December_2010_Monday_heute-6212 47 torch.Size([1, 1024])\n",
            "313 /content/train/06December_2010_Monday_heute-6213 8 torch.Size([1, 1024])\n",
            "314 /content/train/06December_2011_Tuesday_heute-1537 19 torch.Size([1, 1024])\n",
            "315 /content/train/06December_2011_Tuesday_heute-1538 92 torch.Size([1, 1024])\n",
            "316 /content/train/06December_2011_Tuesday_heute-1539 69 torch.Size([1, 1024])\n",
            "317 /content/train/06December_2011_Tuesday_heute-1540 55 torch.Size([1, 1024])\n",
            "318 /content/train/06December_2011_Tuesday_heute-1541 56 torch.Size([1, 1024])\n",
            "319 /content/train/06December_2011_Tuesday_heute-1542 45 torch.Size([1, 1024])\n",
            "320 /content/train/06December_2011_Tuesday_heute-1543 60 torch.Size([1, 1024])\n",
            "321 /content/train/06December_2011_Tuesday_heute-1544 31 torch.Size([1, 1024])\n",
            "322 /content/train/06December_2011_Tuesday_heute-1545 58 torch.Size([1, 1024])\n",
            "323 /content/train/06December_2011_Tuesday_heute-1546 32 torch.Size([1, 1024])\n",
            "324 /content/train/06December_2011_Tuesday_heute-1547 66 torch.Size([1, 1024])\n",
            "325 /content/train/06December_2011_Tuesday_heute-1548 35 torch.Size([1, 1024])\n",
            "326 /content/train/06December_2011_Tuesday_heute-1549 74 torch.Size([1, 1024])\n",
            "327 /content/train/06December_2011_Tuesday_heute-1550 96 torch.Size([1, 1024])\n",
            "328 /content/train/06December_2011_Tuesday_heute-1551 47 torch.Size([1, 1024])\n",
            "329 /content/train/06December_2011_Tuesday_heute-1552 52 torch.Size([1, 1024])\n",
            "330 /content/train/06December_2011_Tuesday_tagesschau-6836 46 torch.Size([1, 1024])\n",
            "331 /content/train/06December_2011_Tuesday_tagesschau-6837 49 torch.Size([1, 1024])\n",
            "332 /content/train/06December_2011_Tuesday_tagesschau-6838 38 torch.Size([1, 1024])\n",
            "333 /content/train/06December_2011_Tuesday_tagesschau-6839 36 torch.Size([1, 1024])\n",
            "334 /content/train/06December_2011_Tuesday_tagesschau-6840 75 torch.Size([1, 1024])\n",
            "335 /content/train/06December_2011_Tuesday_tagesschau-6841 46 torch.Size([1, 1024])\n",
            "336 /content/train/06December_2011_Tuesday_tagesschau-6843 82 torch.Size([1, 1024])\n",
            "337 /content/train/06December_2011_Tuesday_tagesschau-6844 28 torch.Size([1, 1024])\n",
            "338 /content/train/06December_2011_Tuesday_tagesschau-6845 69 torch.Size([1, 1024])\n",
            "339 /content/train/06December_2011_Tuesday_tagesschau-6846 53 torch.Size([1, 1024])\n",
            "340 /content/train/06December_2011_Tuesday_tagesschau-6847 51 torch.Size([1, 1024])\n",
            "341 /content/train/06December_2011_Tuesday_tagesschau-6848 64 torch.Size([1, 1024])\n",
            "342 /content/train/06December_2011_Tuesday_tagesschau-6850 59 torch.Size([1, 1024])\n",
            "343 /content/train/06February_2010_Saturday_tagesschau-7357 58 torch.Size([1, 1024])\n",
            "344 /content/train/06February_2010_Saturday_tagesschau-7358 53 torch.Size([1, 1024])\n",
            "345 /content/train/06February_2010_Saturday_tagesschau-7359 36 torch.Size([1, 1024])\n",
            "346 /content/train/06February_2010_Saturday_tagesschau-7360 86 torch.Size([1, 1024])\n",
            "347 /content/train/06February_2010_Saturday_tagesschau-7361 84 torch.Size([1, 1024])\n",
            "348 /content/train/06February_2010_Saturday_tagesschau-7366 82 torch.Size([1, 1024])\n",
            "349 /content/train/06February_2010_Saturday_tagesschau-7367 48 torch.Size([1, 1024])\n",
            "350 /content/train/06February_2010_Saturday_tagesschau-7368 79 torch.Size([1, 1024])\n",
            "351 /content/train/06February_2010_Saturday_tagesschau-7369 58 torch.Size([1, 1024])\n",
            "352 /content/train/06February_2011_Sunday_tagesschau-6908 49 torch.Size([1, 1024])\n",
            "353 /content/train/06February_2011_Sunday_tagesschau-6909 46 torch.Size([1, 1024])\n",
            "354 /content/train/06February_2011_Sunday_tagesschau-6910 49 torch.Size([1, 1024])\n",
            "355 /content/train/06February_2011_Sunday_tagesschau-6911 100 torch.Size([1, 1024])\n",
            "356 /content/train/06February_2011_Sunday_tagesschau-6912 47 torch.Size([1, 1024])\n",
            "357 /content/train/06February_2011_Sunday_tagesschau-6913 84 torch.Size([1, 1024])\n",
            "358 /content/train/06February_2011_Sunday_tagesschau-6915 46 torch.Size([1, 1024])\n",
            "359 /content/train/06February_2011_Sunday_tagesschau-6916 66 torch.Size([1, 1024])\n",
            "360 /content/train/06February_2011_Sunday_tagesschau-6918 78 torch.Size([1, 1024])\n",
            "361 /content/train/06February_2011_Sunday_tagesschau-6919 49 torch.Size([1, 1024])\n",
            "362 /content/train/06February_2011_Sunday_tagesschau-6920 54 torch.Size([1, 1024])\n",
            "363 /content/train/06January_2010_Wednesday_heute-3518 24 torch.Size([1, 1024])\n",
            "364 /content/train/06January_2010_Wednesday_heute-3519 40 torch.Size([1, 1024])\n",
            "365 /content/train/06January_2010_Wednesday_heute-3520 65 torch.Size([1, 1024])\n",
            "366 /content/train/06January_2010_Wednesday_heute-3521 76 torch.Size([1, 1024])\n",
            "367 /content/train/06January_2010_Wednesday_heute-3522 116 torch.Size([1, 1024])\n",
            "368 /content/train/06January_2010_Wednesday_heute-3524 91 torch.Size([1, 1024])\n",
            "369 /content/train/06January_2010_Wednesday_heute-3526 53 torch.Size([1, 1024])\n",
            "370 /content/train/06January_2010_Wednesday_heute-3527 76 torch.Size([1, 1024])\n",
            "371 /content/train/06January_2010_Wednesday_heute-3528 34 torch.Size([1, 1024])\n",
            "372 /content/train/06January_2010_Wednesday_heute-3529 138 torch.Size([1, 1024])\n",
            "373 /content/train/06January_2010_Wednesday_tagesschau-7725 64 torch.Size([1, 1024])\n",
            "374 /content/train/06January_2010_Wednesday_tagesschau-7729 65 torch.Size([1, 1024])\n",
            "375 /content/train/06January_2010_Wednesday_tagesschau-7730 76 torch.Size([1, 1024])\n",
            "376 /content/train/06January_2010_Wednesday_tagesschau-7731 38 torch.Size([1, 1024])\n",
            "377 /content/train/06January_2010_Wednesday_tagesschau-7732 25 torch.Size([1, 1024])\n",
            "378 /content/train/06January_2010_Wednesday_tagesschau-7733 75 torch.Size([1, 1024])\n",
            "379 /content/train/06January_2010_Wednesday_tagesschau-7734 48 torch.Size([1, 1024])\n",
            "380 /content/train/06January_2010_Wednesday_tagesschau-7735 107 torch.Size([1, 1024])\n",
            "381 /content/train/06January_2011_Thursday_tagesschau-5639 42 torch.Size([1, 1024])\n",
            "382 /content/train/06January_2011_Thursday_tagesschau-5640 80 torch.Size([1, 1024])\n",
            "383 /content/train/06January_2011_Thursday_tagesschau-5642 46 torch.Size([1, 1024])\n",
            "384 /content/train/06January_2011_Thursday_tagesschau-5643 77 torch.Size([1, 1024])\n",
            "385 /content/train/06January_2011_Thursday_tagesschau-5644 39 torch.Size([1, 1024])\n",
            "386 /content/train/06January_2011_Thursday_tagesschau-5645 41 torch.Size([1, 1024])\n",
            "387 /content/train/06January_2011_Thursday_tagesschau-5646 96 torch.Size([1, 1024])\n",
            "388 /content/train/06January_2011_Thursday_tagesschau-5647 89 torch.Size([1, 1024])\n",
            "389 /content/train/06January_2011_Thursday_tagesschau-5648 53 torch.Size([1, 1024])\n",
            "390 /content/train/06January_2011_Thursday_tagesschau-5649 35 torch.Size([1, 1024])\n",
            "391 /content/train/06January_2011_Thursday_tagesschau-5650 76 torch.Size([1, 1024])\n",
            "392 /content/train/06January_2011_Thursday_tagesschau-5651 54 torch.Size([1, 1024])\n",
            "393 /content/train/06July_2009_Monday_tagesschau-2100 39 torch.Size([1, 1024])\n",
            "394 /content/train/06July_2009_Monday_tagesschau-2101 113 torch.Size([1, 1024])\n",
            "395 /content/train/06July_2009_Monday_tagesschau-2102 49 torch.Size([1, 1024])\n",
            "396 /content/train/06July_2009_Monday_tagesschau-2103 47 torch.Size([1, 1024])\n",
            "397 /content/train/06July_2009_Monday_tagesschau-2104 25 torch.Size([1, 1024])\n",
            "398 /content/train/06July_2009_Monday_tagesschau-2105 109 torch.Size([1, 1024])\n",
            "399 /content/train/06July_2009_Monday_tagesschau-2106 33 torch.Size([1, 1024])\n",
            "400 /content/train/06July_2009_Monday_tagesschau-2107 67 torch.Size([1, 1024])\n",
            "401 /content/train/06July_2009_Monday_tagesschau-2108 40 torch.Size([1, 1024])\n",
            "402 /content/train/06July_2009_Monday_tagesschau-2110 89 torch.Size([1, 1024])\n",
            "403 /content/train/06July_2009_Monday_tagesschau-2111 51 torch.Size([1, 1024])\n",
            "404 /content/train/06July_2010_Tuesday_tagesschau-2650 63 torch.Size([1, 1024])\n",
            "405 /content/train/06July_2010_Tuesday_tagesschau-2655 37 torch.Size([1, 1024])\n",
            "406 /content/train/06July_2010_Tuesday_tagesschau-2656 87 torch.Size([1, 1024])\n",
            "407 /content/train/06July_2010_Tuesday_tagesschau-2659 70 torch.Size([1, 1024])\n",
            "408 /content/train/06July_2010_Tuesday_tagesschau-2660 86 torch.Size([1, 1024])\n",
            "409 /content/train/06July_2010_Tuesday_tagesschau-2661 55 torch.Size([1, 1024])\n",
            "410 /content/train/06July_2010_Tuesday_tagesschau-2662 18 torch.Size([1, 1024])\n",
            "411 /content/train/06July_2010_Tuesday_tagesschau-2663 74 torch.Size([1, 1024])\n",
            "412 /content/train/06July_2011_Wednesday_tagesschau-6862 51 torch.Size([1, 1024])\n",
            "413 /content/train/06July_2011_Wednesday_tagesschau-6863 84 torch.Size([1, 1024])\n",
            "414 /content/train/06July_2011_Wednesday_tagesschau-6864 95 torch.Size([1, 1024])\n",
            "415 /content/train/06July_2011_Wednesday_tagesschau-6866 73 torch.Size([1, 1024])\n",
            "416 /content/train/06July_2011_Wednesday_tagesschau-6867 79 torch.Size([1, 1024])\n",
            "417 /content/train/06July_2011_Wednesday_tagesschau-6868 77 torch.Size([1, 1024])\n",
            "418 /content/train/06July_2011_Wednesday_tagesschau-6869 52 torch.Size([1, 1024])\n",
            "419 /content/train/06July_2011_Wednesday_tagesschau-6871 103 torch.Size([1, 1024])\n",
            "420 /content/train/06July_2011_Wednesday_tagesschau-6872 61 torch.Size([1, 1024])\n",
            "421 /content/train/06July_2011_Wednesday_tagesschau-6873 17 torch.Size([1, 1024])\n",
            "422 /content/train/06June_2010_Sunday_tagesschau-6358 48 torch.Size([1, 1024])\n",
            "423 /content/train/06June_2010_Sunday_tagesschau-6359 75 torch.Size([1, 1024])\n",
            "424 /content/train/06June_2010_Sunday_tagesschau-6360 30 torch.Size([1, 1024])\n",
            "425 /content/train/06June_2010_Sunday_tagesschau-6361 50 torch.Size([1, 1024])\n",
            "426 /content/train/06June_2010_Sunday_tagesschau-6362 10 torch.Size([1, 1024])\n",
            "427 /content/train/06June_2010_Sunday_tagesschau-6364 65 torch.Size([1, 1024])\n",
            "428 /content/train/06June_2010_Sunday_tagesschau-6365 63 torch.Size([1, 1024])\n",
            "429 /content/train/06June_2010_Sunday_tagesschau-6366 52 torch.Size([1, 1024])\n",
            "430 /content/train/06June_2010_Sunday_tagesschau-6367 51 torch.Size([1, 1024])\n",
            "431 /content/train/06June_2010_Sunday_tagesschau-6368 54 torch.Size([1, 1024])\n",
            "432 /content/train/06June_2010_Sunday_tagesschau-6369 69 torch.Size([1, 1024])\n",
            "433 /content/train/06June_2010_Sunday_tagesschau-6370 46 torch.Size([1, 1024])\n",
            "434 /content/train/06June_2010_Sunday_tagesschau-6371 65 torch.Size([1, 1024])\n",
            "435 /content/train/06March_2011_Sunday_tagesschau-3888 49 torch.Size([1, 1024])\n",
            "436 /content/train/06March_2011_Sunday_tagesschau-3889 75 torch.Size([1, 1024])\n",
            "437 /content/train/06March_2011_Sunday_tagesschau-3890 56 torch.Size([1, 1024])\n",
            "438 /content/train/06March_2011_Sunday_tagesschau-3891 106 torch.Size([1, 1024])\n",
            "439 /content/train/06March_2011_Sunday_tagesschau-3892 62 torch.Size([1, 1024])\n",
            "440 /content/train/06March_2011_Sunday_tagesschau-3893 111 torch.Size([1, 1024])\n",
            "441 /content/train/06March_2011_Sunday_tagesschau-3894 88 torch.Size([1, 1024])\n",
            "442 /content/train/06March_2011_Sunday_tagesschau-3895 73 torch.Size([1, 1024])\n",
            "443 /content/train/06March_2011_Sunday_tagesschau-3896 46 torch.Size([1, 1024])\n",
            "444 /content/train/06March_2011_Sunday_tagesschau-3897 71 torch.Size([1, 1024])\n",
            "445 /content/train/06March_2011_Sunday_tagesschau-3898 69 torch.Size([1, 1024])\n",
            "446 /content/train/06May_2010_Thursday_heute-1042 20 torch.Size([1, 1024])\n",
            "447 /content/train/06May_2010_Thursday_heute-1043 67 torch.Size([1, 1024])\n",
            "448 /content/train/06May_2010_Thursday_heute-1044 47 torch.Size([1, 1024])\n",
            "449 /content/train/06May_2010_Thursday_heute-1045 52 torch.Size([1, 1024])\n",
            "450 /content/train/06May_2010_Thursday_heute-1046 40 torch.Size([1, 1024])\n",
            "451 /content/train/06May_2010_Thursday_heute-1047 76 torch.Size([1, 1024])\n",
            "452 /content/train/06May_2010_Thursday_heute-1048 57 torch.Size([1, 1024])\n",
            "453 /content/train/06May_2010_Thursday_heute-1049 55 torch.Size([1, 1024])\n",
            "454 /content/train/06May_2010_Thursday_heute-1050 75 torch.Size([1, 1024])\n",
            "455 /content/train/06May_2010_Thursday_heute-1051 89 torch.Size([1, 1024])\n",
            "456 /content/train/06May_2010_Thursday_heute-1052 69 torch.Size([1, 1024])\n",
            "457 /content/train/06May_2010_Thursday_heute-1053 133 torch.Size([1, 1024])\n",
            "458 /content/train/06May_2010_Thursday_heute-1055 85 torch.Size([1, 1024])\n",
            "459 /content/train/06May_2010_Thursday_heute-1056 25 torch.Size([1, 1024])\n",
            "460 /content/train/06May_2010_Thursday_tagesschau-5733 44 torch.Size([1, 1024])\n",
            "461 /content/train/06May_2010_Thursday_tagesschau-5734 57 torch.Size([1, 1024])\n",
            "462 /content/train/06May_2010_Thursday_tagesschau-5735 26 torch.Size([1, 1024])\n",
            "463 /content/train/06May_2010_Thursday_tagesschau-5736 37 torch.Size([1, 1024])\n",
            "464 /content/train/06May_2010_Thursday_tagesschau-5737 46 torch.Size([1, 1024])\n",
            "465 /content/train/06May_2010_Thursday_tagesschau-5740 130 torch.Size([1, 1024])\n",
            "466 /content/train/06May_2010_Thursday_tagesschau-5741 96 torch.Size([1, 1024])\n",
            "467 /content/train/06May_2010_Thursday_tagesschau-5742 64 torch.Size([1, 1024])\n",
            "468 /content/train/06May_2010_Thursday_tagesschau-5743 53 torch.Size([1, 1024])\n",
            "469 /content/train/06May_2010_Thursday_tagesschau-5744 83 torch.Size([1, 1024])\n",
            "470 /content/train/06May_2010_Thursday_tagesschau-5745 49 torch.Size([1, 1024])\n",
            "471 /content/train/06May_2011_Friday_tagesschau-6428 43 torch.Size([1, 1024])\n",
            "472 /content/train/06May_2011_Friday_tagesschau-6429 59 torch.Size([1, 1024])\n",
            "473 /content/train/06May_2011_Friday_tagesschau-6430 39 torch.Size([1, 1024])\n",
            "474 /content/train/06May_2011_Friday_tagesschau-6431 52 torch.Size([1, 1024])\n",
            "475 /content/train/06May_2011_Friday_tagesschau-6432 64 torch.Size([1, 1024])\n",
            "476 /content/train/06May_2011_Friday_tagesschau-6433 100 torch.Size([1, 1024])\n",
            "477 /content/train/06May_2011_Friday_tagesschau-6437 83 torch.Size([1, 1024])\n",
            "478 /content/train/06May_2011_Friday_tagesschau-6439 47 torch.Size([1, 1024])\n",
            "479 /content/train/06November_2010_Saturday_tagesschau-1154 55 torch.Size([1, 1024])\n",
            "480 /content/train/06November_2010_Saturday_tagesschau-1155 34 torch.Size([1, 1024])\n",
            "481 /content/train/06November_2010_Saturday_tagesschau-1156 43 torch.Size([1, 1024])\n",
            "482 /content/train/06November_2010_Saturday_tagesschau-1157 22 torch.Size([1, 1024])\n",
            "483 /content/train/06November_2010_Saturday_tagesschau-1158 45 torch.Size([1, 1024])\n",
            "484 /content/train/06November_2010_Saturday_tagesschau-1159 89 torch.Size([1, 1024])\n",
            "485 /content/train/06November_2010_Saturday_tagesschau-1160 59 torch.Size([1, 1024])\n",
            "486 /content/train/06November_2010_Saturday_tagesschau-1161 85 torch.Size([1, 1024])\n",
            "487 /content/train/06November_2010_Saturday_tagesschau-1163 77 torch.Size([1, 1024])\n",
            "488 /content/train/06November_2010_Saturday_tagesschau-1164 60 torch.Size([1, 1024])\n",
            "489 /content/train/06November_2010_Saturday_tagesschau-1165 101 torch.Size([1, 1024])\n",
            "490 /content/train/06November_2010_Saturday_tagesschau-1166 33 torch.Size([1, 1024])\n",
            "491 /content/train/06October_2009_Tuesday_tagesschau-8154 49 torch.Size([1, 1024])\n",
            "492 /content/train/06October_2009_Tuesday_tagesschau-8155 90 torch.Size([1, 1024])\n",
            "493 /content/train/06October_2009_Tuesday_tagesschau-8156 91 torch.Size([1, 1024])\n",
            "494 /content/train/06October_2009_Tuesday_tagesschau-8157 96 torch.Size([1, 1024])\n",
            "495 /content/train/06October_2009_Tuesday_tagesschau-8158 79 torch.Size([1, 1024])\n",
            "496 /content/train/06October_2009_Tuesday_tagesschau-8159 23 torch.Size([1, 1024])\n",
            "497 /content/train/06October_2009_Tuesday_tagesschau-8160 95 torch.Size([1, 1024])\n",
            "498 /content/train/06October_2009_Tuesday_tagesschau-8161 57 torch.Size([1, 1024])\n",
            "499 /content/train/06October_2009_Tuesday_tagesschau-8162 55 torch.Size([1, 1024])\n",
            "500 /content/train/06October_2009_Tuesday_tagesschau-8163 81 torch.Size([1, 1024])\n",
            "501 /content/train/06October_2009_Tuesday_tagesschau-8164 53 torch.Size([1, 1024])\n",
            "502 /content/train/06October_2010_Wednesday_tagesschau-631 60 torch.Size([1, 1024])\n",
            "503 /content/train/06October_2010_Wednesday_tagesschau-633 62 torch.Size([1, 1024])\n",
            "504 /content/train/06October_2010_Wednesday_tagesschau-634 73 torch.Size([1, 1024])\n",
            "505 /content/train/06October_2010_Wednesday_tagesschau-635 69 torch.Size([1, 1024])\n",
            "506 /content/train/06October_2010_Wednesday_tagesschau-636 49 torch.Size([1, 1024])\n",
            "507 /content/train/06October_2010_Wednesday_tagesschau-637 60 torch.Size([1, 1024])\n",
            "508 /content/train/06October_2010_Wednesday_tagesschau-641 92 torch.Size([1, 1024])\n",
            "509 /content/train/06October_2010_Wednesday_tagesschau-642 41 torch.Size([1, 1024])\n",
            "510 /content/train/06October_2011_Thursday_heute-5533 75 torch.Size([1, 1024])\n",
            "511 /content/train/06October_2011_Thursday_heute-5536 57 torch.Size([1, 1024])\n",
            "512 /content/train/06October_2011_Thursday_heute-5537 51 torch.Size([1, 1024])\n",
            "513 /content/train/06October_2011_Thursday_heute-5538 43 torch.Size([1, 1024])\n",
            "514 /content/train/06October_2011_Thursday_heute-5539 46 torch.Size([1, 1024])\n",
            "515 /content/train/06October_2011_Thursday_heute-5540 24 torch.Size([1, 1024])\n",
            "516 /content/train/06October_2011_Thursday_heute-5541 62 torch.Size([1, 1024])\n",
            "517 /content/train/06October_2011_Thursday_heute-5542 24 torch.Size([1, 1024])\n",
            "518 /content/train/06October_2011_Thursday_heute-5543 42 torch.Size([1, 1024])\n",
            "519 /content/train/06October_2011_Thursday_heute-5545 45 torch.Size([1, 1024])\n",
            "520 /content/train/06October_2011_Thursday_heute-5546 32 torch.Size([1, 1024])\n",
            "521 /content/train/06October_2011_Thursday_heute-5547 40 torch.Size([1, 1024])\n",
            "522 /content/train/06October_2011_Thursday_heute-5548 20 torch.Size([1, 1024])\n",
            "523 /content/train/06October_2011_Thursday_tagesschau-817 60 torch.Size([1, 1024])\n",
            "524 /content/train/06October_2011_Thursday_tagesschau-818 45 torch.Size([1, 1024])\n",
            "525 /content/train/06October_2011_Thursday_tagesschau-819 38 torch.Size([1, 1024])\n",
            "526 /content/train/06October_2011_Thursday_tagesschau-820 39 torch.Size([1, 1024])\n",
            "527 /content/train/06October_2011_Thursday_tagesschau-821 50 torch.Size([1, 1024])\n",
            "528 /content/train/06October_2011_Thursday_tagesschau-822 70 torch.Size([1, 1024])\n",
            "529 /content/train/06October_2011_Thursday_tagesschau-824 68 torch.Size([1, 1024])\n",
            "530 /content/train/06October_2011_Thursday_tagesschau-826 50 torch.Size([1, 1024])\n",
            "531 /content/train/06October_2011_Thursday_tagesschau-827 48 torch.Size([1, 1024])\n",
            "532 /content/train/06October_2011_Thursday_tagesschau-828 38 torch.Size([1, 1024])\n",
            "533 /content/train/06October_2011_Thursday_tagesschau-829 37 torch.Size([1, 1024])\n",
            "534 /content/train/06October_2011_Thursday_tagesschau-830 36 torch.Size([1, 1024])\n",
            "535 /content/train/06October_2011_Thursday_tagesschau-831 42 torch.Size([1, 1024])\n",
            "536 /content/train/06October_2011_Thursday_tagesschau-832 48 torch.Size([1, 1024])\n",
            "537 /content/train/06October_2012_Saturday_tagesschau-8731 59 torch.Size([1, 1024])\n",
            "538 /content/train/06October_2012_Saturday_tagesschau-8732 85 torch.Size([1, 1024])\n",
            "539 /content/train/06October_2012_Saturday_tagesschau-8733 30 torch.Size([1, 1024])\n",
            "540 /content/train/06October_2012_Saturday_tagesschau-8734 30 torch.Size([1, 1024])\n",
            "541 /content/train/06October_2012_Saturday_tagesschau-8735 25 torch.Size([1, 1024])\n",
            "542 /content/train/06October_2012_Saturday_tagesschau-8736 40 torch.Size([1, 1024])\n",
            "543 /content/train/06October_2012_Saturday_tagesschau-8737 22 torch.Size([1, 1024])\n",
            "544 /content/train/06October_2012_Saturday_tagesschau-8738 57 torch.Size([1, 1024])\n",
            "545 /content/train/06October_2012_Saturday_tagesschau-8739 54 torch.Size([1, 1024])\n",
            "546 /content/train/06October_2012_Saturday_tagesschau-8740 56 torch.Size([1, 1024])\n",
            "547 /content/train/06October_2012_Saturday_tagesschau-8741 81 torch.Size([1, 1024])\n",
            "548 /content/train/06September_2009_Sunday_tagesschau-5300 59 torch.Size([1, 1024])\n",
            "549 /content/train/06September_2009_Sunday_tagesschau-5302 68 torch.Size([1, 1024])\n",
            "550 /content/train/06September_2009_Sunday_tagesschau-5303 66 torch.Size([1, 1024])\n",
            "551 /content/train/06September_2009_Sunday_tagesschau-5304 62 torch.Size([1, 1024])\n",
            "552 /content/train/06September_2009_Sunday_tagesschau-5305 37 torch.Size([1, 1024])\n",
            "553 /content/train/06September_2009_Sunday_tagesschau-5306 54 torch.Size([1, 1024])\n",
            "554 /content/train/06September_2009_Sunday_tagesschau-5307 20 torch.Size([1, 1024])\n",
            "555 /content/train/06September_2009_Sunday_tagesschau-5310 60 torch.Size([1, 1024])\n",
            "556 /content/train/06September_2009_Sunday_tagesschau-5311 47 torch.Size([1, 1024])\n",
            "557 /content/train/06September_2009_Sunday_tagesschau-5312 46 torch.Size([1, 1024])\n",
            "558 /content/train/06September_2009_Sunday_tagesschau-5313 50 torch.Size([1, 1024])\n",
            "559 /content/train/06September_2009_Sunday_tagesschau-5314 27 torch.Size([1, 1024])\n",
            "560 /content/train/06September_2010_Monday_tagesschau-1141 54 torch.Size([1, 1024])\n",
            "561 /content/train/06September_2010_Monday_tagesschau-1142 162 torch.Size([1, 1024])\n",
            "562 /content/train/06September_2010_Monday_tagesschau-1143 111 torch.Size([1, 1024])\n",
            "563 /content/train/06September_2010_Monday_tagesschau-1144 8 torch.Size([1, 1024])\n",
            "564 /content/train/06September_2010_Monday_tagesschau-1145 46 torch.Size([1, 1024])\n",
            "565 /content/train/06September_2010_Monday_tagesschau-1146 60 torch.Size([1, 1024])\n",
            "566 /content/train/06September_2010_Monday_tagesschau-1148 72 torch.Size([1, 1024])\n",
            "567 /content/train/06September_2010_Monday_tagesschau-1149 44 torch.Size([1, 1024])\n",
            "568 /content/train/06September_2010_Monday_tagesschau-1150 60 torch.Size([1, 1024])\n",
            "569 /content/train/06September_2010_Monday_tagesschau-1151 34 torch.Size([1, 1024])\n",
            "570 /content/train/06September_2010_Monday_tagesschau-1152 23 torch.Size([1, 1024])\n",
            "571 /content/train/07April_2010_Wednesday_heute-1620 23 torch.Size([1, 1024])\n",
            "572 /content/train/07April_2010_Wednesday_heute-1621 148 torch.Size([1, 1024])\n",
            "573 /content/train/07April_2010_Wednesday_heute-1622 75 torch.Size([1, 1024])\n",
            "574 /content/train/07April_2010_Wednesday_heute-1623 54 torch.Size([1, 1024])\n",
            "575 /content/train/07April_2010_Wednesday_heute-1624 57 torch.Size([1, 1024])\n",
            "576 /content/train/07April_2010_Wednesday_heute-1625 53 torch.Size([1, 1024])\n",
            "577 /content/train/07April_2010_Wednesday_heute-1627 109 torch.Size([1, 1024])\n",
            "578 /content/train/07April_2010_Wednesday_heute-1628 64 torch.Size([1, 1024])\n",
            "579 /content/train/07April_2010_Wednesday_heute-1629 40 torch.Size([1, 1024])\n",
            "580 /content/train/07April_2010_Wednesday_tagesschau-6025 87 torch.Size([1, 1024])\n",
            "581 /content/train/07April_2010_Wednesday_tagesschau-6026 42 torch.Size([1, 1024])\n",
            "582 /content/train/07April_2010_Wednesday_tagesschau-6027 50 torch.Size([1, 1024])\n",
            "583 /content/train/07April_2010_Wednesday_tagesschau-6028 75 torch.Size([1, 1024])\n",
            "584 /content/train/07April_2010_Wednesday_tagesschau-6031 60 torch.Size([1, 1024])\n",
            "585 /content/train/07April_2010_Wednesday_tagesschau-6032 70 torch.Size([1, 1024])\n",
            "586 /content/train/07April_2010_Wednesday_tagesschau-6033 62 torch.Size([1, 1024])\n",
            "587 /content/train/07April_2010_Wednesday_tagesschau-6034 69 torch.Size([1, 1024])\n",
            "588 /content/train/07April_2011_Thursday_tagesschau-8096 50 torch.Size([1, 1024])\n",
            "589 /content/train/07April_2011_Thursday_tagesschau-8097 77 torch.Size([1, 1024])\n",
            "590 /content/train/07April_2011_Thursday_tagesschau-8098 57 torch.Size([1, 1024])\n",
            "591 /content/train/07April_2011_Thursday_tagesschau-8099 65 torch.Size([1, 1024])\n",
            "592 /content/train/07April_2011_Thursday_tagesschau-8100 72 torch.Size([1, 1024])\n",
            "593 /content/train/07April_2011_Thursday_tagesschau-8103 64 torch.Size([1, 1024])\n",
            "594 /content/train/07April_2011_Thursday_tagesschau-8104 37 torch.Size([1, 1024])\n",
            "595 /content/train/07April_2011_Thursday_tagesschau-8105 49 torch.Size([1, 1024])\n",
            "596 /content/train/07April_2011_Thursday_tagesschau-8106 19 torch.Size([1, 1024])\n",
            "597 /content/train/07April_2011_Thursday_tagesschau-8107 68 torch.Size([1, 1024])\n",
            "598 /content/train/07August_2009_Friday_tagesschau-6161 38 torch.Size([1, 1024])\n",
            "599 /content/train/07August_2009_Friday_tagesschau-6162 58 torch.Size([1, 1024])\n",
            "600 /content/train/07August_2009_Friday_tagesschau-6163 18 torch.Size([1, 1024])\n",
            "601 /content/train/07August_2009_Friday_tagesschau-6164 44 torch.Size([1, 1024])\n",
            "602 /content/train/07August_2009_Friday_tagesschau-6166 32 torch.Size([1, 1024])\n",
            "603 /content/train/07August_2009_Friday_tagesschau-6167 20 torch.Size([1, 1024])\n",
            "604 /content/train/07August_2009_Friday_tagesschau-6168 75 torch.Size([1, 1024])\n",
            "605 /content/train/07August_2009_Friday_tagesschau-6169 39 torch.Size([1, 1024])\n",
            "606 /content/train/07August_2009_Friday_tagesschau-6170 16 torch.Size([1, 1024])\n",
            "607 /content/train/07August_2009_Friday_tagesschau-6171 25 torch.Size([1, 1024])\n",
            "608 /content/train/07August_2009_Friday_tagesschau-6172 22 torch.Size([1, 1024])\n",
            "609 /content/train/07August_2009_Friday_tagesschau-6173 26 torch.Size([1, 1024])\n",
            "610 /content/train/07August_2009_Friday_tagesschau-6174 37 torch.Size([1, 1024])\n",
            "611 /content/train/07August_2009_Friday_tagesschau-6175 29 torch.Size([1, 1024])\n",
            "612 /content/train/07August_2009_Friday_tagesschau-6176 50 torch.Size([1, 1024])\n",
            "613 /content/train/07August_2009_Friday_tagesschau-6177 22 torch.Size([1, 1024])\n",
            "614 /content/train/07August_2009_Friday_tagesschau-6178 39 torch.Size([1, 1024])\n",
            "615 /content/train/07December_2009_Monday_tagesschau-7096 46 torch.Size([1, 1024])\n",
            "616 /content/train/07December_2009_Monday_tagesschau-7097 39 torch.Size([1, 1024])\n",
            "617 /content/train/07December_2009_Monday_tagesschau-7098 33 torch.Size([1, 1024])\n",
            "618 /content/train/07December_2009_Monday_tagesschau-7099 61 torch.Size([1, 1024])\n",
            "619 /content/train/07December_2009_Monday_tagesschau-7100 65 torch.Size([1, 1024])\n",
            "620 /content/train/07December_2009_Monday_tagesschau-7101 48 torch.Size([1, 1024])\n",
            "621 /content/train/07December_2009_Monday_tagesschau-7102 60 torch.Size([1, 1024])\n",
            "622 /content/train/07December_2009_Monday_tagesschau-7104 68 torch.Size([1, 1024])\n",
            "623 /content/train/07December_2009_Monday_tagesschau-7105 42 torch.Size([1, 1024])\n",
            "624 /content/train/07December_2009_Monday_tagesschau-7106 40 torch.Size([1, 1024])\n",
            "625 /content/train/07December_2009_Monday_tagesschau-7107 59 torch.Size([1, 1024])\n",
            "626 /content/train/07December_2009_Monday_tagesschau-7108 21 torch.Size([1, 1024])\n",
            "627 /content/train/07December_2010_Tuesday_heute-5624 70 torch.Size([1, 1024])\n",
            "628 /content/train/07December_2010_Tuesday_heute-5625 25 torch.Size([1, 1024])\n",
            "629 /content/train/07December_2010_Tuesday_heute-5627 62 torch.Size([1, 1024])\n",
            "630 /content/train/07December_2010_Tuesday_heute-5628 92 torch.Size([1, 1024])\n",
            "631 /content/train/07December_2010_Tuesday_heute-5629 65 torch.Size([1, 1024])\n",
            "632 /content/train/07December_2010_Tuesday_heute-5630 63 torch.Size([1, 1024])\n",
            "633 /content/train/07December_2010_Tuesday_heute-5631 116 torch.Size([1, 1024])\n",
            "634 /content/train/07December_2010_Tuesday_heute-5634 92 torch.Size([1, 1024])\n",
            "635 /content/train/07December_2010_Tuesday_heute-5635 69 torch.Size([1, 1024])\n",
            "636 /content/train/07December_2010_Tuesday_heute-5636 62 torch.Size([1, 1024])\n",
            "637 /content/train/07December_2010_Tuesday_heute-5637 85 torch.Size([1, 1024])\n",
            "638 /content/train/07December_2010_Tuesday_heute-5638 32 torch.Size([1, 1024])\n",
            "639 /content/train/07December_2010_Tuesday_tagesschau-4144 51 torch.Size([1, 1024])\n",
            "640 /content/train/07December_2010_Tuesday_tagesschau-4145 71 torch.Size([1, 1024])\n",
            "641 /content/train/07December_2010_Tuesday_tagesschau-4146 66 torch.Size([1, 1024])\n",
            "642 /content/train/07December_2010_Tuesday_tagesschau-4147 74 torch.Size([1, 1024])\n",
            "643 /content/train/07December_2010_Tuesday_tagesschau-4148 78 torch.Size([1, 1024])\n",
            "644 /content/train/07December_2010_Tuesday_tagesschau-4149 71 torch.Size([1, 1024])\n",
            "645 /content/train/07December_2010_Tuesday_tagesschau-4150 46 torch.Size([1, 1024])\n",
            "646 /content/train/07December_2010_Tuesday_tagesschau-4151 61 torch.Size([1, 1024])\n",
            "647 /content/train/07December_2010_Tuesday_tagesschau-4153 80 torch.Size([1, 1024])\n",
            "648 /content/train/07December_2010_Tuesday_tagesschau-4154 27 torch.Size([1, 1024])\n",
            "649 /content/train/07December_2010_Tuesday_tagesschau-4156 71 torch.Size([1, 1024])\n",
            "650 /content/train/07December_2011_Wednesday_heute-7795 23 torch.Size([1, 1024])\n",
            "651 /content/train/07December_2011_Wednesday_heute-7796 26 torch.Size([1, 1024])\n",
            "652 /content/train/07December_2011_Wednesday_heute-7797 111 torch.Size([1, 1024])\n",
            "653 /content/train/07December_2011_Wednesday_heute-7799 54 torch.Size([1, 1024])\n",
            "654 /content/train/07December_2011_Wednesday_heute-7800 91 torch.Size([1, 1024])\n",
            "655 /content/train/07December_2011_Wednesday_heute-7801 36 torch.Size([1, 1024])\n",
            "656 /content/train/07December_2011_Wednesday_heute-7802 18 torch.Size([1, 1024])\n",
            "657 /content/train/07December_2011_Wednesday_heute-7803 90 torch.Size([1, 1024])\n",
            "658 /content/train/07December_2011_Wednesday_heute-7804 56 torch.Size([1, 1024])\n",
            "659 /content/train/07December_2011_Wednesday_heute-7805 62 torch.Size([1, 1024])\n",
            "660 /content/train/07December_2011_Wednesday_heute-7806 55 torch.Size([1, 1024])\n",
            "661 /content/train/07December_2011_Wednesday_heute-7807 81 torch.Size([1, 1024])\n",
            "662 /content/train/07December_2011_Wednesday_heute-7808 95 torch.Size([1, 1024])\n",
            "663 /content/train/07December_2011_Wednesday_heute-7809 38 torch.Size([1, 1024])\n",
            "664 /content/train/07December_2011_Wednesday_heute-7810 24 torch.Size([1, 1024])\n",
            "665 /content/train/07December_2011_Wednesday_tagesschau-5390 55 torch.Size([1, 1024])\n",
            "666 /content/train/07December_2011_Wednesday_tagesschau-5391 41 torch.Size([1, 1024])\n",
            "667 /content/train/07December_2011_Wednesday_tagesschau-5392 85 torch.Size([1, 1024])\n",
            "668 /content/train/07December_2011_Wednesday_tagesschau-5393 30 torch.Size([1, 1024])\n",
            "669 /content/train/07December_2011_Wednesday_tagesschau-5394 20 torch.Size([1, 1024])\n",
            "670 /content/train/07December_2011_Wednesday_tagesschau-5395 62 torch.Size([1, 1024])\n",
            "671 /content/train/07December_2011_Wednesday_tagesschau-5396 28 torch.Size([1, 1024])\n",
            "672 /content/train/07December_2011_Wednesday_tagesschau-5397 71 torch.Size([1, 1024])\n",
            "673 /content/train/07December_2011_Wednesday_tagesschau-5398 22 torch.Size([1, 1024])\n",
            "674 /content/train/07December_2011_Wednesday_tagesschau-5400 59 torch.Size([1, 1024])\n",
            "675 /content/train/07December_2011_Wednesday_tagesschau-5401 49 torch.Size([1, 1024])\n",
            "676 /content/train/07December_2011_Wednesday_tagesschau-5402 85 torch.Size([1, 1024])\n",
            "677 /content/train/07December_2011_Wednesday_tagesschau-5403 29 torch.Size([1, 1024])\n",
            "678 /content/train/07December_2011_Wednesday_tagesschau-5404 26 torch.Size([1, 1024])\n",
            "679 /content/train/07December_2011_Wednesday_tagesschau-5405 14 torch.Size([1, 1024])\n",
            "680 /content/train/07December_2011_Wednesday_tagesschau-5406 53 torch.Size([1, 1024])\n",
            "681 /content/train/07February_2010_Sunday_tagesschau-488 57 torch.Size([1, 1024])\n",
            "682 /content/train/07February_2010_Sunday_tagesschau-489 79 torch.Size([1, 1024])\n",
            "683 /content/train/07February_2010_Sunday_tagesschau-490 56 torch.Size([1, 1024])\n",
            "684 /content/train/07February_2010_Sunday_tagesschau-491 32 torch.Size([1, 1024])\n",
            "685 /content/train/07February_2010_Sunday_tagesschau-492 55 torch.Size([1, 1024])\n",
            "686 /content/train/07February_2010_Sunday_tagesschau-493 50 torch.Size([1, 1024])\n",
            "687 /content/train/07February_2010_Sunday_tagesschau-494 64 torch.Size([1, 1024])\n",
            "688 /content/train/07February_2010_Sunday_tagesschau-495 44 torch.Size([1, 1024])\n",
            "689 /content/train/07February_2010_Sunday_tagesschau-496 39 torch.Size([1, 1024])\n",
            "690 /content/train/07February_2010_Sunday_tagesschau-497 40 torch.Size([1, 1024])\n",
            "691 /content/train/07February_2010_Sunday_tagesschau-498 62 torch.Size([1, 1024])\n",
            "692 /content/train/07February_2010_Sunday_tagesschau-500 55 torch.Size([1, 1024])\n",
            "693 /content/train/07February_2010_Sunday_tagesschau-501 54 torch.Size([1, 1024])\n",
            "694 /content/train/07February_2010_Sunday_tagesschau-502 33 torch.Size([1, 1024])\n",
            "695 /content/train/07February_2011_Monday_heute-4659 67 torch.Size([1, 1024])\n",
            "696 /content/train/07February_2011_Monday_heute-4660 117 torch.Size([1, 1024])\n",
            "697 /content/train/07February_2011_Monday_heute-4662 103 torch.Size([1, 1024])\n",
            "698 /content/train/07February_2011_Monday_heute-4663 32 torch.Size([1, 1024])\n",
            "699 /content/train/07February_2011_Monday_heute-4664 58 torch.Size([1, 1024])\n",
            "700 /content/train/07February_2011_Monday_heute-4665 91 torch.Size([1, 1024])\n",
            "701 /content/train/07February_2011_Monday_heute-4666 67 torch.Size([1, 1024])\n",
            "702 /content/train/07February_2011_Monday_heute-4667 107 torch.Size([1, 1024])\n",
            "703 /content/train/07February_2011_Monday_heute-4668 59 torch.Size([1, 1024])\n",
            "704 /content/train/07February_2011_Monday_heute-4669 36 torch.Size([1, 1024])\n",
            "705 /content/train/07February_2011_Monday_heute-4670 23 torch.Size([1, 1024])\n",
            "706 /content/train/07February_2011_Monday_tagesschau-1608 53 torch.Size([1, 1024])\n",
            "707 /content/train/07February_2011_Monday_tagesschau-1609 75 torch.Size([1, 1024])\n",
            "708 /content/train/07February_2011_Monday_tagesschau-1610 70 torch.Size([1, 1024])\n",
            "709 /content/train/07February_2011_Monday_tagesschau-1611 156 torch.Size([1, 1024])\n",
            "710 /content/train/07February_2011_Monday_tagesschau-1614 64 torch.Size([1, 1024])\n",
            "711 /content/train/07February_2011_Monday_tagesschau-1615 46 torch.Size([1, 1024])\n",
            "712 /content/train/07February_2011_Monday_tagesschau-1616 87 torch.Size([1, 1024])\n",
            "713 /content/train/07February_2011_Monday_tagesschau-1617 85 torch.Size([1, 1024])\n",
            "714 /content/train/07February_2011_Monday_tagesschau-1618 52 torch.Size([1, 1024])\n",
            "715 /content/train/07January_2010_Thursday_tagesschau-2295 45 torch.Size([1, 1024])\n",
            "716 /content/train/07January_2010_Thursday_tagesschau-2296 99 torch.Size([1, 1024])\n",
            "717 /content/train/07January_2010_Thursday_tagesschau-2300 86 torch.Size([1, 1024])\n",
            "718 /content/train/07January_2010_Thursday_tagesschau-2303 45 torch.Size([1, 1024])\n",
            "719 /content/train/07January_2010_Thursday_tagesschau-2304 91 torch.Size([1, 1024])\n",
            "720 /content/train/07January_2010_Thursday_tagesschau-2305 38 torch.Size([1, 1024])\n",
            "721 /content/train/07June_2010_Monday_heute-2319 22 torch.Size([1, 1024])\n",
            "722 /content/train/07June_2010_Monday_heute-2320 50 torch.Size([1, 1024])\n",
            "723 /content/train/07June_2010_Monday_heute-2321 62 torch.Size([1, 1024])\n",
            "724 /content/train/07June_2010_Monday_heute-2323 95 torch.Size([1, 1024])\n",
            "725 /content/train/07June_2010_Monday_heute-2324 33 torch.Size([1, 1024])\n",
            "726 /content/train/07June_2010_Monday_heute-2325 31 torch.Size([1, 1024])\n",
            "727 /content/train/07June_2010_Monday_heute-2326 43 torch.Size([1, 1024])\n",
            "728 /content/train/07June_2010_Monday_heute-2328 101 torch.Size([1, 1024])\n",
            "729 /content/train/07June_2010_Monday_heute-2329 47 torch.Size([1, 1024])\n",
            "730 /content/train/07June_2010_Monday_heute-2330 98 torch.Size([1, 1024])\n",
            "731 /content/train/07June_2010_Monday_heute-2331 76 torch.Size([1, 1024])\n",
            "732 /content/train/07June_2010_Monday_heute-2332 73 torch.Size([1, 1024])\n",
            "733 /content/train/07June_2010_Monday_tagesschau-1555 50 torch.Size([1, 1024])\n",
            "734 /content/train/07June_2010_Monday_tagesschau-1556 52 torch.Size([1, 1024])\n",
            "735 /content/train/07June_2010_Monday_tagesschau-1557 93 torch.Size([1, 1024])\n",
            "736 /content/train/07June_2010_Monday_tagesschau-1558 59 torch.Size([1, 1024])\n",
            "737 /content/train/07June_2010_Monday_tagesschau-1559 62 torch.Size([1, 1024])\n",
            "738 /content/train/07June_2010_Monday_tagesschau-1560 89 torch.Size([1, 1024])\n",
            "739 /content/train/07June_2010_Monday_tagesschau-1561 64 torch.Size([1, 1024])\n",
            "740 /content/train/07June_2010_Monday_tagesschau-1562 48 torch.Size([1, 1024])\n",
            "741 /content/train/07June_2010_Monday_tagesschau-1563 74 torch.Size([1, 1024])\n",
            "742 /content/train/07June_2010_Monday_tagesschau-1564 112 torch.Size([1, 1024])\n",
            "743 /content/train/07June_2010_Monday_tagesschau-1565 41 torch.Size([1, 1024])\n",
            "744 /content/train/07June_2010_Monday_tagesschau-1566 40 torch.Size([1, 1024])\n",
            "745 /content/train/07May_2010_Friday_tagesschau-3602 52 torch.Size([1, 1024])\n",
            "746 /content/train/07May_2010_Friday_tagesschau-3603 31 torch.Size([1, 1024])\n",
            "747 /content/train/07May_2010_Friday_tagesschau-3604 80 torch.Size([1, 1024])\n",
            "748 /content/train/07May_2010_Friday_tagesschau-3605 60 torch.Size([1, 1024])\n",
            "749 /content/train/07May_2010_Friday_tagesschau-3606 106 torch.Size([1, 1024])\n",
            "750 /content/train/07May_2010_Friday_tagesschau-3607 35 torch.Size([1, 1024])\n",
            "751 /content/train/07May_2010_Friday_tagesschau-3608 52 torch.Size([1, 1024])\n",
            "752 /content/train/07May_2010_Friday_tagesschau-3609 47 torch.Size([1, 1024])\n",
            "753 /content/train/07May_2010_Friday_tagesschau-3610 71 torch.Size([1, 1024])\n",
            "754 /content/train/07May_2010_Friday_tagesschau-3611 39 torch.Size([1, 1024])\n",
            "755 /content/train/07May_2010_Friday_tagesschau-3612 27 torch.Size([1, 1024])\n",
            "756 /content/train/07May_2010_Friday_tagesschau-3614 111 torch.Size([1, 1024])\n",
            "757 /content/train/07May_2010_Friday_tagesschau-3615 17 torch.Size([1, 1024])\n",
            "758 /content/train/07May_2011_Saturday_tagesschau-108 49 torch.Size([1, 1024])\n",
            "759 /content/train/07May_2011_Saturday_tagesschau-109 65 torch.Size([1, 1024])\n",
            "760 /content/train/07May_2011_Saturday_tagesschau-110 100 torch.Size([1, 1024])\n",
            "761 /content/train/07May_2011_Saturday_tagesschau-111 66 torch.Size([1, 1024])\n",
            "762 /content/train/07May_2011_Saturday_tagesschau-112 89 torch.Size([1, 1024])\n",
            "763 /content/train/07May_2011_Saturday_tagesschau-114 64 torch.Size([1, 1024])\n",
            "764 /content/train/07May_2011_Saturday_tagesschau-115 53 torch.Size([1, 1024])\n",
            "765 /content/train/07May_2011_Saturday_tagesschau-116 67 torch.Size([1, 1024])\n",
            "766 /content/train/07May_2011_Saturday_tagesschau-117 80 torch.Size([1, 1024])\n",
            "767 /content/train/07May_2011_Saturday_tagesschau-118 57 torch.Size([1, 1024])\n",
            "768 /content/train/07May_2011_Saturday_tagesschau-119 54 torch.Size([1, 1024])\n",
            "769 /content/train/07November_2010_Sunday_tagesschau-1972 53 torch.Size([1, 1024])\n",
            "770 /content/train/07November_2010_Sunday_tagesschau-1973 96 torch.Size([1, 1024])\n",
            "771 /content/train/07November_2010_Sunday_tagesschau-1974 39 torch.Size([1, 1024])\n",
            "772 /content/train/07November_2010_Sunday_tagesschau-1975 87 torch.Size([1, 1024])\n",
            "773 /content/train/07November_2010_Sunday_tagesschau-1976 48 torch.Size([1, 1024])\n",
            "774 /content/train/07November_2010_Sunday_tagesschau-1977 99 torch.Size([1, 1024])\n",
            "775 /content/train/07November_2010_Sunday_tagesschau-1978 48 torch.Size([1, 1024])\n",
            "776 /content/train/07November_2010_Sunday_tagesschau-1979 99 torch.Size([1, 1024])\n",
            "777 /content/train/07November_2010_Sunday_tagesschau-1980 58 torch.Size([1, 1024])\n",
            "778 /content/train/07November_2010_Sunday_tagesschau-1981 53 torch.Size([1, 1024])\n",
            "779 /content/train/07November_2010_Sunday_tagesschau-1982 40 torch.Size([1, 1024])\n",
            "780 /content/train/07November_2010_Sunday_tagesschau-1983 52 torch.Size([1, 1024])\n",
            "781 /content/train/07November_2010_Sunday_tagesschau-1984 26 torch.Size([1, 1024])\n",
            "782 /content/train/07October_2010_Thursday_heute-8558 23 torch.Size([1, 1024])\n",
            "783 /content/train/07October_2010_Thursday_heute-8559 41 torch.Size([1, 1024])\n",
            "784 /content/train/07October_2010_Thursday_heute-8560 31 torch.Size([1, 1024])\n",
            "785 /content/train/07October_2010_Thursday_heute-8561 69 torch.Size([1, 1024])\n",
            "786 /content/train/07October_2010_Thursday_heute-8562 50 torch.Size([1, 1024])\n",
            "787 /content/train/07October_2010_Thursday_heute-8563 33 torch.Size([1, 1024])\n",
            "788 /content/train/07October_2010_Thursday_heute-8564 52 torch.Size([1, 1024])\n",
            "789 /content/train/07October_2010_Thursday_heute-8565 59 torch.Size([1, 1024])\n",
            "790 /content/train/07October_2010_Thursday_heute-8566 76 torch.Size([1, 1024])\n",
            "791 /content/train/07October_2010_Thursday_heute-8567 31 torch.Size([1, 1024])\n",
            "792 /content/train/07October_2010_Thursday_heute-8569 52 torch.Size([1, 1024])\n",
            "793 /content/train/07October_2010_Thursday_heute-8570 69 torch.Size([1, 1024])\n",
            "794 /content/train/07October_2010_Thursday_heute-8571 58 torch.Size([1, 1024])\n",
            "795 /content/train/07October_2010_Thursday_heute-8572 78 torch.Size([1, 1024])\n",
            "796 /content/train/07October_2010_Thursday_heute-8573 25 torch.Size([1, 1024])\n",
            "797 /content/train/07October_2010_Thursday_tagesschau-4118 42 torch.Size([1, 1024])\n",
            "798 /content/train/07October_2010_Thursday_tagesschau-4119 95 torch.Size([1, 1024])\n",
            "799 /content/train/07October_2010_Thursday_tagesschau-4120 35 torch.Size([1, 1024])\n",
            "800 /content/train/07October_2010_Thursday_tagesschau-4123 45 torch.Size([1, 1024])\n",
            "801 /content/train/07October_2010_Thursday_tagesschau-4124 31 torch.Size([1, 1024])\n",
            "802 /content/train/07October_2010_Thursday_tagesschau-4125 50 torch.Size([1, 1024])\n",
            "803 /content/train/07October_2010_Thursday_tagesschau-4126 45 torch.Size([1, 1024])\n",
            "804 /content/train/07October_2010_Thursday_tagesschau-4130 72 torch.Size([1, 1024])\n",
            "805 /content/train/07October_2012_Sunday_tagesschau-3024 39 torch.Size([1, 1024])\n",
            "806 /content/train/07October_2012_Sunday_tagesschau-3027 70 torch.Size([1, 1024])\n",
            "807 /content/train/07October_2012_Sunday_tagesschau-3028 65 torch.Size([1, 1024])\n",
            "808 /content/train/07October_2012_Sunday_tagesschau-3029 34 torch.Size([1, 1024])\n",
            "809 /content/train/07October_2012_Sunday_tagesschau-3030 33 torch.Size([1, 1024])\n",
            "810 /content/train/07October_2012_Sunday_tagesschau-3031 95 torch.Size([1, 1024])\n",
            "811 /content/train/07October_2012_Sunday_tagesschau-3034 42 torch.Size([1, 1024])\n",
            "812 /content/train/07October_2012_Sunday_tagesschau-3035 26 torch.Size([1, 1024])\n",
            "813 /content/train/07October_2012_Sunday_tagesschau-3036 50 torch.Size([1, 1024])\n",
            "814 /content/train/07October_2012_Sunday_tagesschau-3037 94 torch.Size([1, 1024])\n",
            "815 /content/train/07October_2012_Sunday_tagesschau-3038 35 torch.Size([1, 1024])\n",
            "816 /content/train/07October_2012_Sunday_tagesschau-3039 38 torch.Size([1, 1024])\n",
            "817 /content/train/07September_2010_Tuesday_tagesschau-1946 73 torch.Size([1, 1024])\n",
            "818 /content/train/07September_2010_Tuesday_tagesschau-1947 54 torch.Size([1, 1024])\n",
            "819 /content/train/07September_2010_Tuesday_tagesschau-1948 16 torch.Size([1, 1024])\n",
            "820 /content/train/07September_2010_Tuesday_tagesschau-1949 54 torch.Size([1, 1024])\n",
            "821 /content/train/07September_2010_Tuesday_tagesschau-1951 33 torch.Size([1, 1024])\n",
            "822 /content/train/07September_2010_Tuesday_tagesschau-1952 66 torch.Size([1, 1024])\n",
            "823 /content/train/07September_2010_Tuesday_tagesschau-1953 31 torch.Size([1, 1024])\n",
            "824 /content/train/07September_2010_Tuesday_tagesschau-1955 43 torch.Size([1, 1024])\n",
            "825 /content/train/07September_2010_Tuesday_tagesschau-1956 55 torch.Size([1, 1024])\n",
            "826 /content/train/07September_2010_Tuesday_tagesschau-1957 58 torch.Size([1, 1024])\n",
            "827 /content/train/07September_2010_Tuesday_tagesschau-1958 13 torch.Size([1, 1024])\n",
            "828 /content/train/07September_2010_Tuesday_tagesschau-1959 61 torch.Size([1, 1024])\n",
            "829 /content/train/08April_2010_Thursday_heute-4000 23 torch.Size([1, 1024])\n",
            "830 /content/train/08April_2010_Thursday_heute-4001 78 torch.Size([1, 1024])\n",
            "831 /content/train/08April_2010_Thursday_heute-4002 53 torch.Size([1, 1024])\n",
            "832 /content/train/08April_2010_Thursday_heute-4003 47 torch.Size([1, 1024])\n",
            "833 /content/train/08April_2010_Thursday_heute-4005 111 torch.Size([1, 1024])\n",
            "834 /content/train/08April_2010_Thursday_heute-4006 42 torch.Size([1, 1024])\n",
            "835 /content/train/08April_2010_Thursday_heute-4007 133 torch.Size([1, 1024])\n",
            "836 /content/train/08April_2010_Thursday_heute-4008 65 torch.Size([1, 1024])\n",
            "837 /content/train/08April_2010_Thursday_heute-4009 88 torch.Size([1, 1024])\n",
            "838 /content/train/08April_2010_Thursday_heute-4010 42 torch.Size([1, 1024])\n",
            "839 /content/train/08April_2010_Thursday_heute-4011 77 torch.Size([1, 1024])\n",
            "840 /content/train/08April_2010_Thursday_heute-4012 112 torch.Size([1, 1024])\n",
            "841 /content/train/08April_2010_Thursday_heute-4013 19 torch.Size([1, 1024])\n",
            "842 /content/train/08April_2010_Thursday_tagesschau-3948 42 torch.Size([1, 1024])\n",
            "843 /content/train/08April_2010_Thursday_tagesschau-3951 84 torch.Size([1, 1024])\n",
            "844 /content/train/08April_2010_Thursday_tagesschau-3952 56 torch.Size([1, 1024])\n",
            "845 /content/train/08April_2010_Thursday_tagesschau-3953 31 torch.Size([1, 1024])\n",
            "846 /content/train/08April_2010_Thursday_tagesschau-3954 63 torch.Size([1, 1024])\n",
            "847 /content/train/08April_2010_Thursday_tagesschau-3955 71 torch.Size([1, 1024])\n",
            "848 /content/train/08April_2010_Thursday_tagesschau-3956 68 torch.Size([1, 1024])\n",
            "849 /content/train/08April_2010_Thursday_tagesschau-3958 35 torch.Size([1, 1024])\n",
            "850 /content/train/08April_2010_Thursday_tagesschau-3959 57 torch.Size([1, 1024])\n",
            "851 /content/train/08April_2010_Thursday_tagesschau-3960 13 torch.Size([1, 1024])\n",
            "852 /content/train/08April_2011_Friday_tagesschau-2067 42 torch.Size([1, 1024])\n",
            "853 /content/train/08April_2011_Friday_tagesschau-2068 65 torch.Size([1, 1024])\n",
            "854 /content/train/08April_2011_Friday_tagesschau-2069 58 torch.Size([1, 1024])\n",
            "855 /content/train/08April_2011_Friday_tagesschau-2070 75 torch.Size([1, 1024])\n",
            "856 /content/train/08April_2011_Friday_tagesschau-2071 61 torch.Size([1, 1024])\n",
            "857 /content/train/08April_2011_Friday_tagesschau-2072 31 torch.Size([1, 1024])\n",
            "858 /content/train/08December_2009_Tuesday_heute-4200 59 torch.Size([1, 1024])\n",
            "859 /content/train/08December_2009_Tuesday_heute-4202 63 torch.Size([1, 1024])\n",
            "860 /content/train/08December_2009_Tuesday_heute-4203 43 torch.Size([1, 1024])\n",
            "861 /content/train/08December_2009_Tuesday_heute-4204 32 torch.Size([1, 1024])\n",
            "862 /content/train/08December_2009_Tuesday_heute-4205 68 torch.Size([1, 1024])\n",
            "863 /content/train/08December_2009_Tuesday_heute-4206 80 torch.Size([1, 1024])\n",
            "864 /content/train/08December_2009_Tuesday_heute-4207 16 torch.Size([1, 1024])\n",
            "865 /content/train/08December_2009_Tuesday_heute-4208 43 torch.Size([1, 1024])\n",
            "866 /content/train/08December_2009_Tuesday_heute-4209 32 torch.Size([1, 1024])\n",
            "867 /content/train/08December_2009_Tuesday_heute-4210 34 torch.Size([1, 1024])\n",
            "868 /content/train/08December_2009_Tuesday_heute-4219 30 torch.Size([1, 1024])\n",
            "869 /content/train/08December_2009_Tuesday_heute-4220 57 torch.Size([1, 1024])\n",
            "870 /content/train/08December_2009_Tuesday_heute-4221 15 torch.Size([1, 1024])\n",
            "871 /content/train/08December_2009_Tuesday_heute-4222 24 torch.Size([1, 1024])\n",
            "872 /content/train/08December_2009_Tuesday_tagesschau-1933 51 torch.Size([1, 1024])\n",
            "873 /content/train/08December_2009_Tuesday_tagesschau-1934 122 torch.Size([1, 1024])\n",
            "874 /content/train/08December_2009_Tuesday_tagesschau-1939 71 torch.Size([1, 1024])\n",
            "875 /content/train/08December_2009_Tuesday_tagesschau-1940 57 torch.Size([1, 1024])\n",
            "876 /content/train/08December_2009_Tuesday_tagesschau-1941 41 torch.Size([1, 1024])\n",
            "877 /content/train/08December_2009_Tuesday_tagesschau-1942 76 torch.Size([1, 1024])\n",
            "878 /content/train/08December_2009_Tuesday_tagesschau-1943 69 torch.Size([1, 1024])\n",
            "879 /content/train/08December_2009_Tuesday_tagesschau-1944 35 torch.Size([1, 1024])\n",
            "880 /content/train/08February_2010_Monday_heute-1495 26 torch.Size([1, 1024])\n",
            "881 /content/train/08February_2010_Monday_heute-1496 38 torch.Size([1, 1024])\n",
            "882 /content/train/08February_2010_Monday_heute-1502 79 torch.Size([1, 1024])\n",
            "883 /content/train/08February_2010_Monday_heute-1503 29 torch.Size([1, 1024])\n",
            "884 /content/train/08February_2010_Monday_heute-1504 131 torch.Size([1, 1024])\n",
            "885 /content/train/08February_2010_Monday_heute-1505 8 torch.Size([1, 1024])\n",
            "886 /content/train/08February_2010_Monday_heute-1506 40 torch.Size([1, 1024])\n",
            "887 /content/train/08February_2010_Monday_heute-1507 100 torch.Size([1, 1024])\n",
            "888 /content/train/08February_2010_Monday_heute-1508 36 torch.Size([1, 1024])\n",
            "889 /content/train/08February_2010_Monday_heute-1509 80 torch.Size([1, 1024])\n",
            "890 /content/train/08February_2010_Monday_heute-1510 18 torch.Size([1, 1024])\n",
            "891 /content/train/08February_2010_Monday_tagesschau-2798 51 torch.Size([1, 1024])\n",
            "892 /content/train/08February_2010_Monday_tagesschau-2799 53 torch.Size([1, 1024])\n",
            "893 /content/train/08February_2010_Monday_tagesschau-2800 77 torch.Size([1, 1024])\n",
            "894 /content/train/08February_2010_Monday_tagesschau-2801 42 torch.Size([1, 1024])\n",
            "895 /content/train/08February_2010_Monday_tagesschau-2802 70 torch.Size([1, 1024])\n",
            "896 /content/train/08February_2010_Monday_tagesschau-2803 65 torch.Size([1, 1024])\n",
            "897 /content/train/08February_2010_Monday_tagesschau-2804 71 torch.Size([1, 1024])\n",
            "898 /content/train/08February_2010_Monday_tagesschau-2805 65 torch.Size([1, 1024])\n",
            "899 /content/train/08February_2010_Monday_tagesschau-2806 87 torch.Size([1, 1024])\n",
            "900 /content/train/08February_2010_Monday_tagesschau-2807 98 torch.Size([1, 1024])\n",
            "901 /content/train/08January_2010_Friday_tagesschau-3976 47 torch.Size([1, 1024])\n",
            "902 /content/train/08January_2010_Friday_tagesschau-3977 98 torch.Size([1, 1024])\n",
            "903 /content/train/08January_2010_Friday_tagesschau-3978 59 torch.Size([1, 1024])\n",
            "904 /content/train/08January_2010_Friday_tagesschau-3982 54 torch.Size([1, 1024])\n",
            "905 /content/train/08January_2010_Friday_tagesschau-3983 54 torch.Size([1, 1024])\n",
            "906 /content/train/08January_2010_Friday_tagesschau-3985 60 torch.Size([1, 1024])\n",
            "907 /content/train/08January_2010_Friday_tagesschau-3986 18 torch.Size([1, 1024])\n",
            "908 /content/train/08July_2010_Thursday_tagesschau-5376 49 torch.Size([1, 1024])\n",
            "909 /content/train/08July_2010_Thursday_tagesschau-5377 76 torch.Size([1, 1024])\n",
            "910 /content/train/08July_2010_Thursday_tagesschau-5378 35 torch.Size([1, 1024])\n",
            "911 /content/train/08July_2010_Thursday_tagesschau-5379 43 torch.Size([1, 1024])\n",
            "912 /content/train/08July_2010_Thursday_tagesschau-5380 45 torch.Size([1, 1024])\n",
            "913 /content/train/08July_2010_Thursday_tagesschau-5381 69 torch.Size([1, 1024])\n",
            "914 /content/train/08July_2010_Thursday_tagesschau-5382 57 torch.Size([1, 1024])\n",
            "915 /content/train/08July_2010_Thursday_tagesschau-5383 63 torch.Size([1, 1024])\n",
            "916 /content/train/08July_2010_Thursday_tagesschau-5384 53 torch.Size([1, 1024])\n",
            "917 /content/train/08July_2010_Thursday_tagesschau-5385 65 torch.Size([1, 1024])\n",
            "918 /content/train/08July_2010_Thursday_tagesschau-5386 91 torch.Size([1, 1024])\n",
            "919 /content/train/08July_2010_Thursday_tagesschau-5387 75 torch.Size([1, 1024])\n",
            "920 /content/train/08July_2011_Friday_tagesschau-6726 54 torch.Size([1, 1024])\n",
            "921 /content/train/08July_2011_Friday_tagesschau-6730 53 torch.Size([1, 1024])\n",
            "922 /content/train/08July_2011_Friday_tagesschau-6731 54 torch.Size([1, 1024])\n",
            "923 /content/train/08July_2011_Friday_tagesschau-6732 92 torch.Size([1, 1024])\n",
            "924 /content/train/08July_2011_Friday_tagesschau-6733 70 torch.Size([1, 1024])\n",
            "925 /content/train/08July_2011_Friday_tagesschau-6734 87 torch.Size([1, 1024])\n",
            "926 /content/train/08July_2011_Friday_tagesschau-6735 101 torch.Size([1, 1024])\n",
            "927 /content/train/08July_2011_Friday_tagesschau-6736 77 torch.Size([1, 1024])\n",
            "928 /content/train/08July_2011_Friday_tagesschau-6737 31 torch.Size([1, 1024])\n",
            "929 /content/train/08June_2010_Tuesday_heute-1985 20 torch.Size([1, 1024])\n",
            "930 /content/train/08June_2010_Tuesday_heute-1986 67 torch.Size([1, 1024])\n",
            "931 /content/train/08June_2010_Tuesday_heute-1987 78 torch.Size([1, 1024])\n",
            "932 /content/train/08June_2010_Tuesday_heute-1988 44 torch.Size([1, 1024])\n",
            "933 /content/train/08June_2010_Tuesday_heute-1989 123 torch.Size([1, 1024])\n",
            "934 /content/train/08June_2010_Tuesday_heute-1990 65 torch.Size([1, 1024])\n",
            "935 /content/train/08June_2010_Tuesday_heute-1991 50 torch.Size([1, 1024])\n",
            "936 /content/train/08June_2010_Tuesday_heute-1992 27 torch.Size([1, 1024])\n",
            "937 /content/train/08June_2010_Tuesday_heute-1993 118 torch.Size([1, 1024])\n",
            "938 /content/train/08June_2010_Tuesday_heute-1994 35 torch.Size([1, 1024])\n",
            "939 /content/train/08June_2010_Tuesday_heute-1995 70 torch.Size([1, 1024])\n",
            "940 /content/train/08June_2010_Tuesday_heute-1996 40 torch.Size([1, 1024])\n",
            "941 /content/train/08June_2010_Tuesday_heute-1997 81 torch.Size([1, 1024])\n",
            "942 /content/train/08June_2010_Tuesday_heute-1998 44 torch.Size([1, 1024])\n",
            "943 /content/train/08June_2010_Tuesday_heute-1999 20 torch.Size([1, 1024])\n",
            "944 /content/train/08June_2010_Tuesday_tagesschau-5519 35 torch.Size([1, 1024])\n",
            "945 /content/train/08June_2010_Tuesday_tagesschau-5520 81 torch.Size([1, 1024])\n",
            "946 /content/train/08June_2010_Tuesday_tagesschau-5522 33 torch.Size([1, 1024])\n",
            "947 /content/train/08June_2010_Tuesday_tagesschau-5523 59 torch.Size([1, 1024])\n",
            "948 /content/train/08June_2010_Tuesday_tagesschau-5525 108 torch.Size([1, 1024])\n",
            "949 /content/train/08June_2010_Tuesday_tagesschau-5526 50 torch.Size([1, 1024])\n",
            "950 /content/train/08June_2010_Tuesday_tagesschau-5528 57 torch.Size([1, 1024])\n",
            "951 /content/train/08June_2010_Tuesday_tagesschau-5531 33 torch.Size([1, 1024])\n",
            "952 /content/train/08May_2010_Saturday_tagesschau-174 49 torch.Size([1, 1024])\n",
            "953 /content/train/08May_2010_Saturday_tagesschau-177 48 torch.Size([1, 1024])\n",
            "954 /content/train/08May_2010_Saturday_tagesschau-178 38 torch.Size([1, 1024])\n",
            "955 /content/train/08May_2010_Saturday_tagesschau-179 60 torch.Size([1, 1024])\n",
            "956 /content/train/08May_2010_Saturday_tagesschau-180 15 torch.Size([1, 1024])\n",
            "957 /content/train/08May_2010_Saturday_tagesschau-181 92 torch.Size([1, 1024])\n",
            "958 /content/train/08May_2010_Saturday_tagesschau-182 21 torch.Size([1, 1024])\n",
            "959 /content/train/08May_2010_Saturday_tagesschau-183 71 torch.Size([1, 1024])\n",
            "960 /content/train/08May_2010_Saturday_tagesschau-184 65 torch.Size([1, 1024])\n",
            "961 /content/train/08May_2010_Saturday_tagesschau-185 65 torch.Size([1, 1024])\n",
            "962 /content/train/08May_2010_Saturday_tagesschau-186 49 torch.Size([1, 1024])\n",
            "963 /content/train/08May_2010_Saturday_tagesschau-187 60 torch.Size([1, 1024])\n",
            "964 /content/train/08May_2010_Saturday_tagesschau-188 29 torch.Size([1, 1024])\n",
            "965 /content/train/08November_2010_Monday_heute-6876 97 torch.Size([1, 1024])\n",
            "966 /content/train/08November_2010_Monday_heute-6877 47 torch.Size([1, 1024])\n",
            "967 /content/train/08November_2010_Monday_heute-6878 47 torch.Size([1, 1024])\n",
            "968 /content/train/08November_2010_Monday_heute-6879 67 torch.Size([1, 1024])\n",
            "969 /content/train/08November_2010_Monday_heute-6880 117 torch.Size([1, 1024])\n",
            "970 /content/train/08November_2010_Monday_heute-6881 28 torch.Size([1, 1024])\n",
            "971 /content/train/08November_2010_Monday_heute-6882 79 torch.Size([1, 1024])\n",
            "972 /content/train/08November_2010_Monday_heute-6883 65 torch.Size([1, 1024])\n",
            "973 /content/train/08November_2010_Monday_heute-6884 94 torch.Size([1, 1024])\n",
            "974 /content/train/08November_2010_Monday_heute-6885 63 torch.Size([1, 1024])\n",
            "975 /content/train/08November_2010_Monday_heute-6886 58 torch.Size([1, 1024])\n",
            "976 /content/train/08November_2010_Monday_heute-6887 26 torch.Size([1, 1024])\n",
            "977 /content/train/08November_2010_Monday_tagesschau-6921 50 torch.Size([1, 1024])\n",
            "978 /content/train/08November_2010_Monday_tagesschau-6923 67 torch.Size([1, 1024])\n",
            "979 /content/train/08November_2010_Monday_tagesschau-6924 65 torch.Size([1, 1024])\n",
            "980 /content/train/08November_2010_Monday_tagesschau-6925 28 torch.Size([1, 1024])\n",
            "981 /content/train/08November_2010_Monday_tagesschau-6926 78 torch.Size([1, 1024])\n",
            "982 /content/train/08November_2010_Monday_tagesschau-6927 44 torch.Size([1, 1024])\n",
            "983 /content/train/08November_2010_Monday_tagesschau-6928 45 torch.Size([1, 1024])\n",
            "984 /content/train/08November_2010_Monday_tagesschau-6929 83 torch.Size([1, 1024])\n",
            "985 /content/train/08November_2010_Monday_tagesschau-6930 92 torch.Size([1, 1024])\n",
            "986 /content/train/08November_2010_Monday_tagesschau-6931 76 torch.Size([1, 1024])\n",
            "987 /content/train/08November_2010_Monday_tagesschau-6932 46 torch.Size([1, 1024])\n",
            "988 /content/train/08October_2009_Thursday_tagesschau-5346 69 torch.Size([1, 1024])\n",
            "989 /content/train/08October_2009_Thursday_tagesschau-5347 46 torch.Size([1, 1024])\n",
            "990 /content/train/08October_2009_Thursday_tagesschau-5354 73 torch.Size([1, 1024])\n",
            "991 /content/train/08October_2009_Thursday_tagesschau-5355 19 torch.Size([1, 1024])\n",
            "992 /content/train/08September_2010_Wednesday_tagesschau-5235 55 torch.Size([1, 1024])\n",
            "993 /content/train/08September_2010_Wednesday_tagesschau-5236 56 torch.Size([1, 1024])\n",
            "994 /content/train/08September_2010_Wednesday_tagesschau-5237 48 torch.Size([1, 1024])\n",
            "995 /content/train/08September_2010_Wednesday_tagesschau-5238 75 torch.Size([1, 1024])\n",
            "996 /content/train/08September_2010_Wednesday_tagesschau-5239 53 torch.Size([1, 1024])\n",
            "997 /content/train/08September_2010_Wednesday_tagesschau-5241 99 torch.Size([1, 1024])\n",
            "998 /content/train/08September_2010_Wednesday_tagesschau-5242 64 torch.Size([1, 1024])\n",
            "999 /content/train/08September_2010_Wednesday_tagesschau-5243 72 torch.Size([1, 1024])\n",
            "1000 /content/train/08September_2010_Wednesday_tagesschau-5244 59 torch.Size([1, 1024])\n"
          ]
        }
      ]
    },
    {
      "cell_type": "code",
      "metadata": {
        "colab": {
          "base_uri": "https://localhost:8080/"
        },
        "id": "6G5Oadq3e7uu",
        "outputId": "e5fb9019-9c15-4f0e-ee80-e15a7410a7c8"
      },
      "source": [
        "%cd /content"
      ],
      "execution_count": null,
      "outputs": [
        {
          "output_type": "stream",
          "name": "stdout",
          "text": [
            "/content\n"
          ]
        }
      ]
    },
    {
      "cell_type": "code",
      "metadata": {
        "colab": {
          "base_uri": "https://localhost:8080/"
        },
        "id": "_X996BLPkz1h",
        "outputId": "e8b48617-7c2a-48c5-8b2f-3e41ae6b7a94"
      },
      "source": [
        "import os\n",
        "print(len(os.listdir(\"/content/dev\")))\n",
        "print(len(os.listdir(\"/content/test\")))"
      ],
      "execution_count": null,
      "outputs": [
        {
          "output_type": "stream",
          "text": [
            "519\n",
            "642\n"
          ],
          "name": "stdout"
        }
      ]
    },
    {
      "cell_type": "code",
      "metadata": {
        "colab": {
          "base_uri": "https://localhost:8080/"
        },
        "id": "3h8Stf8oF0AT",
        "outputId": "0c622d0c-fd18-44f2-dab3-a0469329ae90"
      },
      "source": [
        "import os\n",
        "#print(len(os.listdir(\"/content/output/span=12_stride=2\")))\n",
        "#print(len(os.listdir(\"/content/output/span=16_stride=2\")))\n",
        "print(len(os.listdir(\"/content/content/output2/span=8_stride=2\")))"
      ],
      "execution_count": null,
      "outputs": [
        {
          "output_type": "stream",
          "name": "stdout",
          "text": [
            "2002\n"
          ]
        }
      ]
    },
    {
      "cell_type": "code",
      "source": [
        "%cd /content/content/output2"
      ],
      "metadata": {
        "colab": {
          "base_uri": "https://localhost:8080/"
        },
        "id": "P6OOKNrF3MU5",
        "outputId": "df7184d9-2a1c-4fe7-d26b-4055d29addf9"
      },
      "execution_count": null,
      "outputs": [
        {
          "output_type": "stream",
          "name": "stdout",
          "text": [
            "/content/content/output2\n"
          ]
        }
      ]
    },
    {
      "cell_type": "code",
      "metadata": {
        "id": "6O7244bdtiEd"
      },
      "source": [
        "!zip -r -q i3d-features12.zip span=8_stride=2/*"
      ],
      "execution_count": null,
      "outputs": []
    },
    {
      "cell_type": "code",
      "metadata": {
        "id": "l9fRfJler3B-"
      },
      "source": [
        "!cp -R /content/content/output2/i3d-features12.zip /content/drive/MyDrive/SLT-2020/CNN_Dataset/I3D/Attempt-2/"
      ],
      "execution_count": null,
      "outputs": []
    },
    {
      "cell_type": "code",
      "metadata": {
        "id": "chU8HY-GfmCO",
        "colab": {
          "base_uri": "https://localhost:8080/"
        },
        "outputId": "12b5619e-dfc6-435a-9c82-22b8380c9b49"
      },
      "source": [
        "temp = torch.load('/content/output/span=8_stride=2/01April_2010_Thursday_heute-6694.pt')\n",
        "len(temp)"
      ],
      "execution_count": null,
      "outputs": [
        {
          "output_type": "execute_result",
          "data": {
            "text/plain": [
              "27"
            ]
          },
          "metadata": {},
          "execution_count": 15
        }
      ]
    },
    {
      "cell_type": "code",
      "source": [
        "temp[0].shape"
      ],
      "metadata": {
        "colab": {
          "base_uri": "https://localhost:8080/"
        },
        "id": "7MdD2_iU5YOC",
        "outputId": "646e1876-d53d-49b0-bd05-c2ca86f23232"
      },
      "execution_count": null,
      "outputs": [
        {
          "output_type": "execute_result",
          "data": {
            "text/plain": [
              "torch.Size([1, 1024])"
            ]
          },
          "metadata": {},
          "execution_count": 16
        }
      ]
    },
    {
      "cell_type": "code",
      "source": [
        "temp[1].shape"
      ],
      "metadata": {
        "colab": {
          "base_uri": "https://localhost:8080/"
        },
        "id": "JPLV5L8V5dvH",
        "outputId": "e029da5d-1687-494c-b522-487eb1c2c564"
      },
      "execution_count": null,
      "outputs": [
        {
          "output_type": "execute_result",
          "data": {
            "text/plain": [
              "torch.Size([1, 1024])"
            ]
          },
          "metadata": {},
          "execution_count": 17
        }
      ]
    },
    {
      "cell_type": "code",
      "source": [
        "len(os.listdir('/content/train/01April_2010_Thursday_heute-6694'))"
      ],
      "metadata": {
        "colab": {
          "base_uri": "https://localhost:8080/"
        },
        "id": "nNYHOxI05i3i",
        "outputId": "23a7b774-9b58-4087-bfe0-a35bbf74832f"
      },
      "execution_count": null,
      "outputs": [
        {
          "output_type": "execute_result",
          "data": {
            "text/plain": [
              "53"
            ]
          },
          "metadata": {},
          "execution_count": 18
        }
      ]
    },
    {
      "cell_type": "code",
      "source": [
        "import shutil\n",
        "shutil.unpack_archive('/content/drive/MyDrive/SLT-2020/CNN_Dataset/I3D/i3d-features.zip','/content/temp/')"
      ],
      "metadata": {
        "id": "NaaShVZS5vsY"
      },
      "execution_count": null,
      "outputs": []
    },
    {
      "cell_type": "code",
      "source": [
        "for file in sorted(os.listdir('/content/temp/content/output/span=8_stride=2/')):\n",
        "  st = '/content/temp/content/output/span=8_stride=2/' + file\n",
        "  #print(file)\n",
        "  #break\n",
        "  shutil.copy(st,'/content/output/span=8_stride=2/')"
      ],
      "metadata": {
        "id": "VDHAnv8k3Vyp"
      },
      "execution_count": null,
      "outputs": []
    },
    {
      "cell_type": "code",
      "source": [
        ""
      ],
      "metadata": {
        "id": "QFTx5Dnt36Mp"
      },
      "execution_count": null,
      "outputs": []
    }
  ]
}